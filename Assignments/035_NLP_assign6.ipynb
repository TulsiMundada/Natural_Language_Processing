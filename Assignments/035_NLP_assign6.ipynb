{
  "cells": [
    {
      "cell_type": "markdown",
      "metadata": {
        "id": "txQL_TE0e2Zh"
      },
      "source": [
        "## 1. Download the data from the link below using web scrapping:\n",
        "- https://en.wikipedia.org/wiki/Sri_Lanka\n",
        "- Summarize the text using following summarizers\n",
        "1. Text Rank Summarizer\n",
        "2. Lex Rank Summarizer\n",
        "3. LSA Summarizer"
      ]
    },
    {
      "cell_type": "code",
      "execution_count": 1,
      "metadata": {
        "colab": {
          "base_uri": "https://localhost:8080/"
        },
        "id": "1M4Ls77DfD76",
        "outputId": "a3c879d5-c0ce-45cf-9d12-5b91e5216fa6"
      },
      "outputs": [
        {
          "name": "stderr",
          "output_type": "stream",
          "text": [
            "[nltk_data] Downloading package punkt to\n",
            "[nltk_data]     C:\\Users\\dai\\AppData\\Roaming\\nltk_data...\n",
            "[nltk_data]   Package punkt is already up-to-date!\n"
          ]
        },
        {
          "data": {
            "text/plain": [
              "True"
            ]
          },
          "execution_count": 1,
          "metadata": {},
          "output_type": "execute_result"
        }
      ],
      "source": [
        "import nltk\n",
        "nltk.download('punkt')"
      ]
    },
    {
      "cell_type": "code",
      "execution_count": 2,
      "metadata": {
        "colab": {
          "base_uri": "https://localhost:8080/",
          "height": 123
        },
        "id": "Hq_ShdDre2Zl",
        "outputId": "2ba5f896-4f08-472a-af66-42d454eea102"
      },
      "outputs": [
        {
          "data": {
            "text/plain": [
              "'\\nSri Lanka,[a] historically known as Ceylon and officially the Democratic Socialist Republic of Sri Lanka, is an island country in South Asia. It lies in the Indian Ocean, southwest of the Bay of Bengal, separated from the Indian peninsula by the Gulf of Mannar and the Palk Strait. It shares a maritime border with the Maldives in the southwest and India in the northwest.\\nSri Lanka has a population of approximately 22 million and is home to many cultures, languages and ethnicities. The Sinhalese people form the majority of the population, followed by the Sri Lankan Tamils, who are the largest minority group and are concentrated in northern Sri Lanka; both groups have played an influential role in the island\\'s history. Other long-established groups include the Moors, Indian Tamils, Burghers, Malays, Chinese, and Vedda.[13]\\nSri Lanka\\'s documented history goes back 3,000 years, with evidence of prehistoric human settlements dating back 125,000 years.[14] The earliest known Buddhist writings of Sri Lanka, known collectively as the Pāli canon, date to the fourth Buddhist council, which took place in 29 BCE.[15][16] Also called the Pearl of the Indian Ocean, or the Granary of the East, Sri Lanka\\'s geographic location and deep harbours have made it of great strategic importance, from the earliest days of the ancient Silk Road trade route to today\\'s so-called maritime Silk Road.[17][18][19] Because its location made it a major trading hub, it was already known to both East Asians and Europeans as long ago as the Anuradhapura period. During a period of great political crisis in the Kingdom of Kotte, the Portuguese arrived in Sri Lanka and sought to control its maritime trade, with a part of Sri Lanka subsequently becoming a Portuguese possession. After the Sinhalese-Portuguese war, the Dutch Empire and the Kingdom of Kandy took control of those areas. The Dutch possessions were then taken by the British, who later extended their control over the whole island, colonising it from 1815 to 1948. A national movement for political independence arose in the early 20th century, and in 1948, Ceylon became a dominion. It was succeeded by the republic of Sri Lanka in 1972. Sri Lanka\\'s more recent history was marred by a 26-year civil war, which began in 1983 and ended in 2009, when the Sri Lanka Armed Forces defeated the Liberation Tigers of Tamil Eelam.[20]\\nSri Lanka is a developing country, ranking 73rd on the Human Development Index. It is the highest-ranked South Asian nation in terms of development and has the second-highest per capita income in South Asia. However, the ongoing economic crisis has resulted in the collapse of its currency, rising inflation, and a humanitarian crisis due to a severe shortage of essentials. It has also led to an eruption of street protests, with citizens successfully demanding that the president and the government step down.[21] The country has had a long history of engagement with modern international groups; it is a founding member of the SAARC, the G77 and the Non-Aligned Movement, as well as a member of the United Nations and the Commonwealth of Nations.\\nIn antiquity, Sri Lanka was known to travellers by a variety of names. According to the Mahāvaṃsa, the legendary Prince Vijaya named the island Tambapaṇṇĩ (\"copper-red hands\" or \"copper-red earth\"), because his followers\\' hands were reddened by the red soil of the area where he landed.[22][23] In Hindu mythology, the term Lankā (\"Island\") appears but it is unknown whether it refers to the modern-day state. The Tamil term Eelam (Tamil: ஈழம், romanized:\\xa0īḻam) was used to designate the whole island in Sangam literature.[24][25] The island was known under Chola rule as Mummudi Cholamandalam (\"realm of the three crowned Cholas\").[26]\\nAncient Greek geographers called it Taprobanā (Ancient Greek: Ταπροβανᾶ) or Taprobanē (Ταπροβανῆ)[27] from the word Tambapanni. The Persians and Arabs referred to it as Sarandīb (the origin of the word \"serendipity\") from Sanskrit Siṃhaladvīpaḥ.[28][29] Ceilão, the name given to Sri Lanka by the Portuguese Empire when it arrived in 1505,[30] was transliterated into English as Ceylon.[31] As a British crown colony, the island was known as Ceylon; it achieved independence as the Dominion of Ceylon in 1948.\\nThe country is now known in Sinhala as Śrī Laṅkā (Sinhala: ශ්\\u200dරී ලංකා) and in Tamil as Ilaṅkai (Tamil: இலங்கை, IPA: [iˈlaŋɡaɪ]). In 1972, its formal name was changed to \"Free, Sovereign and Independent Republic of Sri Lanka\". Later, on 7 September 1978, it was changed to the \"Democratic Socialist Republic of Sri Lanka\".[32][33] As the name Ceylon still appears in the names of a number of organisations, the Sri Lankan government announced in 2011 a plan to rename all those over which it has authority.[34]\\nThe pre-history of Sri Lanka goes back 125,000 years and possibly even as far back as 500,000 years.[35] The era spans the Palaeolithic, Mesolithic, and early Iron Ages. Among the Paleolithic human settlements discovered in Sri Lanka, Pahiyangala (37,000 BP), named after the Chinese traveller monk Faxian;[36] Batadombalena (28,500 BP);[37] and Belilena (12,000 BP) are the most important. In these caves, archaeologists have found the remains of anatomically modern humans which they have named Balangoda Man, and other evidence[38] suggesting that they may have engaged in agriculture and kept domestic dogs for driving game.[39]\\nThe earliest inhabitants of Sri Lanka were probably ancestors of the Vedda people,[40] an indigenous people numbering approximately 2,500 living in modern-day Sri Lanka.\\nDuring the protohistoric period (1000–500 BCE) Sri Lanka was culturally united with southern India,[41] and shared the same megalithic burials, pottery, iron technology, farming techniques and megalithic graffiti.[42][43] This cultural complex spread from southern India along with Dravidian clans such as the Velir, prior to the migration of Prakrit speakers.[44][45][42]\\nOne of the first written references to the island is found in the Indian epic Ramayana, which provides details of a kingdom named Lanka that was created by the divine sculptor Vishvakarma for Kubera, the God of Wealth.[46] It is said that Kubera was overthrown by his rakshasa stepbrother, Ravana.[47]\\nAccording to the Mahāvamsa, a Pāḷi chronicle written in the 5th century CE, the original inhabitants of Sri Lanka are said to be the Yakshas and Nagas. Sinhalese history traditionally starts in 543 BCE with the arrival of Prince Vijaya, a semi-legendary prince who sailed with 700 followers to Sri Lanka, after being expelled from Vanga Kingdom (present-day Bengal).[48] He established the Kingdom of Tambapanni, near modern-day Mannar. Vijaya (Singha) is the first of the approximately 189 monarchs of Sri Lanka described in chronicles such as the Dipavamsa, Mahāvaṃsa, Cūḷavaṃsa, and Rājāvaliya.[49]\\nOnce Prakrit speakers had attained dominance on the island, the Mahavamsa further recounts the later migration of royal brides and service castes from the Tamil Pandya Kingdom to the Anuradhapura Kingdom in the early historic period.[50]\\nThe Anuradhapura period (377 BCE\\xa0– 1017 CE) began with the establishment of the Anuradhapura Kingdom in 380 BCE during the reign of Pandukabhaya. Thereafter, Anuradhapura served as the capital city of the country for nearly 1,400 years.[51] Ancient Sri Lankans excelled at building certain types of structures such as tanks, dagobas and palaces.[52] Society underwent a major transformation during the reign of Devanampiya Tissa, with the arrival of Buddhism from India. In 250 BCE,[53] Mahinda, a bhikkhu and the son of the Mauryan Emperor Ashoka arrived in Mihintale carrying the message of Buddhism.[54] His mission won over the monarch, who embraced the faith and propagated it throughout the Sinhalese population.[55]\\nSucceeding kingdoms of Sri Lanka would maintain many Buddhist schools and monasteries and support the propagation of Buddhism into other countries in Southeast Asia. Sri Lankan Bhikkhus studied in India\\'s famous ancient Buddhist University of Nalanda, which was destroyed by Bakhtiyar Khilji. It is probable that many of the scriptures from Nalanda are preserved in Sri Lanka\\'s many monasteries and that the written form of the Tripiṭaka, including Sinhalese Buddhist literature, were part of the University of Nalanda.[56] In 245 BCE, bhikkhuni Sanghamitta arrived with the Jaya Sri Maha Bodhi tree, which is considered to be a sapling from the historical Bodhi Tree under which Gautama Buddha became enlightened.[57] It is considered the oldest human-planted tree (with a continuous historical record) in the world. (Bodhivamsa)[58][59]\\nSri Lanka experienced the first of many foreign invasions during the reign of Suratissa, who was defeated by two horse traders named Sena and Guttika from South India.[55] The next invasion came immediately in 205 BCE by a Chola named Elara, who overthrew Asela and ruled the country for 44 years. Dutugamunu, the eldest son of the southern regional sub-king, Kavan Tissa, defeated Elara in the Battle of Vijithapura. During its two and a half millennia of existence, the Sinhala Kingdom was invaded at least eight times by neighbouring South Indian dynasties such as the Chola, Pandya, and Pallava.[citation needed] There also were incursions by the kingdoms of Kalinga (modern Odisha) and from the Malay Peninsula as well.[citation needed]\\nThe Fourth Buddhist Council of Theravada Buddhism was held at the Anuradhapura Maha Viharaya in Sri Lanka under the patronage of Valagamba of Anuradhapura in 25 BCE. The council was held in response to a year in which the harvests in Sri Lanka were particularly poor and many Buddhist monks subsequently died of starvation. Because the Pāli Canon was at that time oral literature maintained in several recensions by dhammabhāṇakas (dharma reciters), the surviving monks recognised the danger of not writing it down so that even if some of the monks whose duty it was to study and remember parts of the Canon for later generations died, the teachings would not be lost.[60] After the council, palm-leaf manuscripts containing the completed Canon were taken to other countries such as Burma, Thailand, Cambodia and Laos.\\nSri Lanka was the first Asian country known to have a female ruler: Anula of Anuradhapura (r. 47–42 BCE).[61] Sri Lankan monarchs undertook some remarkable construction projects such as Sigiriya, the so-called \"Fortress in the Sky\", built during the reign of Kashyapa I of Anuradhapura, who ruled between 477 and 495. The Sigiriya rock fortress is surrounded by an extensive network of ramparts and moats. Inside this protective enclosure were gardens, ponds, pavilions, palaces and other structures.[62][63]\\nIn 993 CE, the invasion of Chola emperor Rajaraja I forced the then Sinhalese ruler Mahinda V to flee to the southern part of Sri Lanka. Taking advantage of this situation, Rajendra I, son of Rajaraja I, launched a large invasion in 1017. Mahinda V was captured and taken to India, and the Cholas sacked the city of Anuradhapura causing the fall of Anuradhapura Kingdom. Subsequently, they moved the capital to Polonnaruwa.[64]\\nFollowing a 17-year-long campaign, Vijayabahu I successfully drove the Chola out of Sri Lanka in 1070, reuniting the country for the first time in over a century.[65][66] Upon his request, ordained monks were sent from Burma to Sri Lanka to re-establish Buddhism, which had almost disappeared from the country during the Chola reign.[67] During the medieval period, Sri Lanka was divided into three sub-territories, namely, Ruhunu, Pihiti and Maya.[68]\\nSri Lanka\\'s irrigation system was extensively expanded during the reign of Parākramabāhu the Great (1153–1186).[69] This period is considered as a time when Sri Lanka was at the height of its power.[70][71] He built 1,470 reservoirs – the highest number by any ruler in Sri Lanka\\'s history – repaired 165 dams, 3,910 canals, 163 major reservoirs, and 2,376 mini-reservoirs.[72] His most famous construction is the Parakrama Samudra,[73] the largest irrigation project of medieval Sri Lanka. Parākramabāhu\\'s reign is memorable for two major campaigns – in the south of India as part of a Pandyan war of succession, and a punitive strike against the kings of Ramanna (Burma) for various perceived insults to Sri Lanka.[74]\\nAfter his demise, Sri Lanka gradually decayed in power. In 1215, Kalinga Magha, an invader with uncertain origins, identified as the founder of the Jaffna kingdom, invaded and captured the Kingdom of Polonnaruwa. He sailed from Kalinga[72] 690 nautical miles on 100 large ships with a 24,000 strong army. Unlike previous invaders, he looted, ransacked and destroyed everything in the ancient Anuradhapura and Polonnaruwa Kingdoms beyond recovery.[75] His priorities in ruling were to extract as much as possible from the land and overturn as many of the traditions of Rajarata as possible. His reign saw the massive migration of native Sinhalese people to the south and west of Sri Lanka, and into the mountainous interior, in a bid to escape his power.[76][77]\\nSri Lanka never really recovered from the effects of Kalinga Magha\\'s invasion. King Vijayabâhu III, who led the resistance, brought the kingdom to Dambadeniya. The north, in the meanwhile, eventually evolved into the Jaffna kingdom.[76][77] The Jaffna kingdom never came under the rule of any kingdom of the south except on one occasion; in 1450, following the conquest led by king Parâkramabâhu VI\\'s adopted son, Prince Sapumal.[78] He ruled the North from 1450 to 1467 CE.[79]\\nThe next three centuries starting from 1215 were marked by kaleidoscopically shifting collections of capitals in south and central Sri Lanka, including Dambadeniya, Yapahuwa, Gampola, Raigama, Kotte,[80] Sitawaka, and finally, Kandy. In 1247, the Malay kingdom of Tambralinga which was a vassal of Sri Vijaya led by their king Chandrabhanu[81] briefly invaded Sri Lanka from Insular Southeast Asia. They were then expelled by the South Indian Pandyan dynasty.[82] However, this temporary invasion reinforced the steady flow of the presence of various Austronesian merchant ethnic groups, from Sumatrans (Indonesia) to Lucoes (Philippines) into Sri Lanka which occurred since 200 BCE.[83] Chinese admiral Zheng He and his naval expeditionary force landed at Galle, Sri Lanka in 1409 and got into battle with the local king Vira Alakesvara of Gampola. Zheng He captured King Vira Alakesvara and later released him.[84][85][86][87] Zheng He erected the Galle Trilingual Inscription, a stone tablet at Galle written in three languages (Chinese, Tamil, and Persian), to commemorate his visit.[88][89] The stele was discovered by S. H. Thomlin at Galle in 1911 and is now preserved in the Colombo National Museum.\\nThe early modern period of Sri Lanka begins with the arrival of Portuguese soldier and explorer Lourenço de Almeida, the son of Francisco de Almeida, in 1505.[90] In 1517, the Portuguese built a fort at the port city of Colombo and gradually extended their control over the coastal areas. In 1592, after decades of intermittent warfare with the Portuguese, Vimaladharmasuriya I moved his kingdom to the inland city of Kandy, a location he thought more secure from attack.[91] In 1619, succumbing to attacks by the Portuguese, the independent existence of the Jaffna kingdom came to an end.[92]\\nDuring the reign of the Rajasinha II, Dutch explorers arrived on the island. In 1638, the king signed a treaty with the Dutch East India Company to get rid of the Portuguese who ruled most of the coastal areas.[93] The following Dutch–Portuguese War resulted in a Dutch victory, with Colombo falling into Dutch hands by 1656. The Dutch remained in the areas they had captured, thereby violating the treaty they had signed in 1638. The Burgher people, a distinct ethnic group, emerged as a result of intermingling between the Dutch and native Sri Lankans in this period.[94]\\nThe Kingdom of Kandy was the last independent monarchy of Sri Lanka.[95] In 1595, Vimaladharmasurya brought the sacred Tooth Relic—the traditional symbol of royal and religious authority amongst the Sinhalese—to Kandy and built the Temple of the Tooth.[95] In spite of on-going intermittent warfare with Europeans, the kingdom survived. Later, a crisis of succession emerged in Kandy upon king Vira Narendrasinha\\'s death in 1739. He was married to a Telugu-speaking Nayakkar princess from South India (Madurai) and was childless by her.[95]\\nEventually, with the support of bhikku Weliwita Sarankara and ignoring the right of \"Unambuwe Bandara\", the crown passed to the brother of one of Narendrasinha\\'s princesses, overlooking Narendrasinha\\'s own son by a Sinhalese concubine.[96] The new king was crowned Sri Vijaya Rajasinha later that year. Kings of the Nayakkar dynasty launched several attacks on Dutch controlled areas, which proved to be unsuccessful.[97]\\nDuring the Napoleonic Wars, fearing that French control of the Netherlands might deliver Sri Lanka to the French, the British Empire occupied the coastal areas of the island (which they called the colony of British Ceylon) with little difficulty in 1796.[98] Two years later, in 1798, Sri Rajadhi Rajasinha, third of the four Nayakkar kings of Sri Lanka, died of a fever. Following his death, a nephew of Rajadhi Rajasinha, eighteen-year-old Kannasamy, was crowned.[99] The young king, now named Sri Vikrama Rajasinha, faced a British invasion in 1803 but successfully retaliated. The First Kandyan War ended in a stalemate.[99]\\nBy then the entire coastal area was under the British East India Company as a result of the Treaty of Amiens. On 14 February 1815, Kandy was occupied by the British in the second Kandyan War, ending Sri Lanka\\'s independence.[99] Sri Vikrama Rajasinha, the last native monarch of Sri Lanka, was exiled to India.[100] The Kandyan Convention formally ceded the entire country to the British Empire. Attempts by Sri Lankan noblemen to undermine British power in 1818 during the Uva Rebellion were thwarted by Governor Robert Brownrigg.[101]\\nThe beginning of the modern period of Sri Lanka is marked by the Colebrooke-Cameron reforms of 1833.[102] They introduced a utilitarian and liberal political culture to the country based on the rule of law and amalgamated the Kandyan and maritime provinces as a single unit of government.[102] An executive council and a legislative council were established, later becoming the foundation of a representative legislature. By this time, experiments with coffee plantations were largely successful.[103]\\nSoon, coffee became the primary commodity export of Sri Lanka. Falling coffee prices as a result of the depression of 1847 stalled economic development and prompted the governor to introduce a series of taxes on firearms, dogs, shops, boats, etc., and to reintroduce a form of rajakariya, requiring six days free labour on roads or payment of a cash equivalent.[103] These harsh measures antagonised the locals, and another rebellion broke out in 1848.[104] A devastating leaf disease, Hemileia vastatrix, struck the coffee plantations in 1869, destroying the entire industry within fifteen years.[105] The British quickly found a replacement: abandoning coffee, they began cultivating tea instead. Tea production in Sri Lanka thrived in the following decades. Large-scale rubber plantations began in the early 20th century.\\nBy the end of the 19th century, a new educated social class transcending race and caste arose through British attempts to staff the Ceylon Civil Service and the legal, educational, engineering, and medical professions with natives.[106] New leaders represented the various ethnic groups of the population in the Ceylon Legislative Council on a communal basis. Buddhist and Hindu revivalism reacted against Christian missionary activities.[107][108] The first two decades in the 20th century are noted by the unique harmony among Sinhalese and Tamil political leadership, which has since been lost.[109]\\nThe 1906 malaria outbreak in Ceylon actually started in the early 1900s, but the first case was documented in 1906.\\nIn 1919, major Sinhalese and Tamil political organisations united to form the Ceylon National Congress, under the leadership of Ponnambalam Arunachalam,[110] pressing colonial masters for more constitutional reforms. But without massive popular support, and with the governor\\'s encouragement for \"communal representation\" by creating a \"Colombo seat\" that dangled between Sinhalese and Tamils, the Congress lost momentum towards the mid-1920s.[111]\\nThe Donoughmore reforms of 1931 repudiated the communal representation and introduced universal adult franchise (the franchise stood at 4% before the reforms). This step was strongly criticised by the Tamil political leadership, who realised that they would be reduced to a minority in the newly created State Council of Ceylon, which succeeded the legislative council.[112][113] In 1937, Tamil leader G. G. Ponnambalam demanded a 50–50 representation (50% for the Sinhalese and 50% for other ethnic groups) in the State Council. However, this demand was not met by the Soulbury reforms of 1944–45.\\nThe Soulbury constitution ushered in dominion status, with independence proclaimed on 4 February 1948.[114] D. S. Senanayake became the first Prime Minister of Ceylon.[115] Prominent Tamil leaders including Ponnambalam and Arunachalam Mahadeva joined his cabinet.[112][116] The British Royal Navy remained stationed at Trincomalee until 1956. A countrywide popular demonstration against withdrawal of the rice rations resulted in the resignation of prime minister Dudley Senanayake.[117]\\nS. W. R. D. Bandaranaike was elected prime minister in 1956. His three-year rule had a profound influence through his self-proclaimed role of \"defender of the besieged Sinhalese culture\".[118] He introduced the controversial Sinhala Only Act, recognising Sinhala as the only official language of the government. Although partially reversed in 1958, the bill posed a grave concern for the Tamil community, which perceived in it a threat to their language and culture.[119][120][121]\\nThe Federal Party (FP) launched a movement of non-violent resistance (satyagraha) against the bill, which prompted Bandaranaike to reach an agreement (Bandaranaike–Chelvanayakam Pact) with S. J. V. Chelvanayakam, leader of the FP, to resolve the looming ethnic conflict.[122] The pact proved ineffective in the face of ongoing protests by opposition and the Buddhist clergy. The bill, together with various government colonisation schemes, contributed much towards the political rancour between Sinhalese and Tamil political leaders.[123] Bandaranaike was assassinated by an extremist Buddhist monk in 1959.[124]\\nSirimavo Bandaranaike, the widow of Bandaranaike, took office as prime minister in 1960, and withstood an attempted coup d\\'état in 1962. During her second term as prime minister, the government instituted socialist economic policies, strengthening ties with the Soviet Union and China, while promoting a policy of non-alignment. In 1971, Ceylon experienced a Marxist insurrection, which was quickly suppressed. In 1972, the country became a republic named Sri Lanka, repudiating its dominion status. Prolonged minority grievances and the use of communal emotionalism as an election campaign weapon by both Sinhalese and Tamil leaders abetted a fledgling Tamil militancy in the north during the 1970s.[125] The policy of standardisation by the Sirimavo government to rectify disparities created in university enrollment, which was in essence an affirmative action to assist geographically disadvantaged students to obtain tertiary education,[126] resulted in reducing the proportion of Tamil students at university level and acted as the immediate catalyst for the rise of militancy.[127][128] The assassination of Jaffna Mayor Alfred Duraiyappah in 1975 by the Liberation Tigers of Tamil Eelam (LTTE) marked a crisis point.[129][130]\\nThe government of J. R. Jayawardene swept to power in 1977, defeating the largely unpopular United Front government.[131] Jayawardene introduced a new constitution, together with a free-market economy and a powerful executive presidency modelled after that of France. It made Sri Lanka the first South Asian country to liberalise its economy.[132] Beginning in 1983, ethnic tensions were manifested in an on-and-off insurgency against the government by the LTTE. An LTTE attack on 13 soldiers resulted in the start of a civil war, and in response anti-Tamil race riots took place, allegedly backed by Sinhalese hard-line ministers, which resulted in more than 150,000 Tamil civilians fleeing the island, seeking asylum in other countries.[133][134]\\nLapses in foreign policy resulted in India strengthening the Tigers by providing arms and training.[135][136][137] In 1987, the Indo-Sri Lanka Accord was signed and the Indian Peace Keeping Force (IPKF) was deployed in northern Sri Lanka to stabilise the region by neutralising the LTTE.[138] The same year, the JVP launched its second insurrection in Southern Sri Lanka,[139] necessitating redeployment of the IPKF in 1990.[140] In October 1990, the LTTE expelled Sri Lankan Moors (Muslims by religion) from northern Sri Lanka.[141] In 2002, the Sri Lankan government and LTTE signed a Norwegian-mediated ceasefire agreement.[121]\\nThe 2004 Asian tsunami killed over 30,000 and displaced over 500,000 people in Sri Lanka.[142][143] From 1985 to 2006, the Sri Lankan government and Tamil insurgents held four rounds of peace talks without success. Both LTTE and the government resumed fighting in 2006, and the government officially backed out of the ceasefire in 2008.[121] In 2009, under the Presidency of Mahinda Rajapaksa, the Sri Lanka Armed Forces defeated the LTTE, bringing an end to the 26 year long civil war on 19 May 2009,[144][145][146][147] and re-established control of the entire country by the Sri Lankan Government.[148] Overall, between 60,000 and 100,000 people were killed during the course of the 26 year long conflict.[149][150]\\n2019 Sri Lanka Easter bombings carried out by the terrorist group National Thowheeth Jama\\'ath on 21 April 2019 resulted in the brutal death of 261 innocent people.[151] On 26 April 2019 an anti terrorist operation was carried out against the National Thowheeth Jama\\'ath by the Sri Lanka Army with the operation being successful and National Thowheeth Jama\\'ath\\'s insurgency ending.[152][153][154]\\nEconomic troubles in Sri Lanka began in 2019, when a severe economic crisis occurred caused by rapidly increasing foreign debt, massive government budget deficits due to tax cuts, falling foreign remittances, a food crisis caused by mandatory organic farming along with a ban on chemical fertilizers, and a multitude of other factors.[155] The Sri Lankan Government officially declared the ongoing crisis to be the worst economic crisis in the country in 73 years.[156] In August 2021, a food emergency was declared.[157] In June 2022, Prime Minister Ranil Wickremesinghe declared the collapse of the Sri Lankan economy in parliament.[158] The crisis resulted in Sri Lanka defaulting on its $51 billion sovereign debt for the first time in its history, along with double-digit inflation, a crippling energy crisis that led to approximately 15 hour power cuts, severe fuel shortages leading to the suspension of fuel to all non-essential vehicles, and more such economic disorder.[159][160] Due to the crisis, massive street protests erupted all over the country, with protesters demanding the resignation of the then-incumbent President Gotabaya Rajapaksa. The protests culminated with the storming and siege of the President\\'s House on July 9, 2022, and resulted in President Gotabaya Rajapaksa fleeing to Singapore[161] and later emailing his resignation to parliament, formally announcing his resignation and making him the first Sri Lankan president to resign in the middle of his term.[162] On the same day the President\\'s House was stormed, protesters besieged and stormed the private residence of the prime minister and burnt it down.[163]\\nAfter winning the 2022 Sri Lankan presidential election, on 21 July 2022, Ranil Wickremesinghe took oath as the ninth President of Sri Lanka.[164] He implemented various economic reforms in efforts to stabilize Sri Lanka\\'s economy, which has shown slight improvement since.[165][166]\\nSri Lanka, an island in South Asia shaped as a teardrop or a pear/mango,[167] lies on the Indian Plate, a major tectonic plate that was formerly part of the Indo-Australian Plate.[168] It is in the Indian Ocean southwest of the Bay of Bengal, between latitudes 5° and 10°\\xa0N, and longitudes 79° and 82°\\xa0E.[169] Sri Lanka is separated from the mainland portion of the Indian subcontinent by the Gulf of Mannar and Palk Strait. According to Hindu mythology, a land bridge existed between the Indian mainland and Sri Lanka. It now amounts to only a chain of limestone shoals remaining above sea level.[170] Legends claim that it was passable on foot up to 1480 CE, until cyclones deepened the channel.[171][172] Portions are still as shallow as 1 metre (3\\xa0ft), hindering navigation.[173] The island consists mostly of flat to rolling coastal plains, with mountains rising only in the south-central part. The highest point is Pidurutalagala, reaching 2,524 metres (8,281\\xa0ft) above sea level.\\nSri Lanka has 103 rivers. The longest of these is the Mahaweli River, extending 335 kilometres (208\\xa0mi).[174] These waterways give rise to 51 natural waterfalls of 10 metres (33\\xa0ft) or more. The highest is Bambarakanda Falls, with a height of 263 metres (863\\xa0ft).[175] Sri Lanka\\'s coastline is 1,585\\xa0km (985\\xa0mi) long.[176] Sri Lanka claims an exclusive economic zone extending 200 nautical miles, which is approximately 6.7 times Sri Lanka\\'s land area. The coastline and adjacent waters support highly productive marine ecosystems such as fringing coral reefs and shallow beds of coastal and estuarine seagrasses.[177]\\nSri Lanka has 45 estuaries and 40 lagoons.[176] Sri Lanka\\'s mangrove ecosystem spans over 7,000 hectares and played a vital role in buffering the force of the waves in the 2004 Indian Ocean tsunami.[178] The island is rich in minerals such as ilmenite, feldspar, graphite, silica, kaolin, mica and thorium.[179][180] Existence of petroleum and gas in the Gulf of Mannar has also been confirmed, and the extraction of recoverable quantities is underway.[181]\\nThe climate is tropical and warm because of moderating effects of ocean winds. Mean temperatures range from 17\\xa0°C (62.6\\xa0°F) in the central highlands, where frost may occur for several days in the winter, to a maximum of 33\\xa0°C (91.4\\xa0°F) in low-altitude areas. Average yearly temperatures range from 28\\xa0°C (82.4\\xa0°F) to nearly 31\\xa0°C (87.8\\xa0°F). Day and night temperatures may vary by 14\\xa0°C (57.2\\xa0°F) to 18\\xa0°C (64.4\\xa0°F).[182]\\nThe rainfall pattern is influenced by monsoon winds from the Indian Ocean and Bay of Bengal. The \"wet zone\" and some of the windward slopes of the central highlands receive up to 2,500 millimetres (98.4\\xa0in) of rain each year, but the leeward slopes in the east and northeast receive little rain. Most of the east, southeast, and northern parts of Sri Lanka constitute the \"dry zone\", which receives between 1,200 and 1,900\\xa0mm (47 and 75\\xa0in) of rain annually.[183]\\nThe arid northwest and southeast coasts receive the least rain at 800 to 1,200\\xa0mm (31 to 47\\xa0in) per year. Periodic squalls occur and sometimes tropical cyclones bring overcast skies and rains to the southwest, northeast, and eastern parts of the island. Humidity is typically higher in the southwest and mountainous areas and depends on the seasonal patterns of rainfall.[184] An increase in average rainfall coupled with heavier rainfall events has resulted in recurrent flooding and related damages to infrastructure, utility supply and the urban economy.[185]\\nWestern Ghats of India and Sri Lanka were included among the first 18 global biodiversity hotspots due to high levels of species endemism. The number of biodiversity hotspots has now increased to 34.[187] Sri Lanka has the highest biodiversity per unit area among Asian countries for flowering plants and all vertebrate groups except birds.[188] A remarkably high proportion of the species among its flora and fauna, 27% of the 3,210 flowering plants and 22% of the mammals, are endemic.[189] Sri Lanka supports a rich avifauna of that stands at 453 species and this include 240 species of birds that are known to breed in the country. 33 species are accepted by some ornithologists as endemic while some ornithologists consider only 27 are endemic and the remaining six are considered as proposed endemics.[190] Sri Lanka\\'s protected areas are administrated by two government bodies; The Department of Forest Conservation and the Department of Wildlife Conservation. Department of Wildlife Conservation administrates 61 wildlife sanctuaries, 22 national parks, four nature reserves, three strict nature reserves, and one jungle corridor while Department of Forest Conservation oversees 65 conservation forests and one national heritage wilderness area. 26.5% of the country\\'s land area is legally protected. This is a higher percentage of protected areas when compared to the rest of Asia.[191]\\nSri Lanka contains four terrestrial ecoregions: Sri Lanka lowland rain forests, Sri Lanka montane rain forests, Sri Lanka dry-zone dry evergreen forests, and Deccan thorn scrub forests.[192] Flowering acacias flourish on the arid Jaffna Peninsula. Among the trees of the dry-land forests are valuable species such as satinwood, ebony, ironwood, mahogany and teak. The wet zone is a tropical evergreen forest with tall trees, broad foliage, and a dense undergrowth of vines and creepers. Subtropical evergreen forests resembling those of temperate climates flourish in the higher altitudes.[193]\\nYala National Park in the southeast protects herds of elephant, deer, and peacocks. The Wilpattu National Park in the northwest, the largest national park, preserves the habitats of many water birds such as storks, pelicans, ibis, and spoonbills. The island has four biosphere reserves: Bundala, Hurulu Forest Reserve, the Kanneliya-Dediyagala-Nakiyadeniya, and Sinharaja.[194] Sinharaja is home to 26 endemic birds and 20 rainforest species, including the elusive red-faced malkoha, the green-billed coucal and the Sri Lanka blue magpie. The untapped genetic potential of Sinharaja flora is enormous. Of the 211 woody trees and lianas within the reserve, 139 (66%) are endemic. The total vegetation density, including trees, shrubs, herbs, and seedlings, has been estimated at 240,000 individuals per hectare. The Minneriya National Park borders the Minneriya Tank, which is an important source of water for elephants inhabiting the surrounding forests. Dubbed \"The Gathering\", the congregation of elephants can be seen on the tank-bed in the late dry season (August to October) as the surrounding water sources steadily disappear. The park also encompasses a range of micro-habitats which include classic dry zone tropical monsoonal evergreen forest, thick stands of giant bamboo, hilly pastures (patanas), and grasslands (talawas).[195]\\nDuring the Mahaweli Program of the 1970s and 1980s in northern Sri Lanka, the government set aside four areas of land totalling 1,900\\xa0km2 (730\\xa0sq\\xa0mi) as national parks. Statistics of Sri Lanka\\'s forest cover show rapid deforestation from 1956 to 2010. In 1956, 44.2 percent of the country\\'s land area had forest cover. Forest cover depleted rapidly in recent decades; 29.6 percent in 1999, 28.7 percent in 2010.[196]\\nSri Lanka is a democratic republic and a unitary state which is governed by a semi-presidential system.[197] Sri Lanka is the oldest democracy in Asia.[198] Most provisions of the constitution can be amended by a two-thirds majority in parliament. The amendment of certain basic features such as the clauses on language, religion, and reference to Sri Lanka as a unitary state require both a two-thirds majority and approval in a nationwide referendum.\\nIn common with many democracies, the Sri Lankan government has three branches:\\nThe current political culture in Sri Lanka is a contest between two rival coalitions led by the centre-left and progressive United People\\'s Freedom Alliance (UPFA), an offspring of Sri Lanka Freedom Party (SLFP), and the comparatively right-wing and pro-capitalist United National Party (UNP). after 2018 two major political parties have split with UNP majority has formed Samagi Jana Balawegaya and UPFA majority has formed Sri Lanka Podujana Peramuna. The third wing party Janatha Vimukthi Peramuna has gain popularity after 2022.\\n[209] Sri Lanka is essentially a multi-party democracy with many smaller Buddhist, socialist, and Tamil nationalist political parties. As of July 2011, the number of registered political parties in the country is 67.[210] Of these, the Lanka Sama Samaja Party (LSSP), established in 1935, is the oldest.[211]\\nThe UNP, established by D. S. Senanayake in 1946, was until recently the largest single political party.[212] It is the only political group which had representation in all parliaments since independence.[212] SLFP was founded by S. W. R. D. Bandaranaike in July 1951.[213] SLFP registered its first victory in 1956, defeating the ruling UNP in the 1956 Parliamentary election.[213] Following the parliamentary election in July 1960, Sirimavo Bandaranaike became the prime minister and the world\\'s first elected female head of government.[214]\\nG. G. Ponnambalam, the Tamil nationalist counterpart of S. W. R. D. Bandaranaike,[215] founded the All Ceylon Tamil Congress (ACTC) in 1944. Objecting to Ponnambalam\\'s cooperation with D. S. Senanayake, a dissident group led by S.J.V. Chelvanayakam broke away in 1949 and formed the Illankai Tamil Arasu Kachchi (ITAK), also known as the Federal Party, becoming the main Tamil political party in Sri Lanka for next two decades.[216] The Federal Party advocated a more aggressive stance toward the Sinhalese.[217] With the constitutional reforms of 1972, the ACTC and ITAK created the Tamil United Front (later Tamil United Liberation Front). Following a period of turbulence as Tamil militants rose to power in the late 1970s, these Tamil political parties were succeeded in October 2001 by the Tamil National Alliance.[217][218] Janatha Vimukthi Peramuna, a Marxist–Leninist political party founded by Rohana Wijeweera in 1965, serves as a third force in the current political context.[219] It endorses leftist policies which are more radical than the traditionalist leftist politics of the LSSP and the Communist Party.[217] Founded in 1981, the Sri Lanka Muslim Congress is the largest Muslim political party in Sri Lanka.[220]\\nPresident Mahinda Rajapaksa lost the 2015 presidential elections, ending his ten-year presidency. However, his successor as Sri Lankan President, Maithripala Sirisena, decided not to seek re-election in 2019.[221] The Rajapaksa family regained power in November 2019 presidential elections when Mahinda\\'s younger brother and former wartime defence chief Gotabaya Rajapaksa won the election, and he was later sworn in as the new president of Sri Lanka.[222][223] Their firm grip of power was consolidated in the parliamentary elections in August 2020. The family\\'s political party, Sri Lanka People\\'s Front (known by its Sinhala initials SLPP), obtained a landslide victory and a clear majority in the parliament. Five members of the Rajapaksa family won seats in the new parliament. Former president Mahinda Rajapaksa became the new prime minister.[224]\\nIn 2022, a political crisis started due to the power struggle between President Gotabaya Rajapaksa and the Parliament of Sri Lanka. The crisis was fuelled by anti-government protests and demonstrations by the public and also due to the worsening economy of Sri Lanka since 2019. The anti-government sentiment across various parts of Sri Lanka has triggered unprecedented political instability, creating shockwaves in the political arena.[225]\\nOn July 20, 2022, Ranil Wickremesinghe was elected as the ninth President via a parliamentarian election.[226]\\nFor administrative purposes, Sri Lanka is divided into nine provinces[227] and twenty-five districts.[228]\\nProvinces in Sri Lanka have existed since the 19th century, but they had no legal status until 1987 when the 13th Amendment of the 1978 constitution established provincial councils after several decades of increasing demand for a decentralisation of the government.[229] Each provincial council is an autonomous body not under the authority of any ministry. Some of its functions had been undertaken by central government ministries, departments, corporations, and statutory authorities,[229] but authority over land and police is not as a rule given to provincial councils.[230][231] Between 1989 and 2006, the Northern and Eastern provinces were temporarily merged to form the North-East Province.[232][233] Prior to 1987, all administrative tasks for the provinces were handled by a district-based civil service which had been in place since colonial times. Now each province is administered by a directly elected provincial council:\\nEach district is administered under a district secretariat. The districts are further subdivided into 256 divisional secretariats, and these to approximately 14,008 Grama Niladhari divisions.[237] The districts are known in Sinhala as disa and in Tamil as māwaddam. Originally, a disa (usually rendered into English as Dissavony) was a duchy, notably Matale and Uva.\\nThere are three other types of local authorities: municipal councils (18), urban councils (13) and pradeshiya sabha, also called pradesha sabhai (256).[238] Local authorities were originally based on feudal counties named korale and rata, and were formerly known as \"D.R.O. divisions\" after the divisional revenue officer.[239] Later, the D.R.O.s became \"assistant government agents,\" and the divisions were known as \"A.G.A. divisions\". These divisional secretariats are currently administered by a divisional secretary.\\nSri Lanka is a founding member of the Non-Aligned Movement (NAM). While ensuring that it maintains its independence, Sri Lanka has cultivated relations with India.[240] Sri Lanka became a member of the United Nations in 1955. Today, it is also a member of the Commonwealth, the SAARC, the World Bank, the International Monetary Fund, the Asian Development Bank, and the Colombo Plan.\\nThe United National Party has traditionally favoured links with the West, while the Sri Lanka Freedom Party has favoured links with the East.[240] Sri Lankan Finance Minister J. R. Jayewardene, together with then Australian Foreign Minister Sir Percy Spencer, proposed the Colombo Plan at the Commonwealth Foreign Minister\\'s Conference held in Colombo in 1950.[241] At the San Francisco Peace Conference in 1951, while many countries were reluctant, Sri Lanka argued for a free Japan and refused to accept payment of reparations for World War II damage because it believed it would harm Japan\\'s economy.[242] Sri Lanka-China relations started as soon as the People\\'s Republic of China was formed in 1949. The two countries signed an important Rubber-Rice Pact in 1952.[243] Sri Lanka played a vital role at the Asian–African Conference in 1955, which was an important step in the crystallisation of the NAM.[244]\\nThe Bandaranaike government of 1956 significantly changed the pro-western policies set by the previous UNP government. It recognised Cuba under Fidel Castro in 1959. Shortly afterward, Cuba\\'s revolutionary Che Guevara paid a visit to Sri Lanka.[245] The Sirima-Shastri Pact of 1964[246] and Sirima-Gandhi Pact of 1974[247] were signed between Sri Lankan and Indian leaders in an attempt to solve the long-standing dispute over the status of plantation workers of Indian origin. In 1974, Kachchatheevu, a small island in Palk Strait, was formally ceded to Sri Lanka.[248] By this time, Sri Lanka was strongly involved in the NAM, and the fifth NAM summit was held in Colombo in 1976.[249] The relationship between Sri Lanka and India became tense under the government of J. R. Jayawardene.[140][250] As a result, India intervened in the Sri Lankan Civil War and subsequently deployed an Indian Peace Keeping Force in 1987.[251] In the present, Sri Lanka enjoys extensive relations with China,[252] Russia,[253] and Pakistan.[254]\\nThe Sri Lanka Armed Forces, comprising the Sri Lanka Army, the Sri Lanka Navy, and the Sri Lanka Air Force, come under the purview of the Ministry of Defence.[255] The total strength of the three services is around 346,000 personnel, with nearly 36,000 reserves.[256] Sri Lanka has not enforced military conscription.[257] Paramilitary units include the Special Task Force, the Civil Security Force, and the Sri Lanka Coast Guard.[258][259]\\nSince independence in 1948, the primary focus of the armed forces has been internal security, crushing three major insurgencies, two by Marxist militants of the JVP and a 26-year-long conflict with the LTTE. The armed forces have been in a continuous mobilised state for the last 30 years.[260][261] The Sri Lankan Armed Forces have engaged in United Nations peacekeeping operations since the early 1960s, contributing forces to permanent contingents deployed in several UN peacekeeping missions in Chad, Lebanon, and Haiti.[262]\\nAccording to the International Monetary Fund, Sri Lanka\\'s GDP in terms of purchasing power parity is the second highest in the South Asian region in terms of per capita income. In the 19th and 20th centuries, Sri Lanka became a plantation economy famous for its production and export of cinnamon, rubber, and Ceylon tea, which remains a trademark national export.[263] The development of modern ports under British rule raised the strategic importance of the island as a centre of trade.[264] From 1948 to 1977, socialism strongly influenced the government\\'s economic policies. Colonial plantations were dismantled, industries were nationalised, and a welfare state established. In 1977, the free market economy was introduced to the country, incorporating privatisation, deregulation, and the promotion of private enterprise.[132]\\nWhile the production and export of tea, rubber, coffee, sugar, and other commodities remain important, industrialisation has increased the importance of food processing, textiles, telecommunications, and finance. The country\\'s main economic sectors are tourism, tea export, clothing, rice production, and other agricultural products. In addition to these economic sectors, overseas employment, especially in the Middle East, contributes substantially in foreign exchange.[265]\\nAs of 2020[update], the service sector makes up 59.7% of GDP, the industrial sector 26.2%, and the agriculture sector 8.4%.[266] The private sector accounts for 85% of the economy.[267] China, India and the United States are Sri Lanka\\'s largest trading partners.[268] Economic disparities exist between the provinces with the Western Province contributing 45.1% of the GDP and the Southern Province and the Central Province contributing 10.7% and 10%, respectively.[269] With the end of the war, the Northern Province reported a record 22.9% GDP growth in 2010.[270]\\nThe per capita income of Sri Lanka doubled from 2005 to 2011.[272] During the same period, poverty dropped from 15.2% to 7.6%, unemployment rate dropped from 7.2% to 4.9%, market capitalisation of the Colombo Stock Exchange quadrupled, and the budget deficit doubled.[265] 99% of the households in Sri Lanka are electrified; 93.2% of the population have access to safe drinking water; and 53.1% have access to pipe-borne water.[266] Income inequality has also dropped in recent years, indicated by a Gini coefficient of 0.36 in 2010.[273]\\nThe 2011 Global Competitiveness Report, published by the World Economic Forum, described Sri Lanka\\'s economy as transitioning from the factor-driven stage to the efficiency-driven stage and that it ranked 52nd in global competitiveness.[274] Also, out of the 142 countries surveyed, Sri Lanka ranked 45th in health and primary education, 32nd in business sophistication, 42nd in innovation, and 41st in goods market efficiency. In 2016, Sri Lanka ranked 5th in the World Giving Index, registering high levels of contentment and charitable behaviour in its society.[275] In 2010, The New York Times placed Sri Lanka at the top of its list of 31 places to visit.[276] S&P Dow Jones Indices classifies Sri Lanka as a frontier market as of 2018.[277] Sri Lanka ranks well above other South Asian countries in the Human Development Index (HDI) with an index of 0.750.\\nBy 2016, the country\\'s debt soared as it was developing its infrastructure to the point of near bankruptcy which required a bailout from the International Monetary Fund (IMF).[278] The IMF had agreed to provide a US$1.5\\xa0billion bailout loan in April 2016 after Sri Lanka provided a set of criteria intended to improve its economy. By the fourth quarter of 2016, the debt was estimated to be $64.9\\xa0billion. Additional debt had been incurred in the past by state-owned organisations and this was said to be at least $9.5\\xa0billion. Since early 2015, domestic debt increased by 12% and external debt by 25%.[279] In November 2016, the IMF reported that the initial disbursement was larger than US$150\\xa0million originally planned, a full US$162.6\\xa0million (SDR 119.894\\xa0million). The agency\\'s evaluation for the first tranche was cautiously optimistic about the future. Under the program, the Sri Lankan government implemented a new Inland Revenue Act and an automatic fuel pricing formula which was noted by the IMF in its fourth review. In 2018 China agreed to bail out Sri Lanka with a loan of $1.25\\xa0billion to deal with foreign debt repayment spikes in 2019 to 2021.[280][281][282]\\nIn September 2021, Sri Lanka declared a major economic crisis.[283] The Chief of its Central Bank has stepped down amid the crisis.[284] The Parliament has declared emergency regulations due to the crisis, seeking to ban \"food hoarding\".[285][286]\\nTourism, which provided the economy with an input of foreign currency, has significantly declined as a result of the ongoing COVID-19 pandemic.[287]\\nSri Lanka has an extensive road network for inland transportation. With more than 100,000\\xa0km (62,000\\xa0mi) of paved roads,[288] it has one of the highest road densities in the world (1.5\\xa0km or 0.93\\xa0mi of paved roads per every 1\\xa0km2 or 0.39\\xa0sq\\xa0mi of land). The road network consists of 35 A-Grade highways and four controlled-access highways.[289][290] A and B grade roads are national (arterial) highways administered by Road Development Authority.[291] C and D grade roads are provincial roads coming under the purview of the Provincial Road Development Authority of the respective province. The other roads are local roads falling under local government authorities.\\nThe railway network, operated by the state-run National Railway operator Sri Lanka Railways, spans 1,447 kilometres (900\\xa0mi).[292] Sri Lanka also has three deep-water ports at Colombo, Galle, and Trincomalee, in addition to the newest port being built at Hambantota.\\nIn June 2021,  Sri Lanka imposed a nationwide ban on inorganic fertilisers and pesticides. The program was welcomed by its advisor Vandana Shiva,[293] but ignored critical voices from scientific and farming community who warned about possible collapse of farming,[294][295][296][297][298] including financial crisis due to devaluation of national currency pivoted around tea industry.[294] The situation in the tea industry was described as critical, with farming under the organic program being described as ten times more expensive and producing half of the yield by the farmers.[299] In September 2021 the government declared an economic emergency, as the situation was further aggravated by falling national currency exchange rate, inflation rising as a result of high food prices, and pandemic restrictions in tourism which further decreased country\\'s income.[283]\\nIn November 2021, Sri Lanka abandoned its plan to become the world\\'s first organic farming nation following rising food prices and weeks of protests against the plan.[300] As of December 2021, the damage to agricultural production was already done, with prices having risen substantially for vegetables in Sri Lanka, and time needed to recover from the crisis. The ban on fertiliser has been lifted for certain crops, but the price of urea has risen internationally due to the price for oil and gas.[287] Jeevika Weerahewa, a senior lecturer at the University of Peradeniya, predicted that the ban would reduce the paddy harvest in 2022 by an unprecedented 50%.[301]\\n\\nSri Lanka has roughly 22,156,000 people and an annual population growth rate of 0.5%. The birth rate is 13.8 births per 1,000\\xa0people, and the death rate is 6.0 deaths per 1,000\\xa0people.[266] Population density is highest in western Sri Lanka, especially in and around the capital. Sinhalese constitute the largest ethnic group in the country, with 74.8% of the total population.[302] Sri Lankan Tamils are the second major ethnic group in the island, with a percentage of 11.2%. Moors comprise 9.2%. There are also small ethnic groups such as the Burghers (of mixed European descent) and Malays from Southeast Asia. Moreover, there is a small population of Vedda people who are believed to be the original indigenous group to inhabit the island.[303]Sinhala and Tamil are the two official languages.[305] The constitution defines English as the link language. English is widely used for education, scientific and commercial purposes. Members of the Burgher community speak variant forms of Portuguese Creole and Dutch with varying proficiency, while members of the Malay community speak a form of Creole Malay that is unique to the island.[306]\\nReligion in Sri Lanka (2012 census)[307][308]\\nBuddhism is the largest and is considered as an \"Official religion\" of Sri Lanka under Chapter II, Article 9, \"The Republic of Sri Lanka shall give to Buddhism the foremost place and accordingly it shall be the duty of the State to protect and foster the Buddha Sasana\".[309][310]\\nBuddhism is practised by 70.2% of the Sri Lankan population with most being predominantly from Theravada school of thought.[311] Most Buddhists are of the Sinhalese ethnic group with minority Tamils. Buddhism was introduced to Sri Lanka in the 2nd century BCE by Mahinda Maurya.[311] A sapling of the Bodhi Tree under which the Buddha attained enlightenment was brought to Sri Lanka during the same time. The Pāli Canon (Thripitakaya), having previously been preserved as an oral tradition, was first committed to writing in Sri Lanka around 30 BCE.[312] Sri Lanka has the longest continuous history of Buddhism of any predominantly Buddhist nation.[311] During periods of decline, the Sri Lankan monastic lineage was revived through contact with Thailand and Burma.[312]\\nAlthough Hindus in Sri Lanka form a religious minority, Hinduism has been present in Sri Lanka at least since the 2nd century BCE.[313] Hinduism was the dominant religion in Sri Lanka before the arrival of Buddhism in the 3rd century BCE. Buddhism was introduced into Sri Lanka by Mahinda, the son of Emperor Ashoka, during the reign of King Devanampiya Tissa;[314] the Sinhalese embraced Buddhism and Tamils remain Hindus in Sri Lanka. However, it was activity from across the Palk Strait that truly set the scene for Hinduism\\'s survival in Sri Lanka. Shaivism (devotional worship of Lord Shiva) was the dominant branch practised by the Tamil peoples, thus most of the traditional Hindu temple architecture and philosophy of Sri Lanka drew heavily from this particular strand of Hinduism. Thirugnanasambanthar mentioned the names of several Sri Lankan Hindu temples in his works.[315]\\nIslam is the third most prevalent religion in the country, having first been brought to the island by Arab traders over the course of many centuries, starting around the mid or late 7th century CE. Most followers on the island today are Sunni who follow the Shafi\\'i school[316] and are believed to be descendants of Arab traders and the local women whom they married.[317]\\nChristianity reached the country at least as early as the fifth century (and possibly in the first),[318] gaining a wider foothold through Western colonists who began to arrive early in the 16th century.[319] Around 7.4% of the Sri Lankan population are Christians, of whom 82% are Roman Catholics who trace their religious heritage directly to the Portuguese. Tamil Catholics attribute their religious heritage to St. Francis Xavier as well as Portuguese missionaries. The remaining Christians are evenly split between the Anglican Church of Ceylon and other Protestant denominations.[320]\\nThere is also a small population of Zoroastrian immigrants from India (Parsis) who settled in Ceylon during the period of British rule.[321] This community has steadily dwindled in recent years.[322]\\nReligion plays a prominent role in the life and culture of Sri Lankans. The Buddhist majority observe Poya Days each month according to the Lunar calendar, and Hindus and Muslims also observe their own holidays. In a 2008 Gallup poll, Sri Lanka was ranked the third most religious country in the world, with 99% of Sri Lankans saying religion was an important part of their daily life.[323]\\nSri Lankans have a life expectancy of 75.5 years at birth, which is 10% higher than the world average.[266][265] The infant mortality rate stands at 8.5 per 1,000 births and the maternal mortality rate at 0.39 per 1,000 births, which is on par with figures from developed countries. The universal \"pro-poor\"[324] health care system adopted by the country has contributed much towards these figures.[325] Sri Lanka ranks first among southeast Asian countries with respect to deaths by suicide, with 33 deaths per 100,000 persons. According to the Department of Census and Statistics, poverty, destructive pastimes, and inability to cope with stressful situations are the main causes behind the high suicide rates.[326]\\nOn 8 July 2020, the World Health Organization declared that Sri Lanka had successfully eliminated rubella and measles ahead of their 2023 target.[327]\\nWith a literacy rate of 92.9%,[266] Sri Lanka has one of the most literate populations amongst developing nations.[328] Its youth literacy rate stands at 98.8%,[329] computer literacy rate at 35%,[330] and primary school enrollment rate at over 99%.[331] An education system which dictates 9 years of compulsory schooling for every child is in place.\\nThe free education system established in 1945[332] is a result of the initiative of C. W. W. Kannangara and A. Ratnayake.[333][334] It is one of the few countries in the world that provide universal free education from primary to tertiary stage.[335] Kannangara led the establishment of the Madhya Vidyalayas (central schools) in different parts of the country in order to provide education to Sri Lanka\\'s rural children.[330] In 1942, a special education committee proposed extensive reforms to establish an efficient and quality education system for the people. However, in the 1980s changes to this system separated the administration of schools between the central government and the provincial government. Thus the elite national schools are controlled directly by the ministry of education and the provincial schools by the provincial government. Sri Lanka has approximately 10,155 government schools, 120 private schools and 802 pirivenas.[266]\\nSri Lanka has 17 public universities.[336][337] A lack of responsiveness of the education system to labour market requirements, disparities in access to quality education, lack of an effective linkage between secondary and tertiary education remain major challenges for the education sector.[338] A number of private, degree awarding institutions have emerged in recent times to fill in these gaps, yet the participation at tertiary level education remains at 5.1%.[339] Sri Lanka was ranked 90th in the Global Innovation Index in 2023.[340][341]\\nThe Sri Lanka Broadcasting Corporation (formerly Radio Ceylon) is the oldest-running radio station in Asia,[342] established in 1923 by Edward Harper just three years after broadcasting began in Europe.[342] The station broadcasts services in Sinhala, Tamil, English and Hindi. Since the 1980s, many private radio stations have also been introduced. Broadcast television was introduced in 1979 when the Independent Television Network was launched. Initially, all television stations were state-controlled, but private television networks began broadcasting in 1992.[343]\\nAs of 2020[update], 192 newspapers (122 Sinhala, 24 Tamil, 43 English, 3 multilingual) are published and 25 TV stations and 58 radio stations are in operation.[266] In recent years, freedom of the press in Sri Lanka has been alleged by media freedom groups to be amongst the poorest in democratic countries.[344] Alleged abuse of a newspaper editor by a senior government minister[345] achieved international notoriety because of the unsolved murder of the editor\\'s predecessor, Lasantha Wickrematunge,[346] who had been a critic of the government and had presaged his own death in a posthumously published article.[347]\\nOfficially, the constitution of Sri Lanka guarantees human rights as ratified by the United Nations. However, several groups, such as Amnesty International, Freedom from Torture, Human Rights Watch,[348] as well as the British government[349] and the United States Department of State have criticised human rights violations in Sri Lanka.[350] The Sri Lankan Government and the LTTE have both been accused of violating human rights. A report by an advisory panel to the UN secretary-general accused both the LTTE and the Sri Lankan government of war crimes during final stages of the civil war.[351][352] Corruption remains a problem in Sri Lanka, and there is little protection for those who stand up against corruption.[353] The 135-year-old Article 365 of the Sri Lankan Penal Code criminalises homosexual acts, with a penalty of up to ten years in prison.[354]\\nThe UN Human Rights Council has documented over 12,000 named individuals who have disappeared after detention by security forces in Sri Lanka, the second-highest figure in the world since the Working Group came into being in 1980.[355] The Sri Lankan government confirmed that 6,445 of these died. Allegations of human rights abuses have not ended with the close of the ethnic conflict.[356]\\nUN Human Rights Commissioner Navanethem Pillay visited Sri Lanka in May 2013. After her visit, she said: \"The war may have ended [in Sri Lanka], but in the meantime, democracy has been undermined and the rule of law eroded.\" Pillay spoke about the military\\'s increasing involvement in civilian life and reports of military land grabbing. She also said that, while in Sri Lanka, she had been allowed to go wherever she wanted, but that Sri Lankans who came to meet her were harassed and intimidated by security forces.[357][358]\\nIn 2012, the UK charity Freedom from Torture reported that it had received 233 referrals of torture survivors from Sri Lanka for clinical treatment or other services provided by the charity. In the same year, the group published Out of the Silence, which documents evidence of torture in Sri Lanka and demonstrates that the practice has continued long after the end of the civil war in 2009.[359] On 29 July 2020, Human Rights Watch said that the Sri Lanka government has targeted lawyers, human rights defenders, and journalists to suppress criticism against the government.[360]\\nThe culture of Sri Lanka is influenced primarily by Buddhism and Hinduism.[361] Sri Lanka is the home to two main traditional cultures: the Sinhalese (centred in Kandy and Anuradhapura) and the Tamil (centred in Jaffna). Tamils co-existed with the Sinhalese people since then, and the early mixing rendered the two ethnic groups almost physically indistinguishable.[362] Ancient Sri Lanka is marked for its genius in hydraulic engineering and architecture. The British colonial culture has also influenced the locals. The rich cultural traditions shared by all Sri Lankan cultures is the basis of the country\\'s long life expectancy, advanced health standards, and high literacy rate.[363]\\nDishes include rice and curry, pittu, kiribath, wholemeal roti, string hoppers, wattalapam (a rich pudding of Malay origin made with coconut milk, jaggery, cashews, eggs, and spices including cinnamon and nutmeg), kottu, and appam.[364] Jackfruit may sometimes replace rice. Traditionally food is served on a plantain leaf or lotus leaf. Middle Eastern influences and practices are found in traditional Moor dishes, while Dutch and Portuguese influences are found with the island\\'s Burgher community preserving their culture through traditional dishes such as lamprais (rice cooked in stock and baked in a banana leaf), breudher (Dutch holiday biscuit), and Bolo fiado (Portuguese-style layer cake).[citation needed]\\nIn April, Sri Lankans celebrate the Buddhist and Hindu new year festivals.[365] Esala Perahera is a symbolic Buddhist festival consisting of dances and decorated elephants held in Kandy in July and August.[366] Fire dances, whip dances, Kandyan dances and various other cultural dances are integral parts of the festival. Christians celebrate Christmas on 25 December to celebrate the birth of Jesus Christ and Easter to celebrate the resurrection of Jesus. Tamils celebrate Thai Pongal and Maha Shivaratri, and Muslims celebrate Hajj and Ramadan.\\nThe movie Kadawunu Poronduwa (The Broken Promise), produced by S. M. Nayagam of Chitra Kala Movietone, heralded the coming of Sri Lankan cinema in 1947. Ranmuthu Duwa (Island of Treasures) marked the transition of cinema from black-and-white to colour. In recent years, movies have featured subjects such as family melodrama, social transformation and the years of conflict between the military and the LTTE.[367] The Sri Lankan cinematic style is similar to Bollywood movies. In 1979, movie attendance rose to an all-time high but has been in a steady decline since then.[368]\\nAn influential filmmaker is Lester James Peiris, who has directed a number of movies which led to global acclaim, including Rekava (Line of Destiny, 1956), Gamperaliya (The Changing Village, 1964), Nidhanaya (The Treasure, 1970) and Golu Hadawatha (Cold Heart, 1968).[369] Sri Lankan-Canadian poet Rienzi Crusz, is the subject of a documentary on his life in Sri Lanka. His work is published in Sinhala and English. Naturalised Canadian Michael Ondaatje is well known for his English-language novels and three films.[citation needed]\\nThe earliest music in Sri Lanka came from theatrical performances such as Kolam, Sokari and Nadagam.[370] Traditional music instruments such as Béra, Thammátama, Daŭla and Răbān were performed at these dramas. The first music album, Nurthi, recorded in 1903, was released through Radio Ceylon. Songwriters like Mahagama Sekara and Ananda Samarakoon and musicians such as W. D. Amaradeva, Victor Ratnayake, Nanda Malini and Clarence Wijewardene have contributed much towards the progression of Sri Lankan music.[371] Baila music originated among Kaffirs or the Afro-Sinhalese community.[372]\\nThere are three main styles of Sri Lankan classical dance. They are, the Kandyan dances, low country dances and Sabaragamuwa dances. Of these, the Kandyan style is most prominent. It is a sophisticated form of dance[373] that consists of five sub-categories: Ves dance, Naiyandi dance, Udekki dance, Pantheru dance and 18 Vannam.[374] An elaborate headdress is worn by the male dancers, and a drum called Geta Béraya is used to assist the dancers to keep on rhythm.[375]\\nThe history of Sri Lankan painting and sculpture can be traced as far back as to the 2nd or 3rd century BCE.[376] The earliest mention about the art of painting on Mahāvaṃsa, is to the drawing of a palace on cloth using cinnabar in the 2nd century BCE. The chronicles have a description of various paintings in relic chambers of Buddhist stupas and in monastic residences.\\nTheatre came to the country when a Parsi theatre company from Mumbai introduced Nurti, a blend of European and Indian theatrical conventions to the Colombo audience in the 19th century.[374] The golden age of Sri Lankan drama and theatre began with the staging of Maname, a play written by Ediriweera Sarachchandra in 1956.[377] It was followed by a series of popular dramas like Sinhabāhu, Pabāvatī, Mahāsāra, Muudu Puththu and Subha saha Yasa.\\nSri Lankan literature spans at least two millennia and is heir to the Aryan literary tradition as embodied in the hymns of the Rigveda.[378] The Pāli Canon, the standard collection of scriptures in the Theravada Buddhist tradition, was written down in Sri Lanka during the Fourth Buddhist council, at the Alulena cave temple, Kegalle, as early as 29 BCE.[379] Chronicles such as the Mahāvaṃsa, written in the 6th century, provide vivid descriptions of Sri Lankan dynasties. According to the German philosopher Wilhelm Geiger, the chronicles are based on Sinhala Atthakatha (commentary).[378] The oldest surviving prose work is the Dhampiya-Atuva-Getapadaya, compiled in the 9th century CE.[378] The greatest literary feats of medieval Sri Lanka include Sandesha Kāvya (poetic messages) such as Girā Sandeshaya (parrot message), Hansa Sandeshaya (swan message) and Salalihini Sandeshaya (myna message). Poetry including Kavsilumina, Kavya-Sekharaya (Diadem of Poetry) and proses such as Saddharma-Ratnāvaliya, Amāvatura (Flood of Nectar) and Pujāvaliya are also notable works of this period, which is considered to be the golden age of Sri Lankan literature.[378] The first modern-day novel, Meena by Simon de Silva appeared in 1905[374] and was followed by several revolutionary literary works. Martin Wickramasinghe, the author of Madol Doova is considered the iconic figure of Sri Lankan literature.[380]\\nWhile the national sport is volleyball, by far the most popular sport in the country is Cricket.[381] Rugby union also enjoys extensive popularity,[382] as do association football, netball and tennis. Aquatic sports such as boating, surfing, swimming, kitesurfing[383] and scuba diving attract many Sri Lankans and foreign tourists. There are two styles of martial arts native to Sri Lanka: Cheena di and Angampora.[384]\\nThe Sri Lanka national cricket team achieved considerable success beginning in the 1990s, rising from underdog status to winning the 1996 Cricket World Cup, defeating Australia in the final on 17 March 1996.[386] They also won the 2014 ICC World Twenty20 played in Bangladesh, beating India in the final. In addition, Sri Lanka became the runners-up of the Cricket World Cup in 2007[387] and 2011,[388] and of the ICC World Twenty20 in 2009 and 2012.[389] Former Sri Lankan off-spinner Muttiah Muralitharan has been rated as the greatest test match bowler ever by Wisden Cricketers\\' Almanack,[390] and four Sri Lankan cricketers ranked 2nd (Sangakkara), 4th (Jayasuriya), 5th (Jayawardene) and 11th (Dilshan) highest ODI run scorers of all time, which is the second best by a team. As of June 2022,  Muttiah Muralitharan has the highest aggregate wickets in Test Cricket with a record 800 wickets, a feat he achieved in a Test Match against India in July 2010 that Sri Lanka had won by 10 Wickets.[391][392] Sri Lanka has won the Asia Cup in 1986,[393] 1997,[394] 2004,[395] 2008,[396] 2014.[397] and 2022.[398] Sri Lanka once held the highest team score in all three formats of cricket.[399] The country co-hosted the Cricket World Cup in 1996 and 2011 and hosted the 2012 ICC World Twenty20.\\nSri Lankans have won two medals at Olympic Games: one silver, by Duncan White at the 1948 London Olympics for men\\'s 400 metres hurdles;[400] and one silver by Susanthika Jayasinghe at the 2000 Sydney Olympics for women\\'s 200 metres.[401] In 1973, Muhammad Lafir won the World Billiards Championship, the highest feat by a Sri Lankan in a Cue sport.[402] Sri Lanka has also won the Carrom World Championship titles twice in 2012, 2016[403] and 2018, the men\\'s team becoming champions and the women\\'s team winning second place. The Sri Lankan National Badminton Championships was annually held between 1953 and 2011.\\nSri Lanka national football team also won the prestigious 1995 South Asian Gold Cup.[404][405][406][407][408]\\n7°N 81°E\\ufeff / \\ufeff7°N 81°E\\ufeff / 7; 81\\n'"
            ]
          },
          "execution_count": 2,
          "metadata": {},
          "output_type": "execute_result"
        }
      ],
      "source": [
        "import bs4\n",
        "from urllib.request import urlopen\n",
        "\n",
        "source = urlopen('https://en.wikipedia.org/wiki/Sri_Lanka').read()\n",
        "soup = bs4.BeautifulSoup(source, 'lxml')\n",
        "\n",
        "text = \"\"\n",
        "for paragraph in soup.find_all('p'):\n",
        "    text += paragraph.text\n",
        "\n",
        "text"
      ]
    },
    {
      "cell_type": "code",
      "execution_count": 3,
      "metadata": {
        "id": "HhroGImae2Zp"
      },
      "outputs": [],
      "source": [
        "from nltk.tokenize import word_tokenize, sent_tokenize"
      ]
    },
    {
      "cell_type": "code",
      "execution_count": 4,
      "metadata": {
        "id": "GHZ9OqIfe2Zp"
      },
      "outputs": [],
      "source": [
        "text = word_tokenize(text)"
      ]
    },
    {
      "cell_type": "code",
      "execution_count": 5,
      "metadata": {
        "colab": {
          "base_uri": "https://localhost:8080/",
          "height": 123
        },
        "id": "dHNn9MAqe2Zq",
        "outputId": "f487579c-e385-4873-86ab-26186d9437ab"
      },
      "outputs": [
        {
          "data": {
            "text/plain": [
              "\"Sri Lanka , [ a ] historically known as Ceylon and officially the Democratic Socialist Republic of Sri Lanka , is an island country in South Asia . It lies in the Indian Ocean , southwest of the Bay of Bengal , separated from the Indian peninsula by the Gulf of Mannar and the Palk Strait . It shares a maritime border with the Maldives in the southwest and India in the northwest . Sri Lanka has a population of approximately 22 million and is home to many cultures , languages and ethnicities . The Sinhalese people form the majority of the population , followed by the Sri Lankan Tamils , who are the largest minority group and are concentrated in northern Sri Lanka ; both groups have played an influential role in the island 's history . Other long-established groups include the Moors , Indian Tamils , Burghers , Malays , Chinese , and Vedda . [ 13 ] Sri Lanka 's documented history goes back 3,000 years , with evidence of prehistoric human settlements dating back 125,000 years . [ 14 ] The earliest known Buddhist writings of Sri Lanka , known collectively as the Pāli canon , date to the fourth Buddhist council , which took place in 29 BCE . [ 15 ] [ 16 ] Also called the Pearl of the Indian Ocean , or the Granary of the East , Sri Lanka 's geographic location and deep harbours have made it of great strategic importance , from the earliest days of the ancient Silk Road trade route to today 's so-called maritime Silk Road . [ 17 ] [ 18 ] [ 19 ] Because its location made it a major trading hub , it was already known to both East Asians and Europeans as long ago as the Anuradhapura period . During a period of great political crisis in the Kingdom of Kotte , the Portuguese arrived in Sri Lanka and sought to control its maritime trade , with a part of Sri Lanka subsequently becoming a Portuguese possession . After the Sinhalese-Portuguese war , the Dutch Empire and the Kingdom of Kandy took control of those areas . The Dutch possessions were then taken by the British , who later extended their control over the whole island , colonising it from 1815 to 1948 . A national movement for political independence arose in the early 20th century , and in 1948 , Ceylon became a dominion . It was succeeded by the republic of Sri Lanka in 1972 . Sri Lanka 's more recent history was marred by a 26-year civil war , which began in 1983 and ended in 2009 , when the Sri Lanka Armed Forces defeated the Liberation Tigers of Tamil Eelam . [ 20 ] Sri Lanka is a developing country , ranking 73rd on the Human Development Index . It is the highest-ranked South Asian nation in terms of development and has the second-highest per capita income in South Asia . However , the ongoing economic crisis has resulted in the collapse of its currency , rising inflation , and a humanitarian crisis due to a severe shortage of essentials . It has also led to an eruption of street protests , with citizens successfully demanding that the president and the government step down . [ 21 ] The country has had a long history of engagement with modern international groups ; it is a founding member of the SAARC , the G77 and the Non-Aligned Movement , as well as a member of the United Nations and the Commonwealth of Nations . In antiquity , Sri Lanka was known to travellers by a variety of names . According to the Mahāvaṃsa , the legendary Prince Vijaya named the island Tambapaṇṇĩ ( `` copper-red hands '' or `` copper-red earth '' ) , because his followers ' hands were reddened by the red soil of the area where he landed . [ 22 ] [ 23 ] In Hindu mythology , the term Lankā ( `` Island '' ) appears but it is unknown whether it refers to the modern-day state . The Tamil term Eelam ( Tamil : ஈழம் , romanized : īḻam ) was used to designate the whole island in Sangam literature . [ 24 ] [ 25 ] The island was known under Chola rule as Mummudi Cholamandalam ( `` realm of the three crowned Cholas '' ) . [ 26 ] Ancient Greek geographers called it Taprobanā ( Ancient Greek : Ταπροβανᾶ ) or Taprobanē ( Ταπροβανῆ ) [ 27 ] from the word Tambapanni . The Persians and Arabs referred to it as Sarandīb ( the origin of the word `` serendipity '' ) from Sanskrit Siṃhaladvīpaḥ . [ 28 ] [ 29 ] Ceilão , the name given to Sri Lanka by the Portuguese Empire when it arrived in 1505 , [ 30 ] was transliterated into English as Ceylon . [ 31 ] As a British crown colony , the island was known as Ceylon ; it achieved independence as the Dominion of Ceylon in 1948 . The country is now known in Sinhala as Śrī Laṅkā ( Sinhala : ශ්\\u200dරී ලංකා ) and in Tamil as Ilaṅkai ( Tamil : இலங்கை , IPA : [ iˈlaŋɡaɪ ] ) . In 1972 , its formal name was changed to `` Free , Sovereign and Independent Republic of Sri Lanka '' . Later , on 7 September 1978 , it was changed to the `` Democratic Socialist Republic of Sri Lanka '' . [ 32 ] [ 33 ] As the name Ceylon still appears in the names of a number of organisations , the Sri Lankan government announced in 2011 a plan to rename all those over which it has authority . [ 34 ] The pre-history of Sri Lanka goes back 125,000 years and possibly even as far back as 500,000 years . [ 35 ] The era spans the Palaeolithic , Mesolithic , and early Iron Ages . Among the Paleolithic human settlements discovered in Sri Lanka , Pahiyangala ( 37,000 BP ) , named after the Chinese traveller monk Faxian ; [ 36 ] Batadombalena ( 28,500 BP ) ; [ 37 ] and Belilena ( 12,000 BP ) are the most important . In these caves , archaeologists have found the remains of anatomically modern humans which they have named Balangoda Man , and other evidence [ 38 ] suggesting that they may have engaged in agriculture and kept domestic dogs for driving game . [ 39 ] The earliest inhabitants of Sri Lanka were probably ancestors of the Vedda people , [ 40 ] an indigenous people numbering approximately 2,500 living in modern-day Sri Lanka . During the protohistoric period ( 1000–500 BCE ) Sri Lanka was culturally united with southern India , [ 41 ] and shared the same megalithic burials , pottery , iron technology , farming techniques and megalithic graffiti . [ 42 ] [ 43 ] This cultural complex spread from southern India along with Dravidian clans such as the Velir , prior to the migration of Prakrit speakers . [ 44 ] [ 45 ] [ 42 ] One of the first written references to the island is found in the Indian epic Ramayana , which provides details of a kingdom named Lanka that was created by the divine sculptor Vishvakarma for Kubera , the God of Wealth . [ 46 ] It is said that Kubera was overthrown by his rakshasa stepbrother , Ravana . [ 47 ] According to the Mahāvamsa , a Pāḷi chronicle written in the 5th century CE , the original inhabitants of Sri Lanka are said to be the Yakshas and Nagas . Sinhalese history traditionally starts in 543 BCE with the arrival of Prince Vijaya , a semi-legendary prince who sailed with 700 followers to Sri Lanka , after being expelled from Vanga Kingdom ( present-day Bengal ) . [ 48 ] He established the Kingdom of Tambapanni , near modern-day Mannar . Vijaya ( Singha ) is the first of the approximately 189 monarchs of Sri Lanka described in chronicles such as the Dipavamsa , Mahāvaṃsa , Cūḷavaṃsa , and Rājāvaliya . [ 49 ] Once Prakrit speakers had attained dominance on the island , the Mahavamsa further recounts the later migration of royal brides and service castes from the Tamil Pandya Kingdom to the Anuradhapura Kingdom in the early historic period . [ 50 ] The Anuradhapura period ( 377 BCE – 1017 CE ) began with the establishment of the Anuradhapura Kingdom in 380 BCE during the reign of Pandukabhaya . Thereafter , Anuradhapura served as the capital city of the country for nearly 1,400 years . [ 51 ] Ancient Sri Lankans excelled at building certain types of structures such as tanks , dagobas and palaces . [ 52 ] Society underwent a major transformation during the reign of Devanampiya Tissa , with the arrival of Buddhism from India . In 250 BCE , [ 53 ] Mahinda , a bhikkhu and the son of the Mauryan Emperor Ashoka arrived in Mihintale carrying the message of Buddhism . [ 54 ] His mission won over the monarch , who embraced the faith and propagated it throughout the Sinhalese population . [ 55 ] Succeeding kingdoms of Sri Lanka would maintain many Buddhist schools and monasteries and support the propagation of Buddhism into other countries in Southeast Asia . Sri Lankan Bhikkhus studied in India 's famous ancient Buddhist University of Nalanda , which was destroyed by Bakhtiyar Khilji . It is probable that many of the scriptures from Nalanda are preserved in Sri Lanka 's many monasteries and that the written form of the Tripiṭaka , including Sinhalese Buddhist literature , were part of the University of Nalanda . [ 56 ] In 245 BCE , bhikkhuni Sanghamitta arrived with the Jaya Sri Maha Bodhi tree , which is considered to be a sapling from the historical Bodhi Tree under which Gautama Buddha became enlightened . [ 57 ] It is considered the oldest human-planted tree ( with a continuous historical record ) in the world . ( Bodhivamsa ) [ 58 ] [ 59 ] Sri Lanka experienced the first of many foreign invasions during the reign of Suratissa , who was defeated by two horse traders named Sena and Guttika from South India . [ 55 ] The next invasion came immediately in 205 BCE by a Chola named Elara , who overthrew Asela and ruled the country for 44 years . Dutugamunu , the eldest son of the southern regional sub-king , Kavan Tissa , defeated Elara in the Battle of Vijithapura . During its two and a half millennia of existence , the Sinhala Kingdom was invaded at least eight times by neighbouring South Indian dynasties such as the Chola , Pandya , and Pallava . [ citation needed ] There also were incursions by the kingdoms of Kalinga ( modern Odisha ) and from the Malay Peninsula as well . [ citation needed ] The Fourth Buddhist Council of Theravada Buddhism was held at the Anuradhapura Maha Viharaya in Sri Lanka under the patronage of Valagamba of Anuradhapura in 25 BCE . The council was held in response to a year in which the harvests in Sri Lanka were particularly poor and many Buddhist monks subsequently died of starvation . Because the Pāli Canon was at that time oral literature maintained in several recensions by dhammabhāṇakas ( dharma reciters ) , the surviving monks recognised the danger of not writing it down so that even if some of the monks whose duty it was to study and remember parts of the Canon for later generations died , the teachings would not be lost . [ 60 ] After the council , palm-leaf manuscripts containing the completed Canon were taken to other countries such as Burma , Thailand , Cambodia and Laos . Sri Lanka was the first Asian country known to have a female ruler : Anula of Anuradhapura ( r. 47–42 BCE ) . [ 61 ] Sri Lankan monarchs undertook some remarkable construction projects such as Sigiriya , the so-called `` Fortress in the Sky '' , built during the reign of Kashyapa I of Anuradhapura , who ruled between 477 and 495 . The Sigiriya rock fortress is surrounded by an extensive network of ramparts and moats . Inside this protective enclosure were gardens , ponds , pavilions , palaces and other structures . [ 62 ] [ 63 ] In 993 CE , the invasion of Chola emperor Rajaraja I forced the then Sinhalese ruler Mahinda V to flee to the southern part of Sri Lanka . Taking advantage of this situation , Rajendra I , son of Rajaraja I , launched a large invasion in 1017 . Mahinda V was captured and taken to India , and the Cholas sacked the city of Anuradhapura causing the fall of Anuradhapura Kingdom . Subsequently , they moved the capital to Polonnaruwa . [ 64 ] Following a 17-year-long campaign , Vijayabahu I successfully drove the Chola out of Sri Lanka in 1070 , reuniting the country for the first time in over a century . [ 65 ] [ 66 ] Upon his request , ordained monks were sent from Burma to Sri Lanka to re-establish Buddhism , which had almost disappeared from the country during the Chola reign . [ 67 ] During the medieval period , Sri Lanka was divided into three sub-territories , namely , Ruhunu , Pihiti and Maya . [ 68 ] Sri Lanka 's irrigation system was extensively expanded during the reign of Parākramabāhu the Great ( 1153–1186 ) . [ 69 ] This period is considered as a time when Sri Lanka was at the height of its power . [ 70 ] [ 71 ] He built 1,470 reservoirs – the highest number by any ruler in Sri Lanka 's history – repaired 165 dams , 3,910 canals , 163 major reservoirs , and 2,376 mini-reservoirs . [ 72 ] His most famous construction is the Parakrama Samudra , [ 73 ] the largest irrigation project of medieval Sri Lanka . Parākramabāhu 's reign is memorable for two major campaigns – in the south of India as part of a Pandyan war of succession , and a punitive strike against the kings of Ramanna ( Burma ) for various perceived insults to Sri Lanka . [ 74 ] After his demise , Sri Lanka gradually decayed in power . In 1215 , Kalinga Magha , an invader with uncertain origins , identified as the founder of the Jaffna kingdom , invaded and captured the Kingdom of Polonnaruwa . He sailed from Kalinga [ 72 ] 690 nautical miles on 100 large ships with a 24,000 strong army . Unlike previous invaders , he looted , ransacked and destroyed everything in the ancient Anuradhapura and Polonnaruwa Kingdoms beyond recovery . [ 75 ] His priorities in ruling were to extract as much as possible from the land and overturn as many of the traditions of Rajarata as possible . His reign saw the massive migration of native Sinhalese people to the south and west of Sri Lanka , and into the mountainous interior , in a bid to escape his power . [ 76 ] [ 77 ] Sri Lanka never really recovered from the effects of Kalinga Magha 's invasion . King Vijayabâhu III , who led the resistance , brought the kingdom to Dambadeniya . The north , in the meanwhile , eventually evolved into the Jaffna kingdom . [ 76 ] [ 77 ] The Jaffna kingdom never came under the rule of any kingdom of the south except on one occasion ; in 1450 , following the conquest led by king Parâkramabâhu VI 's adopted son , Prince Sapumal . [ 78 ] He ruled the North from 1450 to 1467 CE . [ 79 ] The next three centuries starting from 1215 were marked by kaleidoscopically shifting collections of capitals in south and central Sri Lanka , including Dambadeniya , Yapahuwa , Gampola , Raigama , Kotte , [ 80 ] Sitawaka , and finally , Kandy . In 1247 , the Malay kingdom of Tambralinga which was a vassal of Sri Vijaya led by their king Chandrabhanu [ 81 ] briefly invaded Sri Lanka from Insular Southeast Asia . They were then expelled by the South Indian Pandyan dynasty . [ 82 ] However , this temporary invasion reinforced the steady flow of the presence of various Austronesian merchant ethnic groups , from Sumatrans ( Indonesia ) to Lucoes ( Philippines ) into Sri Lanka which occurred since 200 BCE . [ 83 ] Chinese admiral Zheng He and his naval expeditionary force landed at Galle , Sri Lanka in 1409 and got into battle with the local king Vira Alakesvara of Gampola . Zheng He captured King Vira Alakesvara and later released him . [ 84 ] [ 85 ] [ 86 ] [ 87 ] Zheng He erected the Galle Trilingual Inscription , a stone tablet at Galle written in three languages ( Chinese , Tamil , and Persian ) , to commemorate his visit . [ 88 ] [ 89 ] The stele was discovered by S. H. Thomlin at Galle in 1911 and is now preserved in the Colombo National Museum . The early modern period of Sri Lanka begins with the arrival of Portuguese soldier and explorer Lourenço de Almeida , the son of Francisco de Almeida , in 1505 . [ 90 ] In 1517 , the Portuguese built a fort at the port city of Colombo and gradually extended their control over the coastal areas . In 1592 , after decades of intermittent warfare with the Portuguese , Vimaladharmasuriya I moved his kingdom to the inland city of Kandy , a location he thought more secure from attack . [ 91 ] In 1619 , succumbing to attacks by the Portuguese , the independent existence of the Jaffna kingdom came to an end . [ 92 ] During the reign of the Rajasinha II , Dutch explorers arrived on the island . In 1638 , the king signed a treaty with the Dutch East India Company to get rid of the Portuguese who ruled most of the coastal areas . [ 93 ] The following Dutch–Portuguese War resulted in a Dutch victory , with Colombo falling into Dutch hands by 1656 . The Dutch remained in the areas they had captured , thereby violating the treaty they had signed in 1638 . The Burgher people , a distinct ethnic group , emerged as a result of intermingling between the Dutch and native Sri Lankans in this period . [ 94 ] The Kingdom of Kandy was the last independent monarchy of Sri Lanka . [ 95 ] In 1595 , Vimaladharmasurya brought the sacred Tooth Relic—the traditional symbol of royal and religious authority amongst the Sinhalese—to Kandy and built the Temple of the Tooth . [ 95 ] In spite of on-going intermittent warfare with Europeans , the kingdom survived . Later , a crisis of succession emerged in Kandy upon king Vira Narendrasinha 's death in 1739 . He was married to a Telugu-speaking Nayakkar princess from South India ( Madurai ) and was childless by her . [ 95 ] Eventually , with the support of bhikku Weliwita Sarankara and ignoring the right of `` Unambuwe Bandara '' , the crown passed to the brother of one of Narendrasinha 's princesses , overlooking Narendrasinha 's own son by a Sinhalese concubine . [ 96 ] The new king was crowned Sri Vijaya Rajasinha later that year . Kings of the Nayakkar dynasty launched several attacks on Dutch controlled areas , which proved to be unsuccessful . [ 97 ] During the Napoleonic Wars , fearing that French control of the Netherlands might deliver Sri Lanka to the French , the British Empire occupied the coastal areas of the island ( which they called the colony of British Ceylon ) with little difficulty in 1796 . [ 98 ] Two years later , in 1798 , Sri Rajadhi Rajasinha , third of the four Nayakkar kings of Sri Lanka , died of a fever . Following his death , a nephew of Rajadhi Rajasinha , eighteen-year-old Kannasamy , was crowned . [ 99 ] The young king , now named Sri Vikrama Rajasinha , faced a British invasion in 1803 but successfully retaliated . The First Kandyan War ended in a stalemate . [ 99 ] By then the entire coastal area was under the British East India Company as a result of the Treaty of Amiens . On 14 February 1815 , Kandy was occupied by the British in the second Kandyan War , ending Sri Lanka 's independence . [ 99 ] Sri Vikrama Rajasinha , the last native monarch of Sri Lanka , was exiled to India . [ 100 ] The Kandyan Convention formally ceded the entire country to the British Empire . Attempts by Sri Lankan noblemen to undermine British power in 1818 during the Uva Rebellion were thwarted by Governor Robert Brownrigg . [ 101 ] The beginning of the modern period of Sri Lanka is marked by the Colebrooke-Cameron reforms of 1833 . [ 102 ] They introduced a utilitarian and liberal political culture to the country based on the rule of law and amalgamated the Kandyan and maritime provinces as a single unit of government . [ 102 ] An executive council and a legislative council were established , later becoming the foundation of a representative legislature . By this time , experiments with coffee plantations were largely successful . [ 103 ] Soon , coffee became the primary commodity export of Sri Lanka . Falling coffee prices as a result of the depression of 1847 stalled economic development and prompted the governor to introduce a series of taxes on firearms , dogs , shops , boats , etc. , and to reintroduce a form of rajakariya , requiring six days free labour on roads or payment of a cash equivalent . [ 103 ] These harsh measures antagonised the locals , and another rebellion broke out in 1848 . [ 104 ] A devastating leaf disease , Hemileia vastatrix , struck the coffee plantations in 1869 , destroying the entire industry within fifteen years . [ 105 ] The British quickly found a replacement : abandoning coffee , they began cultivating tea instead . Tea production in Sri Lanka thrived in the following decades . Large-scale rubber plantations began in the early 20th century . By the end of the 19th century , a new educated social class transcending race and caste arose through British attempts to staff the Ceylon Civil Service and the legal , educational , engineering , and medical professions with natives . [ 106 ] New leaders represented the various ethnic groups of the population in the Ceylon Legislative Council on a communal basis . Buddhist and Hindu revivalism reacted against Christian missionary activities . [ 107 ] [ 108 ] The first two decades in the 20th century are noted by the unique harmony among Sinhalese and Tamil political leadership , which has since been lost . [ 109 ] The 1906 malaria outbreak in Ceylon actually started in the early 1900s , but the first case was documented in 1906 . In 1919 , major Sinhalese and Tamil political organisations united to form the Ceylon National Congress , under the leadership of Ponnambalam Arunachalam , [ 110 ] pressing colonial masters for more constitutional reforms . But without massive popular support , and with the governor 's encouragement for `` communal representation '' by creating a `` Colombo seat '' that dangled between Sinhalese and Tamils , the Congress lost momentum towards the mid-1920s . [ 111 ] The Donoughmore reforms of 1931 repudiated the communal representation and introduced universal adult franchise ( the franchise stood at 4 % before the reforms ) . This step was strongly criticised by the Tamil political leadership , who realised that they would be reduced to a minority in the newly created State Council of Ceylon , which succeeded the legislative council . [ 112 ] [ 113 ] In 1937 , Tamil leader G. G. Ponnambalam demanded a 50–50 representation ( 50 % for the Sinhalese and 50 % for other ethnic groups ) in the State Council . However , this demand was not met by the Soulbury reforms of 1944–45 . The Soulbury constitution ushered in dominion status , with independence proclaimed on 4 February 1948 . [ 114 ] D. S. Senanayake became the first Prime Minister of Ceylon . [ 115 ] Prominent Tamil leaders including Ponnambalam and Arunachalam Mahadeva joined his cabinet . [ 112 ] [ 116 ] The British Royal Navy remained stationed at Trincomalee until 1956 . A countrywide popular demonstration against withdrawal of the rice rations resulted in the resignation of prime minister Dudley Senanayake . [ 117 ] S. W. R. D. Bandaranaike was elected prime minister in 1956 . His three-year rule had a profound influence through his self-proclaimed role of `` defender of the besieged Sinhalese culture '' . [ 118 ] He introduced the controversial Sinhala Only Act , recognising Sinhala as the only official language of the government . Although partially reversed in 1958 , the bill posed a grave concern for the Tamil community , which perceived in it a threat to their language and culture . [ 119 ] [ 120 ] [ 121 ] The Federal Party ( FP ) launched a movement of non-violent resistance ( satyagraha ) against the bill , which prompted Bandaranaike to reach an agreement ( Bandaranaike–Chelvanayakam Pact ) with S. J. V. Chelvanayakam , leader of the FP , to resolve the looming ethnic conflict . [ 122 ] The pact proved ineffective in the face of ongoing protests by opposition and the Buddhist clergy . The bill , together with various government colonisation schemes , contributed much towards the political rancour between Sinhalese and Tamil political leaders . [ 123 ] Bandaranaike was assassinated by an extremist Buddhist monk in 1959 . [ 124 ] Sirimavo Bandaranaike , the widow of Bandaranaike , took office as prime minister in 1960 , and withstood an attempted coup d'état in 1962 . During her second term as prime minister , the government instituted socialist economic policies , strengthening ties with the Soviet Union and China , while promoting a policy of non-alignment . In 1971 , Ceylon experienced a Marxist insurrection , which was quickly suppressed . In 1972 , the country became a republic named Sri Lanka , repudiating its dominion status . Prolonged minority grievances and the use of communal emotionalism as an election campaign weapon by both Sinhalese and Tamil leaders abetted a fledgling Tamil militancy in the north during the 1970s . [ 125 ] The policy of standardisation by the Sirimavo government to rectify disparities created in university enrollment , which was in essence an affirmative action to assist geographically disadvantaged students to obtain tertiary education , [ 126 ] resulted in reducing the proportion of Tamil students at university level and acted as the immediate catalyst for the rise of militancy . [ 127 ] [ 128 ] The assassination of Jaffna Mayor Alfred Duraiyappah in 1975 by the Liberation Tigers of Tamil Eelam ( LTTE ) marked a crisis point . [ 129 ] [ 130 ] The government of J. R. Jayawardene swept to power in 1977 , defeating the largely unpopular United Front government . [ 131 ] Jayawardene introduced a new constitution , together with a free-market economy and a powerful executive presidency modelled after that of France . It made Sri Lanka the first South Asian country to liberalise its economy . [ 132 ] Beginning in 1983 , ethnic tensions were manifested in an on-and-off insurgency against the government by the LTTE . An LTTE attack on 13 soldiers resulted in the start of a civil war , and in response anti-Tamil race riots took place , allegedly backed by Sinhalese hard-line ministers , which resulted in more than 150,000 Tamil civilians fleeing the island , seeking asylum in other countries . [ 133 ] [ 134 ] Lapses in foreign policy resulted in India strengthening the Tigers by providing arms and training . [ 135 ] [ 136 ] [ 137 ] In 1987 , the Indo-Sri Lanka Accord was signed and the Indian Peace Keeping Force ( IPKF ) was deployed in northern Sri Lanka to stabilise the region by neutralising the LTTE . [ 138 ] The same year , the JVP launched its second insurrection in Southern Sri Lanka , [ 139 ] necessitating redeployment of the IPKF in 1990 . [ 140 ] In October 1990 , the LTTE expelled Sri Lankan Moors ( Muslims by religion ) from northern Sri Lanka . [ 141 ] In 2002 , the Sri Lankan government and LTTE signed a Norwegian-mediated ceasefire agreement . [ 121 ] The 2004 Asian tsunami killed over 30,000 and displaced over 500,000 people in Sri Lanka . [ 142 ] [ 143 ] From 1985 to 2006 , the Sri Lankan government and Tamil insurgents held four rounds of peace talks without success . Both LTTE and the government resumed fighting in 2006 , and the government officially backed out of the ceasefire in 2008 . [ 121 ] In 2009 , under the Presidency of Mahinda Rajapaksa , the Sri Lanka Armed Forces defeated the LTTE , bringing an end to the 26 year long civil war on 19 May 2009 , [ 144 ] [ 145 ] [ 146 ] [ 147 ] and re-established control of the entire country by the Sri Lankan Government . [ 148 ] Overall , between 60,000 and 100,000 people were killed during the course of the 26 year long conflict . [ 149 ] [ 150 ] 2019 Sri Lanka Easter bombings carried out by the terrorist group National Thowheeth Jama'ath on 21 April 2019 resulted in the brutal death of 261 innocent people . [ 151 ] On 26 April 2019 an anti terrorist operation was carried out against the National Thowheeth Jama'ath by the Sri Lanka Army with the operation being successful and National Thowheeth Jama'ath 's insurgency ending . [ 152 ] [ 153 ] [ 154 ] Economic troubles in Sri Lanka began in 2019 , when a severe economic crisis occurred caused by rapidly increasing foreign debt , massive government budget deficits due to tax cuts , falling foreign remittances , a food crisis caused by mandatory organic farming along with a ban on chemical fertilizers , and a multitude of other factors . [ 155 ] The Sri Lankan Government officially declared the ongoing crisis to be the worst economic crisis in the country in 73 years . [ 156 ] In August 2021 , a food emergency was declared . [ 157 ] In June 2022 , Prime Minister Ranil Wickremesinghe declared the collapse of the Sri Lankan economy in parliament . [ 158 ] The crisis resulted in Sri Lanka defaulting on its $ 51 billion sovereign debt for the first time in its history , along with double-digit inflation , a crippling energy crisis that led to approximately 15 hour power cuts , severe fuel shortages leading to the suspension of fuel to all non-essential vehicles , and more such economic disorder . [ 159 ] [ 160 ] Due to the crisis , massive street protests erupted all over the country , with protesters demanding the resignation of the then-incumbent President Gotabaya Rajapaksa . The protests culminated with the storming and siege of the President 's House on July 9 , 2022 , and resulted in President Gotabaya Rajapaksa fleeing to Singapore [ 161 ] and later emailing his resignation to parliament , formally announcing his resignation and making him the first Sri Lankan president to resign in the middle of his term . [ 162 ] On the same day the President 's House was stormed , protesters besieged and stormed the private residence of the prime minister and burnt it down . [ 163 ] After winning the 2022 Sri Lankan presidential election , on 21 July 2022 , Ranil Wickremesinghe took oath as the ninth President of Sri Lanka . [ 164 ] He implemented various economic reforms in efforts to stabilize Sri Lanka 's economy , which has shown slight improvement since . [ 165 ] [ 166 ] Sri Lanka , an island in South Asia shaped as a teardrop or a pear/mango , [ 167 ] lies on the Indian Plate , a major tectonic plate that was formerly part of the Indo-Australian Plate . [ 168 ] It is in the Indian Ocean southwest of the Bay of Bengal , between latitudes 5° and 10° N , and longitudes 79° and 82° E. [ 169 ] Sri Lanka is separated from the mainland portion of the Indian subcontinent by the Gulf of Mannar and Palk Strait . According to Hindu mythology , a land bridge existed between the Indian mainland and Sri Lanka . It now amounts to only a chain of limestone shoals remaining above sea level . [ 170 ] Legends claim that it was passable on foot up to 1480 CE , until cyclones deepened the channel . [ 171 ] [ 172 ] Portions are still as shallow as 1 metre ( 3 ft ) , hindering navigation . [ 173 ] The island consists mostly of flat to rolling coastal plains , with mountains rising only in the south-central part . The highest point is Pidurutalagala , reaching 2,524 metres ( 8,281 ft ) above sea level . Sri Lanka has 103 rivers . The longest of these is the Mahaweli River , extending 335 kilometres ( 208 mi ) . [ 174 ] These waterways give rise to 51 natural waterfalls of 10 metres ( 33 ft ) or more . The highest is Bambarakanda Falls , with a height of 263 metres ( 863 ft ) . [ 175 ] Sri Lanka 's coastline is 1,585 km ( 985 mi ) long . [ 176 ] Sri Lanka claims an exclusive economic zone extending 200 nautical miles , which is approximately 6.7 times Sri Lanka 's land area . The coastline and adjacent waters support highly productive marine ecosystems such as fringing coral reefs and shallow beds of coastal and estuarine seagrasses . [ 177 ] Sri Lanka has 45 estuaries and 40 lagoons . [ 176 ] Sri Lanka 's mangrove ecosystem spans over 7,000 hectares and played a vital role in buffering the force of the waves in the 2004 Indian Ocean tsunami . [ 178 ] The island is rich in minerals such as ilmenite , feldspar , graphite , silica , kaolin , mica and thorium . [ 179 ] [ 180 ] Existence of petroleum and gas in the Gulf of Mannar has also been confirmed , and the extraction of recoverable quantities is underway . [ 181 ] The climate is tropical and warm because of moderating effects of ocean winds . Mean temperatures range from 17 °C ( 62.6 °F ) in the central highlands , where frost may occur for several days in the winter , to a maximum of 33 °C ( 91.4 °F ) in low-altitude areas . Average yearly temperatures range from 28 °C ( 82.4 °F ) to nearly 31 °C ( 87.8 °F ) . Day and night temperatures may vary by 14 °C ( 57.2 °F ) to 18 °C ( 64.4 °F ) . [ 182 ] The rainfall pattern is influenced by monsoon winds from the Indian Ocean and Bay of Bengal . The `` wet zone '' and some of the windward slopes of the central highlands receive up to 2,500 millimetres ( 98.4 in ) of rain each year , but the leeward slopes in the east and northeast receive little rain . Most of the east , southeast , and northern parts of Sri Lanka constitute the `` dry zone '' , which receives between 1,200 and 1,900 mm ( 47 and 75 in ) of rain annually . [ 183 ] The arid northwest and southeast coasts receive the least rain at 800 to 1,200 mm ( 31 to 47 in ) per year . Periodic squalls occur and sometimes tropical cyclones bring overcast skies and rains to the southwest , northeast , and eastern parts of the island . Humidity is typically higher in the southwest and mountainous areas and depends on the seasonal patterns of rainfall . [ 184 ] An increase in average rainfall coupled with heavier rainfall events has resulted in recurrent flooding and related damages to infrastructure , utility supply and the urban economy . [ 185 ] Western Ghats of India and Sri Lanka were included among the first 18 global biodiversity hotspots due to high levels of species endemism . The number of biodiversity hotspots has now increased to 34 . [ 187 ] Sri Lanka has the highest biodiversity per unit area among Asian countries for flowering plants and all vertebrate groups except birds . [ 188 ] A remarkably high proportion of the species among its flora and fauna , 27 % of the 3,210 flowering plants and 22 % of the mammals , are endemic . [ 189 ] Sri Lanka supports a rich avifauna of that stands at 453 species and this include 240 species of birds that are known to breed in the country . 33 species are accepted by some ornithologists as endemic while some ornithologists consider only 27 are endemic and the remaining six are considered as proposed endemics . [ 190 ] Sri Lanka 's protected areas are administrated by two government bodies ; The Department of Forest Conservation and the Department of Wildlife Conservation . Department of Wildlife Conservation administrates 61 wildlife sanctuaries , 22 national parks , four nature reserves , three strict nature reserves , and one jungle corridor while Department of Forest Conservation oversees 65 conservation forests and one national heritage wilderness area . 26.5 % of the country 's land area is legally protected . This is a higher percentage of protected areas when compared to the rest of Asia . [ 191 ] Sri Lanka contains four terrestrial ecoregions : Sri Lanka lowland rain forests , Sri Lanka montane rain forests , Sri Lanka dry-zone dry evergreen forests , and Deccan thorn scrub forests . [ 192 ] Flowering acacias flourish on the arid Jaffna Peninsula . Among the trees of the dry-land forests are valuable species such as satinwood , ebony , ironwood , mahogany and teak . The wet zone is a tropical evergreen forest with tall trees , broad foliage , and a dense undergrowth of vines and creepers . Subtropical evergreen forests resembling those of temperate climates flourish in the higher altitudes . [ 193 ] Yala National Park in the southeast protects herds of elephant , deer , and peacocks . The Wilpattu National Park in the northwest , the largest national park , preserves the habitats of many water birds such as storks , pelicans , ibis , and spoonbills . The island has four biosphere reserves : Bundala , Hurulu Forest Reserve , the Kanneliya-Dediyagala-Nakiyadeniya , and Sinharaja . [ 194 ] Sinharaja is home to 26 endemic birds and 20 rainforest species , including the elusive red-faced malkoha , the green-billed coucal and the Sri Lanka blue magpie . The untapped genetic potential of Sinharaja flora is enormous . Of the 211 woody trees and lianas within the reserve , 139 ( 66 % ) are endemic . The total vegetation density , including trees , shrubs , herbs , and seedlings , has been estimated at 240,000 individuals per hectare . The Minneriya National Park borders the Minneriya Tank , which is an important source of water for elephants inhabiting the surrounding forests . Dubbed `` The Gathering '' , the congregation of elephants can be seen on the tank-bed in the late dry season ( August to October ) as the surrounding water sources steadily disappear . The park also encompasses a range of micro-habitats which include classic dry zone tropical monsoonal evergreen forest , thick stands of giant bamboo , hilly pastures ( patanas ) , and grasslands ( talawas ) . [ 195 ] During the Mahaweli Program of the 1970s and 1980s in northern Sri Lanka , the government set aside four areas of land totalling 1,900 km2 ( 730 sq mi ) as national parks . Statistics of Sri Lanka 's forest cover show rapid deforestation from 1956 to 2010 . In 1956 , 44.2 percent of the country 's land area had forest cover . Forest cover depleted rapidly in recent decades ; 29.6 percent in 1999 , 28.7 percent in 2010 . [ 196 ] Sri Lanka is a democratic republic and a unitary state which is governed by a semi-presidential system . [ 197 ] Sri Lanka is the oldest democracy in Asia . [ 198 ] Most provisions of the constitution can be amended by a two-thirds majority in parliament . The amendment of certain basic features such as the clauses on language , religion , and reference to Sri Lanka as a unitary state require both a two-thirds majority and approval in a nationwide referendum . In common with many democracies , the Sri Lankan government has three branches : The current political culture in Sri Lanka is a contest between two rival coalitions led by the centre-left and progressive United People 's Freedom Alliance ( UPFA ) , an offspring of Sri Lanka Freedom Party ( SLFP ) , and the comparatively right-wing and pro-capitalist United National Party ( UNP ) . after 2018 two major political parties have split with UNP majority has formed Samagi Jana Balawegaya and UPFA majority has formed Sri Lanka Podujana Peramuna . The third wing party Janatha Vimukthi Peramuna has gain popularity after 2022 . [ 209 ] Sri Lanka is essentially a multi-party democracy with many smaller Buddhist , socialist , and Tamil nationalist political parties . As of July 2011 , the number of registered political parties in the country is 67 . [ 210 ] Of these , the Lanka Sama Samaja Party ( LSSP ) , established in 1935 , is the oldest . [ 211 ] The UNP , established by D. S. Senanayake in 1946 , was until recently the largest single political party . [ 212 ] It is the only political group which had representation in all parliaments since independence . [ 212 ] SLFP was founded by S. W. R. D. Bandaranaike in July 1951 . [ 213 ] SLFP registered its first victory in 1956 , defeating the ruling UNP in the 1956 Parliamentary election . [ 213 ] Following the parliamentary election in July 1960 , Sirimavo Bandaranaike became the prime minister and the world 's first elected female head of government . [ 214 ] G. G. Ponnambalam , the Tamil nationalist counterpart of S. W. R. D. Bandaranaike , [ 215 ] founded the All Ceylon Tamil Congress ( ACTC ) in 1944 . Objecting to Ponnambalam 's cooperation with D. S. Senanayake , a dissident group led by S.J.V . Chelvanayakam broke away in 1949 and formed the Illankai Tamil Arasu Kachchi ( ITAK ) , also known as the Federal Party , becoming the main Tamil political party in Sri Lanka for next two decades . [ 216 ] The Federal Party advocated a more aggressive stance toward the Sinhalese . [ 217 ] With the constitutional reforms of 1972 , the ACTC and ITAK created the Tamil United Front ( later Tamil United Liberation Front ) . Following a period of turbulence as Tamil militants rose to power in the late 1970s , these Tamil political parties were succeeded in October 2001 by the Tamil National Alliance . [ 217 ] [ 218 ] Janatha Vimukthi Peramuna , a Marxist–Leninist political party founded by Rohana Wijeweera in 1965 , serves as a third force in the current political context . [ 219 ] It endorses leftist policies which are more radical than the traditionalist leftist politics of the LSSP and the Communist Party . [ 217 ] Founded in 1981 , the Sri Lanka Muslim Congress is the largest Muslim political party in Sri Lanka . [ 220 ] President Mahinda Rajapaksa lost the 2015 presidential elections , ending his ten-year presidency . However , his successor as Sri Lankan President , Maithripala Sirisena , decided not to seek re-election in 2019 . [ 221 ] The Rajapaksa family regained power in November 2019 presidential elections when Mahinda 's younger brother and former wartime defence chief Gotabaya Rajapaksa won the election , and he was later sworn in as the new president of Sri Lanka . [ 222 ] [ 223 ] Their firm grip of power was consolidated in the parliamentary elections in August 2020 . The family 's political party , Sri Lanka People 's Front ( known by its Sinhala initials SLPP ) , obtained a landslide victory and a clear majority in the parliament . Five members of the Rajapaksa family won seats in the new parliament . Former president Mahinda Rajapaksa became the new prime minister . [ 224 ] In 2022 , a political crisis started due to the power struggle between President Gotabaya Rajapaksa and the Parliament of Sri Lanka . The crisis was fuelled by anti-government protests and demonstrations by the public and also due to the worsening economy of Sri Lanka since 2019 . The anti-government sentiment across various parts of Sri Lanka has triggered unprecedented political instability , creating shockwaves in the political arena . [ 225 ] On July 20 , 2022 , Ranil Wickremesinghe was elected as the ninth President via a parliamentarian election . [ 226 ] For administrative purposes , Sri Lanka is divided into nine provinces [ 227 ] and twenty-five districts . [ 228 ] Provinces in Sri Lanka have existed since the 19th century , but they had no legal status until 1987 when the 13th Amendment of the 1978 constitution established provincial councils after several decades of increasing demand for a decentralisation of the government . [ 229 ] Each provincial council is an autonomous body not under the authority of any ministry . Some of its functions had been undertaken by central government ministries , departments , corporations , and statutory authorities , [ 229 ] but authority over land and police is not as a rule given to provincial councils . [ 230 ] [ 231 ] Between 1989 and 2006 , the Northern and Eastern provinces were temporarily merged to form the North-East Province . [ 232 ] [ 233 ] Prior to 1987 , all administrative tasks for the provinces were handled by a district-based civil service which had been in place since colonial times . Now each province is administered by a directly elected provincial council : Each district is administered under a district secretariat . The districts are further subdivided into 256 divisional secretariats , and these to approximately 14,008 Grama Niladhari divisions . [ 237 ] The districts are known in Sinhala as disa and in Tamil as māwaddam . Originally , a disa ( usually rendered into English as Dissavony ) was a duchy , notably Matale and Uva . There are three other types of local authorities : municipal councils ( 18 ) , urban councils ( 13 ) and pradeshiya sabha , also called pradesha sabhai ( 256 ) . [ 238 ] Local authorities were originally based on feudal counties named korale and rata , and were formerly known as `` D.R.O . divisions '' after the divisional revenue officer . [ 239 ] Later , the D.R.O.s became `` assistant government agents , '' and the divisions were known as `` A.G.A . divisions '' . These divisional secretariats are currently administered by a divisional secretary . Sri Lanka is a founding member of the Non-Aligned Movement ( NAM ) . While ensuring that it maintains its independence , Sri Lanka has cultivated relations with India . [ 240 ] Sri Lanka became a member of the United Nations in 1955 . Today , it is also a member of the Commonwealth , the SAARC , the World Bank , the International Monetary Fund , the Asian Development Bank , and the Colombo Plan . The United National Party has traditionally favoured links with the West , while the Sri Lanka Freedom Party has favoured links with the East . [ 240 ] Sri Lankan Finance Minister J. R. Jayewardene , together with then Australian Foreign Minister Sir Percy Spencer , proposed the Colombo Plan at the Commonwealth Foreign Minister 's Conference held in Colombo in 1950 . [ 241 ] At the San Francisco Peace Conference in 1951 , while many countries were reluctant , Sri Lanka argued for a free Japan and refused to accept payment of reparations for World War II damage because it believed it would harm Japan 's economy . [ 242 ] Sri Lanka-China relations started as soon as the People 's Republic of China was formed in 1949 . The two countries signed an important Rubber-Rice Pact in 1952 . [ 243 ] Sri Lanka played a vital role at the Asian–African Conference in 1955 , which was an important step in the crystallisation of the NAM . [ 244 ] The Bandaranaike government of 1956 significantly changed the pro-western policies set by the previous UNP government . It recognised Cuba under Fidel Castro in 1959 . Shortly afterward , Cuba 's revolutionary Che Guevara paid a visit to Sri Lanka . [ 245 ] The Sirima-Shastri Pact of 1964 [ 246 ] and Sirima-Gandhi Pact of 1974 [ 247 ] were signed between Sri Lankan and Indian leaders in an attempt to solve the long-standing dispute over the status of plantation workers of Indian origin . In 1974 , Kachchatheevu , a small island in Palk Strait , was formally ceded to Sri Lanka . [ 248 ] By this time , Sri Lanka was strongly involved in the NAM , and the fifth NAM summit was held in Colombo in 1976 . [ 249 ] The relationship between Sri Lanka and India became tense under the government of J. R . Jayawardene . [ 140 ] [ 250 ] As a result , India intervened in the Sri Lankan Civil War and subsequently deployed an Indian Peace Keeping Force in 1987 . [ 251 ] In the present , Sri Lanka enjoys extensive relations with China , [ 252 ] Russia , [ 253 ] and Pakistan . [ 254 ] The Sri Lanka Armed Forces , comprising the Sri Lanka Army , the Sri Lanka Navy , and the Sri Lanka Air Force , come under the purview of the Ministry of Defence . [ 255 ] The total strength of the three services is around 346,000 personnel , with nearly 36,000 reserves . [ 256 ] Sri Lanka has not enforced military conscription . [ 257 ] Paramilitary units include the Special Task Force , the Civil Security Force , and the Sri Lanka Coast Guard . [ 258 ] [ 259 ] Since independence in 1948 , the primary focus of the armed forces has been internal security , crushing three major insurgencies , two by Marxist militants of the JVP and a 26-year-long conflict with the LTTE . The armed forces have been in a continuous mobilised state for the last 30 years . [ 260 ] [ 261 ] The Sri Lankan Armed Forces have engaged in United Nations peacekeeping operations since the early 1960s , contributing forces to permanent contingents deployed in several UN peacekeeping missions in Chad , Lebanon , and Haiti . [ 262 ] According to the International Monetary Fund , Sri Lanka 's GDP in terms of purchasing power parity is the second highest in the South Asian region in terms of per capita income . In the 19th and 20th centuries , Sri Lanka became a plantation economy famous for its production and export of cinnamon , rubber , and Ceylon tea , which remains a trademark national export . [ 263 ] The development of modern ports under British rule raised the strategic importance of the island as a centre of trade . [ 264 ] From 1948 to 1977 , socialism strongly influenced the government 's economic policies . Colonial plantations were dismantled , industries were nationalised , and a welfare state established . In 1977 , the free market economy was introduced to the country , incorporating privatisation , deregulation , and the promotion of private enterprise . [ 132 ] While the production and export of tea , rubber , coffee , sugar , and other commodities remain important , industrialisation has increased the importance of food processing , textiles , telecommunications , and finance . The country 's main economic sectors are tourism , tea export , clothing , rice production , and other agricultural products . In addition to these economic sectors , overseas employment , especially in the Middle East , contributes substantially in foreign exchange . [ 265 ] As of 2020 [ update ] , the service sector makes up 59.7 % of GDP , the industrial sector 26.2 % , and the agriculture sector 8.4 % . [ 266 ] The private sector accounts for 85 % of the economy . [ 267 ] China , India and the United States are Sri Lanka 's largest trading partners . [ 268 ] Economic disparities exist between the provinces with the Western Province contributing 45.1 % of the GDP and the Southern Province and the Central Province contributing 10.7 % and 10 % , respectively . [ 269 ] With the end of the war , the Northern Province reported a record 22.9 % GDP growth in 2010 . [ 270 ] The per capita income of Sri Lanka doubled from 2005 to 2011 . [ 272 ] During the same period , poverty dropped from 15.2 % to 7.6 % , unemployment rate dropped from 7.2 % to 4.9 % , market capitalisation of the Colombo Stock Exchange quadrupled , and the budget deficit doubled . [ 265 ] 99 % of the households in Sri Lanka are electrified ; 93.2 % of the population have access to safe drinking water ; and 53.1 % have access to pipe-borne water . [ 266 ] Income inequality has also dropped in recent years , indicated by a Gini coefficient of 0.36 in 2010 . [ 273 ] The 2011 Global Competitiveness Report , published by the World Economic Forum , described Sri Lanka 's economy as transitioning from the factor-driven stage to the efficiency-driven stage and that it ranked 52nd in global competitiveness . [ 274 ] Also , out of the 142 countries surveyed , Sri Lanka ranked 45th in health and primary education , 32nd in business sophistication , 42nd in innovation , and 41st in goods market efficiency . In 2016 , Sri Lanka ranked 5th in the World Giving Index , registering high levels of contentment and charitable behaviour in its society . [ 275 ] In 2010 , The New York Times placed Sri Lanka at the top of its list of 31 places to visit . [ 276 ] S & P Dow Jones Indices classifies Sri Lanka as a frontier market as of 2018 . [ 277 ] Sri Lanka ranks well above other South Asian countries in the Human Development Index ( HDI ) with an index of 0.750 . By 2016 , the country 's debt soared as it was developing its infrastructure to the point of near bankruptcy which required a bailout from the International Monetary Fund ( IMF ) . [ 278 ] The IMF had agreed to provide a US $ 1.5 billion bailout loan in April 2016 after Sri Lanka provided a set of criteria intended to improve its economy . By the fourth quarter of 2016 , the debt was estimated to be $ 64.9 billion . Additional debt had been incurred in the past by state-owned organisations and this was said to be at least $ 9.5 billion . Since early 2015 , domestic debt increased by 12 % and external debt by 25 % . [ 279 ] In November 2016 , the IMF reported that the initial disbursement was larger than US $ 150 million originally planned , a full US $ 162.6 million ( SDR 119.894 million ) . The agency 's evaluation for the first tranche was cautiously optimistic about the future . Under the program , the Sri Lankan government implemented a new Inland Revenue Act and an automatic fuel pricing formula which was noted by the IMF in its fourth review . In 2018 China agreed to bail out Sri Lanka with a loan of $ 1.25 billion to deal with foreign debt repayment spikes in 2019 to 2021 . [ 280 ] [ 281 ] [ 282 ] In September 2021 , Sri Lanka declared a major economic crisis . [ 283 ] The Chief of its Central Bank has stepped down amid the crisis . [ 284 ] The Parliament has declared emergency regulations due to the crisis , seeking to ban `` food hoarding '' . [ 285 ] [ 286 ] Tourism , which provided the economy with an input of foreign currency , has significantly declined as a result of the ongoing COVID-19 pandemic . [ 287 ] Sri Lanka has an extensive road network for inland transportation . With more than 100,000 km ( 62,000 mi ) of paved roads , [ 288 ] it has one of the highest road densities in the world ( 1.5 km or 0.93 mi of paved roads per every 1 km2 or 0.39 sq mi of land ) . The road network consists of 35 A-Grade highways and four controlled-access highways . [ 289 ] [ 290 ] A and B grade roads are national ( arterial ) highways administered by Road Development Authority . [ 291 ] C and D grade roads are provincial roads coming under the purview of the Provincial Road Development Authority of the respective province . The other roads are local roads falling under local government authorities . The railway network , operated by the state-run National Railway operator Sri Lanka Railways , spans 1,447 kilometres ( 900 mi ) . [ 292 ] Sri Lanka also has three deep-water ports at Colombo , Galle , and Trincomalee , in addition to the newest port being built at Hambantota . In June 2021 , Sri Lanka imposed a nationwide ban on inorganic fertilisers and pesticides . The program was welcomed by its advisor Vandana Shiva , [ 293 ] but ignored critical voices from scientific and farming community who warned about possible collapse of farming , [ 294 ] [ 295 ] [ 296 ] [ 297 ] [ 298 ] including financial crisis due to devaluation of national currency pivoted around tea industry . [ 294 ] The situation in the tea industry was described as critical , with farming under the organic program being described as ten times more expensive and producing half of the yield by the farmers . [ 299 ] In September 2021 the government declared an economic emergency , as the situation was further aggravated by falling national currency exchange rate , inflation rising as a result of high food prices , and pandemic restrictions in tourism which further decreased country 's income . [ 283 ] In November 2021 , Sri Lanka abandoned its plan to become the world 's first organic farming nation following rising food prices and weeks of protests against the plan . [ 300 ] As of December 2021 , the damage to agricultural production was already done , with prices having risen substantially for vegetables in Sri Lanka , and time needed to recover from the crisis . The ban on fertiliser has been lifted for certain crops , but the price of urea has risen internationally due to the price for oil and gas . [ 287 ] Jeevika Weerahewa , a senior lecturer at the University of Peradeniya , predicted that the ban would reduce the paddy harvest in 2022 by an unprecedented 50 % . [ 301 ] Sri Lanka has roughly 22,156,000 people and an annual population growth rate of 0.5 % . The birth rate is 13.8 births per 1,000 people , and the death rate is 6.0 deaths per 1,000 people . [ 266 ] Population density is highest in western Sri Lanka , especially in and around the capital . Sinhalese constitute the largest ethnic group in the country , with 74.8 % of the total population . [ 302 ] Sri Lankan Tamils are the second major ethnic group in the island , with a percentage of 11.2 % . Moors comprise 9.2 % . There are also small ethnic groups such as the Burghers ( of mixed European descent ) and Malays from Southeast Asia . Moreover , there is a small population of Vedda people who are believed to be the original indigenous group to inhabit the island . [ 303 ] Sinhala and Tamil are the two official languages . [ 305 ] The constitution defines English as the link language . English is widely used for education , scientific and commercial purposes . Members of the Burgher community speak variant forms of Portuguese Creole and Dutch with varying proficiency , while members of the Malay community speak a form of Creole Malay that is unique to the island . [ 306 ] Religion in Sri Lanka ( 2012 census ) [ 307 ] [ 308 ] Buddhism is the largest and is considered as an `` Official religion '' of Sri Lanka under Chapter II , Article 9 , `` The Republic of Sri Lanka shall give to Buddhism the foremost place and accordingly it shall be the duty of the State to protect and foster the Buddha Sasana '' . [ 309 ] [ 310 ] Buddhism is practised by 70.2 % of the Sri Lankan population with most being predominantly from Theravada school of thought . [ 311 ] Most Buddhists are of the Sinhalese ethnic group with minority Tamils . Buddhism was introduced to Sri Lanka in the 2nd century BCE by Mahinda Maurya . [ 311 ] A sapling of the Bodhi Tree under which the Buddha attained enlightenment was brought to Sri Lanka during the same time . The Pāli Canon ( Thripitakaya ) , having previously been preserved as an oral tradition , was first committed to writing in Sri Lanka around 30 BCE . [ 312 ] Sri Lanka has the longest continuous history of Buddhism of any predominantly Buddhist nation . [ 311 ] During periods of decline , the Sri Lankan monastic lineage was revived through contact with Thailand and Burma . [ 312 ] Although Hindus in Sri Lanka form a religious minority , Hinduism has been present in Sri Lanka at least since the 2nd century BCE . [ 313 ] Hinduism was the dominant religion in Sri Lanka before the arrival of Buddhism in the 3rd century BCE . Buddhism was introduced into Sri Lanka by Mahinda , the son of Emperor Ashoka , during the reign of King Devanampiya Tissa ; [ 314 ] the Sinhalese embraced Buddhism and Tamils remain Hindus in Sri Lanka . However , it was activity from across the Palk Strait that truly set the scene for Hinduism 's survival in Sri Lanka . Shaivism ( devotional worship of Lord Shiva ) was the dominant branch practised by the Tamil peoples , thus most of the traditional Hindu temple architecture and philosophy of Sri Lanka drew heavily from this particular strand of Hinduism . Thirugnanasambanthar mentioned the names of several Sri Lankan Hindu temples in his works . [ 315 ] Islam is the third most prevalent religion in the country , having first been brought to the island by Arab traders over the course of many centuries , starting around the mid or late 7th century CE . Most followers on the island today are Sunni who follow the Shafi ' i school [ 316 ] and are believed to be descendants of Arab traders and the local women whom they married . [ 317 ] Christianity reached the country at least as early as the fifth century ( and possibly in the first ) , [ 318 ] gaining a wider foothold through Western colonists who began to arrive early in the 16th century . [ 319 ] Around 7.4 % of the Sri Lankan population are Christians , of whom 82 % are Roman Catholics who trace their religious heritage directly to the Portuguese . Tamil Catholics attribute their religious heritage to St. Francis Xavier as well as Portuguese missionaries . The remaining Christians are evenly split between the Anglican Church of Ceylon and other Protestant denominations . [ 320 ] There is also a small population of Zoroastrian immigrants from India ( Parsis ) who settled in Ceylon during the period of British rule . [ 321 ] This community has steadily dwindled in recent years . [ 322 ] Religion plays a prominent role in the life and culture of Sri Lankans . The Buddhist majority observe Poya Days each month according to the Lunar calendar , and Hindus and Muslims also observe their own holidays . In a 2008 Gallup poll , Sri Lanka was ranked the third most religious country in the world , with 99 % of Sri Lankans saying religion was an important part of their daily life . [ 323 ] Sri Lankans have a life expectancy of 75.5 years at birth , which is 10 % higher than the world average . [ 266 ] [ 265 ] The infant mortality rate stands at 8.5 per 1,000 births and the maternal mortality rate at 0.39 per 1,000 births , which is on par with figures from developed countries . The universal `` pro-poor '' [ 324 ] health care system adopted by the country has contributed much towards these figures . [ 325 ] Sri Lanka ranks first among southeast Asian countries with respect to deaths by suicide , with 33 deaths per 100,000 persons . According to the Department of Census and Statistics , poverty , destructive pastimes , and inability to cope with stressful situations are the main causes behind the high suicide rates . [ 326 ] On 8 July 2020 , the World Health Organization declared that Sri Lanka had successfully eliminated rubella and measles ahead of their 2023 target . [ 327 ] With a literacy rate of 92.9 % , [ 266 ] Sri Lanka has one of the most literate populations amongst developing nations . [ 328 ] Its youth literacy rate stands at 98.8 % , [ 329 ] computer literacy rate at 35 % , [ 330 ] and primary school enrollment rate at over 99 % . [ 331 ] An education system which dictates 9 years of compulsory schooling for every child is in place . The free education system established in 1945 [ 332 ] is a result of the initiative of C. W. W. Kannangara and A . Ratnayake . [ 333 ] [ 334 ] It is one of the few countries in the world that provide universal free education from primary to tertiary stage . [ 335 ] Kannangara led the establishment of the Madhya Vidyalayas ( central schools ) in different parts of the country in order to provide education to Sri Lanka 's rural children . [ 330 ] In 1942 , a special education committee proposed extensive reforms to establish an efficient and quality education system for the people . However , in the 1980s changes to this system separated the administration of schools between the central government and the provincial government . Thus the elite national schools are controlled directly by the ministry of education and the provincial schools by the provincial government . Sri Lanka has approximately 10,155 government schools , 120 private schools and 802 pirivenas . [ 266 ] Sri Lanka has 17 public universities . [ 336 ] [ 337 ] A lack of responsiveness of the education system to labour market requirements , disparities in access to quality education , lack of an effective linkage between secondary and tertiary education remain major challenges for the education sector . [ 338 ] A number of private , degree awarding institutions have emerged in recent times to fill in these gaps , yet the participation at tertiary level education remains at 5.1 % . [ 339 ] Sri Lanka was ranked 90th in the Global Innovation Index in 2023 . [ 340 ] [ 341 ] The Sri Lanka Broadcasting Corporation ( formerly Radio Ceylon ) is the oldest-running radio station in Asia , [ 342 ] established in 1923 by Edward Harper just three years after broadcasting began in Europe . [ 342 ] The station broadcasts services in Sinhala , Tamil , English and Hindi . Since the 1980s , many private radio stations have also been introduced . Broadcast television was introduced in 1979 when the Independent Television Network was launched . Initially , all television stations were state-controlled , but private television networks began broadcasting in 1992 . [ 343 ] As of 2020 [ update ] , 192 newspapers ( 122 Sinhala , 24 Tamil , 43 English , 3 multilingual ) are published and 25 TV stations and 58 radio stations are in operation . [ 266 ] In recent years , freedom of the press in Sri Lanka has been alleged by media freedom groups to be amongst the poorest in democratic countries . [ 344 ] Alleged abuse of a newspaper editor by a senior government minister [ 345 ] achieved international notoriety because of the unsolved murder of the editor 's predecessor , Lasantha Wickrematunge , [ 346 ] who had been a critic of the government and had presaged his own death in a posthumously published article . [ 347 ] Officially , the constitution of Sri Lanka guarantees human rights as ratified by the United Nations . However , several groups , such as Amnesty International , Freedom from Torture , Human Rights Watch , [ 348 ] as well as the British government [ 349 ] and the United States Department of State have criticised human rights violations in Sri Lanka . [ 350 ] The Sri Lankan Government and the LTTE have both been accused of violating human rights . A report by an advisory panel to the UN secretary-general accused both the LTTE and the Sri Lankan government of war crimes during final stages of the civil war . [ 351 ] [ 352 ] Corruption remains a problem in Sri Lanka , and there is little protection for those who stand up against corruption . [ 353 ] The 135-year-old Article 365 of the Sri Lankan Penal Code criminalises homosexual acts , with a penalty of up to ten years in prison . [ 354 ] The UN Human Rights Council has documented over 12,000 named individuals who have disappeared after detention by security forces in Sri Lanka , the second-highest figure in the world since the Working Group came into being in 1980 . [ 355 ] The Sri Lankan government confirmed that 6,445 of these died . Allegations of human rights abuses have not ended with the close of the ethnic conflict . [ 356 ] UN Human Rights Commissioner Navanethem Pillay visited Sri Lanka in May 2013 . After her visit , she said : `` The war may have ended [ in Sri Lanka ] , but in the meantime , democracy has been undermined and the rule of law eroded . '' Pillay spoke about the military 's increasing involvement in civilian life and reports of military land grabbing . She also said that , while in Sri Lanka , she had been allowed to go wherever she wanted , but that Sri Lankans who came to meet her were harassed and intimidated by security forces . [ 357 ] [ 358 ] In 2012 , the UK charity Freedom from Torture reported that it had received 233 referrals of torture survivors from Sri Lanka for clinical treatment or other services provided by the charity . In the same year , the group published Out of the Silence , which documents evidence of torture in Sri Lanka and demonstrates that the practice has continued long after the end of the civil war in 2009 . [ 359 ] On 29 July 2020 , Human Rights Watch said that the Sri Lanka government has targeted lawyers , human rights defenders , and journalists to suppress criticism against the government . [ 360 ] The culture of Sri Lanka is influenced primarily by Buddhism and Hinduism . [ 361 ] Sri Lanka is the home to two main traditional cultures : the Sinhalese ( centred in Kandy and Anuradhapura ) and the Tamil ( centred in Jaffna ) . Tamils co-existed with the Sinhalese people since then , and the early mixing rendered the two ethnic groups almost physically indistinguishable . [ 362 ] Ancient Sri Lanka is marked for its genius in hydraulic engineering and architecture . The British colonial culture has also influenced the locals . The rich cultural traditions shared by all Sri Lankan cultures is the basis of the country 's long life expectancy , advanced health standards , and high literacy rate . [ 363 ] Dishes include rice and curry , pittu , kiribath , wholemeal roti , string hoppers , wattalapam ( a rich pudding of Malay origin made with coconut milk , jaggery , cashews , eggs , and spices including cinnamon and nutmeg ) , kottu , and appam . [ 364 ] Jackfruit may sometimes replace rice . Traditionally food is served on a plantain leaf or lotus leaf . Middle Eastern influences and practices are found in traditional Moor dishes , while Dutch and Portuguese influences are found with the island 's Burgher community preserving their culture through traditional dishes such as lamprais ( rice cooked in stock and baked in a banana leaf ) , breudher ( Dutch holiday biscuit ) , and Bolo fiado ( Portuguese-style layer cake ) . [ citation needed ] In April , Sri Lankans celebrate the Buddhist and Hindu new year festivals . [ 365 ] Esala Perahera is a symbolic Buddhist festival consisting of dances and decorated elephants held in Kandy in July and August . [ 366 ] Fire dances , whip dances , Kandyan dances and various other cultural dances are integral parts of the festival . Christians celebrate Christmas on 25 December to celebrate the birth of Jesus Christ and Easter to celebrate the resurrection of Jesus . Tamils celebrate Thai Pongal and Maha Shivaratri , and Muslims celebrate Hajj and Ramadan . The movie Kadawunu Poronduwa ( The Broken Promise ) , produced by S. M. Nayagam of Chitra Kala Movietone , heralded the coming of Sri Lankan cinema in 1947 . Ranmuthu Duwa ( Island of Treasures ) marked the transition of cinema from black-and-white to colour . In recent years , movies have featured subjects such as family melodrama , social transformation and the years of conflict between the military and the LTTE . [ 367 ] The Sri Lankan cinematic style is similar to Bollywood movies . In 1979 , movie attendance rose to an all-time high but has been in a steady decline since then . [ 368 ] An influential filmmaker is Lester James Peiris , who has directed a number of movies which led to global acclaim , including Rekava ( Line of Destiny , 1956 ) , Gamperaliya ( The Changing Village , 1964 ) , Nidhanaya ( The Treasure , 1970 ) and Golu Hadawatha ( Cold Heart , 1968 ) . [ 369 ] Sri Lankan-Canadian poet Rienzi Crusz , is the subject of a documentary on his life in Sri Lanka . His work is published in Sinhala and English . Naturalised Canadian Michael Ondaatje is well known for his English-language novels and three films . [ citation needed ] The earliest music in Sri Lanka came from theatrical performances such as Kolam , Sokari and Nadagam . [ 370 ] Traditional music instruments such as Béra , Thammátama , Daŭla and Răbān were performed at these dramas . The first music album , Nurthi , recorded in 1903 , was released through Radio Ceylon . Songwriters like Mahagama Sekara and Ananda Samarakoon and musicians such as W. D. Amaradeva , Victor Ratnayake , Nanda Malini and Clarence Wijewardene have contributed much towards the progression of Sri Lankan music . [ 371 ] Baila music originated among Kaffirs or the Afro-Sinhalese community . [ 372 ] There are three main styles of Sri Lankan classical dance . They are , the Kandyan dances , low country dances and Sabaragamuwa dances . Of these , the Kandyan style is most prominent . It is a sophisticated form of dance [ 373 ] that consists of five sub-categories : Ves dance , Naiyandi dance , Udekki dance , Pantheru dance and 18 Vannam . [ 374 ] An elaborate headdress is worn by the male dancers , and a drum called Geta Béraya is used to assist the dancers to keep on rhythm . [ 375 ] The history of Sri Lankan painting and sculpture can be traced as far back as to the 2nd or 3rd century BCE . [ 376 ] The earliest mention about the art of painting on Mahāvaṃsa , is to the drawing of a palace on cloth using cinnabar in the 2nd century BCE . The chronicles have a description of various paintings in relic chambers of Buddhist stupas and in monastic residences . Theatre came to the country when a Parsi theatre company from Mumbai introduced Nurti , a blend of European and Indian theatrical conventions to the Colombo audience in the 19th century . [ 374 ] The golden age of Sri Lankan drama and theatre began with the staging of Maname , a play written by Ediriweera Sarachchandra in 1956 . [ 377 ] It was followed by a series of popular dramas like Sinhabāhu , Pabāvatī , Mahāsāra , Muudu Puththu and Subha saha Yasa . Sri Lankan literature spans at least two millennia and is heir to the Aryan literary tradition as embodied in the hymns of the Rigveda . [ 378 ] The Pāli Canon , the standard collection of scriptures in the Theravada Buddhist tradition , was written down in Sri Lanka during the Fourth Buddhist council , at the Alulena cave temple , Kegalle , as early as 29 BCE . [ 379 ] Chronicles such as the Mahāvaṃsa , written in the 6th century , provide vivid descriptions of Sri Lankan dynasties . According to the German philosopher Wilhelm Geiger , the chronicles are based on Sinhala Atthakatha ( commentary ) . [ 378 ] The oldest surviving prose work is the Dhampiya-Atuva-Getapadaya , compiled in the 9th century CE . [ 378 ] The greatest literary feats of medieval Sri Lanka include Sandesha Kāvya ( poetic messages ) such as Girā Sandeshaya ( parrot message ) , Hansa Sandeshaya ( swan message ) and Salalihini Sandeshaya ( myna message ) . Poetry including Kavsilumina , Kavya-Sekharaya ( Diadem of Poetry ) and proses such as Saddharma-Ratnāvaliya , Amāvatura ( Flood of Nectar ) and Pujāvaliya are also notable works of this period , which is considered to be the golden age of Sri Lankan literature . [ 378 ] The first modern-day novel , Meena by Simon de Silva appeared in 1905 [ 374 ] and was followed by several revolutionary literary works . Martin Wickramasinghe , the author of Madol Doova is considered the iconic figure of Sri Lankan literature . [ 380 ] While the national sport is volleyball , by far the most popular sport in the country is Cricket . [ 381 ] Rugby union also enjoys extensive popularity , [ 382 ] as do association football , netball and tennis . Aquatic sports such as boating , surfing , swimming , kitesurfing [ 383 ] and scuba diving attract many Sri Lankans and foreign tourists . There are two styles of martial arts native to Sri Lanka : Cheena di and Angampora . [ 384 ] The Sri Lanka national cricket team achieved considerable success beginning in the 1990s , rising from underdog status to winning the 1996 Cricket World Cup , defeating Australia in the final on 17 March 1996 . [ 386 ] They also won the 2014 ICC World Twenty20 played in Bangladesh , beating India in the final . In addition , Sri Lanka became the runners-up of the Cricket World Cup in 2007 [ 387 ] and 2011 , [ 388 ] and of the ICC World Twenty20 in 2009 and 2012 . [ 389 ] Former Sri Lankan off-spinner Muttiah Muralitharan has been rated as the greatest test match bowler ever by Wisden Cricketers ' Almanack , [ 390 ] and four Sri Lankan cricketers ranked 2nd ( Sangakkara ) , 4th ( Jayasuriya ) , 5th ( Jayawardene ) and 11th ( Dilshan ) highest ODI run scorers of all time , which is the second best by a team . As of June 2022 , Muttiah Muralitharan has the highest aggregate wickets in Test Cricket with a record 800 wickets , a feat he achieved in a Test Match against India in July 2010 that Sri Lanka had won by 10 Wickets . [ 391 ] [ 392 ] Sri Lanka has won the Asia Cup in 1986 , [ 393 ] 1997 , [ 394 ] 2004 , [ 395 ] 2008 , [ 396 ] 2014 . [ 397 ] and 2022 . [ 398 ] Sri Lanka once held the highest team score in all three formats of cricket . [ 399 ] The country co-hosted the Cricket World Cup in 1996 and 2011 and hosted the 2012 ICC World Twenty20 . Sri Lankans have won two medals at Olympic Games : one silver , by Duncan White at the 1948 London Olympics for men 's 400 metres hurdles ; [ 400 ] and one silver by Susanthika Jayasinghe at the 2000 Sydney Olympics for women 's 200 metres . [ 401 ] In 1973 , Muhammad Lafir won the World Billiards Championship , the highest feat by a Sri Lankan in a Cue sport . [ 402 ] Sri Lanka has also won the Carrom World Championship titles twice in 2012 , 2016 [ 403 ] and 2018 , the men 's team becoming champions and the women 's team winning second place . The Sri Lankan National Badminton Championships was annually held between 1953 and 2011 . Sri Lanka national football team also won the prestigious 1995 South Asian Gold Cup . [ 404 ] [ 405 ] [ 406 ] [ 407 ] [ 408 ] 7°N 81°E\\ufeff / \\ufeff7°N 81°E\\ufeff / 7 ; 81\""
            ]
          },
          "execution_count": 5,
          "metadata": {},
          "output_type": "execute_result"
        }
      ],
      "source": [
        "text = \" \".join(text)\n",
        "text"
      ]
    },
    {
      "cell_type": "code",
      "execution_count": 6,
      "metadata": {
        "id": "ejuLEZz5e2Zr"
      },
      "outputs": [],
      "source": [
        "sents = sent_tokenize(text)"
      ]
    },
    {
      "cell_type": "code",
      "execution_count": 7,
      "metadata": {
        "colab": {
          "base_uri": "https://localhost:8080/"
        },
        "id": "rKKqHxOIe2Zr",
        "outputId": "dacb7445-5a04-4849-b125-5d03baa5546a"
      },
      "outputs": [
        {
          "data": {
            "text/plain": [
              "['Sri Lanka , [ a ] historically known as Ceylon and officially the Democratic Socialist Republic of Sri Lanka , is an island country in South Asia .',\n",
              " 'It lies in the Indian Ocean , southwest of the Bay of Bengal , separated from the Indian peninsula by the Gulf of Mannar and the Palk Strait .',\n",
              " 'It shares a maritime border with the Maldives in the southwest and India in the northwest .',\n",
              " 'Sri Lanka has a population of approximately 22 million and is home to many cultures , languages and ethnicities .',\n",
              " \"The Sinhalese people form the majority of the population , followed by the Sri Lankan Tamils , who are the largest minority group and are concentrated in northern Sri Lanka ; both groups have played an influential role in the island 's history .\",\n",
              " 'Other long-established groups include the Moors , Indian Tamils , Burghers , Malays , Chinese , and Vedda .',\n",
              " \"[ 13 ] Sri Lanka 's documented history goes back 3,000 years , with evidence of prehistoric human settlements dating back 125,000 years .\",\n",
              " '[ 14 ] The earliest known Buddhist writings of Sri Lanka , known collectively as the Pāli canon , date to the fourth Buddhist council , which took place in 29 BCE .',\n",
              " \"[ 15 ] [ 16 ] Also called the Pearl of the Indian Ocean , or the Granary of the East , Sri Lanka 's geographic location and deep harbours have made it of great strategic importance , from the earliest days of the ancient Silk Road trade route to today 's so-called maritime Silk Road .\",\n",
              " '[ 17 ] [ 18 ] [ 19 ] Because its location made it a major trading hub , it was already known to both East Asians and Europeans as long ago as the Anuradhapura period .',\n",
              " 'During a period of great political crisis in the Kingdom of Kotte , the Portuguese arrived in Sri Lanka and sought to control its maritime trade , with a part of Sri Lanka subsequently becoming a Portuguese possession .',\n",
              " 'After the Sinhalese-Portuguese war , the Dutch Empire and the Kingdom of Kandy took control of those areas .',\n",
              " 'The Dutch possessions were then taken by the British , who later extended their control over the whole island , colonising it from 1815 to 1948 .',\n",
              " 'A national movement for political independence arose in the early 20th century , and in 1948 , Ceylon became a dominion .',\n",
              " 'It was succeeded by the republic of Sri Lanka in 1972 .',\n",
              " \"Sri Lanka 's more recent history was marred by a 26-year civil war , which began in 1983 and ended in 2009 , when the Sri Lanka Armed Forces defeated the Liberation Tigers of Tamil Eelam .\",\n",
              " '[ 20 ] Sri Lanka is a developing country , ranking 73rd on the Human Development Index .',\n",
              " 'It is the highest-ranked South Asian nation in terms of development and has the second-highest per capita income in South Asia .',\n",
              " 'However , the ongoing economic crisis has resulted in the collapse of its currency , rising inflation , and a humanitarian crisis due to a severe shortage of essentials .',\n",
              " 'It has also led to an eruption of street protests , with citizens successfully demanding that the president and the government step down .',\n",
              " '[ 21 ] The country has had a long history of engagement with modern international groups ; it is a founding member of the SAARC , the G77 and the Non-Aligned Movement , as well as a member of the United Nations and the Commonwealth of Nations .',\n",
              " 'In antiquity , Sri Lanka was known to travellers by a variety of names .',\n",
              " \"According to the Mahāvaṃsa , the legendary Prince Vijaya named the island Tambapaṇṇĩ ( `` copper-red hands '' or `` copper-red earth '' ) , because his followers ' hands were reddened by the red soil of the area where he landed .\",\n",
              " \"[ 22 ] [ 23 ] In Hindu mythology , the term Lankā ( `` Island '' ) appears but it is unknown whether it refers to the modern-day state .\",\n",
              " 'The Tamil term Eelam ( Tamil : ஈழம் , romanized : īḻam ) was used to designate the whole island in Sangam literature .',\n",
              " \"[ 24 ] [ 25 ] The island was known under Chola rule as Mummudi Cholamandalam ( `` realm of the three crowned Cholas '' ) .\",\n",
              " '[ 26 ] Ancient Greek geographers called it Taprobanā ( Ancient Greek : Ταπροβανᾶ ) or Taprobanē ( Ταπροβανῆ ) [ 27 ] from the word Tambapanni .',\n",
              " \"The Persians and Arabs referred to it as Sarandīb ( the origin of the word `` serendipity '' ) from Sanskrit Siṃhaladvīpaḥ .\",\n",
              " '[ 28 ] [ 29 ] Ceilão , the name given to Sri Lanka by the Portuguese Empire when it arrived in 1505 , [ 30 ] was transliterated into English as Ceylon .',\n",
              " '[ 31 ] As a British crown colony , the island was known as Ceylon ; it achieved independence as the Dominion of Ceylon in 1948 .',\n",
              " 'The country is now known in Sinhala as Śrī Laṅkā ( Sinhala : ශ්\\u200dරී ලංකා ) and in Tamil as Ilaṅkai ( Tamil : இலங்கை , IPA : [ iˈlaŋɡaɪ ] ) .',\n",
              " \"In 1972 , its formal name was changed to `` Free , Sovereign and Independent Republic of Sri Lanka '' .\",\n",
              " \"Later , on 7 September 1978 , it was changed to the `` Democratic Socialist Republic of Sri Lanka '' .\",\n",
              " '[ 32 ] [ 33 ] As the name Ceylon still appears in the names of a number of organisations , the Sri Lankan government announced in 2011 a plan to rename all those over which it has authority .',\n",
              " '[ 34 ] The pre-history of Sri Lanka goes back 125,000 years and possibly even as far back as 500,000 years .',\n",
              " '[ 35 ] The era spans the Palaeolithic , Mesolithic , and early Iron Ages .',\n",
              " 'Among the Paleolithic human settlements discovered in Sri Lanka , Pahiyangala ( 37,000 BP ) , named after the Chinese traveller monk Faxian ; [ 36 ] Batadombalena ( 28,500 BP ) ; [ 37 ] and Belilena ( 12,000 BP ) are the most important .',\n",
              " 'In these caves , archaeologists have found the remains of anatomically modern humans which they have named Balangoda Man , and other evidence [ 38 ] suggesting that they may have engaged in agriculture and kept domestic dogs for driving game .',\n",
              " '[ 39 ] The earliest inhabitants of Sri Lanka were probably ancestors of the Vedda people , [ 40 ] an indigenous people numbering approximately 2,500 living in modern-day Sri Lanka .',\n",
              " 'During the protohistoric period ( 1000–500 BCE ) Sri Lanka was culturally united with southern India , [ 41 ] and shared the same megalithic burials , pottery , iron technology , farming techniques and megalithic graffiti .',\n",
              " '[ 42 ] [ 43 ] This cultural complex spread from southern India along with Dravidian clans such as the Velir , prior to the migration of Prakrit speakers .',\n",
              " '[ 44 ] [ 45 ] [ 42 ] One of the first written references to the island is found in the Indian epic Ramayana , which provides details of a kingdom named Lanka that was created by the divine sculptor Vishvakarma for Kubera , the God of Wealth .',\n",
              " '[ 46 ] It is said that Kubera was overthrown by his rakshasa stepbrother , Ravana .',\n",
              " '[ 47 ] According to the Mahāvamsa , a Pāḷi chronicle written in the 5th century CE , the original inhabitants of Sri Lanka are said to be the Yakshas and Nagas .',\n",
              " 'Sinhalese history traditionally starts in 543 BCE with the arrival of Prince Vijaya , a semi-legendary prince who sailed with 700 followers to Sri Lanka , after being expelled from Vanga Kingdom ( present-day Bengal ) .',\n",
              " '[ 48 ] He established the Kingdom of Tambapanni , near modern-day Mannar .',\n",
              " 'Vijaya ( Singha ) is the first of the approximately 189 monarchs of Sri Lanka described in chronicles such as the Dipavamsa , Mahāvaṃsa , Cūḷavaṃsa , and Rājāvaliya .',\n",
              " '[ 49 ] Once Prakrit speakers had attained dominance on the island , the Mahavamsa further recounts the later migration of royal brides and service castes from the Tamil Pandya Kingdom to the Anuradhapura Kingdom in the early historic period .',\n",
              " '[ 50 ] The Anuradhapura period ( 377 BCE – 1017 CE ) began with the establishment of the Anuradhapura Kingdom in 380 BCE during the reign of Pandukabhaya .',\n",
              " 'Thereafter , Anuradhapura served as the capital city of the country for nearly 1,400 years .',\n",
              " '[ 51 ] Ancient Sri Lankans excelled at building certain types of structures such as tanks , dagobas and palaces .',\n",
              " '[ 52 ] Society underwent a major transformation during the reign of Devanampiya Tissa , with the arrival of Buddhism from India .',\n",
              " 'In 250 BCE , [ 53 ] Mahinda , a bhikkhu and the son of the Mauryan Emperor Ashoka arrived in Mihintale carrying the message of Buddhism .',\n",
              " '[ 54 ] His mission won over the monarch , who embraced the faith and propagated it throughout the Sinhalese population .',\n",
              " '[ 55 ] Succeeding kingdoms of Sri Lanka would maintain many Buddhist schools and monasteries and support the propagation of Buddhism into other countries in Southeast Asia .',\n",
              " \"Sri Lankan Bhikkhus studied in India 's famous ancient Buddhist University of Nalanda , which was destroyed by Bakhtiyar Khilji .\",\n",
              " \"It is probable that many of the scriptures from Nalanda are preserved in Sri Lanka 's many monasteries and that the written form of the Tripiṭaka , including Sinhalese Buddhist literature , were part of the University of Nalanda .\",\n",
              " '[ 56 ] In 245 BCE , bhikkhuni Sanghamitta arrived with the Jaya Sri Maha Bodhi tree , which is considered to be a sapling from the historical Bodhi Tree under which Gautama Buddha became enlightened .',\n",
              " '[ 57 ] It is considered the oldest human-planted tree ( with a continuous historical record ) in the world .',\n",
              " '( Bodhivamsa ) [ 58 ] [ 59 ] Sri Lanka experienced the first of many foreign invasions during the reign of Suratissa , who was defeated by two horse traders named Sena and Guttika from South India .',\n",
              " '[ 55 ] The next invasion came immediately in 205 BCE by a Chola named Elara , who overthrew Asela and ruled the country for 44 years .',\n",
              " 'Dutugamunu , the eldest son of the southern regional sub-king , Kavan Tissa , defeated Elara in the Battle of Vijithapura .',\n",
              " 'During its two and a half millennia of existence , the Sinhala Kingdom was invaded at least eight times by neighbouring South Indian dynasties such as the Chola , Pandya , and Pallava .',\n",
              " '[ citation needed ] There also were incursions by the kingdoms of Kalinga ( modern Odisha ) and from the Malay Peninsula as well .',\n",
              " '[ citation needed ] The Fourth Buddhist Council of Theravada Buddhism was held at the Anuradhapura Maha Viharaya in Sri Lanka under the patronage of Valagamba of Anuradhapura in 25 BCE .',\n",
              " 'The council was held in response to a year in which the harvests in Sri Lanka were particularly poor and many Buddhist monks subsequently died of starvation .',\n",
              " 'Because the Pāli Canon was at that time oral literature maintained in several recensions by dhammabhāṇakas ( dharma reciters ) , the surviving monks recognised the danger of not writing it down so that even if some of the monks whose duty it was to study and remember parts of the Canon for later generations died , the teachings would not be lost .',\n",
              " '[ 60 ] After the council , palm-leaf manuscripts containing the completed Canon were taken to other countries such as Burma , Thailand , Cambodia and Laos .',\n",
              " 'Sri Lanka was the first Asian country known to have a female ruler : Anula of Anuradhapura ( r. 47–42 BCE ) .',\n",
              " \"[ 61 ] Sri Lankan monarchs undertook some remarkable construction projects such as Sigiriya , the so-called `` Fortress in the Sky '' , built during the reign of Kashyapa I of Anuradhapura , who ruled between 477 and 495 .\",\n",
              " 'The Sigiriya rock fortress is surrounded by an extensive network of ramparts and moats .',\n",
              " 'Inside this protective enclosure were gardens , ponds , pavilions , palaces and other structures .',\n",
              " '[ 62 ] [ 63 ] In 993 CE , the invasion of Chola emperor Rajaraja I forced the then Sinhalese ruler Mahinda V to flee to the southern part of Sri Lanka .',\n",
              " 'Taking advantage of this situation , Rajendra I , son of Rajaraja I , launched a large invasion in 1017 .',\n",
              " 'Mahinda V was captured and taken to India , and the Cholas sacked the city of Anuradhapura causing the fall of Anuradhapura Kingdom .',\n",
              " 'Subsequently , they moved the capital to Polonnaruwa .',\n",
              " '[ 64 ] Following a 17-year-long campaign , Vijayabahu I successfully drove the Chola out of Sri Lanka in 1070 , reuniting the country for the first time in over a century .',\n",
              " '[ 65 ] [ 66 ] Upon his request , ordained monks were sent from Burma to Sri Lanka to re-establish Buddhism , which had almost disappeared from the country during the Chola reign .',\n",
              " '[ 67 ] During the medieval period , Sri Lanka was divided into three sub-territories , namely , Ruhunu , Pihiti and Maya .',\n",
              " \"[ 68 ] Sri Lanka 's irrigation system was extensively expanded during the reign of Parākramabāhu the Great ( 1153–1186 ) .\",\n",
              " '[ 69 ] This period is considered as a time when Sri Lanka was at the height of its power .',\n",
              " \"[ 70 ] [ 71 ] He built 1,470 reservoirs – the highest number by any ruler in Sri Lanka 's history – repaired 165 dams , 3,910 canals , 163 major reservoirs , and 2,376 mini-reservoirs .\",\n",
              " '[ 72 ] His most famous construction is the Parakrama Samudra , [ 73 ] the largest irrigation project of medieval Sri Lanka .',\n",
              " \"Parākramabāhu 's reign is memorable for two major campaigns – in the south of India as part of a Pandyan war of succession , and a punitive strike against the kings of Ramanna ( Burma ) for various perceived insults to Sri Lanka .\",\n",
              " '[ 74 ] After his demise , Sri Lanka gradually decayed in power .',\n",
              " 'In 1215 , Kalinga Magha , an invader with uncertain origins , identified as the founder of the Jaffna kingdom , invaded and captured the Kingdom of Polonnaruwa .',\n",
              " 'He sailed from Kalinga [ 72 ] 690 nautical miles on 100 large ships with a 24,000 strong army .',\n",
              " 'Unlike previous invaders , he looted , ransacked and destroyed everything in the ancient Anuradhapura and Polonnaruwa Kingdoms beyond recovery .',\n",
              " '[ 75 ] His priorities in ruling were to extract as much as possible from the land and overturn as many of the traditions of Rajarata as possible .',\n",
              " 'His reign saw the massive migration of native Sinhalese people to the south and west of Sri Lanka , and into the mountainous interior , in a bid to escape his power .',\n",
              " \"[ 76 ] [ 77 ] Sri Lanka never really recovered from the effects of Kalinga Magha 's invasion .\",\n",
              " 'King Vijayabâhu III , who led the resistance , brought the kingdom to Dambadeniya .',\n",
              " 'The north , in the meanwhile , eventually evolved into the Jaffna kingdom .',\n",
              " \"[ 76 ] [ 77 ] The Jaffna kingdom never came under the rule of any kingdom of the south except on one occasion ; in 1450 , following the conquest led by king Parâkramabâhu VI 's adopted son , Prince Sapumal .\",\n",
              " '[ 78 ] He ruled the North from 1450 to 1467 CE .',\n",
              " '[ 79 ] The next three centuries starting from 1215 were marked by kaleidoscopically shifting collections of capitals in south and central Sri Lanka , including Dambadeniya , Yapahuwa , Gampola , Raigama , Kotte , [ 80 ] Sitawaka , and finally , Kandy .',\n",
              " 'In 1247 , the Malay kingdom of Tambralinga which was a vassal of Sri Vijaya led by their king Chandrabhanu [ 81 ] briefly invaded Sri Lanka from Insular Southeast Asia .',\n",
              " 'They were then expelled by the South Indian Pandyan dynasty .',\n",
              " '[ 82 ] However , this temporary invasion reinforced the steady flow of the presence of various Austronesian merchant ethnic groups , from Sumatrans ( Indonesia ) to Lucoes ( Philippines ) into Sri Lanka which occurred since 200 BCE .',\n",
              " '[ 83 ] Chinese admiral Zheng He and his naval expeditionary force landed at Galle , Sri Lanka in 1409 and got into battle with the local king Vira Alakesvara of Gampola .',\n",
              " 'Zheng He captured King Vira Alakesvara and later released him .',\n",
              " '[ 84 ] [ 85 ] [ 86 ] [ 87 ] Zheng He erected the Galle Trilingual Inscription , a stone tablet at Galle written in three languages ( Chinese , Tamil , and Persian ) , to commemorate his visit .',\n",
              " '[ 88 ] [ 89 ] The stele was discovered by S. H. Thomlin at Galle in 1911 and is now preserved in the Colombo National Museum .',\n",
              " 'The early modern period of Sri Lanka begins with the arrival of Portuguese soldier and explorer Lourenço de Almeida , the son of Francisco de Almeida , in 1505 .',\n",
              " '[ 90 ] In 1517 , the Portuguese built a fort at the port city of Colombo and gradually extended their control over the coastal areas .',\n",
              " 'In 1592 , after decades of intermittent warfare with the Portuguese , Vimaladharmasuriya I moved his kingdom to the inland city of Kandy , a location he thought more secure from attack .',\n",
              " '[ 91 ] In 1619 , succumbing to attacks by the Portuguese , the independent existence of the Jaffna kingdom came to an end .',\n",
              " '[ 92 ] During the reign of the Rajasinha II , Dutch explorers arrived on the island .',\n",
              " 'In 1638 , the king signed a treaty with the Dutch East India Company to get rid of the Portuguese who ruled most of the coastal areas .',\n",
              " '[ 93 ] The following Dutch–Portuguese War resulted in a Dutch victory , with Colombo falling into Dutch hands by 1656 .',\n",
              " 'The Dutch remained in the areas they had captured , thereby violating the treaty they had signed in 1638 .',\n",
              " 'The Burgher people , a distinct ethnic group , emerged as a result of intermingling between the Dutch and native Sri Lankans in this period .',\n",
              " '[ 94 ] The Kingdom of Kandy was the last independent monarchy of Sri Lanka .',\n",
              " '[ 95 ] In 1595 , Vimaladharmasurya brought the sacred Tooth Relic—the traditional symbol of royal and religious authority amongst the Sinhalese—to Kandy and built the Temple of the Tooth .',\n",
              " '[ 95 ] In spite of on-going intermittent warfare with Europeans , the kingdom survived .',\n",
              " \"Later , a crisis of succession emerged in Kandy upon king Vira Narendrasinha 's death in 1739 .\",\n",
              " 'He was married to a Telugu-speaking Nayakkar princess from South India ( Madurai ) and was childless by her .',\n",
              " \"[ 95 ] Eventually , with the support of bhikku Weliwita Sarankara and ignoring the right of `` Unambuwe Bandara '' , the crown passed to the brother of one of Narendrasinha 's princesses , overlooking Narendrasinha 's own son by a Sinhalese concubine .\",\n",
              " '[ 96 ] The new king was crowned Sri Vijaya Rajasinha later that year .',\n",
              " 'Kings of the Nayakkar dynasty launched several attacks on Dutch controlled areas , which proved to be unsuccessful .',\n",
              " '[ 97 ] During the Napoleonic Wars , fearing that French control of the Netherlands might deliver Sri Lanka to the French , the British Empire occupied the coastal areas of the island ( which they called the colony of British Ceylon ) with little difficulty in 1796 .',\n",
              " '[ 98 ] Two years later , in 1798 , Sri Rajadhi Rajasinha , third of the four Nayakkar kings of Sri Lanka , died of a fever .',\n",
              " 'Following his death , a nephew of Rajadhi Rajasinha , eighteen-year-old Kannasamy , was crowned .',\n",
              " '[ 99 ] The young king , now named Sri Vikrama Rajasinha , faced a British invasion in 1803 but successfully retaliated .',\n",
              " 'The First Kandyan War ended in a stalemate .',\n",
              " '[ 99 ] By then the entire coastal area was under the British East India Company as a result of the Treaty of Amiens .',\n",
              " \"On 14 February 1815 , Kandy was occupied by the British in the second Kandyan War , ending Sri Lanka 's independence .\",\n",
              " '[ 99 ] Sri Vikrama Rajasinha , the last native monarch of Sri Lanka , was exiled to India .',\n",
              " '[ 100 ] The Kandyan Convention formally ceded the entire country to the British Empire .',\n",
              " 'Attempts by Sri Lankan noblemen to undermine British power in 1818 during the Uva Rebellion were thwarted by Governor Robert Brownrigg .',\n",
              " '[ 101 ] The beginning of the modern period of Sri Lanka is marked by the Colebrooke-Cameron reforms of 1833 .',\n",
              " '[ 102 ] They introduced a utilitarian and liberal political culture to the country based on the rule of law and amalgamated the Kandyan and maritime provinces as a single unit of government .',\n",
              " '[ 102 ] An executive council and a legislative council were established , later becoming the foundation of a representative legislature .',\n",
              " 'By this time , experiments with coffee plantations were largely successful .',\n",
              " '[ 103 ] Soon , coffee became the primary commodity export of Sri Lanka .',\n",
              " 'Falling coffee prices as a result of the depression of 1847 stalled economic development and prompted the governor to introduce a series of taxes on firearms , dogs , shops , boats , etc.',\n",
              " ', and to reintroduce a form of rajakariya , requiring six days free labour on roads or payment of a cash equivalent .',\n",
              " '[ 103 ] These harsh measures antagonised the locals , and another rebellion broke out in 1848 .',\n",
              " '[ 104 ] A devastating leaf disease , Hemileia vastatrix , struck the coffee plantations in 1869 , destroying the entire industry within fifteen years .',\n",
              " '[ 105 ] The British quickly found a replacement : abandoning coffee , they began cultivating tea instead .',\n",
              " 'Tea production in Sri Lanka thrived in the following decades .',\n",
              " 'Large-scale rubber plantations began in the early 20th century .',\n",
              " 'By the end of the 19th century , a new educated social class transcending race and caste arose through British attempts to staff the Ceylon Civil Service and the legal , educational , engineering , and medical professions with natives .',\n",
              " '[ 106 ] New leaders represented the various ethnic groups of the population in the Ceylon Legislative Council on a communal basis .',\n",
              " 'Buddhist and Hindu revivalism reacted against Christian missionary activities .',\n",
              " '[ 107 ] [ 108 ] The first two decades in the 20th century are noted by the unique harmony among Sinhalese and Tamil political leadership , which has since been lost .',\n",
              " '[ 109 ] The 1906 malaria outbreak in Ceylon actually started in the early 1900s , but the first case was documented in 1906 .',\n",
              " 'In 1919 , major Sinhalese and Tamil political organisations united to form the Ceylon National Congress , under the leadership of Ponnambalam Arunachalam , [ 110 ] pressing colonial masters for more constitutional reforms .',\n",
              " \"But without massive popular support , and with the governor 's encouragement for `` communal representation '' by creating a `` Colombo seat '' that dangled between Sinhalese and Tamils , the Congress lost momentum towards the mid-1920s .\",\n",
              " '[ 111 ] The Donoughmore reforms of 1931 repudiated the communal representation and introduced universal adult franchise ( the franchise stood at 4 % before the reforms ) .',\n",
              " 'This step was strongly criticised by the Tamil political leadership , who realised that they would be reduced to a minority in the newly created State Council of Ceylon , which succeeded the legislative council .',\n",
              " '[ 112 ] [ 113 ] In 1937 , Tamil leader G. G. Ponnambalam demanded a 50–50 representation ( 50 % for the Sinhalese and 50 % for other ethnic groups ) in the State Council .',\n",
              " 'However , this demand was not met by the Soulbury reforms of 1944–45 .',\n",
              " 'The Soulbury constitution ushered in dominion status , with independence proclaimed on 4 February 1948 .',\n",
              " '[ 114 ] D. S. Senanayake became the first Prime Minister of Ceylon .',\n",
              " '[ 115 ] Prominent Tamil leaders including Ponnambalam and Arunachalam Mahadeva joined his cabinet .',\n",
              " '[ 112 ] [ 116 ] The British Royal Navy remained stationed at Trincomalee until 1956 .',\n",
              " 'A countrywide popular demonstration against withdrawal of the rice rations resulted in the resignation of prime minister Dudley Senanayake .',\n",
              " '[ 117 ] S. W. R. D. Bandaranaike was elected prime minister in 1956 .',\n",
              " \"His three-year rule had a profound influence through his self-proclaimed role of `` defender of the besieged Sinhalese culture '' .\",\n",
              " '[ 118 ] He introduced the controversial Sinhala Only Act , recognising Sinhala as the only official language of the government .',\n",
              " 'Although partially reversed in 1958 , the bill posed a grave concern for the Tamil community , which perceived in it a threat to their language and culture .',\n",
              " '[ 119 ] [ 120 ] [ 121 ] The Federal Party ( FP ) launched a movement of non-violent resistance ( satyagraha ) against the bill , which prompted Bandaranaike to reach an agreement ( Bandaranaike–Chelvanayakam Pact ) with S. J. V. Chelvanayakam , leader of the FP , to resolve the looming ethnic conflict .',\n",
              " '[ 122 ] The pact proved ineffective in the face of ongoing protests by opposition and the Buddhist clergy .',\n",
              " 'The bill , together with various government colonisation schemes , contributed much towards the political rancour between Sinhalese and Tamil political leaders .',\n",
              " '[ 123 ] Bandaranaike was assassinated by an extremist Buddhist monk in 1959 .',\n",
              " \"[ 124 ] Sirimavo Bandaranaike , the widow of Bandaranaike , took office as prime minister in 1960 , and withstood an attempted coup d'état in 1962 .\",\n",
              " 'During her second term as prime minister , the government instituted socialist economic policies , strengthening ties with the Soviet Union and China , while promoting a policy of non-alignment .',\n",
              " 'In 1971 , Ceylon experienced a Marxist insurrection , which was quickly suppressed .',\n",
              " 'In 1972 , the country became a republic named Sri Lanka , repudiating its dominion status .',\n",
              " 'Prolonged minority grievances and the use of communal emotionalism as an election campaign weapon by both Sinhalese and Tamil leaders abetted a fledgling Tamil militancy in the north during the 1970s .',\n",
              " '[ 125 ] The policy of standardisation by the Sirimavo government to rectify disparities created in university enrollment , which was in essence an affirmative action to assist geographically disadvantaged students to obtain tertiary education , [ 126 ] resulted in reducing the proportion of Tamil students at university level and acted as the immediate catalyst for the rise of militancy .',\n",
              " '[ 127 ] [ 128 ] The assassination of Jaffna Mayor Alfred Duraiyappah in 1975 by the Liberation Tigers of Tamil Eelam ( LTTE ) marked a crisis point .',\n",
              " '[ 129 ] [ 130 ] The government of J. R. Jayawardene swept to power in 1977 , defeating the largely unpopular United Front government .',\n",
              " '[ 131 ] Jayawardene introduced a new constitution , together with a free-market economy and a powerful executive presidency modelled after that of France .',\n",
              " 'It made Sri Lanka the first South Asian country to liberalise its economy .',\n",
              " '[ 132 ] Beginning in 1983 , ethnic tensions were manifested in an on-and-off insurgency against the government by the LTTE .',\n",
              " 'An LTTE attack on 13 soldiers resulted in the start of a civil war , and in response anti-Tamil race riots took place , allegedly backed by Sinhalese hard-line ministers , which resulted in more than 150,000 Tamil civilians fleeing the island , seeking asylum in other countries .',\n",
              " '[ 133 ] [ 134 ] Lapses in foreign policy resulted in India strengthening the Tigers by providing arms and training .',\n",
              " '[ 135 ] [ 136 ] [ 137 ] In 1987 , the Indo-Sri Lanka Accord was signed and the Indian Peace Keeping Force ( IPKF ) was deployed in northern Sri Lanka to stabilise the region by neutralising the LTTE .',\n",
              " '[ 138 ] The same year , the JVP launched its second insurrection in Southern Sri Lanka , [ 139 ] necessitating redeployment of the IPKF in 1990 .',\n",
              " '[ 140 ] In October 1990 , the LTTE expelled Sri Lankan Moors ( Muslims by religion ) from northern Sri Lanka .',\n",
              " '[ 141 ] In 2002 , the Sri Lankan government and LTTE signed a Norwegian-mediated ceasefire agreement .',\n",
              " '[ 121 ] The 2004 Asian tsunami killed over 30,000 and displaced over 500,000 people in Sri Lanka .',\n",
              " '[ 142 ] [ 143 ] From 1985 to 2006 , the Sri Lankan government and Tamil insurgents held four rounds of peace talks without success .',\n",
              " 'Both LTTE and the government resumed fighting in 2006 , and the government officially backed out of the ceasefire in 2008 .',\n",
              " '[ 121 ] In 2009 , under the Presidency of Mahinda Rajapaksa , the Sri Lanka Armed Forces defeated the LTTE , bringing an end to the 26 year long civil war on 19 May 2009 , [ 144 ] [ 145 ] [ 146 ] [ 147 ] and re-established control of the entire country by the Sri Lankan Government .',\n",
              " '[ 148 ] Overall , between 60,000 and 100,000 people were killed during the course of the 26 year long conflict .',\n",
              " \"[ 149 ] [ 150 ] 2019 Sri Lanka Easter bombings carried out by the terrorist group National Thowheeth Jama'ath on 21 April 2019 resulted in the brutal death of 261 innocent people .\",\n",
              " \"[ 151 ] On 26 April 2019 an anti terrorist operation was carried out against the National Thowheeth Jama'ath by the Sri Lanka Army with the operation being successful and National Thowheeth Jama'ath 's insurgency ending .\",\n",
              " '[ 152 ] [ 153 ] [ 154 ] Economic troubles in Sri Lanka began in 2019 , when a severe economic crisis occurred caused by rapidly increasing foreign debt , massive government budget deficits due to tax cuts , falling foreign remittances , a food crisis caused by mandatory organic farming along with a ban on chemical fertilizers , and a multitude of other factors .',\n",
              " '[ 155 ] The Sri Lankan Government officially declared the ongoing crisis to be the worst economic crisis in the country in 73 years .',\n",
              " '[ 156 ] In August 2021 , a food emergency was declared .',\n",
              " '[ 157 ] In June 2022 , Prime Minister Ranil Wickremesinghe declared the collapse of the Sri Lankan economy in parliament .',\n",
              " '[ 158 ] The crisis resulted in Sri Lanka defaulting on its $ 51 billion sovereign debt for the first time in its history , along with double-digit inflation , a crippling energy crisis that led to approximately 15 hour power cuts , severe fuel shortages leading to the suspension of fuel to all non-essential vehicles , and more such economic disorder .',\n",
              " '[ 159 ] [ 160 ] Due to the crisis , massive street protests erupted all over the country , with protesters demanding the resignation of the then-incumbent President Gotabaya Rajapaksa .',\n",
              " \"The protests culminated with the storming and siege of the President 's House on July 9 , 2022 , and resulted in President Gotabaya Rajapaksa fleeing to Singapore [ 161 ] and later emailing his resignation to parliament , formally announcing his resignation and making him the first Sri Lankan president to resign in the middle of his term .\",\n",
              " \"[ 162 ] On the same day the President 's House was stormed , protesters besieged and stormed the private residence of the prime minister and burnt it down .\",\n",
              " '[ 163 ] After winning the 2022 Sri Lankan presidential election , on 21 July 2022 , Ranil Wickremesinghe took oath as the ninth President of Sri Lanka .',\n",
              " \"[ 164 ] He implemented various economic reforms in efforts to stabilize Sri Lanka 's economy , which has shown slight improvement since .\",\n",
              " '[ 165 ] [ 166 ] Sri Lanka , an island in South Asia shaped as a teardrop or a pear/mango , [ 167 ] lies on the Indian Plate , a major tectonic plate that was formerly part of the Indo-Australian Plate .',\n",
              " '[ 168 ] It is in the Indian Ocean southwest of the Bay of Bengal , between latitudes 5° and 10° N , and longitudes 79° and 82° E. [ 169 ] Sri Lanka is separated from the mainland portion of the Indian subcontinent by the Gulf of Mannar and Palk Strait .',\n",
              " 'According to Hindu mythology , a land bridge existed between the Indian mainland and Sri Lanka .',\n",
              " 'It now amounts to only a chain of limestone shoals remaining above sea level .',\n",
              " '[ 170 ] Legends claim that it was passable on foot up to 1480 CE , until cyclones deepened the channel .',\n",
              " '[ 171 ] [ 172 ] Portions are still as shallow as 1 metre ( 3 ft ) , hindering navigation .',\n",
              " '[ 173 ] The island consists mostly of flat to rolling coastal plains , with mountains rising only in the south-central part .',\n",
              " 'The highest point is Pidurutalagala , reaching 2,524 metres ( 8,281 ft ) above sea level .',\n",
              " 'Sri Lanka has 103 rivers .',\n",
              " 'The longest of these is the Mahaweli River , extending 335 kilometres ( 208 mi ) .',\n",
              " '[ 174 ] These waterways give rise to 51 natural waterfalls of 10 metres ( 33 ft ) or more .',\n",
              " 'The highest is Bambarakanda Falls , with a height of 263 metres ( 863 ft ) .',\n",
              " \"[ 175 ] Sri Lanka 's coastline is 1,585 km ( 985 mi ) long .\",\n",
              " \"[ 176 ] Sri Lanka claims an exclusive economic zone extending 200 nautical miles , which is approximately 6.7 times Sri Lanka 's land area .\",\n",
              " 'The coastline and adjacent waters support highly productive marine ecosystems such as fringing coral reefs and shallow beds of coastal and estuarine seagrasses .',\n",
              " '[ 177 ] Sri Lanka has 45 estuaries and 40 lagoons .',\n",
              " \"[ 176 ] Sri Lanka 's mangrove ecosystem spans over 7,000 hectares and played a vital role in buffering the force of the waves in the 2004 Indian Ocean tsunami .\",\n",
              " '[ 178 ] The island is rich in minerals such as ilmenite , feldspar , graphite , silica , kaolin , mica and thorium .',\n",
              " '[ 179 ] [ 180 ] Existence of petroleum and gas in the Gulf of Mannar has also been confirmed , and the extraction of recoverable quantities is underway .',\n",
              " '[ 181 ] The climate is tropical and warm because of moderating effects of ocean winds .',\n",
              " 'Mean temperatures range from 17 °C ( 62.6 °F ) in the central highlands , where frost may occur for several days in the winter , to a maximum of 33 °C ( 91.4 °F ) in low-altitude areas .',\n",
              " 'Average yearly temperatures range from 28 °C ( 82.4 °F ) to nearly 31 °C ( 87.8 °F ) .',\n",
              " 'Day and night temperatures may vary by 14 °C ( 57.2 °F ) to 18 °C ( 64.4 °F ) .',\n",
              " '[ 182 ] The rainfall pattern is influenced by monsoon winds from the Indian Ocean and Bay of Bengal .',\n",
              " \"The `` wet zone '' and some of the windward slopes of the central highlands receive up to 2,500 millimetres ( 98.4 in ) of rain each year , but the leeward slopes in the east and northeast receive little rain .\",\n",
              " \"Most of the east , southeast , and northern parts of Sri Lanka constitute the `` dry zone '' , which receives between 1,200 and 1,900 mm ( 47 and 75 in ) of rain annually .\",\n",
              " '[ 183 ] The arid northwest and southeast coasts receive the least rain at 800 to 1,200 mm ( 31 to 47 in ) per year .',\n",
              " 'Periodic squalls occur and sometimes tropical cyclones bring overcast skies and rains to the southwest , northeast , and eastern parts of the island .',\n",
              " 'Humidity is typically higher in the southwest and mountainous areas and depends on the seasonal patterns of rainfall .',\n",
              " '[ 184 ] An increase in average rainfall coupled with heavier rainfall events has resulted in recurrent flooding and related damages to infrastructure , utility supply and the urban economy .',\n",
              " '[ 185 ] Western Ghats of India and Sri Lanka were included among the first 18 global biodiversity hotspots due to high levels of species endemism .',\n",
              " 'The number of biodiversity hotspots has now increased to 34 .',\n",
              " '[ 187 ] Sri Lanka has the highest biodiversity per unit area among Asian countries for flowering plants and all vertebrate groups except birds .',\n",
              " '[ 188 ] A remarkably high proportion of the species among its flora and fauna , 27 % of the 3,210 flowering plants and 22 % of the mammals , are endemic .',\n",
              " '[ 189 ] Sri Lanka supports a rich avifauna of that stands at 453 species and this include 240 species of birds that are known to breed in the country .',\n",
              " '33 species are accepted by some ornithologists as endemic while some ornithologists consider only 27 are endemic and the remaining six are considered as proposed endemics .',\n",
              " \"[ 190 ] Sri Lanka 's protected areas are administrated by two government bodies ; The Department of Forest Conservation and the Department of Wildlife Conservation .\",\n",
              " 'Department of Wildlife Conservation administrates 61 wildlife sanctuaries , 22 national parks , four nature reserves , three strict nature reserves , and one jungle corridor while Department of Forest Conservation oversees 65 conservation forests and one national heritage wilderness area .',\n",
              " \"26.5 % of the country 's land area is legally protected .\",\n",
              " 'This is a higher percentage of protected areas when compared to the rest of Asia .',\n",
              " '[ 191 ] Sri Lanka contains four terrestrial ecoregions : Sri Lanka lowland rain forests , Sri Lanka montane rain forests , Sri Lanka dry-zone dry evergreen forests , and Deccan thorn scrub forests .',\n",
              " '[ 192 ] Flowering acacias flourish on the arid Jaffna Peninsula .',\n",
              " 'Among the trees of the dry-land forests are valuable species such as satinwood , ebony , ironwood , mahogany and teak .',\n",
              " 'The wet zone is a tropical evergreen forest with tall trees , broad foliage , and a dense undergrowth of vines and creepers .',\n",
              " 'Subtropical evergreen forests resembling those of temperate climates flourish in the higher altitudes .',\n",
              " '[ 193 ] Yala National Park in the southeast protects herds of elephant , deer , and peacocks .',\n",
              " 'The Wilpattu National Park in the northwest , the largest national park , preserves the habitats of many water birds such as storks , pelicans , ibis , and spoonbills .',\n",
              " 'The island has four biosphere reserves : Bundala , Hurulu Forest Reserve , the Kanneliya-Dediyagala-Nakiyadeniya , and Sinharaja .',\n",
              " '[ 194 ] Sinharaja is home to 26 endemic birds and 20 rainforest species , including the elusive red-faced malkoha , the green-billed coucal and the Sri Lanka blue magpie .',\n",
              " 'The untapped genetic potential of Sinharaja flora is enormous .',\n",
              " 'Of the 211 woody trees and lianas within the reserve , 139 ( 66 % ) are endemic .',\n",
              " 'The total vegetation density , including trees , shrubs , herbs , and seedlings , has been estimated at 240,000 individuals per hectare .',\n",
              " 'The Minneriya National Park borders the Minneriya Tank , which is an important source of water for elephants inhabiting the surrounding forests .',\n",
              " \"Dubbed `` The Gathering '' , the congregation of elephants can be seen on the tank-bed in the late dry season ( August to October ) as the surrounding water sources steadily disappear .\",\n",
              " 'The park also encompasses a range of micro-habitats which include classic dry zone tropical monsoonal evergreen forest , thick stands of giant bamboo , hilly pastures ( patanas ) , and grasslands ( talawas ) .',\n",
              " '[ 195 ] During the Mahaweli Program of the 1970s and 1980s in northern Sri Lanka , the government set aside four areas of land totalling 1,900 km2 ( 730 sq mi ) as national parks .',\n",
              " \"Statistics of Sri Lanka 's forest cover show rapid deforestation from 1956 to 2010 .\",\n",
              " \"In 1956 , 44.2 percent of the country 's land area had forest cover .\",\n",
              " 'Forest cover depleted rapidly in recent decades ; 29.6 percent in 1999 , 28.7 percent in 2010 .',\n",
              " '[ 196 ] Sri Lanka is a democratic republic and a unitary state which is governed by a semi-presidential system .',\n",
              " '[ 197 ] Sri Lanka is the oldest democracy in Asia .',\n",
              " '[ 198 ] Most provisions of the constitution can be amended by a two-thirds majority in parliament .',\n",
              " 'The amendment of certain basic features such as the clauses on language , religion , and reference to Sri Lanka as a unitary state require both a two-thirds majority and approval in a nationwide referendum .',\n",
              " \"In common with many democracies , the Sri Lankan government has three branches : The current political culture in Sri Lanka is a contest between two rival coalitions led by the centre-left and progressive United People 's Freedom Alliance ( UPFA ) , an offspring of Sri Lanka Freedom Party ( SLFP ) , and the comparatively right-wing and pro-capitalist United National Party ( UNP ) .\",\n",
              " 'after 2018 two major political parties have split with UNP majority has formed Samagi Jana Balawegaya and UPFA majority has formed Sri Lanka Podujana Peramuna .',\n",
              " 'The third wing party Janatha Vimukthi Peramuna has gain popularity after 2022 .',\n",
              " '[ 209 ] Sri Lanka is essentially a multi-party democracy with many smaller Buddhist , socialist , and Tamil nationalist political parties .',\n",
              " 'As of July 2011 , the number of registered political parties in the country is 67 .',\n",
              " '[ 210 ] Of these , the Lanka Sama Samaja Party ( LSSP ) , established in 1935 , is the oldest .',\n",
              " '[ 211 ] The UNP , established by D. S. Senanayake in 1946 , was until recently the largest single political party .',\n",
              " '[ 212 ] It is the only political group which had representation in all parliaments since independence .',\n",
              " '[ 212 ] SLFP was founded by S. W. R. D. Bandaranaike in July 1951 .',\n",
              " '[ 213 ] SLFP registered its first victory in 1956 , defeating the ruling UNP in the 1956 Parliamentary election .',\n",
              " \"[ 213 ] Following the parliamentary election in July 1960 , Sirimavo Bandaranaike became the prime minister and the world 's first elected female head of government .\",\n",
              " '[ 214 ] G. G. Ponnambalam , the Tamil nationalist counterpart of S. W. R. D. Bandaranaike , [ 215 ] founded the All Ceylon Tamil Congress ( ACTC ) in 1944 .',\n",
              " \"Objecting to Ponnambalam 's cooperation with D. S. Senanayake , a dissident group led by S.J.V .\",\n",
              " 'Chelvanayakam broke away in 1949 and formed the Illankai Tamil Arasu Kachchi ( ITAK ) , also known as the Federal Party , becoming the main Tamil political party in Sri Lanka for next two decades .',\n",
              " '[ 216 ] The Federal Party advocated a more aggressive stance toward the Sinhalese .',\n",
              " '[ 217 ] With the constitutional reforms of 1972 , the ACTC and ITAK created the Tamil United Front ( later Tamil United Liberation Front ) .',\n",
              " 'Following a period of turbulence as Tamil militants rose to power in the late 1970s , these Tamil political parties were succeeded in October 2001 by the Tamil National Alliance .',\n",
              " '[ 217 ] [ 218 ] Janatha Vimukthi Peramuna , a Marxist–Leninist political party founded by Rohana Wijeweera in 1965 , serves as a third force in the current political context .',\n",
              " '[ 219 ] It endorses leftist policies which are more radical than the traditionalist leftist politics of the LSSP and the Communist Party .',\n",
              " '[ 217 ] Founded in 1981 , the Sri Lanka Muslim Congress is the largest Muslim political party in Sri Lanka .',\n",
              " '[ 220 ] President Mahinda Rajapaksa lost the 2015 presidential elections , ending his ten-year presidency .',\n",
              " 'However , his successor as Sri Lankan President , Maithripala Sirisena , decided not to seek re-election in 2019 .',\n",
              " \"[ 221 ] The Rajapaksa family regained power in November 2019 presidential elections when Mahinda 's younger brother and former wartime defence chief Gotabaya Rajapaksa won the election , and he was later sworn in as the new president of Sri Lanka .\",\n",
              " '[ 222 ] [ 223 ] Their firm grip of power was consolidated in the parliamentary elections in August 2020 .',\n",
              " \"The family 's political party , Sri Lanka People 's Front ( known by its Sinhala initials SLPP ) , obtained a landslide victory and a clear majority in the parliament .\",\n",
              " 'Five members of the Rajapaksa family won seats in the new parliament .',\n",
              " 'Former president Mahinda Rajapaksa became the new prime minister .',\n",
              " '[ 224 ] In 2022 , a political crisis started due to the power struggle between President Gotabaya Rajapaksa and the Parliament of Sri Lanka .',\n",
              " 'The crisis was fuelled by anti-government protests and demonstrations by the public and also due to the worsening economy of Sri Lanka since 2019 .',\n",
              " 'The anti-government sentiment across various parts of Sri Lanka has triggered unprecedented political instability , creating shockwaves in the political arena .',\n",
              " '[ 225 ] On July 20 , 2022 , Ranil Wickremesinghe was elected as the ninth President via a parliamentarian election .',\n",
              " '[ 226 ] For administrative purposes , Sri Lanka is divided into nine provinces [ 227 ] and twenty-five districts .',\n",
              " '[ 228 ] Provinces in Sri Lanka have existed since the 19th century , but they had no legal status until 1987 when the 13th Amendment of the 1978 constitution established provincial councils after several decades of increasing demand for a decentralisation of the government .',\n",
              " '[ 229 ] Each provincial council is an autonomous body not under the authority of any ministry .',\n",
              " 'Some of its functions had been undertaken by central government ministries , departments , corporations , and statutory authorities , [ 229 ] but authority over land and police is not as a rule given to provincial councils .',\n",
              " '[ 230 ] [ 231 ] Between 1989 and 2006 , the Northern and Eastern provinces were temporarily merged to form the North-East Province .',\n",
              " '[ 232 ] [ 233 ] Prior to 1987 , all administrative tasks for the provinces were handled by a district-based civil service which had been in place since colonial times .',\n",
              " 'Now each province is administered by a directly elected provincial council : Each district is administered under a district secretariat .',\n",
              " 'The districts are further subdivided into 256 divisional secretariats , and these to approximately 14,008 Grama Niladhari divisions .',\n",
              " '[ 237 ] The districts are known in Sinhala as disa and in Tamil as māwaddam .',\n",
              " 'Originally , a disa ( usually rendered into English as Dissavony ) was a duchy , notably Matale and Uva .',\n",
              " 'There are three other types of local authorities : municipal councils ( 18 ) , urban councils ( 13 ) and pradeshiya sabha , also called pradesha sabhai ( 256 ) .',\n",
              " '[ 238 ] Local authorities were originally based on feudal counties named korale and rata , and were formerly known as `` D.R.O .',\n",
              " \"divisions '' after the divisional revenue officer .\",\n",
              " \"[ 239 ] Later , the D.R.O.s became `` assistant government agents , '' and the divisions were known as `` A.G.A .\",\n",
              " \"divisions '' .\",\n",
              " 'These divisional secretariats are currently administered by a divisional secretary .',\n",
              " 'Sri Lanka is a founding member of the Non-Aligned Movement ( NAM ) .',\n",
              " 'While ensuring that it maintains its independence , Sri Lanka has cultivated relations with India .',\n",
              " '[ 240 ] Sri Lanka became a member of the United Nations in 1955 .',\n",
              " 'Today , it is also a member of the Commonwealth , the SAARC , the World Bank , the International Monetary Fund , the Asian Development Bank , and the Colombo Plan .',\n",
              " 'The United National Party has traditionally favoured links with the West , while the Sri Lanka Freedom Party has favoured links with the East .',\n",
              " \"[ 240 ] Sri Lankan Finance Minister J. R. Jayewardene , together with then Australian Foreign Minister Sir Percy Spencer , proposed the Colombo Plan at the Commonwealth Foreign Minister 's Conference held in Colombo in 1950 .\",\n",
              " \"[ 241 ] At the San Francisco Peace Conference in 1951 , while many countries were reluctant , Sri Lanka argued for a free Japan and refused to accept payment of reparations for World War II damage because it believed it would harm Japan 's economy .\",\n",
              " \"[ 242 ] Sri Lanka-China relations started as soon as the People 's Republic of China was formed in 1949 .\",\n",
              " 'The two countries signed an important Rubber-Rice Pact in 1952 .',\n",
              " '[ 243 ] Sri Lanka played a vital role at the Asian–African Conference in 1955 , which was an important step in the crystallisation of the NAM .',\n",
              " '[ 244 ] The Bandaranaike government of 1956 significantly changed the pro-western policies set by the previous UNP government .',\n",
              " 'It recognised Cuba under Fidel Castro in 1959 .',\n",
              " \"Shortly afterward , Cuba 's revolutionary Che Guevara paid a visit to Sri Lanka .\",\n",
              " '[ 245 ] The Sirima-Shastri Pact of 1964 [ 246 ] and Sirima-Gandhi Pact of 1974 [ 247 ] were signed between Sri Lankan and Indian leaders in an attempt to solve the long-standing dispute over the status of plantation workers of Indian origin .',\n",
              " 'In 1974 , Kachchatheevu , a small island in Palk Strait , was formally ceded to Sri Lanka .',\n",
              " '[ 248 ] By this time , Sri Lanka was strongly involved in the NAM , and the fifth NAM summit was held in Colombo in 1976 .',\n",
              " '[ 249 ] The relationship between Sri Lanka and India became tense under the government of J. R .',\n",
              " 'Jayawardene .',\n",
              " '[ 140 ] [ 250 ] As a result , India intervened in the Sri Lankan Civil War and subsequently deployed an Indian Peace Keeping Force in 1987 .',\n",
              " '[ 251 ] In the present , Sri Lanka enjoys extensive relations with China , [ 252 ] Russia , [ 253 ] and Pakistan .',\n",
              " '[ 254 ] The Sri Lanka Armed Forces , comprising the Sri Lanka Army , the Sri Lanka Navy , and the Sri Lanka Air Force , come under the purview of the Ministry of Defence .',\n",
              " '[ 255 ] The total strength of the three services is around 346,000 personnel , with nearly 36,000 reserves .',\n",
              " '[ 256 ] Sri Lanka has not enforced military conscription .',\n",
              " '[ 257 ] Paramilitary units include the Special Task Force , the Civil Security Force , and the Sri Lanka Coast Guard .',\n",
              " '[ 258 ] [ 259 ] Since independence in 1948 , the primary focus of the armed forces has been internal security , crushing three major insurgencies , two by Marxist militants of the JVP and a 26-year-long conflict with the LTTE .',\n",
              " 'The armed forces have been in a continuous mobilised state for the last 30 years .',\n",
              " '[ 260 ] [ 261 ] The Sri Lankan Armed Forces have engaged in United Nations peacekeeping operations since the early 1960s , contributing forces to permanent contingents deployed in several UN peacekeeping missions in Chad , Lebanon , and Haiti .',\n",
              " \"[ 262 ] According to the International Monetary Fund , Sri Lanka 's GDP in terms of purchasing power parity is the second highest in the South Asian region in terms of per capita income .\",\n",
              " 'In the 19th and 20th centuries , Sri Lanka became a plantation economy famous for its production and export of cinnamon , rubber , and Ceylon tea , which remains a trademark national export .',\n",
              " '[ 263 ] The development of modern ports under British rule raised the strategic importance of the island as a centre of trade .',\n",
              " \"[ 264 ] From 1948 to 1977 , socialism strongly influenced the government 's economic policies .\",\n",
              " 'Colonial plantations were dismantled , industries were nationalised , and a welfare state established .',\n",
              " 'In 1977 , the free market economy was introduced to the country , incorporating privatisation , deregulation , and the promotion of private enterprise .',\n",
              " '[ 132 ] While the production and export of tea , rubber , coffee , sugar , and other commodities remain important , industrialisation has increased the importance of food processing , textiles , telecommunications , and finance .',\n",
              " \"The country 's main economic sectors are tourism , tea export , clothing , rice production , and other agricultural products .\",\n",
              " 'In addition to these economic sectors , overseas employment , especially in the Middle East , contributes substantially in foreign exchange .',\n",
              " '[ 265 ] As of 2020 [ update ] , the service sector makes up 59.7 % of GDP , the industrial sector 26.2 % , and the agriculture sector 8.4 % .',\n",
              " '[ 266 ] The private sector accounts for 85 % of the economy .',\n",
              " \"[ 267 ] China , India and the United States are Sri Lanka 's largest trading partners .\",\n",
              " '[ 268 ] Economic disparities exist between the provinces with the Western Province contributing 45.1 % of the GDP and the Southern Province and the Central Province contributing 10.7 % and 10 % , respectively .',\n",
              " '[ 269 ] With the end of the war , the Northern Province reported a record 22.9 % GDP growth in 2010 .',\n",
              " '[ 270 ] The per capita income of Sri Lanka doubled from 2005 to 2011 .',\n",
              " '[ 272 ] During the same period , poverty dropped from 15.2 % to 7.6 % , unemployment rate dropped from 7.2 % to 4.9 % , market capitalisation of the Colombo Stock Exchange quadrupled , and the budget deficit doubled .',\n",
              " '[ 265 ] 99 % of the households in Sri Lanka are electrified ; 93.2 % of the population have access to safe drinking water ; and 53.1 % have access to pipe-borne water .',\n",
              " '[ 266 ] Income inequality has also dropped in recent years , indicated by a Gini coefficient of 0.36 in 2010 .',\n",
              " \"[ 273 ] The 2011 Global Competitiveness Report , published by the World Economic Forum , described Sri Lanka 's economy as transitioning from the factor-driven stage to the efficiency-driven stage and that it ranked 52nd in global competitiveness .\",\n",
              " '[ 274 ] Also , out of the 142 countries surveyed , Sri Lanka ranked 45th in health and primary education , 32nd in business sophistication , 42nd in innovation , and 41st in goods market efficiency .',\n",
              " 'In 2016 , Sri Lanka ranked 5th in the World Giving Index , registering high levels of contentment and charitable behaviour in its society .',\n",
              " '[ 275 ] In 2010 , The New York Times placed Sri Lanka at the top of its list of 31 places to visit .',\n",
              " '[ 276 ] S & P Dow Jones Indices classifies Sri Lanka as a frontier market as of 2018 .',\n",
              " '[ 277 ] Sri Lanka ranks well above other South Asian countries in the Human Development Index ( HDI ) with an index of 0.750 .',\n",
              " \"By 2016 , the country 's debt soared as it was developing its infrastructure to the point of near bankruptcy which required a bailout from the International Monetary Fund ( IMF ) .\",\n",
              " '[ 278 ] The IMF had agreed to provide a US $ 1.5 billion bailout loan in April 2016 after Sri Lanka provided a set of criteria intended to improve its economy .',\n",
              " 'By the fourth quarter of 2016 , the debt was estimated to be $ 64.9 billion .',\n",
              " 'Additional debt had been incurred in the past by state-owned organisations and this was said to be at least $ 9.5 billion .',\n",
              " 'Since early 2015 , domestic debt increased by 12 % and external debt by 25 % .',\n",
              " '[ 279 ] In November 2016 , the IMF reported that the initial disbursement was larger than US $ 150 million originally planned , a full US $ 162.6 million ( SDR 119.894 million ) .',\n",
              " \"The agency 's evaluation for the first tranche was cautiously optimistic about the future .\",\n",
              " 'Under the program , the Sri Lankan government implemented a new Inland Revenue Act and an automatic fuel pricing formula which was noted by the IMF in its fourth review .',\n",
              " 'In 2018 China agreed to bail out Sri Lanka with a loan of $ 1.25 billion to deal with foreign debt repayment spikes in 2019 to 2021 .',\n",
              " '[ 280 ] [ 281 ] [ 282 ] In September 2021 , Sri Lanka declared a major economic crisis .',\n",
              " '[ 283 ] The Chief of its Central Bank has stepped down amid the crisis .',\n",
              " \"[ 284 ] The Parliament has declared emergency regulations due to the crisis , seeking to ban `` food hoarding '' .\",\n",
              " '[ 285 ] [ 286 ] Tourism , which provided the economy with an input of foreign currency , has significantly declined as a result of the ongoing COVID-19 pandemic .',\n",
              " '[ 287 ] Sri Lanka has an extensive road network for inland transportation .',\n",
              " 'With more than 100,000 km ( 62,000 mi ) of paved roads , [ 288 ] it has one of the highest road densities in the world ( 1.5 km or 0.93 mi of paved roads per every 1 km2 or 0.39 sq mi of land ) .',\n",
              " 'The road network consists of 35 A-Grade highways and four controlled-access highways .',\n",
              " '[ 289 ] [ 290 ] A and B grade roads are national ( arterial ) highways administered by Road Development Authority .',\n",
              " '[ 291 ] C and D grade roads are provincial roads coming under the purview of the Provincial Road Development Authority of the respective province .',\n",
              " 'The other roads are local roads falling under local government authorities .',\n",
              " 'The railway network , operated by the state-run National Railway operator Sri Lanka Railways , spans 1,447 kilometres ( 900 mi ) .',\n",
              " '[ 292 ] Sri Lanka also has three deep-water ports at Colombo , Galle , and Trincomalee , in addition to the newest port being built at Hambantota .',\n",
              " 'In June 2021 , Sri Lanka imposed a nationwide ban on inorganic fertilisers and pesticides .',\n",
              " 'The program was welcomed by its advisor Vandana Shiva , [ 293 ] but ignored critical voices from scientific and farming community who warned about possible collapse of farming , [ 294 ] [ 295 ] [ 296 ] [ 297 ] [ 298 ] including financial crisis due to devaluation of national currency pivoted around tea industry .',\n",
              " '[ 294 ] The situation in the tea industry was described as critical , with farming under the organic program being described as ten times more expensive and producing half of the yield by the farmers .',\n",
              " \"[ 299 ] In September 2021 the government declared an economic emergency , as the situation was further aggravated by falling national currency exchange rate , inflation rising as a result of high food prices , and pandemic restrictions in tourism which further decreased country 's income .\",\n",
              " \"[ 283 ] In November 2021 , Sri Lanka abandoned its plan to become the world 's first organic farming nation following rising food prices and weeks of protests against the plan .\",\n",
              " '[ 300 ] As of December 2021 , the damage to agricultural production was already done , with prices having risen substantially for vegetables in Sri Lanka , and time needed to recover from the crisis .',\n",
              " 'The ban on fertiliser has been lifted for certain crops , but the price of urea has risen internationally due to the price for oil and gas .',\n",
              " '[ 287 ] Jeevika Weerahewa , a senior lecturer at the University of Peradeniya , predicted that the ban would reduce the paddy harvest in 2022 by an unprecedented 50 % .',\n",
              " '[ 301 ] Sri Lanka has roughly 22,156,000 people and an annual population growth rate of 0.5 % .',\n",
              " 'The birth rate is 13.8 births per 1,000 people , and the death rate is 6.0 deaths per 1,000 people .',\n",
              " '[ 266 ] Population density is highest in western Sri Lanka , especially in and around the capital .',\n",
              " 'Sinhalese constitute the largest ethnic group in the country , with 74.8 % of the total population .',\n",
              " '[ 302 ] Sri Lankan Tamils are the second major ethnic group in the island , with a percentage of 11.2 % .',\n",
              " 'Moors comprise 9.2 % .',\n",
              " 'There are also small ethnic groups such as the Burghers ( of mixed European descent ) and Malays from Southeast Asia .',\n",
              " 'Moreover , there is a small population of Vedda people who are believed to be the original indigenous group to inhabit the island .',\n",
              " '[ 303 ] Sinhala and Tamil are the two official languages .',\n",
              " '[ 305 ] The constitution defines English as the link language .',\n",
              " 'English is widely used for education , scientific and commercial purposes .',\n",
              " 'Members of the Burgher community speak variant forms of Portuguese Creole and Dutch with varying proficiency , while members of the Malay community speak a form of Creole Malay that is unique to the island .',\n",
              " \"[ 306 ] Religion in Sri Lanka ( 2012 census ) [ 307 ] [ 308 ] Buddhism is the largest and is considered as an `` Official religion '' of Sri Lanka under Chapter II , Article 9 , `` The Republic of Sri Lanka shall give to Buddhism the foremost place and accordingly it shall be the duty of the State to protect and foster the Buddha Sasana '' .\",\n",
              " '[ 309 ] [ 310 ] Buddhism is practised by 70.2 % of the Sri Lankan population with most being predominantly from Theravada school of thought .',\n",
              " '[ 311 ] Most Buddhists are of the Sinhalese ethnic group with minority Tamils .',\n",
              " 'Buddhism was introduced to Sri Lanka in the 2nd century BCE by Mahinda Maurya .',\n",
              " '[ 311 ] A sapling of the Bodhi Tree under which the Buddha attained enlightenment was brought to Sri Lanka during the same time .',\n",
              " 'The Pāli Canon ( Thripitakaya ) , having previously been preserved as an oral tradition , was first committed to writing in Sri Lanka around 30 BCE .',\n",
              " '[ 312 ] Sri Lanka has the longest continuous history of Buddhism of any predominantly Buddhist nation .',\n",
              " '[ 311 ] During periods of decline , the Sri Lankan monastic lineage was revived through contact with Thailand and Burma .',\n",
              " '[ 312 ] Although Hindus in Sri Lanka form a religious minority , Hinduism has been present in Sri Lanka at least since the 2nd century BCE .',\n",
              " '[ 313 ] Hinduism was the dominant religion in Sri Lanka before the arrival of Buddhism in the 3rd century BCE .',\n",
              " 'Buddhism was introduced into Sri Lanka by Mahinda , the son of Emperor Ashoka , during the reign of King Devanampiya Tissa ; [ 314 ] the Sinhalese embraced Buddhism and Tamils remain Hindus in Sri Lanka .',\n",
              " \"However , it was activity from across the Palk Strait that truly set the scene for Hinduism 's survival in Sri Lanka .\",\n",
              " 'Shaivism ( devotional worship of Lord Shiva ) was the dominant branch practised by the Tamil peoples , thus most of the traditional Hindu temple architecture and philosophy of Sri Lanka drew heavily from this particular strand of Hinduism .',\n",
              " 'Thirugnanasambanthar mentioned the names of several Sri Lankan Hindu temples in his works .',\n",
              " '[ 315 ] Islam is the third most prevalent religion in the country , having first been brought to the island by Arab traders over the course of many centuries , starting around the mid or late 7th century CE .',\n",
              " \"Most followers on the island today are Sunni who follow the Shafi ' i school [ 316 ] and are believed to be descendants of Arab traders and the local women whom they married .\",\n",
              " '[ 317 ] Christianity reached the country at least as early as the fifth century ( and possibly in the first ) , [ 318 ] gaining a wider foothold through Western colonists who began to arrive early in the 16th century .',\n",
              " '[ 319 ] Around 7.4 % of the Sri Lankan population are Christians , of whom 82 % are Roman Catholics who trace their religious heritage directly to the Portuguese .',\n",
              " 'Tamil Catholics attribute their religious heritage to St. Francis Xavier as well as Portuguese missionaries .',\n",
              " 'The remaining Christians are evenly split between the Anglican Church of Ceylon and other Protestant denominations .',\n",
              " '[ 320 ] There is also a small population of Zoroastrian immigrants from India ( Parsis ) who settled in Ceylon during the period of British rule .',\n",
              " '[ 321 ] This community has steadily dwindled in recent years .',\n",
              " '[ 322 ] Religion plays a prominent role in the life and culture of Sri Lankans .',\n",
              " 'The Buddhist majority observe Poya Days each month according to the Lunar calendar , and Hindus and Muslims also observe their own holidays .',\n",
              " 'In a 2008 Gallup poll , Sri Lanka was ranked the third most religious country in the world , with 99 % of Sri Lankans saying religion was an important part of their daily life .',\n",
              " '[ 323 ] Sri Lankans have a life expectancy of 75.5 years at birth , which is 10 % higher than the world average .',\n",
              " '[ 266 ] [ 265 ] The infant mortality rate stands at 8.5 per 1,000 births and the maternal mortality rate at 0.39 per 1,000 births , which is on par with figures from developed countries .',\n",
              " \"The universal `` pro-poor '' [ 324 ] health care system adopted by the country has contributed much towards these figures .\",\n",
              " '[ 325 ] Sri Lanka ranks first among southeast Asian countries with respect to deaths by suicide , with 33 deaths per 100,000 persons .',\n",
              " 'According to the Department of Census and Statistics , poverty , destructive pastimes , and inability to cope with stressful situations are the main causes behind the high suicide rates .',\n",
              " '[ 326 ] On 8 July 2020 , the World Health Organization declared that Sri Lanka had successfully eliminated rubella and measles ahead of their 2023 target .',\n",
              " '[ 327 ] With a literacy rate of 92.9 % , [ 266 ] Sri Lanka has one of the most literate populations amongst developing nations .',\n",
              " '[ 328 ] Its youth literacy rate stands at 98.8 % , [ 329 ] computer literacy rate at 35 % , [ 330 ] and primary school enrollment rate at over 99 % .',\n",
              " '[ 331 ] An education system which dictates 9 years of compulsory schooling for every child is in place .',\n",
              " 'The free education system established in 1945 [ 332 ] is a result of the initiative of C. W. W. Kannangara and A .',\n",
              " 'Ratnayake .',\n",
              " '[ 333 ] [ 334 ] It is one of the few countries in the world that provide universal free education from primary to tertiary stage .',\n",
              " \"[ 335 ] Kannangara led the establishment of the Madhya Vidyalayas ( central schools ) in different parts of the country in order to provide education to Sri Lanka 's rural children .\",\n",
              " '[ 330 ] In 1942 , a special education committee proposed extensive reforms to establish an efficient and quality education system for the people .',\n",
              " 'However , in the 1980s changes to this system separated the administration of schools between the central government and the provincial government .',\n",
              " 'Thus the elite national schools are controlled directly by the ministry of education and the provincial schools by the provincial government .',\n",
              " 'Sri Lanka has approximately 10,155 government schools , 120 private schools and 802 pirivenas .',\n",
              " '[ 266 ] Sri Lanka has 17 public universities .',\n",
              " '[ 336 ] [ 337 ] A lack of responsiveness of the education system to labour market requirements , disparities in access to quality education , lack of an effective linkage between secondary and tertiary education remain major challenges for the education sector .',\n",
              " '[ 338 ] A number of private , degree awarding institutions have emerged in recent times to fill in these gaps , yet the participation at tertiary level education remains at 5.1 % .',\n",
              " '[ 339 ] Sri Lanka was ranked 90th in the Global Innovation Index in 2023 .',\n",
              " '[ 340 ] [ 341 ] The Sri Lanka Broadcasting Corporation ( formerly Radio Ceylon ) is the oldest-running radio station in Asia , [ 342 ] established in 1923 by Edward Harper just three years after broadcasting began in Europe .',\n",
              " '[ 342 ] The station broadcasts services in Sinhala , Tamil , English and Hindi .',\n",
              " 'Since the 1980s , many private radio stations have also been introduced .',\n",
              " 'Broadcast television was introduced in 1979 when the Independent Television Network was launched .',\n",
              " 'Initially , all television stations were state-controlled , but private television networks began broadcasting in 1992 .',\n",
              " '[ 343 ] As of 2020 [ update ] , 192 newspapers ( 122 Sinhala , 24 Tamil , 43 English , 3 multilingual ) are published and 25 TV stations and 58 radio stations are in operation .',\n",
              " '[ 266 ] In recent years , freedom of the press in Sri Lanka has been alleged by media freedom groups to be amongst the poorest in democratic countries .',\n",
              " \"[ 344 ] Alleged abuse of a newspaper editor by a senior government minister [ 345 ] achieved international notoriety because of the unsolved murder of the editor 's predecessor , Lasantha Wickrematunge , [ 346 ] who had been a critic of the government and had presaged his own death in a posthumously published article .\",\n",
              " '[ 347 ] Officially , the constitution of Sri Lanka guarantees human rights as ratified by the United Nations .',\n",
              " 'However , several groups , such as Amnesty International , Freedom from Torture , Human Rights Watch , [ 348 ] as well as the British government [ 349 ] and the United States Department of State have criticised human rights violations in Sri Lanka .',\n",
              " '[ 350 ] The Sri Lankan Government and the LTTE have both been accused of violating human rights .',\n",
              " 'A report by an advisory panel to the UN secretary-general accused both the LTTE and the Sri Lankan government of war crimes during final stages of the civil war .',\n",
              " '[ 351 ] [ 352 ] Corruption remains a problem in Sri Lanka , and there is little protection for those who stand up against corruption .',\n",
              " '[ 353 ] The 135-year-old Article 365 of the Sri Lankan Penal Code criminalises homosexual acts , with a penalty of up to ten years in prison .',\n",
              " '[ 354 ] The UN Human Rights Council has documented over 12,000 named individuals who have disappeared after detention by security forces in Sri Lanka , the second-highest figure in the world since the Working Group came into being in 1980 .',\n",
              " '[ 355 ] The Sri Lankan government confirmed that 6,445 of these died .',\n",
              " 'Allegations of human rights abuses have not ended with the close of the ethnic conflict .',\n",
              " '[ 356 ] UN Human Rights Commissioner Navanethem Pillay visited Sri Lanka in May 2013 .',\n",
              " \"After her visit , she said : `` The war may have ended [ in Sri Lanka ] , but in the meantime , democracy has been undermined and the rule of law eroded . ''\",\n",
              " \"Pillay spoke about the military 's increasing involvement in civilian life and reports of military land grabbing .\",\n",
              " 'She also said that , while in Sri Lanka , she had been allowed to go wherever she wanted , but that Sri Lankans who came to meet her were harassed and intimidated by security forces .',\n",
              " '[ 357 ] [ 358 ] In 2012 , the UK charity Freedom from Torture reported that it had received 233 referrals of torture survivors from Sri Lanka for clinical treatment or other services provided by the charity .',\n",
              " 'In the same year , the group published Out of the Silence , which documents evidence of torture in Sri Lanka and demonstrates that the practice has continued long after the end of the civil war in 2009 .',\n",
              " '[ 359 ] On 29 July 2020 , Human Rights Watch said that the Sri Lanka government has targeted lawyers , human rights defenders , and journalists to suppress criticism against the government .',\n",
              " '[ 360 ] The culture of Sri Lanka is influenced primarily by Buddhism and Hinduism .',\n",
              " '[ 361 ] Sri Lanka is the home to two main traditional cultures : the Sinhalese ( centred in Kandy and Anuradhapura ) and the Tamil ( centred in Jaffna ) .',\n",
              " 'Tamils co-existed with the Sinhalese people since then , and the early mixing rendered the two ethnic groups almost physically indistinguishable .',\n",
              " '[ 362 ] Ancient Sri Lanka is marked for its genius in hydraulic engineering and architecture .',\n",
              " 'The British colonial culture has also influenced the locals .',\n",
              " \"The rich cultural traditions shared by all Sri Lankan cultures is the basis of the country 's long life expectancy , advanced health standards , and high literacy rate .\",\n",
              " '[ 363 ] Dishes include rice and curry , pittu , kiribath , wholemeal roti , string hoppers , wattalapam ( a rich pudding of Malay origin made with coconut milk , jaggery , cashews , eggs , and spices including cinnamon and nutmeg ) , kottu , and appam .',\n",
              " '[ 364 ] Jackfruit may sometimes replace rice .',\n",
              " 'Traditionally food is served on a plantain leaf or lotus leaf .',\n",
              " \"Middle Eastern influences and practices are found in traditional Moor dishes , while Dutch and Portuguese influences are found with the island 's Burgher community preserving their culture through traditional dishes such as lamprais ( rice cooked in stock and baked in a banana leaf ) , breudher ( Dutch holiday biscuit ) , and Bolo fiado ( Portuguese-style layer cake ) .\",\n",
              " '[ citation needed ] In April , Sri Lankans celebrate the Buddhist and Hindu new year festivals .',\n",
              " '[ 365 ] Esala Perahera is a symbolic Buddhist festival consisting of dances and decorated elephants held in Kandy in July and August .',\n",
              " '[ 366 ] Fire dances , whip dances , Kandyan dances and various other cultural dances are integral parts of the festival .',\n",
              " 'Christians celebrate Christmas on 25 December to celebrate the birth of Jesus Christ and Easter to celebrate the resurrection of Jesus .',\n",
              " 'Tamils celebrate Thai Pongal and Maha Shivaratri , and Muslims celebrate Hajj and Ramadan .',\n",
              " 'The movie Kadawunu Poronduwa ( The Broken Promise ) , produced by S. M. Nayagam of Chitra Kala Movietone , heralded the coming of Sri Lankan cinema in 1947 .',\n",
              " 'Ranmuthu Duwa ( Island of Treasures ) marked the transition of cinema from black-and-white to colour .',\n",
              " 'In recent years , movies have featured subjects such as family melodrama , social transformation and the years of conflict between the military and the LTTE .',\n",
              " '[ 367 ] The Sri Lankan cinematic style is similar to Bollywood movies .',\n",
              " 'In 1979 , movie attendance rose to an all-time high but has been in a steady decline since then .',\n",
              " '[ 368 ] An influential filmmaker is Lester James Peiris , who has directed a number of movies which led to global acclaim , including Rekava ( Line of Destiny , 1956 ) , Gamperaliya ( The Changing Village , 1964 ) , Nidhanaya ( The Treasure , 1970 ) and Golu Hadawatha ( Cold Heart , 1968 ) .',\n",
              " '[ 369 ] Sri Lankan-Canadian poet Rienzi Crusz , is the subject of a documentary on his life in Sri Lanka .',\n",
              " 'His work is published in Sinhala and English .',\n",
              " 'Naturalised Canadian Michael Ondaatje is well known for his English-language novels and three films .',\n",
              " '[ citation needed ] The earliest music in Sri Lanka came from theatrical performances such as Kolam , Sokari and Nadagam .',\n",
              " '[ 370 ] Traditional music instruments such as Béra , Thammátama , Daŭla and Răbān were performed at these dramas .',\n",
              " 'The first music album , Nurthi , recorded in 1903 , was released through Radio Ceylon .',\n",
              " 'Songwriters like Mahagama Sekara and Ananda Samarakoon and musicians such as W. D. Amaradeva , Victor Ratnayake , Nanda Malini and Clarence Wijewardene have contributed much towards the progression of Sri Lankan music .',\n",
              " '[ 371 ] Baila music originated among Kaffirs or the Afro-Sinhalese community .',\n",
              " '[ 372 ] There are three main styles of Sri Lankan classical dance .',\n",
              " 'They are , the Kandyan dances , low country dances and Sabaragamuwa dances .',\n",
              " 'Of these , the Kandyan style is most prominent .',\n",
              " 'It is a sophisticated form of dance [ 373 ] that consists of five sub-categories : Ves dance , Naiyandi dance , Udekki dance , Pantheru dance and 18 Vannam .',\n",
              " '[ 374 ] An elaborate headdress is worn by the male dancers , and a drum called Geta Béraya is used to assist the dancers to keep on rhythm .',\n",
              " '[ 375 ] The history of Sri Lankan painting and sculpture can be traced as far back as to the 2nd or 3rd century BCE .',\n",
              " '[ 376 ] The earliest mention about the art of painting on Mahāvaṃsa , is to the drawing of a palace on cloth using cinnabar in the 2nd century BCE .',\n",
              " 'The chronicles have a description of various paintings in relic chambers of Buddhist stupas and in monastic residences .',\n",
              " 'Theatre came to the country when a Parsi theatre company from Mumbai introduced Nurti , a blend of European and Indian theatrical conventions to the Colombo audience in the 19th century .',\n",
              " '[ 374 ] The golden age of Sri Lankan drama and theatre began with the staging of Maname , a play written by Ediriweera Sarachchandra in 1956 .',\n",
              " '[ 377 ] It was followed by a series of popular dramas like Sinhabāhu , Pabāvatī , Mahāsāra , Muudu Puththu and Subha saha Yasa .',\n",
              " 'Sri Lankan literature spans at least two millennia and is heir to the Aryan literary tradition as embodied in the hymns of the Rigveda .',\n",
              " '[ 378 ] The Pāli Canon , the standard collection of scriptures in the Theravada Buddhist tradition , was written down in Sri Lanka during the Fourth Buddhist council , at the Alulena cave temple , Kegalle , as early as 29 BCE .',\n",
              " '[ 379 ] Chronicles such as the Mahāvaṃsa , written in the 6th century , provide vivid descriptions of Sri Lankan dynasties .',\n",
              " 'According to the German philosopher Wilhelm Geiger , the chronicles are based on Sinhala Atthakatha ( commentary ) .',\n",
              " '[ 378 ] The oldest surviving prose work is the Dhampiya-Atuva-Getapadaya , compiled in the 9th century CE .',\n",
              " '[ 378 ] The greatest literary feats of medieval Sri Lanka include Sandesha Kāvya ( poetic messages ) such as Girā Sandeshaya ( parrot message ) , Hansa Sandeshaya ( swan message ) and Salalihini Sandeshaya ( myna message ) .',\n",
              " 'Poetry including Kavsilumina , Kavya-Sekharaya ( Diadem of Poetry ) and proses such as Saddharma-Ratnāvaliya , Amāvatura ( Flood of Nectar ) and Pujāvaliya are also notable works of this period , which is considered to be the golden age of Sri Lankan literature .',\n",
              " '[ 378 ] The first modern-day novel , Meena by Simon de Silva appeared in 1905 [ 374 ] and was followed by several revolutionary literary works .',\n",
              " 'Martin Wickramasinghe , the author of Madol Doova is considered the iconic figure of Sri Lankan literature .',\n",
              " '[ 380 ] While the national sport is volleyball , by far the most popular sport in the country is Cricket .',\n",
              " '[ 381 ] Rugby union also enjoys extensive popularity , [ 382 ] as do association football , netball and tennis .',\n",
              " 'Aquatic sports such as boating , surfing , swimming , kitesurfing [ 383 ] and scuba diving attract many Sri Lankans and foreign tourists .',\n",
              " 'There are two styles of martial arts native to Sri Lanka : Cheena di and Angampora .',\n",
              " '[ 384 ] The Sri Lanka national cricket team achieved considerable success beginning in the 1990s , rising from underdog status to winning the 1996 Cricket World Cup , defeating Australia in the final on 17 March 1996 .',\n",
              " '[ 386 ] They also won the 2014 ICC World Twenty20 played in Bangladesh , beating India in the final .',\n",
              " 'In addition , Sri Lanka became the runners-up of the Cricket World Cup in 2007 [ 387 ] and 2011 , [ 388 ] and of the ICC World Twenty20 in 2009 and 2012 .',\n",
              " \"[ 389 ] Former Sri Lankan off-spinner Muttiah Muralitharan has been rated as the greatest test match bowler ever by Wisden Cricketers ' Almanack , [ 390 ] and four Sri Lankan cricketers ranked 2nd ( Sangakkara ) , 4th ( Jayasuriya ) , 5th ( Jayawardene ) and 11th ( Dilshan ) highest ODI run scorers of all time , which is the second best by a team .\",\n",
              " 'As of June 2022 , Muttiah Muralitharan has the highest aggregate wickets in Test Cricket with a record 800 wickets , a feat he achieved in a Test Match against India in July 2010 that Sri Lanka had won by 10 Wickets .',\n",
              " '[ 391 ] [ 392 ] Sri Lanka has won the Asia Cup in 1986 , [ 393 ] 1997 , [ 394 ] 2004 , [ 395 ] 2008 , [ 396 ] 2014 .',\n",
              " '[ 397 ] and 2022 .',\n",
              " '[ 398 ] Sri Lanka once held the highest team score in all three formats of cricket .',\n",
              " '[ 399 ] The country co-hosted the Cricket World Cup in 1996 and 2011 and hosted the 2012 ICC World Twenty20 .',\n",
              " \"Sri Lankans have won two medals at Olympic Games : one silver , by Duncan White at the 1948 London Olympics for men 's 400 metres hurdles ; [ 400 ] and one silver by Susanthika Jayasinghe at the 2000 Sydney Olympics for women 's 200 metres .\",\n",
              " '[ 401 ] In 1973 , Muhammad Lafir won the World Billiards Championship , the highest feat by a Sri Lankan in a Cue sport .',\n",
              " \"[ 402 ] Sri Lanka has also won the Carrom World Championship titles twice in 2012 , 2016 [ 403 ] and 2018 , the men 's team becoming champions and the women 's team winning second place .\",\n",
              " 'The Sri Lankan National Badminton Championships was annually held between 1953 and 2011 .',\n",
              " 'Sri Lanka national football team also won the prestigious 1995 South Asian Gold Cup .',\n",
              " '[ 404 ] [ 405 ] [ 406 ] [ 407 ] [ 408 ] 7°N 81°E\\ufeff / \\ufeff7°N 81°E\\ufeff / 7 ; 81']"
            ]
          },
          "execution_count": 7,
          "metadata": {},
          "output_type": "execute_result"
        }
      ],
      "source": [
        "sents"
      ]
    },
    {
      "cell_type": "code",
      "execution_count": 8,
      "metadata": {
        "colab": {
          "base_uri": "https://localhost:8080/"
        },
        "id": "llAnGWN8e2Zr",
        "outputId": "9d588ae9-a37f-47a5-a88f-124b448d92e7"
      },
      "outputs": [
        {
          "data": {
            "text/plain": [
              "540"
            ]
          },
          "execution_count": 8,
          "metadata": {},
          "output_type": "execute_result"
        }
      ],
      "source": [
        "len(sents)"
      ]
    },
    {
      "cell_type": "code",
      "execution_count": 9,
      "metadata": {
        "colab": {
          "base_uri": "https://localhost:8080/"
        },
        "id": "s364FJqze2Zs",
        "outputId": "82c3a098-8bf8-473f-c977-cbab66a02f1e"
      },
      "outputs": [
        {
          "name": "stdout",
          "output_type": "stream",
          "text": [
            "Collecting sumy\n",
            "  Using cached sumy-0.11.0-py2.py3-none-any.whl.metadata (7.5 kB)\n",
            "Collecting transformers\n",
            "  Using cached transformers-4.41.2-py3-none-any.whl.metadata (43 kB)\n",
            "Collecting docopt<0.7,>=0.6.1 (from sumy)\n",
            "  Using cached docopt-0.6.2-py2.py3-none-any.whl\n",
            "Collecting breadability>=0.1.20 (from sumy)\n",
            "  Using cached breadability-0.1.20-py2.py3-none-any.whl\n",
            "Requirement already satisfied: requests>=2.7.0 in d:\\anacondanavigator\\lib\\site-packages (from sumy) (2.31.0)\n",
            "Collecting pycountry>=18.2.23 (from sumy)\n",
            "  Using cached pycountry-24.6.1-py3-none-any.whl.metadata (12 kB)\n",
            "Requirement already satisfied: nltk>=3.0.2 in d:\\anacondanavigator\\lib\\site-packages (from sumy) (3.8.1)\n",
            "Requirement already satisfied: filelock in d:\\anacondanavigator\\lib\\site-packages (from transformers) (3.13.1)\n",
            "Collecting huggingface-hub<1.0,>=0.23.0 (from transformers)\n",
            "  Downloading huggingface_hub-0.23.4-py3-none-any.whl.metadata (12 kB)\n",
            "Requirement already satisfied: numpy>=1.17 in d:\\anacondanavigator\\lib\\site-packages (from transformers) (1.24.3)\n",
            "Requirement already satisfied: packaging>=20.0 in c:\\users\\dai\\appdata\\roaming\\python\\python311\\site-packages (from transformers) (24.0)\n",
            "Requirement already satisfied: pyyaml>=5.1 in d:\\anacondanavigator\\lib\\site-packages (from transformers) (6.0.1)\n",
            "Requirement already satisfied: regex!=2019.12.17 in d:\\anacondanavigator\\lib\\site-packages (from transformers) (2023.10.3)\n",
            "Collecting tokenizers<0.20,>=0.19 (from transformers)\n",
            "  Using cached tokenizers-0.19.1-cp311-none-win_amd64.whl.metadata (6.9 kB)\n",
            "Collecting safetensors>=0.4.1 (from transformers)\n",
            "  Using cached safetensors-0.4.3-cp311-none-win_amd64.whl.metadata (3.9 kB)\n",
            "Requirement already satisfied: tqdm>=4.27 in d:\\anacondanavigator\\lib\\site-packages (from transformers) (4.65.0)\n",
            "Requirement already satisfied: chardet in d:\\anacondanavigator\\lib\\site-packages (from breadability>=0.1.20->sumy) (4.0.0)\n",
            "Requirement already satisfied: lxml>=2.0 in d:\\anacondanavigator\\lib\\site-packages (from breadability>=0.1.20->sumy) (4.9.3)\n",
            "Requirement already satisfied: fsspec>=2023.5.0 in d:\\anacondanavigator\\lib\\site-packages (from huggingface-hub<1.0,>=0.23.0->transformers) (2023.10.0)\n",
            "Requirement already satisfied: typing-extensions>=3.7.4.3 in c:\\users\\dai\\appdata\\roaming\\python\\python311\\site-packages (from huggingface-hub<1.0,>=0.23.0->transformers) (4.11.0)\n",
            "Requirement already satisfied: click in d:\\anacondanavigator\\lib\\site-packages (from nltk>=3.0.2->sumy) (8.1.7)\n",
            "Requirement already satisfied: joblib in d:\\anacondanavigator\\lib\\site-packages (from nltk>=3.0.2->sumy) (1.1.1)\n",
            "Requirement already satisfied: charset-normalizer<4,>=2 in d:\\anacondanavigator\\lib\\site-packages (from requests>=2.7.0->sumy) (2.0.4)\n",
            "Requirement already satisfied: idna<4,>=2.5 in d:\\anacondanavigator\\lib\\site-packages (from requests>=2.7.0->sumy) (3.4)\n",
            "Requirement already satisfied: urllib3<3,>=1.21.1 in d:\\anacondanavigator\\lib\\site-packages (from requests>=2.7.0->sumy) (2.0.7)\n",
            "Requirement already satisfied: certifi>=2017.4.17 in d:\\anacondanavigator\\lib\\site-packages (from requests>=2.7.0->sumy) (2024.2.2)\n",
            "Requirement already satisfied: colorama in c:\\users\\dai\\appdata\\roaming\\python\\python311\\site-packages (from tqdm>=4.27->transformers) (0.4.6)\n",
            "Using cached sumy-0.11.0-py2.py3-none-any.whl (97 kB)\n",
            "Using cached transformers-4.41.2-py3-none-any.whl (9.1 MB)\n",
            "Downloading huggingface_hub-0.23.4-py3-none-any.whl (402 kB)\n",
            "   ---------------------------------------- 0.0/402.6 kB ? eta -:--:--\n",
            "   --------------------------------------  399.4/402.6 kB 12.2 MB/s eta 0:00:01\n",
            "   --------------------------------------  399.4/402.6 kB 12.2 MB/s eta 0:00:01\n",
            "   --------------------------------------  399.4/402.6 kB 12.2 MB/s eta 0:00:01\n",
            "   --------------------------------------  399.4/402.6 kB 12.2 MB/s eta 0:00:01\n",
            "   --------------------------------------  399.4/402.6 kB 12.2 MB/s eta 0:00:01\n",
            "   ---------------------------------------- 402.6/402.6 kB 1.6 MB/s eta 0:00:00\n",
            "Using cached pycountry-24.6.1-py3-none-any.whl (6.3 MB)\n",
            "Using cached safetensors-0.4.3-cp311-none-win_amd64.whl (287 kB)\n",
            "Using cached tokenizers-0.19.1-cp311-none-win_amd64.whl (2.2 MB)\n",
            "Installing collected packages: docopt, safetensors, pycountry, breadability, huggingface-hub, tokenizers, sumy, transformers\n",
            "Successfully installed breadability-0.1.20 docopt-0.6.2 huggingface-hub-0.23.4 pycountry-24.6.1 safetensors-0.4.3 sumy-0.11.0 tokenizers-0.19.1 transformers-4.41.2\n"
          ]
        }
      ],
      "source": [
        "!pip install sumy transformers"
      ]
    },
    {
      "cell_type": "markdown",
      "metadata": {
        "id": "h8Q_BiAHjWLD"
      },
      "source": [
        "## Text Rank Summarizer"
      ]
    },
    {
      "cell_type": "code",
      "execution_count": 10,
      "metadata": {
        "id": "I8NC8kIEe2Zt"
      },
      "outputs": [],
      "source": [
        "from sumy.parsers.plaintext import PlaintextParser\n",
        "from sumy.nlp.tokenizers import Tokenizer\n",
        "from sumy.summarizers.text_rank import TextRankSummarizer"
      ]
    },
    {
      "cell_type": "code",
      "execution_count": 11,
      "metadata": {
        "colab": {
          "base_uri": "https://localhost:8080/"
        },
        "id": "kCX4OysTe2Zt",
        "outputId": "9cf4eaf3-89b6-4788-a525-f1cea2185bf9"
      },
      "outputs": [
        {
          "name": "stderr",
          "output_type": "stream",
          "text": [
            "[nltk_data] Downloading package punkt to\n",
            "[nltk_data]     C:\\Users\\dai\\AppData\\Roaming\\nltk_data...\n",
            "[nltk_data]   Package punkt is already up-to-date!\n"
          ]
        },
        {
          "data": {
            "text/plain": [
              "True"
            ]
          },
          "execution_count": 11,
          "metadata": {},
          "output_type": "execute_result"
        }
      ],
      "source": [
        "import nltk\n",
        "nltk.download('punkt')"
      ]
    },
    {
      "cell_type": "code",
      "execution_count": 12,
      "metadata": {
        "id": "pni8xdgre2Zu"
      },
      "outputs": [],
      "source": [
        "my_parser = PlaintextParser.from_string(text, Tokenizer('english'))"
      ]
    },
    {
      "cell_type": "code",
      "execution_count": 13,
      "metadata": {
        "id": "GlpWHflre2Zu"
      },
      "outputs": [],
      "source": [
        "text_rank_summarizer = TextRankSummarizer()"
      ]
    },
    {
      "cell_type": "code",
      "execution_count": 14,
      "metadata": {
        "id": "Lal_wqL7e2Zv"
      },
      "outputs": [],
      "source": [
        "summary = text_rank_summarizer(my_parser.document, sentences_count=4)"
      ]
    },
    {
      "cell_type": "code",
      "execution_count": 15,
      "metadata": {
        "colab": {
          "base_uri": "https://localhost:8080/"
        },
        "id": "5CLG9yY8e2Zv",
        "outputId": "fc4ff229-16c8-48b2-e65c-acbd9d24b70b"
      },
      "outputs": [
        {
          "name": "stdout",
          "output_type": "stream",
          "text": [
            "[ 21 ] The country has had a long history of engagement with modern international groups ; it is a founding member of the SAARC , the G77 and the Non-Aligned Movement , as well as a member of the United Nations and the Commonwealth of Nations . \n",
            "\n",
            "[ 168 ] It is in the Indian Ocean southwest of the Bay of Bengal , between latitudes 5° and 10° N , and longitudes 79° and 82° E. [ 169 ] Sri Lanka is separated from the mainland portion of the Indian subcontinent by the Gulf of Mannar and Palk Strait . \n",
            "\n",
            "[ 306 ] Religion in Sri Lanka ( 2012 census ) [ 307 ] [ 308 ] Buddhism is the largest and is considered as an `` Official religion '' of Sri Lanka under Chapter II , Article 9 , `` The Republic of Sri Lanka shall give to Buddhism the foremost place and accordingly it shall be the duty of the State to protect and foster the Buddha Sasana '' . \n",
            "\n",
            "In the same year , the group published Out of the Silence , which documents evidence of torture in Sri Lanka and demonstrates that the practice has continued long after the end of the civil war in 2009 . \n",
            "\n"
          ]
        }
      ],
      "source": [
        "for sent in summary:\n",
        "    print(sent, '\\n')"
      ]
    },
    {
      "cell_type": "markdown",
      "metadata": {
        "id": "-2xdfsF0e2Zw"
      },
      "source": [
        "## Lex Rank Summarizer"
      ]
    },
    {
      "cell_type": "code",
      "execution_count": 16,
      "metadata": {
        "id": "YjLmLh4Ve2Zw"
      },
      "outputs": [],
      "source": [
        "from sumy.summarizers.lex_rank import LexRankSummarizer"
      ]
    },
    {
      "cell_type": "code",
      "execution_count": 17,
      "metadata": {
        "id": "ZLiHRHJ6e2Zw"
      },
      "outputs": [],
      "source": [
        "# my_parser = PlaintextParser.from_string(text, Tokenizer('english'))"
      ]
    },
    {
      "cell_type": "code",
      "execution_count": 18,
      "metadata": {
        "id": "tGUs5ohbe2Zw"
      },
      "outputs": [],
      "source": [
        "lex_rank_summarizer = LexRankSummarizer()"
      ]
    },
    {
      "cell_type": "code",
      "execution_count": 19,
      "metadata": {
        "id": "mpQtI08de2Zx"
      },
      "outputs": [],
      "source": [
        "summary = lex_rank_summarizer(my_parser.document, sentences_count=5)"
      ]
    },
    {
      "cell_type": "code",
      "execution_count": 20,
      "metadata": {
        "colab": {
          "base_uri": "https://localhost:8080/"
        },
        "id": "BZWDoatAe2Zx",
        "outputId": "8aca9101-d75a-4fd3-d958-85353949f521"
      },
      "outputs": [
        {
          "name": "stdout",
          "output_type": "stream",
          "text": [
            "[ 31 ] As a British crown colony , the island was known as Ceylon ; it achieved independence as the Dominion of Ceylon in 1948 . \n",
            "\n",
            "[ 69 ] This period is considered as a time when Sri Lanka was at the height of its power . \n",
            "\n",
            "[ 101 ] The beginning of the modern period of Sri Lanka is marked by the Colebrooke-Cameron reforms of 1833 . \n",
            "\n",
            "[ 237 ] The districts are known in Sinhala as disa and in Tamil as māwaddam . \n",
            "\n",
            "[ 391 ] [ 392 ] Sri Lanka has won the Asia Cup in 1986 , [ 393 ] 1997 , [ 394 ] 2004 , [ 395 ] 2008 , [ 396 ] 2014 . \n",
            "\n"
          ]
        }
      ],
      "source": [
        "for sent in summary:\n",
        "    print(sent, '\\n')"
      ]
    },
    {
      "cell_type": "markdown",
      "metadata": {
        "id": "tWtBBmGre2Zx"
      },
      "source": [
        "## LSA Summarizers"
      ]
    },
    {
      "cell_type": "code",
      "execution_count": 21,
      "metadata": {
        "id": "V7TE41nue2Zy"
      },
      "outputs": [],
      "source": [
        "from sumy.summarizers.lsa import LsaSummarizer"
      ]
    },
    {
      "cell_type": "code",
      "execution_count": 22,
      "metadata": {
        "id": "eh4Uk3Che2Zy"
      },
      "outputs": [],
      "source": [
        "# my_parser = PlaintextParser(text, Tokenizer('english'))"
      ]
    },
    {
      "cell_type": "code",
      "execution_count": 23,
      "metadata": {
        "id": "vcz14njme2Zz"
      },
      "outputs": [],
      "source": [
        "lsa = LsaSummarizer()"
      ]
    },
    {
      "cell_type": "code",
      "execution_count": 24,
      "metadata": {
        "id": "0f79cJ9ze2Zz"
      },
      "outputs": [],
      "source": [
        "summary = lsa(my_parser.document, sentences_count=3)"
      ]
    },
    {
      "cell_type": "code",
      "execution_count": 25,
      "metadata": {
        "colab": {
          "base_uri": "https://localhost:8080/"
        },
        "id": "bzmkeJSfe2Zz",
        "outputId": "b42b6cc0-268a-4853-cb58-9ca5bc4f378c"
      },
      "outputs": [
        {
          "name": "stdout",
          "output_type": "stream",
          "text": [
            "[ 187 ] Sri Lanka has the highest biodiversity per unit area among Asian countries for flowering plants and all vertebrate groups except birds . \n",
            "\n",
            "[ 232 ] [ 233 ] Prior to 1987 , all administrative tasks for the provinces were handled by a district-based civil service which had been in place since colonial times . \n",
            "\n",
            "The Pāli Canon ( Thripitakaya ) , having previously been preserved as an oral tradition , was first committed to writing in Sri Lanka around 30 BCE . \n",
            "\n"
          ]
        }
      ],
      "source": [
        "for sent in summary:\n",
        "    print(sent, '\\n')"
      ]
    },
    {
      "cell_type": "code",
      "execution_count": null,
      "metadata": {
        "id": "eVy5j9-qe2Z0"
      },
      "outputs": [],
      "source": []
    },
    {
      "cell_type": "markdown",
      "metadata": {
        "id": "2xkPZcc-e2Z0"
      },
      "source": [
        "## 2. Download the data from the link below using web scrapping:\n",
        "- https://en.wikipedia.org/wiki/Sachin_Tendulkar\n",
        "\n",
        "- Apply the abstractive summarization to summarize this text."
      ]
    },
    {
      "cell_type": "code",
      "execution_count": 26,
      "metadata": {
        "id": "DVqaC_mfe2Z2"
      },
      "outputs": [
        {
          "name": "stderr",
          "output_type": "stream",
          "text": [
            "c:\\Users\\dai\\AppData\\Local\\Programs\\Python\\Python311\\Lib\\site-packages\\tqdm\\auto.py:21: TqdmWarning: IProgress not found. Please update jupyter and ipywidgets. See https://ipywidgets.readthedocs.io/en/stable/user_install.html\n",
            "  from .autonotebook import tqdm as notebook_tqdm\n"
          ]
        },
        {
          "name": "stdout",
          "output_type": "stream",
          "text": [
            "WARNING:tensorflow:From c:\\Users\\dai\\AppData\\Local\\Programs\\Python\\Python311\\Lib\\site-packages\\keras\\src\\losses.py:2976: The name tf.losses.sparse_softmax_cross_entropy is deprecated. Please use tf.compat.v1.losses.sparse_softmax_cross_entropy instead.\n",
            "\n"
          ]
        }
      ],
      "source": [
        "from transformers import pipeline"
      ]
    },
    {
      "cell_type": "code",
      "execution_count": 27,
      "metadata": {
        "colab": {
          "base_uri": "https://localhost:8080/",
          "height": 371,
          "referenced_widgets": [
            "6b076c3525b8479caa26db37bdce3ed0",
            "22b05e05ce5f4d319337c63741ccc04d",
            "d2973c5c647e499687f76006cec0a304",
            "8939f8c003c04321a8cf151d2f22f1b1",
            "6559e7cef4df463d92a43d23438d0f9c",
            "8a20a15afe964d88b641f5ca815ee512",
            "e6d79a270c2241458e96979f7303396b",
            "8c4cdde9d9b14c2ea2bfc74326aa1d54",
            "a03ba7ea99204719b62fb0f6a563f3fd",
            "2ed80a97dd35434da44e2035b4d57098",
            "0f45df6ac5694e6d9a1b7278ca3ad307",
            "75f56de7e5954437868f1a428b29e346",
            "634ef0a5eb9443559df1f4bf1561c657",
            "9c10b2e806dc44479465e9b878f3de90",
            "69efc54a4917412884c7662e03f0b69d",
            "e3015c27fe8d4b29a2c8bc8698e86857",
            "49dfa19ee2104e9189053c5783042dbd",
            "5901af0c97a74375a8aea82536aaa694",
            "ff49966c6e8a47688d604632f18bc9a8",
            "b9a9433ca4144b83af89e2d07d4f5fb1",
            "631e6054436649f3ae001af38704f8c8",
            "7d838ce80472483182a2cbd5f4fe12a1",
            "aa7f1fe0190147808160622270643adb",
            "b75e58e9c0104df2b726308f8ca61317",
            "a20c7b439f74423f8aca40920824c324",
            "04bee15122654a4bacc55de5ed08385f",
            "6a9af947438f4aefa445bda0fb98aac1",
            "527540d455af459ab8cc3c195eedf975",
            "2867a5759ba54398a7005aa6bfb2bc72",
            "6709200ed95246e28d1adb02bbf4c0bb",
            "272e013c45b7436c84dcb6a3cbaf4a5b",
            "2d9dd22a089549edaf334204f96b870f",
            "5ea30b37f0a54c4e929256ce8c11b359",
            "5a8b7a13cb4846f48726ea18622ed369",
            "3ca804dbf1344cdbb1b2dd0f35a9c0c8",
            "aeecfe7c4c1e483389878bb0f7c374bb",
            "92cedd35f25b40b893a4a70cd3e87893",
            "8bd095f5449d47cc934f678bc41304a6",
            "3ae1eaa1d0dc442aad4f1d9909fcd75b",
            "c41f6cccbfd2442e8265e3ecb5300ee3",
            "705f0e6d9f8f423ab63e593ecacd71d6",
            "917b33a324f7401f980362cb1f1a29c8",
            "a8962ab5e2144a919bcd4528da88f335",
            "e9acb57b8cf645a4bf533d592d85d5fd",
            "6209ef8a32a64179842a0e3b2c10e2a2",
            "fc6142ef7c0743d296bcae1f71311f2f",
            "07cdac6dd9ee426b805f95712175fb20",
            "d753cdb9ac8d41628aeedadbeebe8eef",
            "7177a344fad040eba2399fafc2bcaa5a",
            "78c0cabd813c412e9cc203b06f5fb960",
            "f5158929dae34198829373e34aaae0a7",
            "e635a4e6f47442bc99b3fa05de72c2ba",
            "e3b8d1f3048b4055be5ffb8853674c88",
            "f3c205e4b94e4ef39f885f42ffc47eab",
            "eae08aa6b3fd4052aa7f3166a52dcc64"
          ]
        },
        "id": "R2jHKcZue2Z3",
        "outputId": "40b82cfa-b0bf-44ef-8d2b-4b42be52d6c7"
      },
      "outputs": [
        {
          "name": "stderr",
          "output_type": "stream",
          "text": [
            "No model was supplied, defaulted to sshleifer/distilbart-cnn-12-6 and revision a4f8f3e (https://huggingface.co/sshleifer/distilbart-cnn-12-6).\n",
            "Using a pipeline without specifying a model name and revision in production is not recommended.\n",
            "c:\\Users\\dai\\AppData\\Local\\Programs\\Python\\Python311\\Lib\\site-packages\\huggingface_hub\\file_download.py:1132: FutureWarning: `resume_download` is deprecated and will be removed in version 1.0.0. Downloads always resume when possible. If you want to force a new download, use `force_download=True`.\n",
            "  warnings.warn(\n"
          ]
        }
      ],
      "source": [
        "text_summarizer = pipeline('summarization')"
      ]
    },
    {
      "cell_type": "code",
      "execution_count": 28,
      "metadata": {
        "id": "T2RJunRke2Z1"
      },
      "outputs": [],
      "source": [
        "import bs4\n",
        "from urllib.request import urlopen\n",
        "\n",
        "source = urlopen('https://en.wikipedia.org/wiki/Sachin_Tendulkar').read()\n",
        "soup = bs4.BeautifulSoup(source, 'lxml')\n",
        "\n",
        "text = \"\"\n",
        "for paragraph in soup.find_all('p'):\n",
        "    text += paragraph.text"
      ]
    },
    {
      "cell_type": "code",
      "execution_count": 29,
      "metadata": {
        "id": "GvZVk6v7kWBC"
      },
      "outputs": [],
      "source": [
        "# Clean text to avoid special character issues\n",
        "cleaned_text = text.replace('\\n', ' ').replace('\\r', ' ').replace('\\t', ' ')\n",
        "\n",
        "# Ensure the text does not exceed the model's token limit\n",
        "max_input_length = 512  # This can vary; 512 is a common limit for many models\n",
        "input_length = len(cleaned_text.split())\n"
      ]
    },
    {
      "cell_type": "code",
      "execution_count": 30,
      "metadata": {
        "id": "d6mMc53akd4_"
      },
      "outputs": [],
      "source": [
        "if input_length > max_input_length:\n",
        "    cleaned_text = ' '.join(cleaned_text.split()[:max_input_length])"
      ]
    },
    {
      "cell_type": "code",
      "execution_count": 31,
      "metadata": {
        "id": "BQptelwke2Z4"
      },
      "outputs": [],
      "source": [
        "# Perform summarization with max_length and min_length\n",
        "output = text_summarizer(cleaned_text, max_length=400, min_length=100)"
      ]
    },
    {
      "cell_type": "code",
      "execution_count": 32,
      "metadata": {
        "colab": {
          "base_uri": "https://localhost:8080/"
        },
        "id": "I8KJ_6-pe2Z5",
        "outputId": "b0ff64f1-42d1-4b8e-ba67-6cf206846678"
      },
      "outputs": [
        {
          "name": "stdout",
          "output_type": "stream",
          "text": [
            "[{'summary_text': \" Sachin Ramesh Tendulkar is an Indian cricketer who captained the Indian national team . He is widely regarded as one of the greatest batsmen in the history of cricket . Hailed as the world's most prolific batsman of all time, he is the all-time highest run-scorer in both ODI and Test cricket with more than 18,000 runs and 15,000 Test runs, respectively . He also holds the record for receiving the most player of the match awards in international cricket . He was a Member of Parliament, Rajya Sabha by presidential nomination from 2012 to 2018 .\"}]\n"
          ]
        }
      ],
      "source": [
        "print(output)"
      ]
    },
    {
      "cell_type": "code",
      "execution_count": 33,
      "metadata": {
        "colab": {
          "base_uri": "https://localhost:8080/",
          "height": 88
        },
        "id": "JfIwyunwe2Z5",
        "outputId": "227ec12e-5257-4592-a512-643a6cbd06ce"
      },
      "outputs": [
        {
          "data": {
            "text/plain": [
              "\" Sachin Ramesh Tendulkar is an Indian cricketer who captained the Indian national team . He is widely regarded as one of the greatest batsmen in the history of cricket . Hailed as the world's most prolific batsman of all time, he is the all-time highest run-scorer in both ODI and Test cricket with more than 18,000 runs and 15,000 Test runs, respectively . He also holds the record for receiving the most player of the match awards in international cricket . He was a Member of Parliament, Rajya Sabha by presidential nomination from 2012 to 2018 .\""
            ]
          },
          "execution_count": 33,
          "metadata": {},
          "output_type": "execute_result"
        }
      ],
      "source": [
        "output[0]['summary_text']"
      ]
    },
    {
      "cell_type": "code",
      "execution_count": null,
      "metadata": {
        "id": "XNSrrEZ3e2Z6"
      },
      "outputs": [],
      "source": []
    },
    {
      "cell_type": "markdown",
      "metadata": {
        "id": "GRpZN-fSe2Z6"
      },
      "source": [
        "### 3. Use word sense disamguiation algorithm to find the appropriate meaning of the highlighted word.\n",
        "* \"He used the key to unlock the door.\"\n",
        "\"The answer to the problem lies in the key details.\"\n",
        "* The weight is measured on a scale weighing instrument.\n",
        "The project is too large in scale for one person.\n",
        "* \"The knife has a very sharp blade.\"\n",
        "\"His mind was always sharp and quick.\""
      ]
    },
    {
      "cell_type": "code",
      "execution_count": 34,
      "metadata": {
        "id": "S0wdFI_Oe2Z6"
      },
      "outputs": [],
      "source": [
        "from nltk.tokenize import word_tokenize\n",
        "from nltk.wsd import lesk"
      ]
    },
    {
      "cell_type": "code",
      "execution_count": 35,
      "metadata": {
        "colab": {
          "base_uri": "https://localhost:8080/"
        },
        "id": "c9FNp686lLbB",
        "outputId": "72ef0c79-0d6e-45ae-f021-d856ea09219a"
      },
      "outputs": [
        {
          "name": "stderr",
          "output_type": "stream",
          "text": [
            "[nltk_data] Downloading package wordnet to\n",
            "[nltk_data]     C:\\Users\\dai\\AppData\\Roaming\\nltk_data...\n",
            "[nltk_data]   Package wordnet is already up-to-date!\n"
          ]
        },
        {
          "data": {
            "text/plain": [
              "True"
            ]
          },
          "execution_count": 35,
          "metadata": {},
          "output_type": "execute_result"
        }
      ],
      "source": [
        "  import nltk\n",
        "  nltk.download('wordnet')"
      ]
    },
    {
      "cell_type": "markdown",
      "metadata": {
        "id": "FqrjaWP4i4hv"
      },
      "source": [
        "## i."
      ]
    },
    {
      "cell_type": "code",
      "execution_count": 36,
      "metadata": {
        "colab": {
          "base_uri": "https://localhost:8080/",
          "height": 36
        },
        "id": "IRHzV5SBe2ac",
        "outputId": "8785793d-f474-480b-f81f-328a6558ace6"
      },
      "outputs": [
        {
          "data": {
            "text/plain": [
              "'mechanical device used to wind another device that is driven by a spring (as a clock)'"
            ]
          },
          "execution_count": 36,
          "metadata": {},
          "output_type": "execute_result"
        }
      ],
      "source": [
        "a1 = lesk(word_tokenize('He used the key to unlock the door.'),'key')\n",
        "a1.definition()"
      ]
    },
    {
      "cell_type": "code",
      "execution_count": 37,
      "metadata": {
        "colab": {
          "base_uri": "https://localhost:8080/",
          "height": 36
        },
        "id": "9usJP8Vme2ad",
        "outputId": "f25eedc1-d7b7-48d4-adc0-bacbdcc9e964"
      },
      "outputs": [
        {
          "data": {
            "text/plain": [
              "'vandalize a car by scratching the sides with a key'"
            ]
          },
          "execution_count": 37,
          "metadata": {},
          "output_type": "execute_result"
        }
      ],
      "source": [
        "a2 = lesk(word_tokenize(\"The answer to the problem lies in the key details.\"), \"key\")\n",
        "a2.definition()"
      ]
    },
    {
      "cell_type": "markdown",
      "metadata": {
        "id": "joNGSAxyi7rt"
      },
      "source": [
        "## ii."
      ]
    },
    {
      "cell_type": "code",
      "execution_count": 38,
      "metadata": {
        "colab": {
          "base_uri": "https://localhost:8080/",
          "height": 36
        },
        "id": "6xuLBMF9e2ad",
        "outputId": "1af040e3-7503-4638-831e-35e0987631ad"
      },
      "outputs": [
        {
          "data": {
            "text/plain": [
              "'size or measure according to a scale'"
            ]
          },
          "execution_count": 38,
          "metadata": {},
          "output_type": "execute_result"
        }
      ],
      "source": [
        "b1 = lesk(word_tokenize(\"The weight is measured on a scale weighing instrument.\"), \"scale\")\n",
        "b1.definition()"
      ]
    },
    {
      "cell_type": "code",
      "execution_count": 39,
      "metadata": {
        "colab": {
          "base_uri": "https://localhost:8080/",
          "height": 36
        },
        "id": "DdCvIOmRe2ae",
        "outputId": "0d811aac-4720-4225-c22f-40266145a139"
      },
      "outputs": [
        {
          "data": {
            "text/plain": [
              "'size or measure according to a scale'"
            ]
          },
          "execution_count": 39,
          "metadata": {},
          "output_type": "execute_result"
        }
      ],
      "source": [
        "b2 = lesk(word_tokenize(\"The project is too large in scale for one person.\"), \"scale\")\n",
        "b2.definition()"
      ]
    },
    {
      "cell_type": "markdown",
      "metadata": {
        "id": "TetNeWnMi9d9"
      },
      "source": [
        "## iii."
      ]
    },
    {
      "cell_type": "code",
      "execution_count": 40,
      "metadata": {
        "colab": {
          "base_uri": "https://localhost:8080/",
          "height": 36
        },
        "id": "_CQ7fZVse2ae",
        "outputId": "4482190e-0f50-45ff-8c87-42c5a304f5d3"
      },
      "outputs": [
        {
          "data": {
            "text/plain": [
              "'having or emitting a high-pitched and sharp tone or tones'"
            ]
          },
          "execution_count": 40,
          "metadata": {},
          "output_type": "execute_result"
        }
      ],
      "source": [
        "c1 = lesk(word_tokenize(\"The knife has a very sharp blade.\"), \"sharp\")\n",
        "c1.definition()"
      ]
    },
    {
      "cell_type": "code",
      "execution_count": 41,
      "metadata": {
        "colab": {
          "base_uri": "https://localhost:8080/",
          "height": 36
        },
        "id": "nJfVUYSde2af",
        "outputId": "0e570d9a-3666-44fc-8be3-064887f78797"
      },
      "outputs": [
        {
          "data": {
            "text/plain": [
              "'having or emitting a high-pitched and sharp tone or tones'"
            ]
          },
          "execution_count": 41,
          "metadata": {},
          "output_type": "execute_result"
        }
      ],
      "source": [
        "c2 = lesk(word_tokenize(\"His mind was always sharp and quick.\"), \"sharp\")\n",
        "c2.definition()"
      ]
    },
    {
      "cell_type": "code",
      "execution_count": null,
      "metadata": {
        "id": "ZDh8hjIke2af"
      },
      "outputs": [],
      "source": []
    },
    {
      "cell_type": "markdown",
      "metadata": {
        "id": "qbdQdLrre2ag"
      },
      "source": [
        "## 4. Use following sentences to find the bag of words using count vectorizer.\n",
        "1. The postman delivered the package to the wrong address.\n",
        "2. I wrapped a beautiful present for my friend's birthday.\n",
        "3. The delivery truck arrived late due to heavy traffic.\n",
        "4. We need to check the shipping address before sending the order.\n",
        "5. Online shopping offers a wide variety of products with fast delivery."
      ]
    },
    {
      "cell_type": "code",
      "execution_count": 42,
      "metadata": {
        "id": "C07L5fN5e2ag"
      },
      "outputs": [],
      "source": [
        "from sklearn.feature_extraction.text import CountVectorizer\n",
        "import pandas as pd"
      ]
    },
    {
      "cell_type": "code",
      "execution_count": 43,
      "metadata": {
        "id": "DiDO8OJue2ah"
      },
      "outputs": [],
      "source": [
        "cvt = CountVectorizer()"
      ]
    },
    {
      "cell_type": "code",
      "execution_count": 44,
      "metadata": {
        "id": "DzlsvGCxe2ah"
      },
      "outputs": [],
      "source": [
        "sent1 = \"The postman delivered the package to the wrong address.\"\n",
        "sent2 = \"I wrapped a beautiful present for my friend's birthday.\"\n",
        "sent3 = \"The delivery truck arrived late due to heavy traffic.\"\n",
        "sent4 = \"We need to check the shipping address before sending the order.\"\n",
        "sent5 = \"Online shopping offers a wide variety of products with fast delivery.\""
      ]
    },
    {
      "cell_type": "code",
      "execution_count": 45,
      "metadata": {
        "id": "x5FeMHKoe2ah"
      },
      "outputs": [],
      "source": [
        "new_data = cvt.fit_transform([sent1, sent2, sent3, sent4, sent5])"
      ]
    },
    {
      "cell_type": "code",
      "execution_count": 46,
      "metadata": {
        "id": "lNT7RgJre2ai"
      },
      "outputs": [],
      "source": [
        "df = pd.DataFrame(data=new_data.toarray(), columns=cvt.get_feature_names_out())"
      ]
    },
    {
      "cell_type": "code",
      "execution_count": 47,
      "metadata": {
        "colab": {
          "base_uri": "https://localhost:8080/",
          "height": 235
        },
        "id": "gd2qwPuce2ai",
        "outputId": "14de2501-946f-4130-af6f-aa5cd3546956"
      },
      "outputs": [
        {
          "data": {
            "text/html": [
              "<div>\n",
              "<style scoped>\n",
              "    .dataframe tbody tr th:only-of-type {\n",
              "        vertical-align: middle;\n",
              "    }\n",
              "\n",
              "    .dataframe tbody tr th {\n",
              "        vertical-align: top;\n",
              "    }\n",
              "\n",
              "    .dataframe thead th {\n",
              "        text-align: right;\n",
              "    }\n",
              "</style>\n",
              "<table border=\"1\" class=\"dataframe\">\n",
              "  <thead>\n",
              "    <tr style=\"text-align: right;\">\n",
              "      <th></th>\n",
              "      <th>address</th>\n",
              "      <th>arrived</th>\n",
              "      <th>beautiful</th>\n",
              "      <th>before</th>\n",
              "      <th>birthday</th>\n",
              "      <th>check</th>\n",
              "      <th>delivered</th>\n",
              "      <th>delivery</th>\n",
              "      <th>due</th>\n",
              "      <th>fast</th>\n",
              "      <th>...</th>\n",
              "      <th>the</th>\n",
              "      <th>to</th>\n",
              "      <th>traffic</th>\n",
              "      <th>truck</th>\n",
              "      <th>variety</th>\n",
              "      <th>we</th>\n",
              "      <th>wide</th>\n",
              "      <th>with</th>\n",
              "      <th>wrapped</th>\n",
              "      <th>wrong</th>\n",
              "    </tr>\n",
              "  </thead>\n",
              "  <tbody>\n",
              "    <tr>\n",
              "      <th>0</th>\n",
              "      <td>1</td>\n",
              "      <td>0</td>\n",
              "      <td>0</td>\n",
              "      <td>0</td>\n",
              "      <td>0</td>\n",
              "      <td>0</td>\n",
              "      <td>1</td>\n",
              "      <td>0</td>\n",
              "      <td>0</td>\n",
              "      <td>0</td>\n",
              "      <td>...</td>\n",
              "      <td>3</td>\n",
              "      <td>1</td>\n",
              "      <td>0</td>\n",
              "      <td>0</td>\n",
              "      <td>0</td>\n",
              "      <td>0</td>\n",
              "      <td>0</td>\n",
              "      <td>0</td>\n",
              "      <td>0</td>\n",
              "      <td>1</td>\n",
              "    </tr>\n",
              "    <tr>\n",
              "      <th>1</th>\n",
              "      <td>0</td>\n",
              "      <td>0</td>\n",
              "      <td>1</td>\n",
              "      <td>0</td>\n",
              "      <td>1</td>\n",
              "      <td>0</td>\n",
              "      <td>0</td>\n",
              "      <td>0</td>\n",
              "      <td>0</td>\n",
              "      <td>0</td>\n",
              "      <td>...</td>\n",
              "      <td>0</td>\n",
              "      <td>0</td>\n",
              "      <td>0</td>\n",
              "      <td>0</td>\n",
              "      <td>0</td>\n",
              "      <td>0</td>\n",
              "      <td>0</td>\n",
              "      <td>0</td>\n",
              "      <td>1</td>\n",
              "      <td>0</td>\n",
              "    </tr>\n",
              "    <tr>\n",
              "      <th>2</th>\n",
              "      <td>0</td>\n",
              "      <td>1</td>\n",
              "      <td>0</td>\n",
              "      <td>0</td>\n",
              "      <td>0</td>\n",
              "      <td>0</td>\n",
              "      <td>0</td>\n",
              "      <td>1</td>\n",
              "      <td>1</td>\n",
              "      <td>0</td>\n",
              "      <td>...</td>\n",
              "      <td>1</td>\n",
              "      <td>1</td>\n",
              "      <td>1</td>\n",
              "      <td>1</td>\n",
              "      <td>0</td>\n",
              "      <td>0</td>\n",
              "      <td>0</td>\n",
              "      <td>0</td>\n",
              "      <td>0</td>\n",
              "      <td>0</td>\n",
              "    </tr>\n",
              "    <tr>\n",
              "      <th>3</th>\n",
              "      <td>1</td>\n",
              "      <td>0</td>\n",
              "      <td>0</td>\n",
              "      <td>1</td>\n",
              "      <td>0</td>\n",
              "      <td>1</td>\n",
              "      <td>0</td>\n",
              "      <td>0</td>\n",
              "      <td>0</td>\n",
              "      <td>0</td>\n",
              "      <td>...</td>\n",
              "      <td>2</td>\n",
              "      <td>1</td>\n",
              "      <td>0</td>\n",
              "      <td>0</td>\n",
              "      <td>0</td>\n",
              "      <td>1</td>\n",
              "      <td>0</td>\n",
              "      <td>0</td>\n",
              "      <td>0</td>\n",
              "      <td>0</td>\n",
              "    </tr>\n",
              "    <tr>\n",
              "      <th>4</th>\n",
              "      <td>0</td>\n",
              "      <td>0</td>\n",
              "      <td>0</td>\n",
              "      <td>0</td>\n",
              "      <td>0</td>\n",
              "      <td>0</td>\n",
              "      <td>0</td>\n",
              "      <td>1</td>\n",
              "      <td>0</td>\n",
              "      <td>1</td>\n",
              "      <td>...</td>\n",
              "      <td>0</td>\n",
              "      <td>0</td>\n",
              "      <td>0</td>\n",
              "      <td>0</td>\n",
              "      <td>1</td>\n",
              "      <td>0</td>\n",
              "      <td>1</td>\n",
              "      <td>1</td>\n",
              "      <td>0</td>\n",
              "      <td>0</td>\n",
              "    </tr>\n",
              "  </tbody>\n",
              "</table>\n",
              "<p>5 rows × 37 columns</p>\n",
              "</div>"
            ],
            "text/plain": [
              "   address  arrived  beautiful  before  birthday  check  delivered  delivery  \\\n",
              "0        1        0          0       0         0      0          1         0   \n",
              "1        0        0          1       0         1      0          0         0   \n",
              "2        0        1          0       0         0      0          0         1   \n",
              "3        1        0          0       1         0      1          0         0   \n",
              "4        0        0          0       0         0      0          0         1   \n",
              "\n",
              "   due  fast  ...  the  to  traffic  truck  variety  we  wide  with  wrapped  \\\n",
              "0    0     0  ...    3   1        0      0        0   0     0     0        0   \n",
              "1    0     0  ...    0   0        0      0        0   0     0     0        1   \n",
              "2    1     0  ...    1   1        1      1        0   0     0     0        0   \n",
              "3    0     0  ...    2   1        0      0        0   1     0     0        0   \n",
              "4    0     1  ...    0   0        0      0        1   0     1     1        0   \n",
              "\n",
              "   wrong  \n",
              "0      1  \n",
              "1      0  \n",
              "2      0  \n",
              "3      0  \n",
              "4      0  \n",
              "\n",
              "[5 rows x 37 columns]"
            ]
          },
          "execution_count": 47,
          "metadata": {},
          "output_type": "execute_result"
        }
      ],
      "source": [
        "df"
      ]
    },
    {
      "cell_type": "code",
      "execution_count": null,
      "metadata": {
        "id": "I9Ks_b_Fe2aj"
      },
      "outputs": [],
      "source": []
    }
  ],
  "metadata": {
    "accelerator": "GPU",
    "colab": {
      "gpuType": "T4",
      "provenance": []
    },
    "kernelspec": {
      "display_name": "Python 3",
      "name": "python3"
    },
    "language_info": {
      "codemirror_mode": {
        "name": "ipython",
        "version": 3
      },
      "file_extension": ".py",
      "mimetype": "text/x-python",
      "name": "python",
      "nbconvert_exporter": "python",
      "pygments_lexer": "ipython3",
      "version": "3.11.9"
    },
    "widgets": {
      "application/vnd.jupyter.widget-state+json": {
        "04bee15122654a4bacc55de5ed08385f": {
          "model_module": "@jupyter-widgets/controls",
          "model_module_version": "1.5.0",
          "model_name": "HTMLModel",
          "state": {
            "_dom_classes": [],
            "_model_module": "@jupyter-widgets/controls",
            "_model_module_version": "1.5.0",
            "_model_name": "HTMLModel",
            "_view_count": null,
            "_view_module": "@jupyter-widgets/controls",
            "_view_module_version": "1.5.0",
            "_view_name": "HTMLView",
            "description": "",
            "description_tooltip": null,
            "layout": "IPY_MODEL_2d9dd22a089549edaf334204f96b870f",
            "placeholder": "​",
            "style": "IPY_MODEL_5ea30b37f0a54c4e929256ce8c11b359",
            "value": " 26.0/26.0 [00:00&lt;00:00, 999B/s]"
          }
        },
        "07cdac6dd9ee426b805f95712175fb20": {
          "model_module": "@jupyter-widgets/controls",
          "model_module_version": "1.5.0",
          "model_name": "FloatProgressModel",
          "state": {
            "_dom_classes": [],
            "_model_module": "@jupyter-widgets/controls",
            "_model_module_version": "1.5.0",
            "_model_name": "FloatProgressModel",
            "_view_count": null,
            "_view_module": "@jupyter-widgets/controls",
            "_view_module_version": "1.5.0",
            "_view_name": "ProgressView",
            "bar_style": "success",
            "description": "",
            "description_tooltip": null,
            "layout": "IPY_MODEL_e635a4e6f47442bc99b3fa05de72c2ba",
            "max": 456318,
            "min": 0,
            "orientation": "horizontal",
            "style": "IPY_MODEL_e3b8d1f3048b4055be5ffb8853674c88",
            "value": 456318
          }
        },
        "0f45df6ac5694e6d9a1b7278ca3ad307": {
          "model_module": "@jupyter-widgets/controls",
          "model_module_version": "1.5.0",
          "model_name": "DescriptionStyleModel",
          "state": {
            "_model_module": "@jupyter-widgets/controls",
            "_model_module_version": "1.5.0",
            "_model_name": "DescriptionStyleModel",
            "_view_count": null,
            "_view_module": "@jupyter-widgets/base",
            "_view_module_version": "1.2.0",
            "_view_name": "StyleView",
            "description_width": ""
          }
        },
        "22b05e05ce5f4d319337c63741ccc04d": {
          "model_module": "@jupyter-widgets/controls",
          "model_module_version": "1.5.0",
          "model_name": "HTMLModel",
          "state": {
            "_dom_classes": [],
            "_model_module": "@jupyter-widgets/controls",
            "_model_module_version": "1.5.0",
            "_model_name": "HTMLModel",
            "_view_count": null,
            "_view_module": "@jupyter-widgets/controls",
            "_view_module_version": "1.5.0",
            "_view_name": "HTMLView",
            "description": "",
            "description_tooltip": null,
            "layout": "IPY_MODEL_8a20a15afe964d88b641f5ca815ee512",
            "placeholder": "​",
            "style": "IPY_MODEL_e6d79a270c2241458e96979f7303396b",
            "value": "config.json: 100%"
          }
        },
        "272e013c45b7436c84dcb6a3cbaf4a5b": {
          "model_module": "@jupyter-widgets/controls",
          "model_module_version": "1.5.0",
          "model_name": "ProgressStyleModel",
          "state": {
            "_model_module": "@jupyter-widgets/controls",
            "_model_module_version": "1.5.0",
            "_model_name": "ProgressStyleModel",
            "_view_count": null,
            "_view_module": "@jupyter-widgets/base",
            "_view_module_version": "1.2.0",
            "_view_name": "StyleView",
            "bar_color": null,
            "description_width": ""
          }
        },
        "2867a5759ba54398a7005aa6bfb2bc72": {
          "model_module": "@jupyter-widgets/controls",
          "model_module_version": "1.5.0",
          "model_name": "DescriptionStyleModel",
          "state": {
            "_model_module": "@jupyter-widgets/controls",
            "_model_module_version": "1.5.0",
            "_model_name": "DescriptionStyleModel",
            "_view_count": null,
            "_view_module": "@jupyter-widgets/base",
            "_view_module_version": "1.2.0",
            "_view_name": "StyleView",
            "description_width": ""
          }
        },
        "2d9dd22a089549edaf334204f96b870f": {
          "model_module": "@jupyter-widgets/base",
          "model_module_version": "1.2.0",
          "model_name": "LayoutModel",
          "state": {
            "_model_module": "@jupyter-widgets/base",
            "_model_module_version": "1.2.0",
            "_model_name": "LayoutModel",
            "_view_count": null,
            "_view_module": "@jupyter-widgets/base",
            "_view_module_version": "1.2.0",
            "_view_name": "LayoutView",
            "align_content": null,
            "align_items": null,
            "align_self": null,
            "border": null,
            "bottom": null,
            "display": null,
            "flex": null,
            "flex_flow": null,
            "grid_area": null,
            "grid_auto_columns": null,
            "grid_auto_flow": null,
            "grid_auto_rows": null,
            "grid_column": null,
            "grid_gap": null,
            "grid_row": null,
            "grid_template_areas": null,
            "grid_template_columns": null,
            "grid_template_rows": null,
            "height": null,
            "justify_content": null,
            "justify_items": null,
            "left": null,
            "margin": null,
            "max_height": null,
            "max_width": null,
            "min_height": null,
            "min_width": null,
            "object_fit": null,
            "object_position": null,
            "order": null,
            "overflow": null,
            "overflow_x": null,
            "overflow_y": null,
            "padding": null,
            "right": null,
            "top": null,
            "visibility": null,
            "width": null
          }
        },
        "2ed80a97dd35434da44e2035b4d57098": {
          "model_module": "@jupyter-widgets/base",
          "model_module_version": "1.2.0",
          "model_name": "LayoutModel",
          "state": {
            "_model_module": "@jupyter-widgets/base",
            "_model_module_version": "1.2.0",
            "_model_name": "LayoutModel",
            "_view_count": null,
            "_view_module": "@jupyter-widgets/base",
            "_view_module_version": "1.2.0",
            "_view_name": "LayoutView",
            "align_content": null,
            "align_items": null,
            "align_self": null,
            "border": null,
            "bottom": null,
            "display": null,
            "flex": null,
            "flex_flow": null,
            "grid_area": null,
            "grid_auto_columns": null,
            "grid_auto_flow": null,
            "grid_auto_rows": null,
            "grid_column": null,
            "grid_gap": null,
            "grid_row": null,
            "grid_template_areas": null,
            "grid_template_columns": null,
            "grid_template_rows": null,
            "height": null,
            "justify_content": null,
            "justify_items": null,
            "left": null,
            "margin": null,
            "max_height": null,
            "max_width": null,
            "min_height": null,
            "min_width": null,
            "object_fit": null,
            "object_position": null,
            "order": null,
            "overflow": null,
            "overflow_x": null,
            "overflow_y": null,
            "padding": null,
            "right": null,
            "top": null,
            "visibility": null,
            "width": null
          }
        },
        "3ae1eaa1d0dc442aad4f1d9909fcd75b": {
          "model_module": "@jupyter-widgets/base",
          "model_module_version": "1.2.0",
          "model_name": "LayoutModel",
          "state": {
            "_model_module": "@jupyter-widgets/base",
            "_model_module_version": "1.2.0",
            "_model_name": "LayoutModel",
            "_view_count": null,
            "_view_module": "@jupyter-widgets/base",
            "_view_module_version": "1.2.0",
            "_view_name": "LayoutView",
            "align_content": null,
            "align_items": null,
            "align_self": null,
            "border": null,
            "bottom": null,
            "display": null,
            "flex": null,
            "flex_flow": null,
            "grid_area": null,
            "grid_auto_columns": null,
            "grid_auto_flow": null,
            "grid_auto_rows": null,
            "grid_column": null,
            "grid_gap": null,
            "grid_row": null,
            "grid_template_areas": null,
            "grid_template_columns": null,
            "grid_template_rows": null,
            "height": null,
            "justify_content": null,
            "justify_items": null,
            "left": null,
            "margin": null,
            "max_height": null,
            "max_width": null,
            "min_height": null,
            "min_width": null,
            "object_fit": null,
            "object_position": null,
            "order": null,
            "overflow": null,
            "overflow_x": null,
            "overflow_y": null,
            "padding": null,
            "right": null,
            "top": null,
            "visibility": null,
            "width": null
          }
        },
        "3ca804dbf1344cdbb1b2dd0f35a9c0c8": {
          "model_module": "@jupyter-widgets/controls",
          "model_module_version": "1.5.0",
          "model_name": "HTMLModel",
          "state": {
            "_dom_classes": [],
            "_model_module": "@jupyter-widgets/controls",
            "_model_module_version": "1.5.0",
            "_model_name": "HTMLModel",
            "_view_count": null,
            "_view_module": "@jupyter-widgets/controls",
            "_view_module_version": "1.5.0",
            "_view_name": "HTMLView",
            "description": "",
            "description_tooltip": null,
            "layout": "IPY_MODEL_3ae1eaa1d0dc442aad4f1d9909fcd75b",
            "placeholder": "​",
            "style": "IPY_MODEL_c41f6cccbfd2442e8265e3ecb5300ee3",
            "value": "vocab.json: 100%"
          }
        },
        "49dfa19ee2104e9189053c5783042dbd": {
          "model_module": "@jupyter-widgets/base",
          "model_module_version": "1.2.0",
          "model_name": "LayoutModel",
          "state": {
            "_model_module": "@jupyter-widgets/base",
            "_model_module_version": "1.2.0",
            "_model_name": "LayoutModel",
            "_view_count": null,
            "_view_module": "@jupyter-widgets/base",
            "_view_module_version": "1.2.0",
            "_view_name": "LayoutView",
            "align_content": null,
            "align_items": null,
            "align_self": null,
            "border": null,
            "bottom": null,
            "display": null,
            "flex": null,
            "flex_flow": null,
            "grid_area": null,
            "grid_auto_columns": null,
            "grid_auto_flow": null,
            "grid_auto_rows": null,
            "grid_column": null,
            "grid_gap": null,
            "grid_row": null,
            "grid_template_areas": null,
            "grid_template_columns": null,
            "grid_template_rows": null,
            "height": null,
            "justify_content": null,
            "justify_items": null,
            "left": null,
            "margin": null,
            "max_height": null,
            "max_width": null,
            "min_height": null,
            "min_width": null,
            "object_fit": null,
            "object_position": null,
            "order": null,
            "overflow": null,
            "overflow_x": null,
            "overflow_y": null,
            "padding": null,
            "right": null,
            "top": null,
            "visibility": null,
            "width": null
          }
        },
        "527540d455af459ab8cc3c195eedf975": {
          "model_module": "@jupyter-widgets/base",
          "model_module_version": "1.2.0",
          "model_name": "LayoutModel",
          "state": {
            "_model_module": "@jupyter-widgets/base",
            "_model_module_version": "1.2.0",
            "_model_name": "LayoutModel",
            "_view_count": null,
            "_view_module": "@jupyter-widgets/base",
            "_view_module_version": "1.2.0",
            "_view_name": "LayoutView",
            "align_content": null,
            "align_items": null,
            "align_self": null,
            "border": null,
            "bottom": null,
            "display": null,
            "flex": null,
            "flex_flow": null,
            "grid_area": null,
            "grid_auto_columns": null,
            "grid_auto_flow": null,
            "grid_auto_rows": null,
            "grid_column": null,
            "grid_gap": null,
            "grid_row": null,
            "grid_template_areas": null,
            "grid_template_columns": null,
            "grid_template_rows": null,
            "height": null,
            "justify_content": null,
            "justify_items": null,
            "left": null,
            "margin": null,
            "max_height": null,
            "max_width": null,
            "min_height": null,
            "min_width": null,
            "object_fit": null,
            "object_position": null,
            "order": null,
            "overflow": null,
            "overflow_x": null,
            "overflow_y": null,
            "padding": null,
            "right": null,
            "top": null,
            "visibility": null,
            "width": null
          }
        },
        "5901af0c97a74375a8aea82536aaa694": {
          "model_module": "@jupyter-widgets/controls",
          "model_module_version": "1.5.0",
          "model_name": "DescriptionStyleModel",
          "state": {
            "_model_module": "@jupyter-widgets/controls",
            "_model_module_version": "1.5.0",
            "_model_name": "DescriptionStyleModel",
            "_view_count": null,
            "_view_module": "@jupyter-widgets/base",
            "_view_module_version": "1.2.0",
            "_view_name": "StyleView",
            "description_width": ""
          }
        },
        "5a8b7a13cb4846f48726ea18622ed369": {
          "model_module": "@jupyter-widgets/controls",
          "model_module_version": "1.5.0",
          "model_name": "HBoxModel",
          "state": {
            "_dom_classes": [],
            "_model_module": "@jupyter-widgets/controls",
            "_model_module_version": "1.5.0",
            "_model_name": "HBoxModel",
            "_view_count": null,
            "_view_module": "@jupyter-widgets/controls",
            "_view_module_version": "1.5.0",
            "_view_name": "HBoxView",
            "box_style": "",
            "children": [
              "IPY_MODEL_3ca804dbf1344cdbb1b2dd0f35a9c0c8",
              "IPY_MODEL_aeecfe7c4c1e483389878bb0f7c374bb",
              "IPY_MODEL_92cedd35f25b40b893a4a70cd3e87893"
            ],
            "layout": "IPY_MODEL_8bd095f5449d47cc934f678bc41304a6"
          }
        },
        "5ea30b37f0a54c4e929256ce8c11b359": {
          "model_module": "@jupyter-widgets/controls",
          "model_module_version": "1.5.0",
          "model_name": "DescriptionStyleModel",
          "state": {
            "_model_module": "@jupyter-widgets/controls",
            "_model_module_version": "1.5.0",
            "_model_name": "DescriptionStyleModel",
            "_view_count": null,
            "_view_module": "@jupyter-widgets/base",
            "_view_module_version": "1.2.0",
            "_view_name": "StyleView",
            "description_width": ""
          }
        },
        "6209ef8a32a64179842a0e3b2c10e2a2": {
          "model_module": "@jupyter-widgets/controls",
          "model_module_version": "1.5.0",
          "model_name": "HBoxModel",
          "state": {
            "_dom_classes": [],
            "_model_module": "@jupyter-widgets/controls",
            "_model_module_version": "1.5.0",
            "_model_name": "HBoxModel",
            "_view_count": null,
            "_view_module": "@jupyter-widgets/controls",
            "_view_module_version": "1.5.0",
            "_view_name": "HBoxView",
            "box_style": "",
            "children": [
              "IPY_MODEL_fc6142ef7c0743d296bcae1f71311f2f",
              "IPY_MODEL_07cdac6dd9ee426b805f95712175fb20",
              "IPY_MODEL_d753cdb9ac8d41628aeedadbeebe8eef"
            ],
            "layout": "IPY_MODEL_7177a344fad040eba2399fafc2bcaa5a"
          }
        },
        "631e6054436649f3ae001af38704f8c8": {
          "model_module": "@jupyter-widgets/base",
          "model_module_version": "1.2.0",
          "model_name": "LayoutModel",
          "state": {
            "_model_module": "@jupyter-widgets/base",
            "_model_module_version": "1.2.0",
            "_model_name": "LayoutModel",
            "_view_count": null,
            "_view_module": "@jupyter-widgets/base",
            "_view_module_version": "1.2.0",
            "_view_name": "LayoutView",
            "align_content": null,
            "align_items": null,
            "align_self": null,
            "border": null,
            "bottom": null,
            "display": null,
            "flex": null,
            "flex_flow": null,
            "grid_area": null,
            "grid_auto_columns": null,
            "grid_auto_flow": null,
            "grid_auto_rows": null,
            "grid_column": null,
            "grid_gap": null,
            "grid_row": null,
            "grid_template_areas": null,
            "grid_template_columns": null,
            "grid_template_rows": null,
            "height": null,
            "justify_content": null,
            "justify_items": null,
            "left": null,
            "margin": null,
            "max_height": null,
            "max_width": null,
            "min_height": null,
            "min_width": null,
            "object_fit": null,
            "object_position": null,
            "order": null,
            "overflow": null,
            "overflow_x": null,
            "overflow_y": null,
            "padding": null,
            "right": null,
            "top": null,
            "visibility": null,
            "width": null
          }
        },
        "634ef0a5eb9443559df1f4bf1561c657": {
          "model_module": "@jupyter-widgets/controls",
          "model_module_version": "1.5.0",
          "model_name": "HTMLModel",
          "state": {
            "_dom_classes": [],
            "_model_module": "@jupyter-widgets/controls",
            "_model_module_version": "1.5.0",
            "_model_name": "HTMLModel",
            "_view_count": null,
            "_view_module": "@jupyter-widgets/controls",
            "_view_module_version": "1.5.0",
            "_view_name": "HTMLView",
            "description": "",
            "description_tooltip": null,
            "layout": "IPY_MODEL_49dfa19ee2104e9189053c5783042dbd",
            "placeholder": "​",
            "style": "IPY_MODEL_5901af0c97a74375a8aea82536aaa694",
            "value": "pytorch_model.bin: 100%"
          }
        },
        "6559e7cef4df463d92a43d23438d0f9c": {
          "model_module": "@jupyter-widgets/base",
          "model_module_version": "1.2.0",
          "model_name": "LayoutModel",
          "state": {
            "_model_module": "@jupyter-widgets/base",
            "_model_module_version": "1.2.0",
            "_model_name": "LayoutModel",
            "_view_count": null,
            "_view_module": "@jupyter-widgets/base",
            "_view_module_version": "1.2.0",
            "_view_name": "LayoutView",
            "align_content": null,
            "align_items": null,
            "align_self": null,
            "border": null,
            "bottom": null,
            "display": null,
            "flex": null,
            "flex_flow": null,
            "grid_area": null,
            "grid_auto_columns": null,
            "grid_auto_flow": null,
            "grid_auto_rows": null,
            "grid_column": null,
            "grid_gap": null,
            "grid_row": null,
            "grid_template_areas": null,
            "grid_template_columns": null,
            "grid_template_rows": null,
            "height": null,
            "justify_content": null,
            "justify_items": null,
            "left": null,
            "margin": null,
            "max_height": null,
            "max_width": null,
            "min_height": null,
            "min_width": null,
            "object_fit": null,
            "object_position": null,
            "order": null,
            "overflow": null,
            "overflow_x": null,
            "overflow_y": null,
            "padding": null,
            "right": null,
            "top": null,
            "visibility": null,
            "width": null
          }
        },
        "6709200ed95246e28d1adb02bbf4c0bb": {
          "model_module": "@jupyter-widgets/base",
          "model_module_version": "1.2.0",
          "model_name": "LayoutModel",
          "state": {
            "_model_module": "@jupyter-widgets/base",
            "_model_module_version": "1.2.0",
            "_model_name": "LayoutModel",
            "_view_count": null,
            "_view_module": "@jupyter-widgets/base",
            "_view_module_version": "1.2.0",
            "_view_name": "LayoutView",
            "align_content": null,
            "align_items": null,
            "align_self": null,
            "border": null,
            "bottom": null,
            "display": null,
            "flex": null,
            "flex_flow": null,
            "grid_area": null,
            "grid_auto_columns": null,
            "grid_auto_flow": null,
            "grid_auto_rows": null,
            "grid_column": null,
            "grid_gap": null,
            "grid_row": null,
            "grid_template_areas": null,
            "grid_template_columns": null,
            "grid_template_rows": null,
            "height": null,
            "justify_content": null,
            "justify_items": null,
            "left": null,
            "margin": null,
            "max_height": null,
            "max_width": null,
            "min_height": null,
            "min_width": null,
            "object_fit": null,
            "object_position": null,
            "order": null,
            "overflow": null,
            "overflow_x": null,
            "overflow_y": null,
            "padding": null,
            "right": null,
            "top": null,
            "visibility": null,
            "width": null
          }
        },
        "69efc54a4917412884c7662e03f0b69d": {
          "model_module": "@jupyter-widgets/controls",
          "model_module_version": "1.5.0",
          "model_name": "HTMLModel",
          "state": {
            "_dom_classes": [],
            "_model_module": "@jupyter-widgets/controls",
            "_model_module_version": "1.5.0",
            "_model_name": "HTMLModel",
            "_view_count": null,
            "_view_module": "@jupyter-widgets/controls",
            "_view_module_version": "1.5.0",
            "_view_name": "HTMLView",
            "description": "",
            "description_tooltip": null,
            "layout": "IPY_MODEL_631e6054436649f3ae001af38704f8c8",
            "placeholder": "​",
            "style": "IPY_MODEL_7d838ce80472483182a2cbd5f4fe12a1",
            "value": " 1.22G/1.22G [00:10&lt;00:00, 108MB/s]"
          }
        },
        "6a9af947438f4aefa445bda0fb98aac1": {
          "model_module": "@jupyter-widgets/base",
          "model_module_version": "1.2.0",
          "model_name": "LayoutModel",
          "state": {
            "_model_module": "@jupyter-widgets/base",
            "_model_module_version": "1.2.0",
            "_model_name": "LayoutModel",
            "_view_count": null,
            "_view_module": "@jupyter-widgets/base",
            "_view_module_version": "1.2.0",
            "_view_name": "LayoutView",
            "align_content": null,
            "align_items": null,
            "align_self": null,
            "border": null,
            "bottom": null,
            "display": null,
            "flex": null,
            "flex_flow": null,
            "grid_area": null,
            "grid_auto_columns": null,
            "grid_auto_flow": null,
            "grid_auto_rows": null,
            "grid_column": null,
            "grid_gap": null,
            "grid_row": null,
            "grid_template_areas": null,
            "grid_template_columns": null,
            "grid_template_rows": null,
            "height": null,
            "justify_content": null,
            "justify_items": null,
            "left": null,
            "margin": null,
            "max_height": null,
            "max_width": null,
            "min_height": null,
            "min_width": null,
            "object_fit": null,
            "object_position": null,
            "order": null,
            "overflow": null,
            "overflow_x": null,
            "overflow_y": null,
            "padding": null,
            "right": null,
            "top": null,
            "visibility": null,
            "width": null
          }
        },
        "6b076c3525b8479caa26db37bdce3ed0": {
          "model_module": "@jupyter-widgets/controls",
          "model_module_version": "1.5.0",
          "model_name": "HBoxModel",
          "state": {
            "_dom_classes": [],
            "_model_module": "@jupyter-widgets/controls",
            "_model_module_version": "1.5.0",
            "_model_name": "HBoxModel",
            "_view_count": null,
            "_view_module": "@jupyter-widgets/controls",
            "_view_module_version": "1.5.0",
            "_view_name": "HBoxView",
            "box_style": "",
            "children": [
              "IPY_MODEL_22b05e05ce5f4d319337c63741ccc04d",
              "IPY_MODEL_d2973c5c647e499687f76006cec0a304",
              "IPY_MODEL_8939f8c003c04321a8cf151d2f22f1b1"
            ],
            "layout": "IPY_MODEL_6559e7cef4df463d92a43d23438d0f9c"
          }
        },
        "705f0e6d9f8f423ab63e593ecacd71d6": {
          "model_module": "@jupyter-widgets/base",
          "model_module_version": "1.2.0",
          "model_name": "LayoutModel",
          "state": {
            "_model_module": "@jupyter-widgets/base",
            "_model_module_version": "1.2.0",
            "_model_name": "LayoutModel",
            "_view_count": null,
            "_view_module": "@jupyter-widgets/base",
            "_view_module_version": "1.2.0",
            "_view_name": "LayoutView",
            "align_content": null,
            "align_items": null,
            "align_self": null,
            "border": null,
            "bottom": null,
            "display": null,
            "flex": null,
            "flex_flow": null,
            "grid_area": null,
            "grid_auto_columns": null,
            "grid_auto_flow": null,
            "grid_auto_rows": null,
            "grid_column": null,
            "grid_gap": null,
            "grid_row": null,
            "grid_template_areas": null,
            "grid_template_columns": null,
            "grid_template_rows": null,
            "height": null,
            "justify_content": null,
            "justify_items": null,
            "left": null,
            "margin": null,
            "max_height": null,
            "max_width": null,
            "min_height": null,
            "min_width": null,
            "object_fit": null,
            "object_position": null,
            "order": null,
            "overflow": null,
            "overflow_x": null,
            "overflow_y": null,
            "padding": null,
            "right": null,
            "top": null,
            "visibility": null,
            "width": null
          }
        },
        "7177a344fad040eba2399fafc2bcaa5a": {
          "model_module": "@jupyter-widgets/base",
          "model_module_version": "1.2.0",
          "model_name": "LayoutModel",
          "state": {
            "_model_module": "@jupyter-widgets/base",
            "_model_module_version": "1.2.0",
            "_model_name": "LayoutModel",
            "_view_count": null,
            "_view_module": "@jupyter-widgets/base",
            "_view_module_version": "1.2.0",
            "_view_name": "LayoutView",
            "align_content": null,
            "align_items": null,
            "align_self": null,
            "border": null,
            "bottom": null,
            "display": null,
            "flex": null,
            "flex_flow": null,
            "grid_area": null,
            "grid_auto_columns": null,
            "grid_auto_flow": null,
            "grid_auto_rows": null,
            "grid_column": null,
            "grid_gap": null,
            "grid_row": null,
            "grid_template_areas": null,
            "grid_template_columns": null,
            "grid_template_rows": null,
            "height": null,
            "justify_content": null,
            "justify_items": null,
            "left": null,
            "margin": null,
            "max_height": null,
            "max_width": null,
            "min_height": null,
            "min_width": null,
            "object_fit": null,
            "object_position": null,
            "order": null,
            "overflow": null,
            "overflow_x": null,
            "overflow_y": null,
            "padding": null,
            "right": null,
            "top": null,
            "visibility": null,
            "width": null
          }
        },
        "75f56de7e5954437868f1a428b29e346": {
          "model_module": "@jupyter-widgets/controls",
          "model_module_version": "1.5.0",
          "model_name": "HBoxModel",
          "state": {
            "_dom_classes": [],
            "_model_module": "@jupyter-widgets/controls",
            "_model_module_version": "1.5.0",
            "_model_name": "HBoxModel",
            "_view_count": null,
            "_view_module": "@jupyter-widgets/controls",
            "_view_module_version": "1.5.0",
            "_view_name": "HBoxView",
            "box_style": "",
            "children": [
              "IPY_MODEL_634ef0a5eb9443559df1f4bf1561c657",
              "IPY_MODEL_9c10b2e806dc44479465e9b878f3de90",
              "IPY_MODEL_69efc54a4917412884c7662e03f0b69d"
            ],
            "layout": "IPY_MODEL_e3015c27fe8d4b29a2c8bc8698e86857"
          }
        },
        "78c0cabd813c412e9cc203b06f5fb960": {
          "model_module": "@jupyter-widgets/base",
          "model_module_version": "1.2.0",
          "model_name": "LayoutModel",
          "state": {
            "_model_module": "@jupyter-widgets/base",
            "_model_module_version": "1.2.0",
            "_model_name": "LayoutModel",
            "_view_count": null,
            "_view_module": "@jupyter-widgets/base",
            "_view_module_version": "1.2.0",
            "_view_name": "LayoutView",
            "align_content": null,
            "align_items": null,
            "align_self": null,
            "border": null,
            "bottom": null,
            "display": null,
            "flex": null,
            "flex_flow": null,
            "grid_area": null,
            "grid_auto_columns": null,
            "grid_auto_flow": null,
            "grid_auto_rows": null,
            "grid_column": null,
            "grid_gap": null,
            "grid_row": null,
            "grid_template_areas": null,
            "grid_template_columns": null,
            "grid_template_rows": null,
            "height": null,
            "justify_content": null,
            "justify_items": null,
            "left": null,
            "margin": null,
            "max_height": null,
            "max_width": null,
            "min_height": null,
            "min_width": null,
            "object_fit": null,
            "object_position": null,
            "order": null,
            "overflow": null,
            "overflow_x": null,
            "overflow_y": null,
            "padding": null,
            "right": null,
            "top": null,
            "visibility": null,
            "width": null
          }
        },
        "7d838ce80472483182a2cbd5f4fe12a1": {
          "model_module": "@jupyter-widgets/controls",
          "model_module_version": "1.5.0",
          "model_name": "DescriptionStyleModel",
          "state": {
            "_model_module": "@jupyter-widgets/controls",
            "_model_module_version": "1.5.0",
            "_model_name": "DescriptionStyleModel",
            "_view_count": null,
            "_view_module": "@jupyter-widgets/base",
            "_view_module_version": "1.2.0",
            "_view_name": "StyleView",
            "description_width": ""
          }
        },
        "8939f8c003c04321a8cf151d2f22f1b1": {
          "model_module": "@jupyter-widgets/controls",
          "model_module_version": "1.5.0",
          "model_name": "HTMLModel",
          "state": {
            "_dom_classes": [],
            "_model_module": "@jupyter-widgets/controls",
            "_model_module_version": "1.5.0",
            "_model_name": "HTMLModel",
            "_view_count": null,
            "_view_module": "@jupyter-widgets/controls",
            "_view_module_version": "1.5.0",
            "_view_name": "HTMLView",
            "description": "",
            "description_tooltip": null,
            "layout": "IPY_MODEL_2ed80a97dd35434da44e2035b4d57098",
            "placeholder": "​",
            "style": "IPY_MODEL_0f45df6ac5694e6d9a1b7278ca3ad307",
            "value": " 1.80k/1.80k [00:00&lt;00:00, 53.6kB/s]"
          }
        },
        "8a20a15afe964d88b641f5ca815ee512": {
          "model_module": "@jupyter-widgets/base",
          "model_module_version": "1.2.0",
          "model_name": "LayoutModel",
          "state": {
            "_model_module": "@jupyter-widgets/base",
            "_model_module_version": "1.2.0",
            "_model_name": "LayoutModel",
            "_view_count": null,
            "_view_module": "@jupyter-widgets/base",
            "_view_module_version": "1.2.0",
            "_view_name": "LayoutView",
            "align_content": null,
            "align_items": null,
            "align_self": null,
            "border": null,
            "bottom": null,
            "display": null,
            "flex": null,
            "flex_flow": null,
            "grid_area": null,
            "grid_auto_columns": null,
            "grid_auto_flow": null,
            "grid_auto_rows": null,
            "grid_column": null,
            "grid_gap": null,
            "grid_row": null,
            "grid_template_areas": null,
            "grid_template_columns": null,
            "grid_template_rows": null,
            "height": null,
            "justify_content": null,
            "justify_items": null,
            "left": null,
            "margin": null,
            "max_height": null,
            "max_width": null,
            "min_height": null,
            "min_width": null,
            "object_fit": null,
            "object_position": null,
            "order": null,
            "overflow": null,
            "overflow_x": null,
            "overflow_y": null,
            "padding": null,
            "right": null,
            "top": null,
            "visibility": null,
            "width": null
          }
        },
        "8bd095f5449d47cc934f678bc41304a6": {
          "model_module": "@jupyter-widgets/base",
          "model_module_version": "1.2.0",
          "model_name": "LayoutModel",
          "state": {
            "_model_module": "@jupyter-widgets/base",
            "_model_module_version": "1.2.0",
            "_model_name": "LayoutModel",
            "_view_count": null,
            "_view_module": "@jupyter-widgets/base",
            "_view_module_version": "1.2.0",
            "_view_name": "LayoutView",
            "align_content": null,
            "align_items": null,
            "align_self": null,
            "border": null,
            "bottom": null,
            "display": null,
            "flex": null,
            "flex_flow": null,
            "grid_area": null,
            "grid_auto_columns": null,
            "grid_auto_flow": null,
            "grid_auto_rows": null,
            "grid_column": null,
            "grid_gap": null,
            "grid_row": null,
            "grid_template_areas": null,
            "grid_template_columns": null,
            "grid_template_rows": null,
            "height": null,
            "justify_content": null,
            "justify_items": null,
            "left": null,
            "margin": null,
            "max_height": null,
            "max_width": null,
            "min_height": null,
            "min_width": null,
            "object_fit": null,
            "object_position": null,
            "order": null,
            "overflow": null,
            "overflow_x": null,
            "overflow_y": null,
            "padding": null,
            "right": null,
            "top": null,
            "visibility": null,
            "width": null
          }
        },
        "8c4cdde9d9b14c2ea2bfc74326aa1d54": {
          "model_module": "@jupyter-widgets/base",
          "model_module_version": "1.2.0",
          "model_name": "LayoutModel",
          "state": {
            "_model_module": "@jupyter-widgets/base",
            "_model_module_version": "1.2.0",
            "_model_name": "LayoutModel",
            "_view_count": null,
            "_view_module": "@jupyter-widgets/base",
            "_view_module_version": "1.2.0",
            "_view_name": "LayoutView",
            "align_content": null,
            "align_items": null,
            "align_self": null,
            "border": null,
            "bottom": null,
            "display": null,
            "flex": null,
            "flex_flow": null,
            "grid_area": null,
            "grid_auto_columns": null,
            "grid_auto_flow": null,
            "grid_auto_rows": null,
            "grid_column": null,
            "grid_gap": null,
            "grid_row": null,
            "grid_template_areas": null,
            "grid_template_columns": null,
            "grid_template_rows": null,
            "height": null,
            "justify_content": null,
            "justify_items": null,
            "left": null,
            "margin": null,
            "max_height": null,
            "max_width": null,
            "min_height": null,
            "min_width": null,
            "object_fit": null,
            "object_position": null,
            "order": null,
            "overflow": null,
            "overflow_x": null,
            "overflow_y": null,
            "padding": null,
            "right": null,
            "top": null,
            "visibility": null,
            "width": null
          }
        },
        "917b33a324f7401f980362cb1f1a29c8": {
          "model_module": "@jupyter-widgets/controls",
          "model_module_version": "1.5.0",
          "model_name": "ProgressStyleModel",
          "state": {
            "_model_module": "@jupyter-widgets/controls",
            "_model_module_version": "1.5.0",
            "_model_name": "ProgressStyleModel",
            "_view_count": null,
            "_view_module": "@jupyter-widgets/base",
            "_view_module_version": "1.2.0",
            "_view_name": "StyleView",
            "bar_color": null,
            "description_width": ""
          }
        },
        "92cedd35f25b40b893a4a70cd3e87893": {
          "model_module": "@jupyter-widgets/controls",
          "model_module_version": "1.5.0",
          "model_name": "HTMLModel",
          "state": {
            "_dom_classes": [],
            "_model_module": "@jupyter-widgets/controls",
            "_model_module_version": "1.5.0",
            "_model_name": "HTMLModel",
            "_view_count": null,
            "_view_module": "@jupyter-widgets/controls",
            "_view_module_version": "1.5.0",
            "_view_name": "HTMLView",
            "description": "",
            "description_tooltip": null,
            "layout": "IPY_MODEL_a8962ab5e2144a919bcd4528da88f335",
            "placeholder": "​",
            "style": "IPY_MODEL_e9acb57b8cf645a4bf533d592d85d5fd",
            "value": " 899k/899k [00:00&lt;00:00, 9.13MB/s]"
          }
        },
        "9c10b2e806dc44479465e9b878f3de90": {
          "model_module": "@jupyter-widgets/controls",
          "model_module_version": "1.5.0",
          "model_name": "FloatProgressModel",
          "state": {
            "_dom_classes": [],
            "_model_module": "@jupyter-widgets/controls",
            "_model_module_version": "1.5.0",
            "_model_name": "FloatProgressModel",
            "_view_count": null,
            "_view_module": "@jupyter-widgets/controls",
            "_view_module_version": "1.5.0",
            "_view_name": "ProgressView",
            "bar_style": "success",
            "description": "",
            "description_tooltip": null,
            "layout": "IPY_MODEL_ff49966c6e8a47688d604632f18bc9a8",
            "max": 1222317369,
            "min": 0,
            "orientation": "horizontal",
            "style": "IPY_MODEL_b9a9433ca4144b83af89e2d07d4f5fb1",
            "value": 1222317369
          }
        },
        "a03ba7ea99204719b62fb0f6a563f3fd": {
          "model_module": "@jupyter-widgets/controls",
          "model_module_version": "1.5.0",
          "model_name": "ProgressStyleModel",
          "state": {
            "_model_module": "@jupyter-widgets/controls",
            "_model_module_version": "1.5.0",
            "_model_name": "ProgressStyleModel",
            "_view_count": null,
            "_view_module": "@jupyter-widgets/base",
            "_view_module_version": "1.2.0",
            "_view_name": "StyleView",
            "bar_color": null,
            "description_width": ""
          }
        },
        "a20c7b439f74423f8aca40920824c324": {
          "model_module": "@jupyter-widgets/controls",
          "model_module_version": "1.5.0",
          "model_name": "FloatProgressModel",
          "state": {
            "_dom_classes": [],
            "_model_module": "@jupyter-widgets/controls",
            "_model_module_version": "1.5.0",
            "_model_name": "FloatProgressModel",
            "_view_count": null,
            "_view_module": "@jupyter-widgets/controls",
            "_view_module_version": "1.5.0",
            "_view_name": "ProgressView",
            "bar_style": "success",
            "description": "",
            "description_tooltip": null,
            "layout": "IPY_MODEL_6709200ed95246e28d1adb02bbf4c0bb",
            "max": 26,
            "min": 0,
            "orientation": "horizontal",
            "style": "IPY_MODEL_272e013c45b7436c84dcb6a3cbaf4a5b",
            "value": 26
          }
        },
        "a8962ab5e2144a919bcd4528da88f335": {
          "model_module": "@jupyter-widgets/base",
          "model_module_version": "1.2.0",
          "model_name": "LayoutModel",
          "state": {
            "_model_module": "@jupyter-widgets/base",
            "_model_module_version": "1.2.0",
            "_model_name": "LayoutModel",
            "_view_count": null,
            "_view_module": "@jupyter-widgets/base",
            "_view_module_version": "1.2.0",
            "_view_name": "LayoutView",
            "align_content": null,
            "align_items": null,
            "align_self": null,
            "border": null,
            "bottom": null,
            "display": null,
            "flex": null,
            "flex_flow": null,
            "grid_area": null,
            "grid_auto_columns": null,
            "grid_auto_flow": null,
            "grid_auto_rows": null,
            "grid_column": null,
            "grid_gap": null,
            "grid_row": null,
            "grid_template_areas": null,
            "grid_template_columns": null,
            "grid_template_rows": null,
            "height": null,
            "justify_content": null,
            "justify_items": null,
            "left": null,
            "margin": null,
            "max_height": null,
            "max_width": null,
            "min_height": null,
            "min_width": null,
            "object_fit": null,
            "object_position": null,
            "order": null,
            "overflow": null,
            "overflow_x": null,
            "overflow_y": null,
            "padding": null,
            "right": null,
            "top": null,
            "visibility": null,
            "width": null
          }
        },
        "aa7f1fe0190147808160622270643adb": {
          "model_module": "@jupyter-widgets/controls",
          "model_module_version": "1.5.0",
          "model_name": "HBoxModel",
          "state": {
            "_dom_classes": [],
            "_model_module": "@jupyter-widgets/controls",
            "_model_module_version": "1.5.0",
            "_model_name": "HBoxModel",
            "_view_count": null,
            "_view_module": "@jupyter-widgets/controls",
            "_view_module_version": "1.5.0",
            "_view_name": "HBoxView",
            "box_style": "",
            "children": [
              "IPY_MODEL_b75e58e9c0104df2b726308f8ca61317",
              "IPY_MODEL_a20c7b439f74423f8aca40920824c324",
              "IPY_MODEL_04bee15122654a4bacc55de5ed08385f"
            ],
            "layout": "IPY_MODEL_6a9af947438f4aefa445bda0fb98aac1"
          }
        },
        "aeecfe7c4c1e483389878bb0f7c374bb": {
          "model_module": "@jupyter-widgets/controls",
          "model_module_version": "1.5.0",
          "model_name": "FloatProgressModel",
          "state": {
            "_dom_classes": [],
            "_model_module": "@jupyter-widgets/controls",
            "_model_module_version": "1.5.0",
            "_model_name": "FloatProgressModel",
            "_view_count": null,
            "_view_module": "@jupyter-widgets/controls",
            "_view_module_version": "1.5.0",
            "_view_name": "ProgressView",
            "bar_style": "success",
            "description": "",
            "description_tooltip": null,
            "layout": "IPY_MODEL_705f0e6d9f8f423ab63e593ecacd71d6",
            "max": 898822,
            "min": 0,
            "orientation": "horizontal",
            "style": "IPY_MODEL_917b33a324f7401f980362cb1f1a29c8",
            "value": 898822
          }
        },
        "b75e58e9c0104df2b726308f8ca61317": {
          "model_module": "@jupyter-widgets/controls",
          "model_module_version": "1.5.0",
          "model_name": "HTMLModel",
          "state": {
            "_dom_classes": [],
            "_model_module": "@jupyter-widgets/controls",
            "_model_module_version": "1.5.0",
            "_model_name": "HTMLModel",
            "_view_count": null,
            "_view_module": "@jupyter-widgets/controls",
            "_view_module_version": "1.5.0",
            "_view_name": "HTMLView",
            "description": "",
            "description_tooltip": null,
            "layout": "IPY_MODEL_527540d455af459ab8cc3c195eedf975",
            "placeholder": "​",
            "style": "IPY_MODEL_2867a5759ba54398a7005aa6bfb2bc72",
            "value": "tokenizer_config.json: 100%"
          }
        },
        "b9a9433ca4144b83af89e2d07d4f5fb1": {
          "model_module": "@jupyter-widgets/controls",
          "model_module_version": "1.5.0",
          "model_name": "ProgressStyleModel",
          "state": {
            "_model_module": "@jupyter-widgets/controls",
            "_model_module_version": "1.5.0",
            "_model_name": "ProgressStyleModel",
            "_view_count": null,
            "_view_module": "@jupyter-widgets/base",
            "_view_module_version": "1.2.0",
            "_view_name": "StyleView",
            "bar_color": null,
            "description_width": ""
          }
        },
        "c41f6cccbfd2442e8265e3ecb5300ee3": {
          "model_module": "@jupyter-widgets/controls",
          "model_module_version": "1.5.0",
          "model_name": "DescriptionStyleModel",
          "state": {
            "_model_module": "@jupyter-widgets/controls",
            "_model_module_version": "1.5.0",
            "_model_name": "DescriptionStyleModel",
            "_view_count": null,
            "_view_module": "@jupyter-widgets/base",
            "_view_module_version": "1.2.0",
            "_view_name": "StyleView",
            "description_width": ""
          }
        },
        "d2973c5c647e499687f76006cec0a304": {
          "model_module": "@jupyter-widgets/controls",
          "model_module_version": "1.5.0",
          "model_name": "FloatProgressModel",
          "state": {
            "_dom_classes": [],
            "_model_module": "@jupyter-widgets/controls",
            "_model_module_version": "1.5.0",
            "_model_name": "FloatProgressModel",
            "_view_count": null,
            "_view_module": "@jupyter-widgets/controls",
            "_view_module_version": "1.5.0",
            "_view_name": "ProgressView",
            "bar_style": "success",
            "description": "",
            "description_tooltip": null,
            "layout": "IPY_MODEL_8c4cdde9d9b14c2ea2bfc74326aa1d54",
            "max": 1802,
            "min": 0,
            "orientation": "horizontal",
            "style": "IPY_MODEL_a03ba7ea99204719b62fb0f6a563f3fd",
            "value": 1802
          }
        },
        "d753cdb9ac8d41628aeedadbeebe8eef": {
          "model_module": "@jupyter-widgets/controls",
          "model_module_version": "1.5.0",
          "model_name": "HTMLModel",
          "state": {
            "_dom_classes": [],
            "_model_module": "@jupyter-widgets/controls",
            "_model_module_version": "1.5.0",
            "_model_name": "HTMLModel",
            "_view_count": null,
            "_view_module": "@jupyter-widgets/controls",
            "_view_module_version": "1.5.0",
            "_view_name": "HTMLView",
            "description": "",
            "description_tooltip": null,
            "layout": "IPY_MODEL_f3c205e4b94e4ef39f885f42ffc47eab",
            "placeholder": "​",
            "style": "IPY_MODEL_eae08aa6b3fd4052aa7f3166a52dcc64",
            "value": " 456k/456k [00:00&lt;00:00, 18.9MB/s]"
          }
        },
        "e3015c27fe8d4b29a2c8bc8698e86857": {
          "model_module": "@jupyter-widgets/base",
          "model_module_version": "1.2.0",
          "model_name": "LayoutModel",
          "state": {
            "_model_module": "@jupyter-widgets/base",
            "_model_module_version": "1.2.0",
            "_model_name": "LayoutModel",
            "_view_count": null,
            "_view_module": "@jupyter-widgets/base",
            "_view_module_version": "1.2.0",
            "_view_name": "LayoutView",
            "align_content": null,
            "align_items": null,
            "align_self": null,
            "border": null,
            "bottom": null,
            "display": null,
            "flex": null,
            "flex_flow": null,
            "grid_area": null,
            "grid_auto_columns": null,
            "grid_auto_flow": null,
            "grid_auto_rows": null,
            "grid_column": null,
            "grid_gap": null,
            "grid_row": null,
            "grid_template_areas": null,
            "grid_template_columns": null,
            "grid_template_rows": null,
            "height": null,
            "justify_content": null,
            "justify_items": null,
            "left": null,
            "margin": null,
            "max_height": null,
            "max_width": null,
            "min_height": null,
            "min_width": null,
            "object_fit": null,
            "object_position": null,
            "order": null,
            "overflow": null,
            "overflow_x": null,
            "overflow_y": null,
            "padding": null,
            "right": null,
            "top": null,
            "visibility": null,
            "width": null
          }
        },
        "e3b8d1f3048b4055be5ffb8853674c88": {
          "model_module": "@jupyter-widgets/controls",
          "model_module_version": "1.5.0",
          "model_name": "ProgressStyleModel",
          "state": {
            "_model_module": "@jupyter-widgets/controls",
            "_model_module_version": "1.5.0",
            "_model_name": "ProgressStyleModel",
            "_view_count": null,
            "_view_module": "@jupyter-widgets/base",
            "_view_module_version": "1.2.0",
            "_view_name": "StyleView",
            "bar_color": null,
            "description_width": ""
          }
        },
        "e635a4e6f47442bc99b3fa05de72c2ba": {
          "model_module": "@jupyter-widgets/base",
          "model_module_version": "1.2.0",
          "model_name": "LayoutModel",
          "state": {
            "_model_module": "@jupyter-widgets/base",
            "_model_module_version": "1.2.0",
            "_model_name": "LayoutModel",
            "_view_count": null,
            "_view_module": "@jupyter-widgets/base",
            "_view_module_version": "1.2.0",
            "_view_name": "LayoutView",
            "align_content": null,
            "align_items": null,
            "align_self": null,
            "border": null,
            "bottom": null,
            "display": null,
            "flex": null,
            "flex_flow": null,
            "grid_area": null,
            "grid_auto_columns": null,
            "grid_auto_flow": null,
            "grid_auto_rows": null,
            "grid_column": null,
            "grid_gap": null,
            "grid_row": null,
            "grid_template_areas": null,
            "grid_template_columns": null,
            "grid_template_rows": null,
            "height": null,
            "justify_content": null,
            "justify_items": null,
            "left": null,
            "margin": null,
            "max_height": null,
            "max_width": null,
            "min_height": null,
            "min_width": null,
            "object_fit": null,
            "object_position": null,
            "order": null,
            "overflow": null,
            "overflow_x": null,
            "overflow_y": null,
            "padding": null,
            "right": null,
            "top": null,
            "visibility": null,
            "width": null
          }
        },
        "e6d79a270c2241458e96979f7303396b": {
          "model_module": "@jupyter-widgets/controls",
          "model_module_version": "1.5.0",
          "model_name": "DescriptionStyleModel",
          "state": {
            "_model_module": "@jupyter-widgets/controls",
            "_model_module_version": "1.5.0",
            "_model_name": "DescriptionStyleModel",
            "_view_count": null,
            "_view_module": "@jupyter-widgets/base",
            "_view_module_version": "1.2.0",
            "_view_name": "StyleView",
            "description_width": ""
          }
        },
        "e9acb57b8cf645a4bf533d592d85d5fd": {
          "model_module": "@jupyter-widgets/controls",
          "model_module_version": "1.5.0",
          "model_name": "DescriptionStyleModel",
          "state": {
            "_model_module": "@jupyter-widgets/controls",
            "_model_module_version": "1.5.0",
            "_model_name": "DescriptionStyleModel",
            "_view_count": null,
            "_view_module": "@jupyter-widgets/base",
            "_view_module_version": "1.2.0",
            "_view_name": "StyleView",
            "description_width": ""
          }
        },
        "eae08aa6b3fd4052aa7f3166a52dcc64": {
          "model_module": "@jupyter-widgets/controls",
          "model_module_version": "1.5.0",
          "model_name": "DescriptionStyleModel",
          "state": {
            "_model_module": "@jupyter-widgets/controls",
            "_model_module_version": "1.5.0",
            "_model_name": "DescriptionStyleModel",
            "_view_count": null,
            "_view_module": "@jupyter-widgets/base",
            "_view_module_version": "1.2.0",
            "_view_name": "StyleView",
            "description_width": ""
          }
        },
        "f3c205e4b94e4ef39f885f42ffc47eab": {
          "model_module": "@jupyter-widgets/base",
          "model_module_version": "1.2.0",
          "model_name": "LayoutModel",
          "state": {
            "_model_module": "@jupyter-widgets/base",
            "_model_module_version": "1.2.0",
            "_model_name": "LayoutModel",
            "_view_count": null,
            "_view_module": "@jupyter-widgets/base",
            "_view_module_version": "1.2.0",
            "_view_name": "LayoutView",
            "align_content": null,
            "align_items": null,
            "align_self": null,
            "border": null,
            "bottom": null,
            "display": null,
            "flex": null,
            "flex_flow": null,
            "grid_area": null,
            "grid_auto_columns": null,
            "grid_auto_flow": null,
            "grid_auto_rows": null,
            "grid_column": null,
            "grid_gap": null,
            "grid_row": null,
            "grid_template_areas": null,
            "grid_template_columns": null,
            "grid_template_rows": null,
            "height": null,
            "justify_content": null,
            "justify_items": null,
            "left": null,
            "margin": null,
            "max_height": null,
            "max_width": null,
            "min_height": null,
            "min_width": null,
            "object_fit": null,
            "object_position": null,
            "order": null,
            "overflow": null,
            "overflow_x": null,
            "overflow_y": null,
            "padding": null,
            "right": null,
            "top": null,
            "visibility": null,
            "width": null
          }
        },
        "f5158929dae34198829373e34aaae0a7": {
          "model_module": "@jupyter-widgets/controls",
          "model_module_version": "1.5.0",
          "model_name": "DescriptionStyleModel",
          "state": {
            "_model_module": "@jupyter-widgets/controls",
            "_model_module_version": "1.5.0",
            "_model_name": "DescriptionStyleModel",
            "_view_count": null,
            "_view_module": "@jupyter-widgets/base",
            "_view_module_version": "1.2.0",
            "_view_name": "StyleView",
            "description_width": ""
          }
        },
        "fc6142ef7c0743d296bcae1f71311f2f": {
          "model_module": "@jupyter-widgets/controls",
          "model_module_version": "1.5.0",
          "model_name": "HTMLModel",
          "state": {
            "_dom_classes": [],
            "_model_module": "@jupyter-widgets/controls",
            "_model_module_version": "1.5.0",
            "_model_name": "HTMLModel",
            "_view_count": null,
            "_view_module": "@jupyter-widgets/controls",
            "_view_module_version": "1.5.0",
            "_view_name": "HTMLView",
            "description": "",
            "description_tooltip": null,
            "layout": "IPY_MODEL_78c0cabd813c412e9cc203b06f5fb960",
            "placeholder": "​",
            "style": "IPY_MODEL_f5158929dae34198829373e34aaae0a7",
            "value": "merges.txt: 100%"
          }
        },
        "ff49966c6e8a47688d604632f18bc9a8": {
          "model_module": "@jupyter-widgets/base",
          "model_module_version": "1.2.0",
          "model_name": "LayoutModel",
          "state": {
            "_model_module": "@jupyter-widgets/base",
            "_model_module_version": "1.2.0",
            "_model_name": "LayoutModel",
            "_view_count": null,
            "_view_module": "@jupyter-widgets/base",
            "_view_module_version": "1.2.0",
            "_view_name": "LayoutView",
            "align_content": null,
            "align_items": null,
            "align_self": null,
            "border": null,
            "bottom": null,
            "display": null,
            "flex": null,
            "flex_flow": null,
            "grid_area": null,
            "grid_auto_columns": null,
            "grid_auto_flow": null,
            "grid_auto_rows": null,
            "grid_column": null,
            "grid_gap": null,
            "grid_row": null,
            "grid_template_areas": null,
            "grid_template_columns": null,
            "grid_template_rows": null,
            "height": null,
            "justify_content": null,
            "justify_items": null,
            "left": null,
            "margin": null,
            "max_height": null,
            "max_width": null,
            "min_height": null,
            "min_width": null,
            "object_fit": null,
            "object_position": null,
            "order": null,
            "overflow": null,
            "overflow_x": null,
            "overflow_y": null,
            "padding": null,
            "right": null,
            "top": null,
            "visibility": null,
            "width": null
          }
        }
      }
    }
  },
  "nbformat": 4,
  "nbformat_minor": 0
}
