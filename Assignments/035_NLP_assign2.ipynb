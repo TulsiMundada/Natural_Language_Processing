{
 "cells": [
  {
   "cell_type": "markdown",
   "metadata": {},
   "source": [
    "## Assignment 2"
   ]
  },
  {
   "cell_type": "markdown",
   "metadata": {},
   "source": [
    "Q.1\n",
    "Copy the data about the NASA from wikipedia and perform following:\n",
    " 1. Apply POS tagging on this data\n",
    " 2. Remove punctuation symbols\n",
    " 3. Delete the stopwords\n",
    " 4. Perform morphological analysis on all the nouns\n",
    " 5. Find top three words in the data"
   ]
  },
  {
   "cell_type": "code",
   "execution_count": 1,
   "metadata": {},
   "outputs": [],
   "source": [
    "import nltk\n",
    "import numpy as np\n",
    "from nltk import pos_tag\n",
    "from nltk.tokenize import word_tokenize"
   ]
  },
  {
   "cell_type": "code",
   "execution_count": 2,
   "metadata": {},
   "outputs": [
    {
     "name": "stdout",
     "output_type": "stream",
     "text": [
      "The National Aeronautics and Space Administration (NASA; /ˈnæsə/) is an independent agency of the U.S. federal government responsible for the civil space program, \n",
      "aeronautics research, and space research. Established in 1958, it succeeded the National Advisory Committee for Aeronautics (NACA) to give the U.S. space development\n",
      "effort a distinct civilian orientation, emphasizing peaceful applications in space science. It has since led most of America's space exploration programs, including \n",
      "Project Mercury, Project Gemini, the 1968–1972 Apollo Moon landing missions, the Skylab space station, and the Space Shuttle. Currently, NASA supports the International Space Station (ISS)\n",
      "along with the Commercial Crew Program, and oversees the development of the Orion spacecraft and the Space Launch System for the lunar Artemis program.\n"
     ]
    }
   ],
   "source": [
    "text =\"\"\"The National Aeronautics and Space Administration (NASA; /ˈnæsə/) is an independent agency of the U.S. federal government responsible for the civil space program, \n",
    "aeronautics research, and space research. Established in 1958, it succeeded the National Advisory Committee for Aeronautics (NACA) to give the U.S. space development\n",
    "effort a distinct civilian orientation, emphasizing peaceful applications in space science. It has since led most of America's space exploration programs, including \n",
    "Project Mercury, Project Gemini, the 1968–1972 Apollo Moon landing missions, the Skylab space station, and the Space Shuttle. Currently, NASA supports the International Space Station (ISS)\n",
    "along with the Commercial Crew Program, and oversees the development of the Orion spacecraft and the Space Launch System for the lunar Artemis program.\"\"\"\n",
    "\n",
    "print(text)"
   ]
  },
  {
   "cell_type": "code",
   "execution_count": 3,
   "metadata": {},
   "outputs": [
    {
     "data": {
      "text/plain": [
       "[('The', 'DT'),\n",
       " ('National', 'NNP'),\n",
       " ('Aeronautics', 'NNP'),\n",
       " ('and', 'CC'),\n",
       " ('Space', 'NNP'),\n",
       " ('Administration', 'NNP'),\n",
       " ('(', '('),\n",
       " ('NASA', 'NNP'),\n",
       " (';', ':'),\n",
       " ('/ˈnæsə/', 'NNP'),\n",
       " (')', ')'),\n",
       " ('is', 'VBZ'),\n",
       " ('an', 'DT'),\n",
       " ('independent', 'JJ'),\n",
       " ('agency', 'NN'),\n",
       " ('of', 'IN'),\n",
       " ('the', 'DT'),\n",
       " ('U.S.', 'NNP'),\n",
       " ('federal', 'JJ'),\n",
       " ('government', 'NN'),\n",
       " ('responsible', 'JJ'),\n",
       " ('for', 'IN'),\n",
       " ('the', 'DT'),\n",
       " ('civil', 'JJ'),\n",
       " ('space', 'NN'),\n",
       " ('program', 'NN'),\n",
       " (',', ','),\n",
       " ('aeronautics', 'NNS'),\n",
       " ('research', 'NN'),\n",
       " (',', ','),\n",
       " ('and', 'CC'),\n",
       " ('space', 'NN'),\n",
       " ('research', 'NN'),\n",
       " ('.', '.'),\n",
       " ('Established', 'VBN'),\n",
       " ('in', 'IN'),\n",
       " ('1958', 'CD'),\n",
       " (',', ','),\n",
       " ('it', 'PRP'),\n",
       " ('succeeded', 'VBD'),\n",
       " ('the', 'DT'),\n",
       " ('National', 'NNP'),\n",
       " ('Advisory', 'NNP'),\n",
       " ('Committee', 'NNP'),\n",
       " ('for', 'IN'),\n",
       " ('Aeronautics', 'NNP'),\n",
       " ('(', '('),\n",
       " ('NACA', 'NNP'),\n",
       " (')', ')'),\n",
       " ('to', 'TO'),\n",
       " ('give', 'VB'),\n",
       " ('the', 'DT'),\n",
       " ('U.S.', 'NNP'),\n",
       " ('space', 'NN'),\n",
       " ('development', 'NN'),\n",
       " ('effort', 'NN'),\n",
       " ('a', 'DT'),\n",
       " ('distinct', 'JJ'),\n",
       " ('civilian', 'JJ'),\n",
       " ('orientation', 'NN'),\n",
       " (',', ','),\n",
       " ('emphasizing', 'VBG'),\n",
       " ('peaceful', 'JJ'),\n",
       " ('applications', 'NNS'),\n",
       " ('in', 'IN'),\n",
       " ('space', 'NN'),\n",
       " ('science', 'NN'),\n",
       " ('.', '.'),\n",
       " ('It', 'PRP'),\n",
       " ('has', 'VBZ'),\n",
       " ('since', 'IN'),\n",
       " ('led', 'VBN'),\n",
       " ('most', 'JJS'),\n",
       " ('of', 'IN'),\n",
       " ('America', 'NNP'),\n",
       " (\"'s\", 'POS'),\n",
       " ('space', 'NN'),\n",
       " ('exploration', 'NN'),\n",
       " ('programs', 'NNS'),\n",
       " (',', ','),\n",
       " ('including', 'VBG'),\n",
       " ('Project', 'NNP'),\n",
       " ('Mercury', 'NNP'),\n",
       " (',', ','),\n",
       " ('Project', 'NNP'),\n",
       " ('Gemini', 'NNP'),\n",
       " (',', ','),\n",
       " ('the', 'DT'),\n",
       " ('1968–1972', 'CD'),\n",
       " ('Apollo', 'NNP'),\n",
       " ('Moon', 'NNP'),\n",
       " ('landing', 'VBG'),\n",
       " ('missions', 'NNS'),\n",
       " (',', ','),\n",
       " ('the', 'DT'),\n",
       " ('Skylab', 'NNP'),\n",
       " ('space', 'NN'),\n",
       " ('station', 'NN'),\n",
       " (',', ','),\n",
       " ('and', 'CC'),\n",
       " ('the', 'DT'),\n",
       " ('Space', 'NNP'),\n",
       " ('Shuttle', 'NNP'),\n",
       " ('.', '.'),\n",
       " ('Currently', 'NNP'),\n",
       " (',', ','),\n",
       " ('NASA', 'NNP'),\n",
       " ('supports', 'VBZ'),\n",
       " ('the', 'DT'),\n",
       " ('International', 'NNP'),\n",
       " ('Space', 'NNP'),\n",
       " ('Station', 'NNP'),\n",
       " ('(', '('),\n",
       " ('ISS', 'NNP'),\n",
       " (')', ')'),\n",
       " ('along', 'IN'),\n",
       " ('with', 'IN'),\n",
       " ('the', 'DT'),\n",
       " ('Commercial', 'JJ'),\n",
       " ('Crew', 'NNP'),\n",
       " ('Program', 'NNP'),\n",
       " (',', ','),\n",
       " ('and', 'CC'),\n",
       " ('oversees', 'VBZ'),\n",
       " ('the', 'DT'),\n",
       " ('development', 'NN'),\n",
       " ('of', 'IN'),\n",
       " ('the', 'DT'),\n",
       " ('Orion', 'NNP'),\n",
       " ('spacecraft', 'NN'),\n",
       " ('and', 'CC'),\n",
       " ('the', 'DT'),\n",
       " ('Space', 'NNP'),\n",
       " ('Launch', 'NNP'),\n",
       " ('System', 'NNP'),\n",
       " ('for', 'IN'),\n",
       " ('the', 'DT'),\n",
       " ('lunar', 'JJ'),\n",
       " ('Artemis', 'NNP'),\n",
       " ('program', 'NN'),\n",
       " ('.', '.')]"
      ]
     },
     "execution_count": 3,
     "metadata": {},
     "output_type": "execute_result"
    }
   ],
   "source": [
    "# 1. Apply POS tagging on this data\n",
    "\n",
    "tags = pos_tag(word_tokenize(text))\n",
    "tags"
   ]
  },
  {
   "cell_type": "code",
   "execution_count": 4,
   "metadata": {},
   "outputs": [
    {
     "data": {
      "text/plain": [
       "'The National Aeronautics and Space Administration NASA is an independent agency of the federal government responsible for the civil space program aeronautics research and space research Established in 1958 it succeeded the National Advisory Committee for Aeronautics NACA to give the space development effort a distinct civilian orientation emphasizing peaceful applications in space science It has since led most of America space exploration programs including Project Mercury Project Gemini the Apollo Moon landing missions the Skylab space station and the Space Shuttle Currently NASA supports the International Space Station ISS along with the Commercial Crew Program and oversees the development of the Orion spacecraft and the Space Launch System for the lunar Artemis program'"
      ]
     },
     "execution_count": 4,
     "metadata": {},
     "output_type": "execute_result"
    }
   ],
   "source": [
    "# 2. Remove punctuation symbols\n",
    "\n",
    "punc = [word for word in word_tokenize(text) if word.isalnum()]\n",
    "(\" \").join(punc)"
   ]
  },
  {
   "cell_type": "code",
   "execution_count": 5,
   "metadata": {},
   "outputs": [
    {
     "data": {
      "text/plain": [
       "\"National Aeronautics Space Administration ( NASA ; /ˈnæsə/ ) independent agency U.S. federal government responsible civil space program , aeronautics research , space research . Established 1958 , succeeded National Advisory Committee Aeronautics ( NACA ) give U.S. space development effort distinct civilian orientation , emphasizing peaceful applications space science . since led America 's space exploration programs , including Project Mercury , Project Gemini , 1968–1972 Apollo Moon landing missions , Skylab space station , Space Shuttle . Currently , NASA supports International Space Station ( ISS ) along Commercial Crew Program , oversees development Orion spacecraft Space Launch System lunar Artemis program .\""
      ]
     },
     "execution_count": 5,
     "metadata": {},
     "output_type": "execute_result"
    }
   ],
   "source": [
    "# 3. Delete the stopwords\n",
    "\n",
    "from nltk.corpus import stopwords\n",
    "swords = stopwords.words('english')\n",
    "clean = [x for x in word_tokenize(text) if x.lower() not in swords]\n",
    "' '.join(clean)"
   ]
  },
  {
   "cell_type": "code",
   "execution_count": null,
   "metadata": {},
   "outputs": [],
   "source": [
    "# 4. Perform morphological analysis on all the nouns\n",
    "from polyglot.text import Text ,Word\n",
    "\n",
    "for w in word_tokenize(text):\n",
    "  w = Word(w, language='en')\n",
    "  print(w , '\\t\\t' , w.morphemes)"
   ]
  },
  {
   "cell_type": "code",
   "execution_count": 20,
   "metadata": {},
   "outputs": [
    {
     "data": {
      "text/plain": [
       "[('the', 14), ('space', 10), ('and', 5)]"
      ]
     },
     "execution_count": 20,
     "metadata": {},
     "output_type": "execute_result"
    }
   ],
   "source": [
    "# 5. Find top three words in the data\n",
    "\n",
    "from nltk.probability import FreqDist\n",
    "words = [word.lower() for word in word_tokenize(text) if word.isalnum()]\n",
    "fdist = FreqDist(words)\n",
    "\n",
    "# Get the top 3 words\n",
    "top_three_words = fdist.most_common(3)\n",
    "top_three_words"
   ]
  },
  {
   "cell_type": "markdown",
   "metadata": {},
   "source": [
    "Q.2\n",
    "1. Open the wikipedia page of Pune\n",
    "2. Find the adjectives used in the text"
   ]
  },
  {
   "cell_type": "code",
   "execution_count": null,
   "metadata": {},
   "outputs": [],
   "source": [
    "wiki = \"\"\"Pune (/ˈpuːnə/ POO-nə, Marathi: [ˈpuɳe] ⓘ), previously spelled in English as Poona (the official name until 1978),[15][16] is a city in Maharashtra state in the Deccan plateau in Western India. \n",
    "It is the administrative headquarters of the Pune district, and of Pune division. According to the 2011 Census of India, Pune has 7.2 million residents in the metropolitan region,\n",
    " making it the eighth-most populous metropolitan area in India.[17] The city of Pune is part of Pune Metropolitan Region.[18] Pune is one of the largest IT hubs in India.\n",
    "[19][20] It is also one of the most important automobile and manufacturing hubs of India. \n",
    "Pune is often referred to as the \"Oxford of the East\" because of its highly regarded educational institutions.\n",
    "[21][22][23] It has been ranked \"the most liveable city in India\" several times.[24][25]\"\"\""
   ]
  },
  {
   "cell_type": "code",
   "execution_count": null,
   "metadata": {},
   "outputs": [],
   "source": [
    "tags = pos_tag(word_tokenize(wiki))"
   ]
  },
  {
   "cell_type": "code",
   "execution_count": null,
   "metadata": {},
   "outputs": [],
   "source": [
    "# 2. Find the adjectives used in the text\n",
    "adj = [n[0] for n in tags if n[1].startswith('J')]\n",
    "adj"
   ]
  },
  {
   "cell_type": "code",
   "execution_count": null,
   "metadata": {},
   "outputs": [],
   "source": []
  }
 ],
 "metadata": {
  "kernelspec": {
   "display_name": "Python 3",
   "language": "python",
   "name": "python3"
  },
  "language_info": {
   "codemirror_mode": {
    "name": "ipython",
    "version": 3
   },
   "file_extension": ".py",
   "mimetype": "text/x-python",
   "name": "python",
   "nbconvert_exporter": "python",
   "pygments_lexer": "ipython3",
   "version": "3.11.9"
  }
 },
 "nbformat": 4,
 "nbformat_minor": 2
}
