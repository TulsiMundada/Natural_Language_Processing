{
 "cells": [
  {
   "cell_type": "markdown",
   "metadata": {},
   "source": [
    "### Assignment 1"
   ]
  },
  {
   "cell_type": "markdown",
   "metadata": {},
   "source": [
    " Q.1\n",
    "\n",
    " 1. Find the average of ages.\n",
    " 2. Count total number of words starts with 't' / 'T'\n",
    " 3. Count total punctuation symbols.\n",
    " 4. Print the words in capital letter which ends with 'd'\n",
    " 5. Merge all the words and print (no punctuations)"
   ]
  },
  {
   "cell_type": "code",
   "execution_count": 1,
   "metadata": {},
   "outputs": [],
   "source": [
    "sent = 'They told that their ages are 23 , 25 and 29 respectively.'"
   ]
  },
  {
   "cell_type": "code",
   "execution_count": 2,
   "metadata": {},
   "outputs": [],
   "source": [
    "import nltk\n",
    "import numpy as np\n",
    "from nltk import word_tokenize , sent_tokenize"
   ]
  },
  {
   "cell_type": "code",
   "execution_count": 3,
   "metadata": {},
   "outputs": [
    {
     "name": "stdout",
     "output_type": "stream",
     "text": [
      "The average of ages is  25.666666666666668\n"
     ]
    }
   ],
   "source": [
    "# 1. Find the average of ages.\n",
    "\n",
    "ages = [int(word) for word in sent.split() if word.isdigit()]\n",
    "print(\"The average of ages is \" , np.mean(ages))"
   ]
  },
  {
   "cell_type": "code",
   "execution_count": 4,
   "metadata": {},
   "outputs": [
    {
     "name": "stdout",
     "output_type": "stream",
     "text": [
      "Count of words starting with 't' or 'T' is : 4\n"
     ]
    }
   ],
   "source": [
    "# 2. Count total number of words starts with 't' / 'T'\n",
    "\n",
    "count = [word for word in word_tokenize(sent) if word.startswith(\"t\") or word.startswith(\"T\")]\n",
    "print(\"Count of words starting with 't' or 'T' is :\",len(count))\n"
   ]
  },
  {
   "cell_type": "code",
   "execution_count": 5,
   "metadata": {},
   "outputs": [
    {
     "name": "stdout",
     "output_type": "stream",
     "text": [
      "Count of punctuation symbols is : 2\n"
     ]
    }
   ],
   "source": [
    "# 3. Count total punctuation symbols.\n",
    "\n",
    "punc_count = [word for word in word_tokenize(sent) if not word.isalnum()]\n",
    "print(\"Count of punctuation symbols is :\",len(punc_count))"
   ]
  },
  {
   "cell_type": "code",
   "execution_count": 6,
   "metadata": {},
   "outputs": [
    {
     "data": {
      "text/plain": [
       "['TOLD', 'AND']"
      ]
     },
     "execution_count": 6,
     "metadata": {},
     "output_type": "execute_result"
    }
   ],
   "source": [
    "#  4. Print the words in capital letter which ends with 'd'\n",
    "count = [word.upper() for word in word_tokenize(sent) if word.endswith(\"d\") ]\n",
    "count"
   ]
  },
  {
   "cell_type": "code",
   "execution_count": 7,
   "metadata": {},
   "outputs": [
    {
     "data": {
      "text/plain": [
       "'They told that their ages are 23 25 and 29 respectively'"
      ]
     },
     "execution_count": 7,
     "metadata": {},
     "output_type": "execute_result"
    }
   ],
   "source": [
    "# 5. Merge all the words and print (no punctuations)\n",
    "punc = [word for word in word_tokenize(sent) if word.isalnum()]\n",
    "(\" \").join(punc)"
   ]
  },
  {
   "cell_type": "markdown",
   "metadata": {},
   "source": [
    "Q.2\n",
    "\n",
    "Open the wikipedia page of Indian flag and perform following analysis\n",
    "\n",
    "1. Count total number of Words\n",
    "2. Count percentage of punctuation marks\n",
    "3. Print total number of lines\n",
    "4. How many words are in title case?\n",
    "5. Remove the numbers and print the text"
   ]
  },
  {
   "cell_type": "code",
   "execution_count": 8,
   "metadata": {},
   "outputs": [
    {
     "name": "stdout",
     "output_type": "stream",
     "text": [
      " The national flag of India, colloquially called Tiraṅgā (the tricolour), is a horizontal rectangular tricolour flag, \n",
      "the colours being of India saffron, white and India green; with the Ashoka Chakra, a 24-spoke wheel, in navy blue at its centre.\n",
      "[1][2] It was adopted in its present form during a meeting of the Constituent Assembly held on 22 July 1947, and it became the \n",
      "official flag of the Union of India on 15 August 1947. The flag was subsequently retained as that of the Republic of India. \n",
      "In India, the term \"tricolour\" almost always refers to the Indian national flag.\n"
     ]
    }
   ],
   "source": [
    "text = \"\"\" The national flag of India, colloquially called Tiraṅgā (the tricolour), is a horizontal rectangular tricolour flag, \n",
    "the colours being of India saffron, white and India green; with the Ashoka Chakra, a 24-spoke wheel, in navy blue at its centre.\n",
    "[1][2] It was adopted in its present form during a meeting of the Constituent Assembly held on 22 July 1947, and it became the \n",
    "official flag of the Union of India on 15 August 1947. The flag was subsequently retained as that of the Republic of India. \n",
    "In India, the term \"tricolour\" almost always refers to the Indian national flag.\"\"\"\n",
    "print(text)"
   ]
  },
  {
   "cell_type": "code",
   "execution_count": 9,
   "metadata": {},
   "outputs": [
    {
     "name": "stdout",
     "output_type": "stream",
     "text": [
      "Total number of words are : 121\n"
     ]
    }
   ],
   "source": [
    "# 1. Count total number of Words\n",
    "\n",
    "print(\"Total number of words are :\" ,len(word_tokenize(text)))"
   ]
  },
  {
   "cell_type": "code",
   "execution_count": 10,
   "metadata": {},
   "outputs": [
    {
     "name": "stdout",
     "output_type": "stream",
     "text": [
      "Punctuation percentage is : 18.18\n"
     ]
    }
   ],
   "source": [
    "# 2. Count percentage of punctuation marks\n",
    "\n",
    "lst = word_tokenize(text)\n",
    "punct_count =len([word for word in lst if not word.isalnum()])\n",
    "total_punct = len(lst)\n",
    "print(\"Punctuation percentage is :\" ,(round((punct_count)/(total_punct)*100, 2)))"
   ]
  },
  {
   "cell_type": "code",
   "execution_count": 11,
   "metadata": {},
   "outputs": [
    {
     "name": "stdout",
     "output_type": "stream",
     "text": [
      "Total no. of lines :  4\n"
     ]
    }
   ],
   "source": [
    "# 3. Print total number of lines\n",
    "\n",
    "count = [word for word in word_tokenize(text) if word.endswith(\".\")]\n",
    "print(\"Total no. of lines : \", len(count))"
   ]
  },
  {
   "cell_type": "code",
   "execution_count": 12,
   "metadata": {},
   "outputs": [
    {
     "name": "stdout",
     "output_type": "stream",
     "text": [
      "Words in title case : 47\n"
     ]
    }
   ],
   "source": [
    "# 4. How many words are in title case?\n",
    "count = [word for word in word_tokenize(text) if word == word.title()]\n",
    "print(\"Words in title case :\" , len(count))"
   ]
  },
  {
   "cell_type": "code",
   "execution_count": 13,
   "metadata": {},
   "outputs": [
    {
     "data": {
      "text/plain": [
       "'The national flag of India colloquially called Tiraṅgā the tricolour is a horizontal rectangular tricolour flag the colours being of India saffron white and India green with the Ashoka Chakra a wheel in navy blue at its centre It was adopted in its present form during a meeting of the Constituent Assembly held on July and it became the official flag of the Union of India on August The flag was subsequently retained as that of the Republic of India In India the term tricolour almost always refers to the Indian national flag'"
      ]
     },
     "execution_count": 13,
     "metadata": {},
     "output_type": "execute_result"
    }
   ],
   "source": [
    "# 5. Remove the numbers and print the text\n",
    "text = [word for word in word_tokenize(text) if word.isalpha()]\n",
    "(\" \").join(text)\n"
   ]
  },
  {
   "cell_type": "code",
   "execution_count": null,
   "metadata": {},
   "outputs": [],
   "source": []
  }
 ],
 "metadata": {
  "kernelspec": {
   "display_name": "Python 3",
   "language": "python",
   "name": "python3"
  },
  "language_info": {
   "codemirror_mode": {
    "name": "ipython",
    "version": 3
   },
   "file_extension": ".py",
   "mimetype": "text/x-python",
   "name": "python",
   "nbconvert_exporter": "python",
   "pygments_lexer": "ipython3",
   "version": "3.11.9"
  }
 },
 "nbformat": 4,
 "nbformat_minor": 2
}
