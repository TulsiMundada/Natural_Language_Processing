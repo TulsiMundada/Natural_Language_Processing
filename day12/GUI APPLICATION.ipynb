{
 "cells": [
  {
   "cell_type": "code",
   "execution_count": 35,
   "metadata": {},
   "outputs": [],
   "source": [
    "#pip install flask"
   ]
  },
  {
   "cell_type": "code",
   "execution_count": 3,
   "metadata": {},
   "outputs": [],
   "source": [
    "from tkinter import *"
   ]
  },
  {
   "cell_type": "markdown",
   "metadata": {},
   "source": [
    "### Basic Application"
   ]
  },
  {
   "cell_type": "code",
   "execution_count": 37,
   "metadata": {},
   "outputs": [],
   "source": [
    "top = Tk()\n",
    "\n",
    "\n",
    "\n",
    "\n",
    "top.mainloop()"
   ]
  },
  {
   "cell_type": "markdown",
   "metadata": {},
   "source": [
    "### Customization"
   ]
  },
  {
   "cell_type": "code",
   "execution_count": 38,
   "metadata": {},
   "outputs": [],
   "source": [
    "top = Tk()\n",
    "top.title('My first application')\n",
    "top.geometry('500x300')\n",
    "\n",
    "\n",
    "\n",
    "top.mainloop()"
   ]
  },
  {
   "cell_type": "markdown",
   "metadata": {},
   "source": [
    "### Add Widgets"
   ]
  },
  {
   "cell_type": "code",
   "execution_count": 39,
   "metadata": {},
   "outputs": [],
   "source": [
    "top = Tk()\n",
    "top.title('My first application')\n",
    "top.geometry('500x300')\n",
    "\n",
    "l= Label(top, text = 'Hello World')\n",
    "l.pack()    # add sequentially\n",
    "#grid - added in matrix\n",
    "#place = exact location(x,y)\n",
    "top.mainloop()"
   ]
  },
  {
   "cell_type": "code",
   "execution_count": 40,
   "metadata": {},
   "outputs": [],
   "source": [
    "top = Tk()\n",
    "top.title('My first application')\n",
    "top.geometry('500x300')\n",
    "\n",
    "Label(top, text = 'Hello World').pack()\n",
    "Entry(top).pack()\n",
    "Button(top,text = 'Submit').pack()\n",
    "top.mainloop()"
   ]
  },
  {
   "cell_type": "markdown",
   "metadata": {},
   "source": [
    "### Event Handling"
   ]
  },
  {
   "cell_type": "code",
   "execution_count": 41,
   "metadata": {},
   "outputs": [],
   "source": [
    "top = Tk()\n",
    "top.title('My first application')\n",
    "top.geometry('500x300')\n",
    "\n",
    "def show():\n",
    "     name = str(e.get())\n",
    "     print(\"Your name is :\",name.upper())\n",
    "Label(top, text = 'Hello World').pack()\n",
    "e = Entry(top)\n",
    "e.pack()\n",
    "Button(top,text = 'Submit',command = show).pack()\n",
    "\n",
    "top.mainloop()"
   ]
  },
  {
   "cell_type": "code",
   "execution_count": 42,
   "metadata": {},
   "outputs": [],
   "source": [
    "top = Tk()\n",
    "top.title('My first application')\n",
    "top.geometry('500x300')\n",
    "\n",
    "def show():\n",
    "     name = str(e.get())\n",
    "     Label(top,text = 'Your name : '+ str(e.get().upper())).pack()\n",
    "    \n",
    "Label(top, text = 'Hello World').pack()\n",
    "e = Entry(top)\n",
    "e.pack()\n",
    "Button(top,text = 'Submit',command = show).pack()\n",
    "\n",
    "top.mainloop()"
   ]
  },
  {
   "cell_type": "code",
   "execution_count": 43,
   "metadata": {},
   "outputs": [],
   "source": [
    "top = Tk()\n",
    "top.title('My first application')\n",
    "top.geometry('500x300')\n",
    "\n",
    "def show():\n",
    "    \n",
    "     name = str(e.get())\n",
    "     Label(top,text = 'Your name : '+ str(e.get().upper())).place(x= 50,y = 140)\n",
    "    \n",
    "Label(top, text = 'Enter your number :').place(x = 50, y = 50)\n",
    "e = Entry(top)\n",
    "e.place(x=50,y=80)\n",
    "Button(top,text = 'Submit',command = show).place(x=50,y=110)\n",
    "\n",
    "top.mainloop()"
   ]
  },
  {
   "cell_type": "markdown",
   "metadata": {},
   "source": [
    "### Interactive Application"
   ]
  },
  {
   "cell_type": "code",
   "execution_count": 44,
   "metadata": {},
   "outputs": [],
   "source": [
    "top = Tk()\n",
    "top.title('My first application')\n",
    "top.geometry('500x300')\n",
    "\n",
    "def show():\n",
    "     num=int(e.get())\n",
    "     Label(top,text = 'Square is : '+ str(num**2)).place(x= 50,y = 150)\n",
    "    \n",
    "Label(top, text = 'Enter your number :').place(x = 50, y = 30)\n",
    "e = Entry(top)\n",
    "e.place(x=50 , y=70)\n",
    "Button(top,text = 'Submit',command = show).place(x=50,y=110)\n",
    "\n",
    "top.mainloop()"
   ]
  },
  {
   "cell_type": "markdown",
   "metadata": {},
   "source": [
    "### Create Calculator"
   ]
  },
  {
   "cell_type": "code",
   "execution_count": 7,
   "metadata": {},
   "outputs": [],
   "source": [
    "top = Tk()\n",
    "top.title('Simple Calculator')\n",
    "top.geometry('500x300')\n",
    "\n",
    "def add():\n",
    "     num1=float(e1.get())\n",
    "     num2=float(e2.get())\n",
    "\n",
    "     l.config(text = 'Addition is : '+ str(num1 +num2))\n",
    "     l.place(x= 50,y = 150)\n",
    "\n",
    "def sub():\n",
    "     num1=float(e1.get())\n",
    "     num2=float(e2.get())\n",
    "\n",
    "     l.config(text = 'Subtraction is : '+ str(num1 - num2))\n",
    "     l.place(x= 50,y = 150)\n",
    "\n",
    "def mul():\n",
    "     num1=float(e1.get())\n",
    "     num2=float(e2.get())\n",
    "\n",
    "     l.config(text = 'Multiplication is : '+ str(num1 * num2))\n",
    "     l.place(x= 50,y = 150)\n",
    "\n",
    "def div():\n",
    "     num1=float(e1.get())\n",
    "     num2=float(e2.get())\n",
    "\n",
    "     l.config(text = 'Division is : '+ str(num1/num2))\n",
    "     l.place(x= 50,y = 150)\n",
    "Label(top, text = 'Enter your number1 :').place(x = 50, y = 30)\n",
    "Label(top, text = 'Enter your number2 :').place(x = 250, y = 30)\n",
    "e1 = Entry(top)\n",
    "e1.place(x=50 , y=70)\n",
    "e2 = Entry(top)\n",
    "e2.place(x=250 , y=70)\n",
    "Button(top,text = 'ADD',command = add , bg=\"RED\").place(x=50,y=110)\n",
    "Button(top,text = 'SUB',command = sub , bg =\"PINK\").place(x=150,y=110)\n",
    "Button(top,text = 'MUL',command = mul , bg =\"YELLOW\").place(x=250,y=110)\n",
    "Button(top,text = 'DIV',command = div , bg=\"GREEN\").place(x=350,y=110)\n",
    "\n",
    "l = Label(top)\n",
    "\n",
    "top.mainloop()"
   ]
  },
  {
   "cell_type": "markdown",
   "metadata": {},
   "source": [
    "### GUI for Spam Classfier"
   ]
  },
  {
   "cell_type": "code",
   "execution_count": 28,
   "metadata": {},
   "outputs": [],
   "source": [
    "import joblib\n",
    "import nltk\n",
    "from nltk.tokenize import word_tokenize\n",
    "from nltk.corpus import stopwords\n",
    "from nltk.stem import PorterStemmer\n",
    "swords = stopwords.words('english')\n",
    "ps =  PorterStemmer()\n",
    "\n",
    "def clean_text(sent):\n",
    "    tokens1 = word_tokenize(sent)\n",
    "    token2 = [token for token in tokens1 if token.isalnum()]\n",
    "    tokens3 = [token for token in token2 if token.lower() not in swords]\n",
    "    tokens4 = [ps.stem(x) for x in tokens3]\n",
    "    return tokens4\n",
    "\n",
    "top = Tk()\n",
    "top['bg']=\"black\"\n",
    "top.title('My first  application')\n",
    "top.geometry('800x600')\n",
    "\n",
    "def check():\n",
    "     classifier = joblib.load('classifier.model')\n",
    "     tfidf = joblib.load('preprocessor.model')\n",
    "     Message = str(t.get('1.0',END))\n",
    "     result = classifier.predict(tfidf.transform([Message]))\n",
    "     l.config(text = 'Message is : '+ str(result[0]) )\n",
    "     l.place(x= 350,y = 550)\n",
    "    \n",
    "Label(top, text = 'Enter your message here :' , background=\"pink\").place(x = 50, y = 30)\n",
    "t = Text(top , background=\"seagreen\")\n",
    "t.place(x=50 , y=70)\n",
    "Button(top,text = 'Check',command = check ,fg=\"purple\" , bg=\"lightblue\").place(x=350,y=500)\n",
    "l = Label(top, text = \"Message is :\" , background=\"RED\")\n",
    "\n",
    "top.mainloop()"
   ]
  },
  {
   "cell_type": "code",
   "execution_count": null,
   "metadata": {},
   "outputs": [],
   "source": []
  },
  {
   "cell_type": "code",
   "execution_count": null,
   "metadata": {},
   "outputs": [],
   "source": []
  }
 ],
 "metadata": {
  "kernelspec": {
   "display_name": "Python 3",
   "language": "python",
   "name": "python3"
  },
  "language_info": {
   "codemirror_mode": {
    "name": "ipython",
    "version": 3
   },
   "file_extension": ".py",
   "mimetype": "text/x-python",
   "name": "python",
   "nbconvert_exporter": "python",
   "pygments_lexer": "ipython3",
   "version": "3.11.9"
  }
 },
 "nbformat": 4,
 "nbformat_minor": 2
}
