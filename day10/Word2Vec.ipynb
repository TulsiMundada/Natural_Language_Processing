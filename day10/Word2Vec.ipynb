{
 "cells": [
  {
   "cell_type": "code",
   "execution_count": 1,
   "metadata": {},
   "outputs": [],
   "source": [
    "#pip install gensim"
   ]
  },
  {
   "cell_type": "code",
   "execution_count": 2,
   "metadata": {},
   "outputs": [],
   "source": [
    "#pip install scipy"
   ]
  },
  {
   "cell_type": "code",
   "execution_count": 3,
   "metadata": {},
   "outputs": [],
   "source": [
    "#pip install triu"
   ]
  },
  {
   "cell_type": "code",
   "execution_count": 4,
   "metadata": {},
   "outputs": [],
   "source": [
    "from gensim.models import Word2Vec"
   ]
  },
  {
   "cell_type": "code",
   "execution_count": 5,
   "metadata": {},
   "outputs": [],
   "source": [
    "sentences = [\n",
    "    \"The quick brown fox jumps over the lazy dog.\" ,\n",
    "    \"I like eating apples and bananas.\" , \n",
    "    \"Natural Language Processing is a fascinating field.\"\n",
    "]"
   ]
  },
  {
   "cell_type": "code",
   "execution_count": 6,
   "metadata": {},
   "outputs": [],
   "source": [
    "from nltk.tokenize import word_tokenize"
   ]
  },
  {
   "cell_type": "code",
   "execution_count": 7,
   "metadata": {},
   "outputs": [],
   "source": [
    "final_data = []\n",
    "for sent in sentences:\n",
    "    final_data.append(word_tokenize(sent))"
   ]
  },
  {
   "cell_type": "code",
   "execution_count": 8,
   "metadata": {},
   "outputs": [
    {
     "data": {
      "text/plain": [
       "[['The', 'quick', 'brown', 'fox', 'jumps', 'over', 'the', 'lazy', 'dog', '.'],\n",
       " ['I', 'like', 'eating', 'apples', 'and', 'bananas', '.'],\n",
       " ['Natural', 'Language', 'Processing', 'is', 'a', 'fascinating', 'field', '.']]"
      ]
     },
     "execution_count": 8,
     "metadata": {},
     "output_type": "execute_result"
    }
   ],
   "source": [
    "final_data"
   ]
  },
  {
   "cell_type": "code",
   "execution_count": 9,
   "metadata": {},
   "outputs": [],
   "source": [
    "model = Word2Vec(final_data , min_count=1 , vector_size=10)        #create the objecct"
   ]
  },
  {
   "cell_type": "code",
   "execution_count": 10,
   "metadata": {},
   "outputs": [
    {
     "data": {
      "text/plain": [
       "array([ 0.07898068, -0.06989504, -0.09155865, -0.00355753, -0.03099841,\n",
       "        0.07894317,  0.05938574, -0.01545663,  0.01510963,  0.01790041],\n",
       "      dtype=float32)"
      ]
     },
     "execution_count": 10,
     "metadata": {},
     "output_type": "execute_result"
    }
   ],
   "source": [
    "model.wv[\"apples\"]"
   ]
  },
  {
   "cell_type": "code",
   "execution_count": 11,
   "metadata": {},
   "outputs": [
    {
     "data": {
      "text/plain": [
       "array([-0.08534335,  0.03207107, -0.04637997, -0.05088955,  0.03589618,\n",
       "        0.05370339,  0.07769515, -0.05766506,  0.07433361,  0.06625496],\n",
       "      dtype=float32)"
      ]
     },
     "execution_count": 11,
     "metadata": {},
     "output_type": "execute_result"
    }
   ],
   "source": [
    "model.wv[\"bananas\"]"
   ]
  },
  {
   "cell_type": "code",
   "execution_count": 12,
   "metadata": {},
   "outputs": [],
   "source": [
    "def get_embedding(word):\n",
    "    try:\n",
    "        word_embedding = model.wv[word]\n",
    "        print(f\"Word Embedding for '{word}' : {word_embedding}\")\n",
    "    except KeyError:\n",
    "        print(f\"Word '{word}' not found in the vocabulary.\")"
   ]
  },
  {
   "cell_type": "code",
   "execution_count": 13,
   "metadata": {},
   "outputs": [
    {
     "name": "stdout",
     "output_type": "stream",
     "text": [
      "Word Embedding for 'fox' : [-0.08157917  0.04495798 -0.04137076  0.00824536  0.08498619 -0.04462177\n",
      "  0.045175   -0.0678696  -0.03548489  0.09398508]\n"
     ]
    }
   ],
   "source": [
    "get_embedding(\"fox\")"
   ]
  },
  {
   "cell_type": "code",
   "execution_count": 14,
   "metadata": {},
   "outputs": [
    {
     "name": "stdout",
     "output_type": "stream",
     "text": [
      "Word 'apple' not found in the vocabulary.\n"
     ]
    }
   ],
   "source": [
    "get_embedding(\"apple\")"
   ]
  },
  {
   "cell_type": "code",
   "execution_count": 15,
   "metadata": {},
   "outputs": [],
   "source": [
    "from sklearn.metrics.pairwise import cosine_similarity"
   ]
  },
  {
   "cell_type": "code",
   "execution_count": 16,
   "metadata": {},
   "outputs": [
    {
     "data": {
      "text/plain": [
       "array([[0.1897796]], dtype=float32)"
      ]
     },
     "execution_count": 16,
     "metadata": {},
     "output_type": "execute_result"
    }
   ],
   "source": [
    "cosine_similarity(model.wv[\"apples\"].reshape(1,-1),\n",
    "                  model.wv[\"bananas\"].reshape(1,-1))"
   ]
  },
  {
   "cell_type": "code",
   "execution_count": 17,
   "metadata": {},
   "outputs": [
    {
     "data": {
      "text/plain": [
       "array([[0.2238495]], dtype=float32)"
      ]
     },
     "execution_count": 17,
     "metadata": {},
     "output_type": "execute_result"
    }
   ],
   "source": [
    "cosine_similarity(model.wv[\"fox\"].reshape(1,-1),\n",
    "                  model.wv[\"dog\"].reshape(1,-1))"
   ]
  },
  {
   "cell_type": "code",
   "execution_count": 18,
   "metadata": {},
   "outputs": [
    {
     "name": "stderr",
     "output_type": "stream",
     "text": [
      "[nltk_data] Downloading package abc to\n",
      "[nltk_data]     C:\\Users\\dai\\AppData\\Roaming\\nltk_data...\n",
      "[nltk_data]   Package abc is already up-to-date!\n"
     ]
    },
    {
     "data": {
      "text/plain": [
       "True"
      ]
     },
     "execution_count": 18,
     "metadata": {},
     "output_type": "execute_result"
    }
   ],
   "source": [
    "import nltk\n",
    "nltk.download('abc')"
   ]
  },
  {
   "cell_type": "code",
   "execution_count": 19,
   "metadata": {},
   "outputs": [],
   "source": [
    "from nltk.corpus import abc"
   ]
  },
  {
   "cell_type": "code",
   "execution_count": 20,
   "metadata": {},
   "outputs": [],
   "source": [
    "sents = abc.sents()"
   ]
  },
  {
   "cell_type": "code",
   "execution_count": 21,
   "metadata": {},
   "outputs": [
    {
     "data": {
      "text/plain": [
       "[['PM', 'denies', 'knowledge', 'of', 'AWB', 'kickbacks', 'The', 'Prime', 'Minister', 'has', 'denied', 'he', 'knew', 'AWB', 'was', 'paying', 'kickbacks', 'to', 'Iraq', 'despite', 'writing', 'to', 'the', 'wheat', 'exporter', 'asking', 'to', 'be', 'kept', 'fully', 'informed', 'on', 'Iraq', 'wheat', 'sales', '.'], ['Letters', 'from', 'John', 'Howard', 'and', 'Deputy', 'Prime', 'Minister', 'Mark', 'Vaile', 'to', 'AWB', 'have', 'been', 'released', 'by', 'the', 'Cole', 'inquiry', 'into', 'the', 'oil', 'for', 'food', 'program', '.'], ...]"
      ]
     },
     "execution_count": 21,
     "metadata": {},
     "output_type": "execute_result"
    }
   ],
   "source": [
    "sents"
   ]
  },
  {
   "cell_type": "code",
   "execution_count": 22,
   "metadata": {},
   "outputs": [
    {
     "data": {
      "text/plain": [
       "29059"
      ]
     },
     "execution_count": 22,
     "metadata": {},
     "output_type": "execute_result"
    }
   ],
   "source": [
    "len(sents)"
   ]
  },
  {
   "cell_type": "code",
   "execution_count": 23,
   "metadata": {},
   "outputs": [],
   "source": [
    "## create the object\n",
    "model = Word2Vec(sents , min_count=1 , vector_size=10)"
   ]
  },
  {
   "cell_type": "code",
   "execution_count": 24,
   "metadata": {},
   "outputs": [
    {
     "data": {
      "text/plain": [
       "{'the': 0,\n",
       " '.': 1,\n",
       " ',': 2,\n",
       " 'of': 3,\n",
       " 'to': 4,\n",
       " 'and': 5,\n",
       " 'a': 6,\n",
       " 'in': 7,\n",
       " \"'\": 8,\n",
       " 'is': 9,\n",
       " 'says': 10,\n",
       " '\"': 11,\n",
       " 'that': 12,\n",
       " 's': 13,\n",
       " 'for': 14,\n",
       " 'The': 15,\n",
       " '-': 16,\n",
       " 'are': 17,\n",
       " 'it': 18,\n",
       " 'be': 19,\n",
       " 'have': 20,\n",
       " ',\"': 21,\n",
       " 'on': 22,\n",
       " 'from': 23,\n",
       " 'with': 24,\n",
       " 'has': 25,\n",
       " 'at': 26,\n",
       " 'he': 27,\n",
       " 'as': 28,\n",
       " 'will': 29,\n",
       " 'they': 30,\n",
       " 'by': 31,\n",
       " 'not': 32,\n",
       " 'said': 33,\n",
       " 'been': 34,\n",
       " 'we': 35,\n",
       " 'this': 36,\n",
       " 'an': 37,\n",
       " 'more': 38,\n",
       " 'Australia': 39,\n",
       " 'their': 40,\n",
       " 'was': 41,\n",
       " 'or': 42,\n",
       " 'which': 43,\n",
       " 'can': 44,\n",
       " 'about': 45,\n",
       " 'up': 46,\n",
       " 'there': 47,\n",
       " 'but': 48,\n",
       " 'than': 49,\n",
       " 'could': 50,\n",
       " 'But': 51,\n",
       " 'Australian': 52,\n",
       " '.\"': 53,\n",
       " 'new': 54,\n",
       " 'were': 55,\n",
       " 'also': 56,\n",
       " 'one': 57,\n",
       " 't': 58,\n",
       " 'out': 59,\n",
       " 'years': 60,\n",
       " 'I': 61,\n",
       " 'say': 62,\n",
       " 'its': 63,\n",
       " 'It': 64,\n",
       " 'year': 65,\n",
       " 'people': 66,\n",
       " 'would': 67,\n",
       " 'water': 68,\n",
       " 'into': 69,\n",
       " 'some': 70,\n",
       " 'other': 71,\n",
       " 'had': 72,\n",
       " 'you': 73,\n",
       " 'who': 74,\n",
       " 'found': 75,\n",
       " 'A': 76,\n",
       " 'like': 77,\n",
       " 'We': 78,\n",
       " 'over': 79,\n",
       " 'may': 80,\n",
       " 'so': 81,\n",
       " 'researchers': 82,\n",
       " 'research': 83,\n",
       " 'University': 84,\n",
       " '$': 85,\n",
       " 'industry': 86,\n",
       " 'time': 87,\n",
       " 'million': 88,\n",
       " 'them': 89,\n",
       " 'because': 90,\n",
       " 'when': 91,\n",
       " 'all': 92,\n",
       " 'farmers': 93,\n",
       " 'South': 94,\n",
       " 'what': 95,\n",
       " 'New': 96,\n",
       " 'study': 97,\n",
       " 'two': 98,\n",
       " 'US': 99,\n",
       " 'being': 100,\n",
       " 'very': 101,\n",
       " 'if': 102,\n",
       " 'first': 103,\n",
       " 'now': 104,\n",
       " 'Dr': 105,\n",
       " 'growers': 106,\n",
       " 'Government': 107,\n",
       " 're': 108,\n",
       " 'after': 109,\n",
       " 'per': 110,\n",
       " 'how': 111,\n",
       " 'just': 112,\n",
       " '000': 113,\n",
       " 'used': 114,\n",
       " 'He': 115,\n",
       " 'his': 116,\n",
       " 'only': 117,\n",
       " 'do': 118,\n",
       " 'around': 119,\n",
       " 'In': 120,\n",
       " 'get': 121,\n",
       " 'our': 122,\n",
       " 'most': 123,\n",
       " '(': 124,\n",
       " 'make': 125,\n",
       " 'They': 126,\n",
       " 'This': 127,\n",
       " 'last': 128,\n",
       " 'scientists': 129,\n",
       " 'no': 130,\n",
       " 'system': 131,\n",
       " 'she': 132,\n",
       " 'think': 133,\n",
       " 'prices': 134,\n",
       " 'cent': 135,\n",
       " 'between': 136,\n",
       " 'wheat': 137,\n",
       " 'such': 138,\n",
       " 'AWB': 139,\n",
       " 'Queensland': 140,\n",
       " 'way': 141,\n",
       " 'work': 142,\n",
       " 'these': 143,\n",
       " 've': 144,\n",
       " 'team': 145,\n",
       " 'help': 146,\n",
       " 'market': 147,\n",
       " 'any': 148,\n",
       " 'going': 149,\n",
       " 'report': 150,\n",
       " 'world': 151,\n",
       " 'long': 152,\n",
       " 'many': 153,\n",
       " 'use': 154,\n",
       " 'those': 155,\n",
       " 'today': 156,\n",
       " 'where': 157,\n",
       " 'much': 158,\n",
       " 'down': 159,\n",
       " 'There': 160,\n",
       " 'through': 161,\n",
       " 'need': 162,\n",
       " 'Professor': 163,\n",
       " 'company': 164,\n",
       " 'should': 165,\n",
       " 'off': 166,\n",
       " 'next': 167,\n",
       " 'then': 168,\n",
       " 'Federal': 169,\n",
       " 'back': 170,\n",
       " 'before': 171,\n",
       " 'drought': 172,\n",
       " ')': 173,\n",
       " 'high': 174,\n",
       " 'three': 175,\n",
       " 'well': 176,\n",
       " 'made': 177,\n",
       " 'week': 178,\n",
       " 'see': 179,\n",
       " 'National': 180,\n",
       " 'Wales': 181,\n",
       " 'And': 182,\n",
       " 'still': 183,\n",
       " 'good': 184,\n",
       " 'Mr': 185,\n",
       " 'group': 186,\n",
       " 'under': 187,\n",
       " '10': 188,\n",
       " 'human': 189,\n",
       " 'state': 190,\n",
       " 'even': 191,\n",
       " 'change': 192,\n",
       " 'while': 193,\n",
       " 'different': 194,\n",
       " 'cells': 195,\n",
       " 'don': 196,\n",
       " '%': 197,\n",
       " ']': 198,\n",
       " 'technology': 199,\n",
       " 'food': 200,\n",
       " 'number': 201,\n",
       " '?': 202,\n",
       " 'cattle': 203,\n",
       " 'take': 204,\n",
       " 'disease': 205,\n",
       " 'really': 206,\n",
       " '[': 207,\n",
       " 'price': 208,\n",
       " 'grain': 209,\n",
       " 'ago': 210,\n",
       " 'better': 211,\n",
       " 'Earth': 212,\n",
       " 'same': 213,\n",
       " 'whether': 214,\n",
       " 'another': 215,\n",
       " 'future': 216,\n",
       " 'areas': 217,\n",
       " 'across': 218,\n",
       " 'Western': 219,\n",
       " 'got': 220,\n",
       " 'might': 221,\n",
       " 'small': 222,\n",
       " 'farm': 223,\n",
       " 'species': 224,\n",
       " 'including': 225,\n",
       " 'far': 226,\n",
       " 'lot': 227,\n",
       " 'using': 228,\n",
       " 'evidence': 229,\n",
       " 'part': 230,\n",
       " 'changes': 231,\n",
       " 'major': 232,\n",
       " 'journal': 233,\n",
       " 'less': 234,\n",
       " 'light': 235,\n",
       " 'north': 236,\n",
       " 'based': 237,\n",
       " 'big': 238,\n",
       " 'called': 239,\n",
       " 'issue': 240,\n",
       " 'If': 241,\n",
       " 'probably': 242,\n",
       " 'fruit': 243,\n",
       " ':': 244,\n",
       " 'during': 245,\n",
       " 'day': 246,\n",
       " 'come': 247,\n",
       " '1': 248,\n",
       " ';': 249,\n",
       " 'look': 250,\n",
       " 'set': 251,\n",
       " 'find': 252,\n",
       " 'able': 253,\n",
       " 'known': 254,\n",
       " 'humans': 255,\n",
       " 'know': 256,\n",
       " 'Farmers': 257,\n",
       " 'looking': 258,\n",
       " 'months': 259,\n",
       " 'risk': 260,\n",
       " 'brain': 261,\n",
       " 'Minister': 262,\n",
       " 'body': 263,\n",
       " 'life': 264,\n",
       " 'us': 265,\n",
       " 'go': 266,\n",
       " 'levels': 267,\n",
       " 'animals': 268,\n",
       " '20': 269,\n",
       " 'production': 270,\n",
       " 'wool': 271,\n",
       " 'put': 272,\n",
       " 'show': 273,\n",
       " 'conditions': 274,\n",
       " 'expected': 275,\n",
       " 'crops': 276,\n",
       " 'increase': 277,\n",
       " 'season': 278,\n",
       " 'Association': 279,\n",
       " 'low': 280,\n",
       " 'findings': 281,\n",
       " 'rural': 282,\n",
       " 'information': 283,\n",
       " 'country': 284,\n",
       " '5': 285,\n",
       " 'since': 286,\n",
       " 'past': 287,\n",
       " 'trade': 288,\n",
       " 'Peter': 289,\n",
       " 'seen': 290,\n",
       " 'already': 291,\n",
       " 'each': 292,\n",
       " 'sheep': 293,\n",
       " 'export': 294,\n",
       " '30': 295,\n",
       " 'Victoria': 296,\n",
       " 'space': 297,\n",
       " 'impact': 298,\n",
       " 'too': 299,\n",
       " 'does': 300,\n",
       " 'oil': 301,\n",
       " '2': 302,\n",
       " 'enough': 303,\n",
       " 'due': 304,\n",
       " 'crop': 305,\n",
       " 'south': 306,\n",
       " 'likely': 307,\n",
       " 'right': 308,\n",
       " 'did': 309,\n",
       " 'five': 310,\n",
       " 'want': 311,\n",
       " 'energy': 312,\n",
       " 'early': 313,\n",
       " 'beef': 314,\n",
       " 'large': 315,\n",
       " 'women': 316,\n",
       " 'suggests': 317,\n",
       " 'times': 318,\n",
       " 'support': 319,\n",
       " 'shows': 320,\n",
       " 'region': 321,\n",
       " 'her': 322,\n",
       " 'climate': 323,\n",
       " 'higher': 324,\n",
       " 'important': 325,\n",
       " 'health': 326,\n",
       " 'animal': 327,\n",
       " 'four': 328,\n",
       " 'area': 329,\n",
       " '100': 330,\n",
       " 'both': 331,\n",
       " 'month': 332,\n",
       " 'your': 333,\n",
       " 'produce': 334,\n",
       " 'fuel': 335,\n",
       " 'single': 336,\n",
       " 'near': 337,\n",
       " 'kilometres': 338,\n",
       " '...': 339,\n",
       " 'working': 340,\n",
       " 'virus': 341,\n",
       " 'national': 342,\n",
       " 'That': 343,\n",
       " 'land': 344,\n",
       " 'process': 345,\n",
       " 'own': 346,\n",
       " 'colleagues': 347,\n",
       " 'For': 348,\n",
       " 'few': 349,\n",
       " 'current': 350,\n",
       " 'published': 351,\n",
       " 'according': 352,\n",
       " 'actually': 353,\n",
       " 'cost': 354,\n",
       " 'power': 355,\n",
       " 'little': 356,\n",
       " 'making': 357,\n",
       " 'within': 358,\n",
       " 'producers': 359,\n",
       " 'tonnes': 360,\n",
       " 'One': 361,\n",
       " 'public': 362,\n",
       " 'end': 363,\n",
       " 'results': 364,\n",
       " 'Research': 365,\n",
       " 'rain': 366,\n",
       " 'old': 367,\n",
       " 'thought': 368,\n",
       " 'head': 369,\n",
       " 'record': 370,\n",
       " 'against': 371,\n",
       " 'development': 372,\n",
       " 'government': 373,\n",
       " 'believe': 374,\n",
       " '&': 375,\n",
       " 'John': 376,\n",
       " 'things': 377,\n",
       " 'case': 378,\n",
       " 'companies': 379,\n",
       " 'plant': 380,\n",
       " 'exports': 381,\n",
       " 'west': 382,\n",
       " 'So': 383,\n",
       " 'bit': 384,\n",
       " 'international': 385,\n",
       " 'What': 386,\n",
       " 'local': 387,\n",
       " 'Agriculture': 388,\n",
       " 'quite': 389,\n",
       " 'project': 390,\n",
       " 'plan': 391,\n",
       " 'growing': 392,\n",
       " 'men': 393,\n",
       " 'place': 394,\n",
       " 'something': 395,\n",
       " 'half': 396,\n",
       " '3': 397,\n",
       " 'director': 398,\n",
       " '\".': 399,\n",
       " 'inquiry': 400,\n",
       " 'decision': 401,\n",
       " 'effect': 402,\n",
       " 'planet': 403,\n",
       " 'without': 404,\n",
       " 'data': 405,\n",
       " 'best': 406,\n",
       " 'further': 407,\n",
       " 'cancer': 408,\n",
       " 'example': 409,\n",
       " 'means': 410,\n",
       " 'until': 411,\n",
       " 'six': 412,\n",
       " 'lead': 413,\n",
       " 'cut': 414,\n",
       " 'Murray': 415,\n",
       " 'give': 416,\n",
       " 'why': 417,\n",
       " 'biggest': 418,\n",
       " 'll': 419,\n",
       " 'Sydney': 420,\n",
       " 'least': 421,\n",
       " 'days': 422,\n",
       " 'Institute': 423,\n",
       " 'global': 424,\n",
       " 'money': 425,\n",
       " 'keep': 426,\n",
       " 'away': 427,\n",
       " 'children': 428,\n",
       " 'given': 429,\n",
       " '50': 430,\n",
       " 'deal': 431,\n",
       " 'form': 432,\n",
       " 'possible': 433,\n",
       " 'dry': 434,\n",
       " 'similar': 435,\n",
       " 'genes': 436,\n",
       " 'latest': 437,\n",
       " 'become': 438,\n",
       " 'billion': 439,\n",
       " 'air': 440,\n",
       " 'test': 441,\n",
       " 'program': 442,\n",
       " 'control': 443,\n",
       " 'genetic': 444,\n",
       " 'groups': 445,\n",
       " 'While': 446,\n",
       " 'southern': 447,\n",
       " 'Council': 448,\n",
       " 'problems': 449,\n",
       " 'here': 450,\n",
       " 'fish': 451,\n",
       " '12': 452,\n",
       " 'solar': 453,\n",
       " 'provide': 454,\n",
       " 'needs': 455,\n",
       " 'level': 456,\n",
       " 'demand': 457,\n",
       " 'average': 458,\n",
       " 'costs': 459,\n",
       " 'taken': 460,\n",
       " 'recent': 461,\n",
       " 'told': 462,\n",
       " 'sector': 463,\n",
       " 'having': 464,\n",
       " 'Zealand': 465,\n",
       " 'almost': 466,\n",
       " 'damage': 467,\n",
       " 'gas': 468,\n",
       " 'Scientists': 469,\n",
       " 'computer': 470,\n",
       " 'Department': 471,\n",
       " 'These': 472,\n",
       " 'problem': 473,\n",
       " 'concerns': 474,\n",
       " 'term': 475,\n",
       " 'increased': 476,\n",
       " 'move': 477,\n",
       " 'left': 478,\n",
       " 'DNA': 479,\n",
       " 'getting': 480,\n",
       " 'community': 481,\n",
       " 'Tasmania': 482,\n",
       " 'Science': 483,\n",
       " 'surface': 484,\n",
       " 'discovered': 485,\n",
       " 'stock': 486,\n",
       " 'start': 487,\n",
       " 'studies': 488,\n",
       " 'dairy': 489,\n",
       " 'As': 490,\n",
       " 'northern': 491,\n",
       " 'result': 492,\n",
       " 'rise': 493,\n",
       " 'When': 494,\n",
       " 'cell': 495,\n",
       " 'yet': 496,\n",
       " 'rather': 497,\n",
       " 'weather': 498,\n",
       " 'size': 499,\n",
       " 'age': 500,\n",
       " 'Territory': 501,\n",
       " 'wine': 502,\n",
       " 'cause': 503,\n",
       " 'live': 504,\n",
       " 'workers': 505,\n",
       " 'science': 506,\n",
       " 'feed': 507,\n",
       " 'caused': 508,\n",
       " 'pay': 509,\n",
       " 'access': 510,\n",
       " 'needed': 511,\n",
       " 'Japan': 512,\n",
       " 'often': 513,\n",
       " 'parts': 514,\n",
       " 'pressure': 515,\n",
       " 'thing': 516,\n",
       " 'hit': 517,\n",
       " 'potential': 518,\n",
       " 'weeks': 519,\n",
       " 'researcher': 520,\n",
       " 'environment': 521,\n",
       " 'young': 522,\n",
       " 'Northern': 523,\n",
       " 'must': 524,\n",
       " 'harvest': 525,\n",
       " 'coming': 526,\n",
       " 'business': 527,\n",
       " 'An': 528,\n",
       " 'continue': 529,\n",
       " '15': 530,\n",
       " 'countries': 531,\n",
       " 'WA': 532,\n",
       " 'plants': 533,\n",
       " 'lower': 534,\n",
       " 'River': 535,\n",
       " 'trying': 536,\n",
       " 'earlier': 537,\n",
       " 'supply': 538,\n",
       " 'try': 539,\n",
       " 'doesn': 540,\n",
       " '40': 541,\n",
       " 'Sun': 542,\n",
       " 'done': 543,\n",
       " 'developed': 544,\n",
       " 'amount': 545,\n",
       " 'central': 546,\n",
       " 'range': 547,\n",
       " 'meeting': 548,\n",
       " 'strong': 549,\n",
       " 'sea': 550,\n",
       " 'paper': 551,\n",
       " 'China': 552,\n",
       " 'hard': 553,\n",
       " 'She': 554,\n",
       " 'code': 555,\n",
       " 'available': 556,\n",
       " 'together': 557,\n",
       " 'desk': 558,\n",
       " '4': 559,\n",
       " 'particularly': 560,\n",
       " 'numbers': 561,\n",
       " 'significant': 562,\n",
       " 'others': 563,\n",
       " 'Victorian': 564,\n",
       " 'gene': 565,\n",
       " 'rate': 566,\n",
       " 'wants': 567,\n",
       " 'allow': 568,\n",
       " 'involved': 569,\n",
       " 'every': 570,\n",
       " 'open': 571,\n",
       " 'reduce': 572,\n",
       " 'east': 573,\n",
       " 'Melbourne': 574,\n",
       " 'stem': 575,\n",
       " 'states': 576,\n",
       " 'Cole': 577,\n",
       " 'stars': 578,\n",
       " 'plans': 579,\n",
       " 'largest': 580,\n",
       " 'David': 581,\n",
       " 'certainly': 582,\n",
       " 'among': 583,\n",
       " 'effects': 584,\n",
       " '60': 585,\n",
       " 'point': 586,\n",
       " 'run': 587,\n",
       " 'environmental': 588,\n",
       " 'common': 589,\n",
       " 'once': 590,\n",
       " 'blood': 591,\n",
       " 'patients': 592,\n",
       " 'mean': 593,\n",
       " 'particular': 594,\n",
       " 'star': 595,\n",
       " 'farmer': 596,\n",
       " 'agriculture': 597,\n",
       " 'male': 598,\n",
       " 'markets': 599,\n",
       " 'led': 600,\n",
       " 'At': 601,\n",
       " 'livestock': 602,\n",
       " 'Some': 603,\n",
       " 'second': 604,\n",
       " 'normal': 605,\n",
       " 'professor': 606,\n",
       " 'UK': 607,\n",
       " 'longer': 608,\n",
       " 'birds': 609,\n",
       " 'Meanwhile': 610,\n",
       " 'experts': 611,\n",
       " 'ground': 612,\n",
       " 'free': 613,\n",
       " 'reported': 614,\n",
       " 'NASA': 615,\n",
       " 'response': 616,\n",
       " 'along': 617,\n",
       " 'cyclone': 618,\n",
       " 'fact': 619,\n",
       " 'ice': 620,\n",
       " 'affected': 621,\n",
       " 'whole': 622,\n",
       " 'close': 623,\n",
       " 'suggest': 624,\n",
       " 'great': 625,\n",
       " 'federal': 626,\n",
       " 'sales': 627,\n",
       " 'several': 628,\n",
       " 'although': 629,\n",
       " 'type': 630,\n",
       " 'product': 631,\n",
       " 'stop': 632,\n",
       " 'line': 633,\n",
       " 'ever': 634,\n",
       " 'nuclear': 635,\n",
       " 'communities': 636,\n",
       " 'natural': 637,\n",
       " 'face': 638,\n",
       " 'fishing': 639,\n",
       " 'family': 640,\n",
       " 'compared': 641,\n",
       " 'funding': 642,\n",
       " 'conference': 643,\n",
       " 'later': 644,\n",
       " 'smaller': 645,\n",
       " 'real': 646,\n",
       " 'author': 647,\n",
       " 'quality': 648,\n",
       " 'finding': 649,\n",
       " 'products': 650,\n",
       " 'theory': 651,\n",
       " 'meat': 652,\n",
       " 'temperatures': 653,\n",
       " 'develop': 654,\n",
       " 'Europe': 655,\n",
       " 'improve': 656,\n",
       " 'discovery': 657,\n",
       " 'comes': 658,\n",
       " 'short': 659,\n",
       " 'eastern': 660,\n",
       " 'online': 661,\n",
       " 'sort': 662,\n",
       " 'Mars': 663,\n",
       " 'top': 664,\n",
       " 'issues': 665,\n",
       " 'sale': 666,\n",
       " 'makes': 667,\n",
       " 'difficult': 668,\n",
       " 'safety': 669,\n",
       " 'released': 670,\n",
       " 'scientist': 671,\n",
       " 'Nature': 672,\n",
       " 'asked': 673,\n",
       " 'produced': 674,\n",
       " 'took': 675,\n",
       " 'concerned': 676,\n",
       " 'period': 677,\n",
       " 'International': 678,\n",
       " 'currently': 679,\n",
       " 'regional': 680,\n",
       " 'despite': 681,\n",
       " 'never': 682,\n",
       " 'properties': 683,\n",
       " 'Wool': 684,\n",
       " 'doing': 685,\n",
       " 'idea': 686,\n",
       " 'GM': 687,\n",
       " 'manager': 688,\n",
       " 'hand': 689,\n",
       " 'drop': 690,\n",
       " 'You': 691,\n",
       " 'systems': 692,\n",
       " 'population': 693,\n",
       " 'executive': 694,\n",
       " 'd': 695,\n",
       " 'buy': 696,\n",
       " 'key': 697,\n",
       " 'modern': 698,\n",
       " 'lack': 699,\n",
       " 'survey': 700,\n",
       " 'planets': 701,\n",
       " 'lost': 702,\n",
       " 'images': 703,\n",
       " 'coast': 704,\n",
       " 'Federation': 705,\n",
       " 'European': 706,\n",
       " 'material': 707,\n",
       " 'bacteria': 708,\n",
       " 'matter': 709,\n",
       " 'person': 710,\n",
       " 'mining': 711,\n",
       " 'moment': 712,\n",
       " 'clear': 713,\n",
       " 'hopes': 714,\n",
       " 'activity': 715,\n",
       " 'full': 716,\n",
       " 'themselves': 717,\n",
       " 'State': 718,\n",
       " 'social': 719,\n",
       " 'developing': 720,\n",
       " 'Researchers': 721,\n",
       " 'related': 722,\n",
       " 'call': 723,\n",
       " '6': 724,\n",
       " 'chief': 725,\n",
       " 'chemical': 726,\n",
       " 'thousands': 727,\n",
       " 'remains': 728,\n",
       " 'huge': 729,\n",
       " 'farms': 730,\n",
       " 'taking': 731,\n",
       " 'event': 732,\n",
       " 'Wheat': 733,\n",
       " 'interest': 734,\n",
       " 'United': 735,\n",
       " 'affect': 736,\n",
       " 'rainfall': 737,\n",
       " 'living': 738,\n",
       " 'behaviour': 739,\n",
       " 'fire': 740,\n",
       " 'general': 741,\n",
       " 'With': 742,\n",
       " 'side': 743,\n",
       " 'cents': 744,\n",
       " 'certain': 745,\n",
       " 'Centre': 746,\n",
       " 'ability': 747,\n",
       " 'ocean': 748,\n",
       " 'announced': 749,\n",
       " 'always': 750,\n",
       " 'came': 751,\n",
       " 'm': 752,\n",
       " '500': 753,\n",
       " 'field': 754,\n",
       " 'main': 755,\n",
       " 'western': 756,\n",
       " 'drug': 757,\n",
       " 'terms': 758,\n",
       " 'president': 759,\n",
       " 'yesterday': 760,\n",
       " 'sure': 761,\n",
       " 'believes': 762,\n",
       " 'saying': 763,\n",
       " 'trees': 764,\n",
       " 'tests': 765,\n",
       " 'Livestock': 766,\n",
       " 'cannot': 767,\n",
       " 'sell': 768,\n",
       " 'hope': 769,\n",
       " 'To': 770,\n",
       " 'recently': 771,\n",
       " 'tax': 772,\n",
       " 'won': 773,\n",
       " 'dust': 774,\n",
       " 'co': 775,\n",
       " 'heat': 776,\n",
       " 'scheme': 777,\n",
       " 'atmosphere': 778,\n",
       " 'designed': 779,\n",
       " 'claims': 780,\n",
       " 'above': 781,\n",
       " 'expert': 782,\n",
       " 'Ian': 783,\n",
       " 'review': 784,\n",
       " 'carbon': 785,\n",
       " 'growth': 786,\n",
       " 'include': 787,\n",
       " 'news': 788,\n",
       " 'site': 789,\n",
       " 'competition': 790,\n",
       " 'sugar': 791,\n",
       " 'governments': 792,\n",
       " 'management': 793,\n",
       " 'mine': 794,\n",
       " 'understand': 795,\n",
       " 'history': 796,\n",
       " '200': 797,\n",
       " 'remote': 798,\n",
       " 'present': 799,\n",
       " 'gold': 800,\n",
       " 'nearly': 801,\n",
       " 'regions': 802,\n",
       " 'resources': 803,\n",
       " 'loss': 804,\n",
       " 'Tasmanian': 805,\n",
       " 'again': 806,\n",
       " 'winter': 807,\n",
       " 'grower': 808,\n",
       " 'Iraq': 809,\n",
       " 'anything': 810,\n",
       " 'rates': 811,\n",
       " 'scientific': 812,\n",
       " 'financial': 813,\n",
       " 'adds': 814,\n",
       " 'ways': 815,\n",
       " 'benefits': 816,\n",
       " 'laws': 817,\n",
       " 'role': 818,\n",
       " 'medical': 819,\n",
       " 'analysis': 820,\n",
       " 'female': 821,\n",
       " '25': 822,\n",
       " 'hours': 823,\n",
       " 'Water': 824,\n",
       " 'third': 825,\n",
       " 'non': 826,\n",
       " 'former': 827,\n",
       " 'associated': 828,\n",
       " 'offer': 829,\n",
       " 'force': 830,\n",
       " 'members': 831,\n",
       " 'shown': 832,\n",
       " 'bird': 833,\n",
       " 'Valley': 834,\n",
       " 'sold': 835,\n",
       " 'action': 836,\n",
       " 'home': 837,\n",
       " 'ethanol': 838,\n",
       " 'chance': 839,\n",
       " 'marketing': 840,\n",
       " 'turn': 841,\n",
       " 'itself': 842,\n",
       " 'agreement': 843,\n",
       " 'proposed': 844,\n",
       " 'late': 845,\n",
       " 'value': 846,\n",
       " 'McGauran': 847,\n",
       " 'complex': 848,\n",
       " 'meet': 849,\n",
       " 'received': 850,\n",
       " 'source': 851,\n",
       " 'fall': 852,\n",
       " 'Rural': 853,\n",
       " 'CSIRO': 854,\n",
       " 'metres': 855,\n",
       " 'chairman': 856,\n",
       " 'People': 857,\n",
       " 'grow': 858,\n",
       " 'World': 859,\n",
       " 'dollars': 860,\n",
       " 'treatment': 861,\n",
       " 'imports': 862,\n",
       " 'spread': 863,\n",
       " 'previously': 864,\n",
       " 'protect': 865,\n",
       " 'agricultural': 866,\n",
       " 'East': 867,\n",
       " 'More': 868,\n",
       " 'cane': 869,\n",
       " 'death': 870,\n",
       " 'Space': 871,\n",
       " 'didn': 872,\n",
       " 'reports': 873,\n",
       " 'towards': 874,\n",
       " 'Pluto': 875,\n",
       " 'black': 876,\n",
       " 'commercial': 877,\n",
       " 'build': 878,\n",
       " 'step': 879,\n",
       " '80': 880,\n",
       " '),': 881,\n",
       " 'debate': 882,\n",
       " 'females': 883,\n",
       " 'push': 884,\n",
       " 'massive': 885,\n",
       " 'Growers': 886,\n",
       " 'positive': 887,\n",
       " 'total': 888,\n",
       " 'mass': 889,\n",
       " 'previous': 890,\n",
       " 'share': 891,\n",
       " 'Our': 892,\n",
       " 'town': 893,\n",
       " 'onto': 894,\n",
       " 'course': 895,\n",
       " 'American': 896,\n",
       " '70': 897,\n",
       " 'cases': 898,\n",
       " 'drugs': 899,\n",
       " 'expect': 900,\n",
       " 'tiny': 901,\n",
       " 'tell': 902,\n",
       " 'North': 903,\n",
       " 'believed': 904,\n",
       " '7': 905,\n",
       " 'behind': 906,\n",
       " 'concern': 907,\n",
       " 'annual': 908,\n",
       " 'sites': 909,\n",
       " 'native': 910,\n",
       " 'immune': 911,\n",
       " 'confirmed': 912,\n",
       " 'irrigators': 913,\n",
       " 'river': 914,\n",
       " 'trading': 915,\n",
       " 'emissions': 916,\n",
       " 'stage': 917,\n",
       " 'Now': 918,\n",
       " 'farming': 919,\n",
       " 'fight': 920,\n",
       " 'larger': 921,\n",
       " 'weekend': 922,\n",
       " 'city': 923,\n",
       " 'my': 924,\n",
       " 'red': 925,\n",
       " 'pretty': 926,\n",
       " 'looked': 927,\n",
       " 'extra': 928,\n",
       " 'campaign': 929,\n",
       " 'especially': 930,\n",
       " 'temperature': 931,\n",
       " 'domestic': 932,\n",
       " '2004': 933,\n",
       " 'situation': 934,\n",
       " 'assistance': 935,\n",
       " 'specific': 936,\n",
       " 'Technology': 937,\n",
       " 'image': 938,\n",
       " 'legal': 939,\n",
       " 'services': 940,\n",
       " 'States': 941,\n",
       " 'appear': 942,\n",
       " 'create': 943,\n",
       " 'started': 944,\n",
       " 'Africa': 945,\n",
       " 'though': 946,\n",
       " 'road': 947,\n",
       " 'particles': 948,\n",
       " 'chemicals': 949,\n",
       " 'California': 950,\n",
       " 'dogs': 951,\n",
       " 'policy': 952,\n",
       " 'causing': 953,\n",
       " 'Health': 954,\n",
       " 'works': 955,\n",
       " 'ban': 956,\n",
       " 'students': 957,\n",
       " 'Mark': 958,\n",
       " 'calling': 959,\n",
       " 'either': 960,\n",
       " 'bad': 961,\n",
       " 'sense': 962,\n",
       " 'deep': 963,\n",
       " 'century': 964,\n",
       " 'model': 965,\n",
       " 'speed': 966,\n",
       " 'ones': 967,\n",
       " 'fossil': 968,\n",
       " 'play': 969,\n",
       " 'calls': 970,\n",
       " 'considered': 971,\n",
       " 'seven': 972,\n",
       " 'ancient': 973,\n",
       " 'forward': 974,\n",
       " 'radio': 975,\n",
       " 'After': 976,\n",
       " 'types': 977,\n",
       " 'eggs': 978,\n",
       " 'built': 979,\n",
       " 'astronomers': 980,\n",
       " 'board': 981,\n",
       " 'relatively': 982,\n",
       " 'went': 983,\n",
       " 'someone': 984,\n",
       " 'benefit': 985,\n",
       " 'pool': 986,\n",
       " 'helped': 987,\n",
       " 'identified': 988,\n",
       " 'shortage': 989,\n",
       " 'Meat': 990,\n",
       " 'Adelaide': 991,\n",
       " 'station': 992,\n",
       " 'job': 993,\n",
       " 'showed': 994,\n",
       " 'appears': 995,\n",
       " 'Andrew': 996,\n",
       " 'tonne': 997,\n",
       " 'man': 998,\n",
       " '?\"': 999,\n",
       " ...}"
      ]
     },
     "execution_count": 24,
     "metadata": {},
     "output_type": "execute_result"
    }
   ],
   "source": [
    "model.wv.key_to_index"
   ]
  },
  {
   "cell_type": "code",
   "execution_count": 25,
   "metadata": {},
   "outputs": [
    {
     "data": {
      "text/plain": [
       "31885"
      ]
     },
     "execution_count": 25,
     "metadata": {},
     "output_type": "execute_result"
    }
   ],
   "source": [
    "len(model.wv.key_to_index)"
   ]
  },
  {
   "cell_type": "code",
   "execution_count": 26,
   "metadata": {},
   "outputs": [
    {
     "name": "stdout",
     "output_type": "stream",
     "text": [
      "[('authority', 0.9834930300712585), ('capitalise', 0.9745168089866638), ('Dubbo', 0.9717874526977539), ('arousal', 0.971077561378479), ('Hofmann', 0.9699931740760803), ('leading', 0.9698442220687866), ('Women', 0.9653699994087219), ('nurse', 0.9650853872299194), ('bulk', 0.9645991325378418), ('publisher', 0.9620440006256104)]\n"
     ]
    }
   ],
   "source": [
    "data = model.wv.most_similar('science')\n",
    "print(data)"
   ]
  },
  {
   "cell_type": "code",
   "execution_count": 27,
   "metadata": {},
   "outputs": [
    {
     "name": "stdout",
     "output_type": "stream",
     "text": [
      "[('science', 0.9620438814163208), ('Dubbo', 0.9570584297180176), ('slash', 0.9570438265800476), ('earth', 0.9563243389129639), ('eliminating', 0.9547692537307739), ('tanning', 0.9546430706977844), ('Parkinson', 0.9519972205162048), ('glands', 0.9511300325393677), ('capitalise', 0.9489915370941162), ('triple', 0.9483112692832947)]\n"
     ]
    }
   ],
   "source": [
    "data = model.wv.most_similar('publisher')\n",
    "print(data)"
   ]
  },
  {
   "cell_type": "code",
   "execution_count": 28,
   "metadata": {},
   "outputs": [
    {
     "data": {
      "text/plain": [
       "(array([ 0.13982621,  0.14527895,  2.3080072 ,  0.04890282, -0.36340758,\n",
       "        -0.61443096,  1.726412  ,  1.1310205 , -1.3789973 , -0.40868396],\n",
       "       dtype=float32),\n",
       " array([-0.00045724, -0.01240771,  0.21720694,  0.02543465, -0.08139969,\n",
       "        -0.07379601,  0.160106  ,  0.04753344, -0.1612126 , -0.06125492],\n",
       "       dtype=float32))"
      ]
     },
     "execution_count": 28,
     "metadata": {},
     "output_type": "execute_result"
    }
   ],
   "source": [
    "model.wv[\"science\"] , model.wv[\"publisher\"]"
   ]
  },
  {
   "cell_type": "code",
   "execution_count": 29,
   "metadata": {},
   "outputs": [
    {
     "data": {
      "text/plain": [
       "array([[0.9620439]], dtype=float32)"
      ]
     },
     "execution_count": 29,
     "metadata": {},
     "output_type": "execute_result"
    }
   ],
   "source": [
    "cosine_similarity(model.wv[\"science\"].reshape(1,-1),model.wv[\"publisher\"].reshape(1,-1))"
   ]
  },
  {
   "cell_type": "code",
   "execution_count": 30,
   "metadata": {},
   "outputs": [],
   "source": [
    "### Reading data and train Word2Vec"
   ]
  },
  {
   "cell_type": "code",
   "execution_count": 31,
   "metadata": {},
   "outputs": [],
   "source": [
    "import json\n",
    "with open(r'C:/Users\\dai\\Desktop\\NLP\\daywise_lab\\day10\\intents.json') as f:\n",
    "    data = json.load(f)"
   ]
  },
  {
   "cell_type": "code",
   "execution_count": 32,
   "metadata": {},
   "outputs": [
    {
     "data": {
      "text/plain": [
       "list"
      ]
     },
     "execution_count": 32,
     "metadata": {},
     "output_type": "execute_result"
    }
   ],
   "source": [
    "type(data)"
   ]
  },
  {
   "cell_type": "code",
   "execution_count": 33,
   "metadata": {},
   "outputs": [
    {
     "data": {
      "text/plain": [
       "{'tag': 'welcome',\n",
       " 'patterns': ['Hi',\n",
       "  'How are you',\n",
       "  'Is any one to talk?',\n",
       "  'Hello',\n",
       "  'hi are you available'],\n",
       " 'responses': ['Hello, thanks for contacting us',\n",
       "  'Good to see you here',\n",
       "  ' Hi there, how may I assist you?']}"
      ]
     },
     "execution_count": 33,
     "metadata": {},
     "output_type": "execute_result"
    }
   ],
   "source": [
    "data[0]"
   ]
  },
  {
   "cell_type": "code",
   "execution_count": 34,
   "metadata": {},
   "outputs": [
    {
     "data": {
      "text/plain": [
       "['Hi', 'How are you', 'Is any one to talk?', 'Hello', 'hi are you available']"
      ]
     },
     "execution_count": 34,
     "metadata": {},
     "output_type": "execute_result"
    }
   ],
   "source": [
    "data[0][\"patterns\"]"
   ]
  },
  {
   "cell_type": "code",
   "execution_count": 35,
   "metadata": {},
   "outputs": [],
   "source": [
    "import pandas as pd\n",
    "df = pd.DataFrame(data)"
   ]
  },
  {
   "cell_type": "code",
   "execution_count": 36,
   "metadata": {},
   "outputs": [
    {
     "data": {
      "text/html": [
       "<div>\n",
       "<style scoped>\n",
       "    .dataframe tbody tr th:only-of-type {\n",
       "        vertical-align: middle;\n",
       "    }\n",
       "\n",
       "    .dataframe tbody tr th {\n",
       "        vertical-align: top;\n",
       "    }\n",
       "\n",
       "    .dataframe thead th {\n",
       "        text-align: right;\n",
       "    }\n",
       "</style>\n",
       "<table border=\"1\" class=\"dataframe\">\n",
       "  <thead>\n",
       "    <tr style=\"text-align: right;\">\n",
       "      <th></th>\n",
       "      <th>tag</th>\n",
       "      <th>patterns</th>\n",
       "      <th>responses</th>\n",
       "    </tr>\n",
       "  </thead>\n",
       "  <tbody>\n",
       "    <tr>\n",
       "      <th>0</th>\n",
       "      <td>welcome</td>\n",
       "      <td>[Hi, How are you, Is any one to talk?, Hello, ...</td>\n",
       "      <td>[Hello, thanks for contacting us, Good to see ...</td>\n",
       "    </tr>\n",
       "    <tr>\n",
       "      <th>1</th>\n",
       "      <td>goodbye</td>\n",
       "      <td>[Bye, See you later, Goodbye, I will come back...</td>\n",
       "      <td>[See you later, thanks for visiting, have a gr...</td>\n",
       "    </tr>\n",
       "    <tr>\n",
       "      <th>2</th>\n",
       "      <td>thankful</td>\n",
       "      <td>[Thanks for helping me, Thank your guidance, T...</td>\n",
       "      <td>[Happy to help!, Any time!, My pleasure, It is...</td>\n",
       "    </tr>\n",
       "    <tr>\n",
       "      <th>3</th>\n",
       "      <td>hoursopening</td>\n",
       "      <td>[What hours are you open?, Tell your opening t...</td>\n",
       "      <td>[We're open every day 8am-7pm, Our office hour...</td>\n",
       "    </tr>\n",
       "    <tr>\n",
       "      <th>4</th>\n",
       "      <td>payments</td>\n",
       "      <td>[Can I pay using credit card?,  Can I pay usin...</td>\n",
       "      <td>[We accept VISA, Mastercard and credit card, W...</td>\n",
       "    </tr>\n",
       "  </tbody>\n",
       "</table>\n",
       "</div>"
      ],
      "text/plain": [
       "            tag                                           patterns  \\\n",
       "0       welcome  [Hi, How are you, Is any one to talk?, Hello, ...   \n",
       "1       goodbye  [Bye, See you later, Goodbye, I will come back...   \n",
       "2      thankful  [Thanks for helping me, Thank your guidance, T...   \n",
       "3  hoursopening  [What hours are you open?, Tell your opening t...   \n",
       "4      payments  [Can I pay using credit card?,  Can I pay usin...   \n",
       "\n",
       "                                           responses  \n",
       "0  [Hello, thanks for contacting us, Good to see ...  \n",
       "1  [See you later, thanks for visiting, have a gr...  \n",
       "2  [Happy to help!, Any time!, My pleasure, It is...  \n",
       "3  [We're open every day 8am-7pm, Our office hour...  \n",
       "4  [We accept VISA, Mastercard and credit card, W...  "
      ]
     },
     "execution_count": 36,
     "metadata": {},
     "output_type": "execute_result"
    }
   ],
   "source": [
    "df"
   ]
  },
  {
   "cell_type": "code",
   "execution_count": 37,
   "metadata": {},
   "outputs": [
    {
     "data": {
      "text/plain": [
       "['Thanks for helping me',\n",
       " 'Thank your guidance',\n",
       " \"That's helpful and kind from you\"]"
      ]
     },
     "execution_count": 37,
     "metadata": {},
     "output_type": "execute_result"
    }
   ],
   "source": [
    "df['patterns'][2]"
   ]
  },
  {
   "cell_type": "code",
   "execution_count": 38,
   "metadata": {},
   "outputs": [],
   "source": [
    "df[\"patterns\"] = df[\"patterns\"].apply(', '.join)"
   ]
  },
  {
   "cell_type": "code",
   "execution_count": 39,
   "metadata": {},
   "outputs": [
    {
     "data": {
      "text/html": [
       "<div>\n",
       "<style scoped>\n",
       "    .dataframe tbody tr th:only-of-type {\n",
       "        vertical-align: middle;\n",
       "    }\n",
       "\n",
       "    .dataframe tbody tr th {\n",
       "        vertical-align: top;\n",
       "    }\n",
       "\n",
       "    .dataframe thead th {\n",
       "        text-align: right;\n",
       "    }\n",
       "</style>\n",
       "<table border=\"1\" class=\"dataframe\">\n",
       "  <thead>\n",
       "    <tr style=\"text-align: right;\">\n",
       "      <th></th>\n",
       "      <th>tag</th>\n",
       "      <th>patterns</th>\n",
       "      <th>responses</th>\n",
       "    </tr>\n",
       "  </thead>\n",
       "  <tbody>\n",
       "    <tr>\n",
       "      <th>0</th>\n",
       "      <td>welcome</td>\n",
       "      <td>Hi, How are you, Is any one to talk?, Hello, h...</td>\n",
       "      <td>[Hello, thanks for contacting us, Good to see ...</td>\n",
       "    </tr>\n",
       "    <tr>\n",
       "      <th>1</th>\n",
       "      <td>goodbye</td>\n",
       "      <td>Bye, See you later, Goodbye, I will come back ...</td>\n",
       "      <td>[See you later, thanks for visiting, have a gr...</td>\n",
       "    </tr>\n",
       "    <tr>\n",
       "      <th>2</th>\n",
       "      <td>thankful</td>\n",
       "      <td>Thanks for helping me, Thank your guidance, Th...</td>\n",
       "      <td>[Happy to help!, Any time!, My pleasure, It is...</td>\n",
       "    </tr>\n",
       "    <tr>\n",
       "      <th>3</th>\n",
       "      <td>hoursopening</td>\n",
       "      <td>What hours are you open?, Tell your opening ti...</td>\n",
       "      <td>[We're open every day 8am-7pm, Our office hour...</td>\n",
       "    </tr>\n",
       "    <tr>\n",
       "      <th>4</th>\n",
       "      <td>payments</td>\n",
       "      <td>Can I pay using credit card?,  Can I pay using...</td>\n",
       "      <td>[We accept VISA, Mastercard and credit card, W...</td>\n",
       "    </tr>\n",
       "  </tbody>\n",
       "</table>\n",
       "</div>"
      ],
      "text/plain": [
       "            tag                                           patterns  \\\n",
       "0       welcome  Hi, How are you, Is any one to talk?, Hello, h...   \n",
       "1       goodbye  Bye, See you later, Goodbye, I will come back ...   \n",
       "2      thankful  Thanks for helping me, Thank your guidance, Th...   \n",
       "3  hoursopening  What hours are you open?, Tell your opening ti...   \n",
       "4      payments  Can I pay using credit card?,  Can I pay using...   \n",
       "\n",
       "                                           responses  \n",
       "0  [Hello, thanks for contacting us, Good to see ...  \n",
       "1  [See you later, thanks for visiting, have a gr...  \n",
       "2  [Happy to help!, Any time!, My pleasure, It is...  \n",
       "3  [We're open every day 8am-7pm, Our office hour...  \n",
       "4  [We accept VISA, Mastercard and credit card, W...  "
      ]
     },
     "execution_count": 39,
     "metadata": {},
     "output_type": "execute_result"
    }
   ],
   "source": [
    "df"
   ]
  },
  {
   "cell_type": "code",
   "execution_count": 40,
   "metadata": {},
   "outputs": [],
   "source": [
    "from nltk.corpus import stopwords\n",
    "import string\n",
    "from textblob import Word\n",
    "stop = stopwords.words(\"english\")\n",
    "df[\"patterns\"] = df[\"patterns\"].apply(\n",
    "    lambda x:' '.join(x.lower() for x in x.split()))\n",
    "df[\"patterns\"] = df[\"patterns\"].apply(\n",
    "    lambda x:' '.join(x for x in word_tokenize(x) if x not in string.punctuation))\n",
    "df[\"patterns\"] = df[\"patterns\"].str.replace('[^\\w\\s]','')\n",
    "df[\"patterns\"] = df[\"patterns\"].apply(\n",
    "    lambda x:' '.join(x for x in word_tokenize(x) if not x.isdigit()))\n",
    "df[\"patterns\"] = df[\"patterns\"].apply(\n",
    "    lambda x:' '.join(x for x in word_tokenize(x) if not x in stop))\n",
    "df[\"patterns\"] = df[\"patterns\"].apply(\n",
    "    lambda x:' '.join([Word(word).lemmatize(pos='v') for word in word_tokenize(x)]))\n"
   ]
  },
  {
   "cell_type": "code",
   "execution_count": 41,
   "metadata": {},
   "outputs": [
    {
     "data": {
      "text/html": [
       "<div>\n",
       "<style scoped>\n",
       "    .dataframe tbody tr th:only-of-type {\n",
       "        vertical-align: middle;\n",
       "    }\n",
       "\n",
       "    .dataframe tbody tr th {\n",
       "        vertical-align: top;\n",
       "    }\n",
       "\n",
       "    .dataframe thead th {\n",
       "        text-align: right;\n",
       "    }\n",
       "</style>\n",
       "<table border=\"1\" class=\"dataframe\">\n",
       "  <thead>\n",
       "    <tr style=\"text-align: right;\">\n",
       "      <th></th>\n",
       "      <th>tag</th>\n",
       "      <th>patterns</th>\n",
       "      <th>responses</th>\n",
       "    </tr>\n",
       "  </thead>\n",
       "  <tbody>\n",
       "    <tr>\n",
       "      <th>0</th>\n",
       "      <td>welcome</td>\n",
       "      <td>hi one talk hello hi available</td>\n",
       "      <td>[Hello, thanks for contacting us, Good to see ...</td>\n",
       "    </tr>\n",
       "    <tr>\n",
       "      <th>1</th>\n",
       "      <td>goodbye</td>\n",
       "      <td>bye see later goodbye come back soon</td>\n",
       "      <td>[See you later, thanks for visiting, have a gr...</td>\n",
       "    </tr>\n",
       "    <tr>\n",
       "      <th>2</th>\n",
       "      <td>thankful</td>\n",
       "      <td>thank help thank guidance 's helpful kind</td>\n",
       "      <td>[Happy to help!, Any time!, My pleasure, It is...</td>\n",
       "    </tr>\n",
       "    <tr>\n",
       "      <th>3</th>\n",
       "      <td>hoursopening</td>\n",
       "      <td>hours open tell open time open time please</td>\n",
       "      <td>[We're open every day 8am-7pm, Our office hour...</td>\n",
       "    </tr>\n",
       "    <tr>\n",
       "      <th>4</th>\n",
       "      <td>payments</td>\n",
       "      <td>pay use credit card pay use mastercard pay use...</td>\n",
       "      <td>[We accept VISA, Mastercard and credit card, W...</td>\n",
       "    </tr>\n",
       "  </tbody>\n",
       "</table>\n",
       "</div>"
      ],
      "text/plain": [
       "            tag                                           patterns  \\\n",
       "0       welcome                     hi one talk hello hi available   \n",
       "1       goodbye               bye see later goodbye come back soon   \n",
       "2      thankful          thank help thank guidance 's helpful kind   \n",
       "3  hoursopening         hours open tell open time open time please   \n",
       "4      payments  pay use credit card pay use mastercard pay use...   \n",
       "\n",
       "                                           responses  \n",
       "0  [Hello, thanks for contacting us, Good to see ...  \n",
       "1  [See you later, thanks for visiting, have a gr...  \n",
       "2  [Happy to help!, Any time!, My pleasure, It is...  \n",
       "3  [We're open every day 8am-7pm, Our office hour...  \n",
       "4  [We accept VISA, Mastercard and credit card, W...  "
      ]
     },
     "execution_count": 41,
     "metadata": {},
     "output_type": "execute_result"
    }
   ],
   "source": [
    "df"
   ]
  },
  {
   "cell_type": "code",
   "execution_count": 42,
   "metadata": {},
   "outputs": [],
   "source": [
    "## taking the outer list\n",
    "bigger_list =[]\n",
    "for i in df['patterns']:\n",
    "    li = i.split()\n",
    "    bigger_list.append(li)"
   ]
  },
  {
   "cell_type": "code",
   "execution_count": 43,
   "metadata": {},
   "outputs": [
    {
     "data": {
      "text/plain": [
       "[['hi', 'one', 'talk', 'hello', 'hi', 'available'],\n",
       " ['bye', 'see', 'later', 'goodbye', 'come', 'back', 'soon'],\n",
       " ['thank', 'help', 'thank', 'guidance', \"'s\", 'helpful', 'kind'],\n",
       " ['hours', 'open', 'tell', 'open', 'time', 'open', 'time', 'please'],\n",
       " ['pay',\n",
       "  'use',\n",
       "  'credit',\n",
       "  'card',\n",
       "  'pay',\n",
       "  'use',\n",
       "  'mastercard',\n",
       "  'pay',\n",
       "  'use',\n",
       "  'cash']]"
      ]
     },
     "execution_count": 43,
     "metadata": {},
     "output_type": "execute_result"
    }
   ],
   "source": [
    "bigger_list"
   ]
  },
  {
   "cell_type": "code",
   "execution_count": 44,
   "metadata": {},
   "outputs": [
    {
     "name": "stdout",
     "output_type": "stream",
     "text": [
      "Word2Vec<vocab=29, vector_size=2, alpha=0.025>\n"
     ]
    }
   ],
   "source": [
    "#Custom data is fed to machine for further processing\n",
    "model = Word2Vec(bigger_list,min_count=1,vector_size=2)\n",
    "print(model)"
   ]
  },
  {
   "cell_type": "code",
   "execution_count": 45,
   "metadata": {},
   "outputs": [
    {
     "data": {
      "text/plain": [
       "array([0.32294363, 0.4486494 ], dtype=float32)"
      ]
     },
     "execution_count": 45,
     "metadata": {},
     "output_type": "execute_result"
    }
   ],
   "source": [
    "model.wv['hi']"
   ]
  },
  {
   "cell_type": "code",
   "execution_count": 46,
   "metadata": {},
   "outputs": [
    {
     "data": {
      "text/plain": [
       "array([-0.22683066,  0.32770258], dtype=float32)"
      ]
     },
     "execution_count": 46,
     "metadata": {},
     "output_type": "execute_result"
    }
   ],
   "source": [
    "model.wv['hello']"
   ]
  },
  {
   "cell_type": "code",
   "execution_count": 47,
   "metadata": {},
   "outputs": [
    {
     "data": {
      "text/plain": [
       "dict_keys(['pay', 'open', 'use', 'hi', 'time', 'thank', 'hello', 'talk', 'soon', 'one', 'bye', 'see', 'later', 'goodbye', 'come', 'back', 'available', 'cash', 'help', 'mastercard', \"'s\", 'helpful', 'kind', 'hours', 'tell', 'please', 'credit', 'card', 'guidance'])"
      ]
     },
     "execution_count": 47,
     "metadata": {},
     "output_type": "execute_result"
    }
   ],
   "source": [
    "model.wv.key_to_index.keys()"
   ]
  },
  {
   "cell_type": "code",
   "execution_count": 48,
   "metadata": {},
   "outputs": [],
   "source": [
    "words = list(model.wv.key_to_index.keys())"
   ]
  },
  {
   "cell_type": "code",
   "execution_count": 49,
   "metadata": {},
   "outputs": [],
   "source": [
    "import matplotlib.pyplot as plt\n",
    "import numpy as np\n",
    "vectors = []\n",
    "for word in words:\n",
    "    vect = model.wv[word]\n",
    "    vectors.append(list(vect))\n"
   ]
  },
  {
   "cell_type": "code",
   "execution_count": 50,
   "metadata": {},
   "outputs": [
    {
     "data": {
      "text/plain": [
       "array([[-0.02651391,  0.01156701],\n",
       "       [ 0.25526112,  0.45090607],\n",
       "       [-0.46515337, -0.35582092],\n",
       "       [ 0.32294363,  0.4486494 ],\n",
       "       [-0.2507714 , -0.18816859],\n",
       "       [ 0.36877084, -0.07690762],\n",
       "       [-0.22683066,  0.32770258],\n",
       "       [-0.24300802, -0.09080088],\n",
       "       [ 0.14380899,  0.04965185],\n",
       "       [-0.41426075, -0.4724409 ],\n",
       "       [ 0.36533156,  0.25365862],\n",
       "       [ 0.3375778 ,  0.0384436 ],\n",
       "       [ 0.31745085, -0.17025824],\n",
       "       [-0.0474354 ,  0.28846955],\n",
       "       [-0.37631938, -0.19679889],\n",
       "       [-0.37573153, -0.04656664],\n",
       "       [ 0.47690594, -0.36595833],\n",
       "       [-0.11668843, -0.09688705],\n",
       "       [ 0.40388986, -0.29662946],\n",
       "       [ 0.00213489, -0.23767537],\n",
       "       [-0.48039246,  0.25032294],\n",
       "       [-0.43807694, -0.21959437],\n",
       "       [-0.00180655, -0.0148912 ],\n",
       "       [-0.38314208,  0.48097077],\n",
       "       [ 0.24910289,  0.46165717],\n",
       "       [-0.40802845,  0.22491622],\n",
       "       [-0.20685782,  0.04131208],\n",
       "       [ 0.4248581 , -0.22306798],\n",
       "       [ 0.22575632, -0.33917618]], dtype=float32)"
      ]
     },
     "execution_count": 50,
     "metadata": {},
     "output_type": "execute_result"
    }
   ],
   "source": [
    "np.array(vectors)"
   ]
  },
  {
   "cell_type": "code",
   "execution_count": 51,
   "metadata": {},
   "outputs": [],
   "source": [
    "vectors = pd.DataFrame(vectors , columns=['x','y'])"
   ]
  },
  {
   "cell_type": "code",
   "execution_count": 52,
   "metadata": {},
   "outputs": [],
   "source": [
    "#vectors"
   ]
  },
  {
   "cell_type": "code",
   "execution_count": 53,
   "metadata": {},
   "outputs": [
    {
     "data": {
      "image/png": "[encoded data removed]",
      "text/plain": [
       "<Figure size 640x480 with 1 Axes>"
      ]
     },
     "metadata": {},
     "output_type": "display_data"
    }
   ],
   "source": [
    "plt.scatter(vectors['x'] , vectors['y'] )\n",
    "for i in range(len(words)):\n",
    "    plt.annotate(xy = (vectors.loc[i,'x'] + 0.01 , vectors.loc[i,'y']) , text = words[i])"
   ]
  },
  {
   "cell_type": "code",
   "execution_count": 54,
   "metadata": {},
   "outputs": [
    {
     "name": "stdout",
     "output_type": "stream",
     "text": [
      "see\n"
     ]
    }
   ],
   "source": [
    "dissimilar_words = model.wv.doesnt_match(\n",
    "    '''see you later , thanks for visiting'''.split())\n",
    "print(dissimilar_words)"
   ]
  },
  {
   "cell_type": "code",
   "execution_count": null,
   "metadata": {},
   "outputs": [],
   "source": []
  }
 ],
 "metadata": {
  "kernelspec": {
   "display_name": "Python 3 (ipykernel)",
   "language": "python",
   "name": "python3"
  }
 },
 "nbformat": 4,
 "nbformat_minor": 2
}
