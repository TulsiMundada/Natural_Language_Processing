{
 "cells": [
  {
   "cell_type": "code",
   "execution_count": 1,
   "metadata": {},
   "outputs": [
    {
     "name": "stdout",
     "output_type": "stream",
     "text": [
      "WARNING:tensorflow:From c:\\Users\\dai\\AppData\\Local\\Programs\\Python\\Python311\\Lib\\site-packages\\keras\\src\\losses.py:2976: The name tf.losses.sparse_softmax_cross_entropy is deprecated. Please use tf.compat.v1.losses.sparse_softmax_cross_entropy instead.\n",
      "\n"
     ]
    }
   ],
   "source": [
    "import numpy as np\n",
    "import pandas as pd\n",
    "from keras.preprocessing.text import Tokenizer\n",
    "from keras.utils import plot_model\n",
    "from keras.models import Sequential\n",
    "from keras.layers import Dense , Embedding , LSTM , GRU\n",
    "from keras.preprocessing.sequence import pad_sequences\n",
    "from sklearn.model_selection import train_test_split\n",
    "import re"
   ]
  },
  {
   "cell_type": "markdown",
   "metadata": {},
   "source": [
    "## Define the source data"
   ]
  },
  {
   "cell_type": "code",
   "execution_count": 2,
   "metadata": {},
   "outputs": [],
   "source": [
    "text_data = [\n",
    "    \"hello how are you\" ,\n",
    "    \"hello how have you been\" ,\n",
    "    \"hi there\" ,\n",
    "    \"good morning\" ,\n",
    "    \"good night\" ,\n",
    "    \"have a nice day\" ,\n",
    "    \"how is it going\" ,\n",
    "    \"how have you been\" , \n",
    "    \"nice to meet you\" ,\n",
    "    \"thank you\"\n",
    "]"
   ]
  },
  {
   "cell_type": "markdown",
   "metadata": {},
   "source": [
    "### Create the tokenizer"
   ]
  },
  {
   "cell_type": "code",
   "execution_count": 3,
   "metadata": {},
   "outputs": [],
   "source": [
    "#prepare the tokenizer\n",
    "tokenizer = Tokenizer()\n",
    "tokenizer.fit_on_texts(text_data)\n",
    "total_words = len(tokenizer.word_index) + 1"
   ]
  },
  {
   "cell_type": "code",
   "execution_count": 4,
   "metadata": {},
   "outputs": [
    {
     "data": {
      "text/plain": [
       "21"
      ]
     },
     "execution_count": 4,
     "metadata": {},
     "output_type": "execute_result"
    }
   ],
   "source": [
    "total_words"
   ]
  },
  {
   "cell_type": "code",
   "execution_count": 5,
   "metadata": {},
   "outputs": [
    {
     "data": {
      "text/plain": [
       "{'you': 1,\n",
       " 'how': 2,\n",
       " 'have': 3,\n",
       " 'hello': 4,\n",
       " 'been': 5,\n",
       " 'good': 6,\n",
       " 'nice': 7,\n",
       " 'are': 8,\n",
       " 'hi': 9,\n",
       " 'there': 10,\n",
       " 'morning': 11,\n",
       " 'night': 12,\n",
       " 'a': 13,\n",
       " 'day': 14,\n",
       " 'is': 15,\n",
       " 'it': 16,\n",
       " 'going': 17,\n",
       " 'to': 18,\n",
       " 'meet': 19,\n",
       " 'thank': 20}"
      ]
     },
     "execution_count": 5,
     "metadata": {},
     "output_type": "execute_result"
    }
   ],
   "source": [
    "tokenizer.word_index"
   ]
  },
  {
   "cell_type": "markdown",
   "metadata": {},
   "source": [
    "#### Prepare the input sequences"
   ]
  },
  {
   "cell_type": "code",
   "execution_count": 6,
   "metadata": {},
   "outputs": [],
   "source": [
    "#create the sequences of word\n",
    "input_sequences = []\n",
    "for line in text_data:\n",
    "    token_list = tokenizer.texts_to_sequences([line])[0]\n",
    "    for i in range(1, len(token_list)):\n",
    "        n_gram_sequence = token_list[:i+1]\n",
    "        input_sequences.append(n_gram_sequence)"
   ]
  },
  {
   "cell_type": "code",
   "execution_count": 7,
   "metadata": {},
   "outputs": [
    {
     "data": {
      "text/plain": [
       "[[4, 2],\n",
       " [4, 2, 8],\n",
       " [4, 2, 8, 1],\n",
       " [4, 2],\n",
       " [4, 2, 3],\n",
       " [4, 2, 3, 1],\n",
       " [4, 2, 3, 1, 5],\n",
       " [9, 10],\n",
       " [6, 11],\n",
       " [6, 12],\n",
       " [3, 13],\n",
       " [3, 13, 7],\n",
       " [3, 13, 7, 14],\n",
       " [2, 15],\n",
       " [2, 15, 16],\n",
       " [2, 15, 16, 17],\n",
       " [2, 3],\n",
       " [2, 3, 1],\n",
       " [2, 3, 1, 5],\n",
       " [7, 18],\n",
       " [7, 18, 19],\n",
       " [7, 18, 19, 1],\n",
       " [20, 1]]"
      ]
     },
     "execution_count": 7,
     "metadata": {},
     "output_type": "execute_result"
    }
   ],
   "source": [
    "input_sequences"
   ]
  },
  {
   "cell_type": "markdown",
   "metadata": {},
   "source": [
    "### Padding of sequences"
   ]
  },
  {
   "cell_type": "code",
   "execution_count": 8,
   "metadata": {},
   "outputs": [],
   "source": [
    "max_sequence_len = max([len(x) for x in input_sequences])\n",
    "input_sequences= pad_sequences(\n",
    "    input_sequences , maxlen=max_sequence_len , padding='pre'\n",
    ")"
   ]
  },
  {
   "cell_type": "markdown",
   "metadata": {},
   "source": [
    "### Split into features and labels"
   ]
  },
  {
   "cell_type": "code",
   "execution_count": 9,
   "metadata": {},
   "outputs": [],
   "source": [
    "import keras"
   ]
  },
  {
   "cell_type": "code",
   "execution_count": 10,
   "metadata": {},
   "outputs": [],
   "source": [
    "input_sequences = np.array(input_sequences)\n",
    "X,y = input_sequences[: , :-1] , input_sequences[:,-1]\n",
    "y = keras.utils.to_categorical(y , num_classes = total_words)"
   ]
  },
  {
   "cell_type": "code",
   "execution_count": 11,
   "metadata": {},
   "outputs": [
    {
     "data": {
      "text/plain": [
       "array([ 2,  8,  1,  2,  3,  1,  5, 10, 11, 12, 13,  7, 14, 15, 16, 17,  3,\n",
       "        1,  5, 18, 19,  1,  1])"
      ]
     },
     "execution_count": 11,
     "metadata": {},
     "output_type": "execute_result"
    }
   ],
   "source": [
    "input_sequences[: , -1]"
   ]
  },
  {
   "cell_type": "code",
   "execution_count": 12,
   "metadata": {},
   "outputs": [
    {
     "data": {
      "text/plain": [
       "array([[0., 0., 1., 0., 0., 0., 0., 0., 0., 0., 0., 0., 0., 0., 0., 0.,\n",
       "        0., 0., 0., 0., 0.],\n",
       "       [0., 0., 0., 0., 0., 0., 0., 0., 1., 0., 0., 0., 0., 0., 0., 0.,\n",
       "        0., 0., 0., 0., 0.],\n",
       "       [0., 1., 0., 0., 0., 0., 0., 0., 0., 0., 0., 0., 0., 0., 0., 0.,\n",
       "        0., 0., 0., 0., 0.],\n",
       "       [0., 0., 1., 0., 0., 0., 0., 0., 0., 0., 0., 0., 0., 0., 0., 0.,\n",
       "        0., 0., 0., 0., 0.],\n",
       "       [0., 0., 0., 1., 0., 0., 0., 0., 0., 0., 0., 0., 0., 0., 0., 0.,\n",
       "        0., 0., 0., 0., 0.],\n",
       "       [0., 1., 0., 0., 0., 0., 0., 0., 0., 0., 0., 0., 0., 0., 0., 0.,\n",
       "        0., 0., 0., 0., 0.],\n",
       "       [0., 0., 0., 0., 0., 1., 0., 0., 0., 0., 0., 0., 0., 0., 0., 0.,\n",
       "        0., 0., 0., 0., 0.],\n",
       "       [0., 0., 0., 0., 0., 0., 0., 0., 0., 0., 1., 0., 0., 0., 0., 0.,\n",
       "        0., 0., 0., 0., 0.],\n",
       "       [0., 0., 0., 0., 0., 0., 0., 0., 0., 0., 0., 1., 0., 0., 0., 0.,\n",
       "        0., 0., 0., 0., 0.],\n",
       "       [0., 0., 0., 0., 0., 0., 0., 0., 0., 0., 0., 0., 1., 0., 0., 0.,\n",
       "        0., 0., 0., 0., 0.],\n",
       "       [0., 0., 0., 0., 0., 0., 0., 0., 0., 0., 0., 0., 0., 1., 0., 0.,\n",
       "        0., 0., 0., 0., 0.],\n",
       "       [0., 0., 0., 0., 0., 0., 0., 1., 0., 0., 0., 0., 0., 0., 0., 0.,\n",
       "        0., 0., 0., 0., 0.],\n",
       "       [0., 0., 0., 0., 0., 0., 0., 0., 0., 0., 0., 0., 0., 0., 1., 0.,\n",
       "        0., 0., 0., 0., 0.],\n",
       "       [0., 0., 0., 0., 0., 0., 0., 0., 0., 0., 0., 0., 0., 0., 0., 1.,\n",
       "        0., 0., 0., 0., 0.],\n",
       "       [0., 0., 0., 0., 0., 0., 0., 0., 0., 0., 0., 0., 0., 0., 0., 0.,\n",
       "        1., 0., 0., 0., 0.],\n",
       "       [0., 0., 0., 0., 0., 0., 0., 0., 0., 0., 0., 0., 0., 0., 0., 0.,\n",
       "        0., 1., 0., 0., 0.],\n",
       "       [0., 0., 0., 1., 0., 0., 0., 0., 0., 0., 0., 0., 0., 0., 0., 0.,\n",
       "        0., 0., 0., 0., 0.],\n",
       "       [0., 1., 0., 0., 0., 0., 0., 0., 0., 0., 0., 0., 0., 0., 0., 0.,\n",
       "        0., 0., 0., 0., 0.],\n",
       "       [0., 0., 0., 0., 0., 1., 0., 0., 0., 0., 0., 0., 0., 0., 0., 0.,\n",
       "        0., 0., 0., 0., 0.],\n",
       "       [0., 0., 0., 0., 0., 0., 0., 0., 0., 0., 0., 0., 0., 0., 0., 0.,\n",
       "        0., 0., 1., 0., 0.],\n",
       "       [0., 0., 0., 0., 0., 0., 0., 0., 0., 0., 0., 0., 0., 0., 0., 0.,\n",
       "        0., 0., 0., 1., 0.],\n",
       "       [0., 1., 0., 0., 0., 0., 0., 0., 0., 0., 0., 0., 0., 0., 0., 0.,\n",
       "        0., 0., 0., 0., 0.],\n",
       "       [0., 1., 0., 0., 0., 0., 0., 0., 0., 0., 0., 0., 0., 0., 0., 0.,\n",
       "        0., 0., 0., 0., 0.]], dtype=float32)"
      ]
     },
     "execution_count": 12,
     "metadata": {},
     "output_type": "execute_result"
    }
   ],
   "source": [
    "y"
   ]
  },
  {
   "cell_type": "markdown",
   "metadata": {},
   "source": [
    "### Build the model"
   ]
  },
  {
   "cell_type": "code",
   "execution_count": 13,
   "metadata": {},
   "outputs": [
    {
     "name": "stdout",
     "output_type": "stream",
     "text": [
      "WARNING:tensorflow:From c:\\Users\\dai\\AppData\\Local\\Programs\\Python\\Python311\\Lib\\site-packages\\keras\\src\\backend.py:873: The name tf.get_default_graph is deprecated. Please use tf.compat.v1.get_default_graph instead.\n",
      "\n"
     ]
    }
   ],
   "source": [
    "model = Sequential()\n",
    "model.add(Embedding(total_words , 10 , input_length=max_sequence_len-1))\n",
    "model.add(LSTM(150 , return_sequences=True))\n",
    "model.add(LSTM(100))\n",
    "model.add(Dense(total_words , activation='softmax'))"
   ]
  },
  {
   "cell_type": "code",
   "execution_count": 14,
   "metadata": {},
   "outputs": [
    {
     "name": "stdout",
     "output_type": "stream",
     "text": [
      "Model: \"sequential\"\n",
      "_________________________________________________________________\n",
      " Layer (type)                Output Shape              Param #   \n",
      "=================================================================\n",
      " embedding (Embedding)       (None, 4, 10)             210       \n",
      "                                                                 \n",
      " lstm (LSTM)                 (None, 4, 150)            96600     \n",
      "                                                                 \n",
      " lstm_1 (LSTM)               (None, 100)               100400    \n",
      "                                                                 \n",
      " dense (Dense)               (None, 21)                2121      \n",
      "                                                                 \n",
      "=================================================================\n",
      "Total params: 199331 (778.64 KB)\n",
      "Trainable params: 199331 (778.64 KB)\n",
      "Non-trainable params: 0 (0.00 Byte)\n",
      "_________________________________________________________________\n"
     ]
    }
   ],
   "source": [
    "model.summary()"
   ]
  },
  {
   "cell_type": "code",
   "execution_count": 19,
   "metadata": {},
   "outputs": [],
   "source": [
    "model.compile( loss='categorical_crossentropy',optimizer='adam', metrics='accuracy')"
   ]
  },
  {
   "cell_type": "code",
   "execution_count": 22,
   "metadata": {},
   "outputs": [
    {
     "name": "stdout",
     "output_type": "stream",
     "text": [
      "Epoch 1/200\n",
      "WARNING:tensorflow:From c:\\Users\\dai\\AppData\\Local\\Programs\\Python\\Python311\\Lib\\site-packages\\keras\\src\\utils\\tf_utils.py:492: The name tf.ragged.RaggedTensorValue is deprecated. Please use tf.compat.v1.ragged.RaggedTensorValue instead.\n",
      "\n",
      "WARNING:tensorflow:From c:\\Users\\dai\\AppData\\Local\\Programs\\Python\\Python311\\Lib\\site-packages\\keras\\src\\engine\\base_layer_utils.py:384: The name tf.executing_eagerly_outside_functions is deprecated. Please use tf.compat.v1.executing_eagerly_outside_functions instead.\n",
      "\n",
      "23/23 [==============================] - 4s 9ms/step - loss: 3.0439 - accuracy: 0.1739\n",
      "Epoch 2/200\n",
      "23/23 [==============================] - 0s 8ms/step - loss: 2.9981 - accuracy: 0.2174\n",
      "Epoch 3/200\n",
      "23/23 [==============================] - 0s 9ms/step - loss: 2.8402 - accuracy: 0.2174\n",
      "Epoch 4/200\n",
      "23/23 [==============================] - 0s 8ms/step - loss: 2.7846 - accuracy: 0.2174\n",
      "Epoch 5/200\n",
      "23/23 [==============================] - 0s 9ms/step - loss: 2.7088 - accuracy: 0.2174\n",
      "Epoch 6/200\n",
      "23/23 [==============================] - 0s 8ms/step - loss: 2.6694 - accuracy: 0.2174\n",
      "Epoch 7/200\n",
      "23/23 [==============================] - 0s 8ms/step - loss: 2.6626 - accuracy: 0.2174\n",
      "Epoch 8/200\n",
      "23/23 [==============================] - 0s 7ms/step - loss: 2.6763 - accuracy: 0.2174\n",
      "Epoch 9/200\n",
      "23/23 [==============================] - 0s 9ms/step - loss: 2.6534 - accuracy: 0.2174\n",
      "Epoch 10/200\n",
      "23/23 [==============================] - 0s 8ms/step - loss: 2.5985 - accuracy: 0.2174\n",
      "Epoch 11/200\n",
      "23/23 [==============================] - 0s 9ms/step - loss: 2.5733 - accuracy: 0.2174\n",
      "Epoch 12/200\n",
      "23/23 [==============================] - 0s 8ms/step - loss: 2.5197 - accuracy: 0.2174\n",
      "Epoch 13/200\n",
      "23/23 [==============================] - 0s 9ms/step - loss: 2.4432 - accuracy: 0.2174\n",
      "Epoch 14/200\n",
      "23/23 [==============================] - 0s 10ms/step - loss: 2.3288 - accuracy: 0.3043\n",
      "Epoch 15/200\n",
      "23/23 [==============================] - 0s 8ms/step - loss: 2.2286 - accuracy: 0.2609\n",
      "Epoch 16/200\n",
      "23/23 [==============================] - 0s 8ms/step - loss: 2.1091 - accuracy: 0.3043\n",
      "Epoch 17/200\n",
      "23/23 [==============================] - 0s 6ms/step - loss: 1.9985 - accuracy: 0.3043\n",
      "Epoch 18/200\n",
      "23/23 [==============================] - 0s 9ms/step - loss: 1.9302 - accuracy: 0.3478\n",
      "Epoch 19/200\n",
      "23/23 [==============================] - 0s 8ms/step - loss: 1.8056 - accuracy: 0.3913\n",
      "Epoch 20/200\n",
      "23/23 [==============================] - 0s 9ms/step - loss: 1.7510 - accuracy: 0.3478\n",
      "Epoch 21/200\n",
      "23/23 [==============================] - 0s 9ms/step - loss: 1.6855 - accuracy: 0.4783\n",
      "Epoch 22/200\n",
      "23/23 [==============================] - 0s 10ms/step - loss: 1.5453 - accuracy: 0.4783\n",
      "Epoch 23/200\n",
      "23/23 [==============================] - 0s 8ms/step - loss: 1.3875 - accuracy: 0.5217\n",
      "Epoch 24/200\n",
      "23/23 [==============================] - 0s 8ms/step - loss: 1.3270 - accuracy: 0.5652\n",
      "Epoch 25/200\n",
      "23/23 [==============================] - 0s 7ms/step - loss: 1.2330 - accuracy: 0.5652\n",
      "Epoch 26/200\n",
      "23/23 [==============================] - 0s 9ms/step - loss: 1.1844 - accuracy: 0.5217\n",
      "Epoch 27/200\n",
      "23/23 [==============================] - 0s 9ms/step - loss: 1.0862 - accuracy: 0.5217\n",
      "Epoch 28/200\n",
      "23/23 [==============================] - 0s 8ms/step - loss: 1.0697 - accuracy: 0.6522\n",
      "Epoch 29/200\n",
      "23/23 [==============================] - 0s 9ms/step - loss: 1.0971 - accuracy: 0.6087\n",
      "Epoch 30/200\n",
      "23/23 [==============================] - 0s 10ms/step - loss: 1.0449 - accuracy: 0.6087\n",
      "Epoch 31/200\n",
      "23/23 [==============================] - 0s 9ms/step - loss: 1.0320 - accuracy: 0.5652\n",
      "Epoch 32/200\n",
      "23/23 [==============================] - 0s 10ms/step - loss: 0.9075 - accuracy: 0.6522\n",
      "Epoch 33/200\n",
      "23/23 [==============================] - 0s 9ms/step - loss: 0.9057 - accuracy: 0.5217\n",
      "Epoch 34/200\n",
      "23/23 [==============================] - 0s 7ms/step - loss: 0.8410 - accuracy: 0.6087\n",
      "Epoch 35/200\n",
      "23/23 [==============================] - 0s 7ms/step - loss: 0.7749 - accuracy: 0.6957\n",
      "Epoch 36/200\n",
      "23/23 [==============================] - 0s 8ms/step - loss: 0.7448 - accuracy: 0.6957\n",
      "Epoch 37/200\n",
      "23/23 [==============================] - 0s 7ms/step - loss: 0.7431 - accuracy: 0.6957\n",
      "Epoch 38/200\n",
      "23/23 [==============================] - 0s 8ms/step - loss: 0.7303 - accuracy: 0.6087\n",
      "Epoch 39/200\n",
      "23/23 [==============================] - 0s 7ms/step - loss: 0.6702 - accuracy: 0.7391\n",
      "Epoch 40/200\n",
      "23/23 [==============================] - 0s 8ms/step - loss: 0.5783 - accuracy: 0.7391\n",
      "Epoch 41/200\n",
      "23/23 [==============================] - 0s 7ms/step - loss: 0.5492 - accuracy: 0.7391\n",
      "Epoch 42/200\n",
      "23/23 [==============================] - 0s 8ms/step - loss: 0.5182 - accuracy: 0.8261\n",
      "Epoch 43/200\n",
      "23/23 [==============================] - 0s 7ms/step - loss: 0.5041 - accuracy: 0.8261\n",
      "Epoch 44/200\n",
      "23/23 [==============================] - 0s 9ms/step - loss: 0.4677 - accuracy: 0.8261\n",
      "Epoch 45/200\n",
      "23/23 [==============================] - 0s 8ms/step - loss: 0.4528 - accuracy: 0.8261\n",
      "Epoch 46/200\n",
      "23/23 [==============================] - 0s 8ms/step - loss: 0.4343 - accuracy: 0.8261\n",
      "Epoch 47/200\n",
      "23/23 [==============================] - 0s 9ms/step - loss: 0.4262 - accuracy: 0.7826\n",
      "Epoch 48/200\n",
      "23/23 [==============================] - 0s 9ms/step - loss: 0.3892 - accuracy: 0.8261\n",
      "Epoch 49/200\n",
      "23/23 [==============================] - 0s 6ms/step - loss: 0.3839 - accuracy: 0.7391\n",
      "Epoch 50/200\n",
      "23/23 [==============================] - 0s 8ms/step - loss: 0.3684 - accuracy: 0.7391\n",
      "Epoch 51/200\n",
      "23/23 [==============================] - 0s 7ms/step - loss: 0.3528 - accuracy: 0.8261\n",
      "Epoch 52/200\n",
      "23/23 [==============================] - 0s 9ms/step - loss: 0.3491 - accuracy: 0.7826\n",
      "Epoch 53/200\n",
      "23/23 [==============================] - 0s 7ms/step - loss: 0.3303 - accuracy: 0.8696\n",
      "Epoch 54/200\n",
      "23/23 [==============================] - 0s 9ms/step - loss: 0.3417 - accuracy: 0.8696\n",
      "Epoch 55/200\n",
      "23/23 [==============================] - 0s 7ms/step - loss: 0.3427 - accuracy: 0.7826\n",
      "Epoch 56/200\n",
      "23/23 [==============================] - 0s 7ms/step - loss: 0.3020 - accuracy: 0.8261\n",
      "Epoch 57/200\n",
      "23/23 [==============================] - 0s 8ms/step - loss: 0.2853 - accuracy: 0.7826\n",
      "Epoch 58/200\n",
      "23/23 [==============================] - 0s 7ms/step - loss: 0.3239 - accuracy: 0.7391\n",
      "Epoch 59/200\n",
      "23/23 [==============================] - 0s 7ms/step - loss: 0.2765 - accuracy: 0.7391\n",
      "Epoch 60/200\n",
      "23/23 [==============================] - 0s 8ms/step - loss: 0.2731 - accuracy: 0.7391\n",
      "Epoch 61/200\n",
      "23/23 [==============================] - 0s 7ms/step - loss: 0.2881 - accuracy: 0.7826\n",
      "Epoch 62/200\n",
      "23/23 [==============================] - 0s 9ms/step - loss: 0.2837 - accuracy: 0.8261\n",
      "Epoch 63/200\n",
      "23/23 [==============================] - 0s 7ms/step - loss: 0.2797 - accuracy: 0.7826\n",
      "Epoch 64/200\n",
      "23/23 [==============================] - 0s 7ms/step - loss: 0.2669 - accuracy: 0.7826\n",
      "Epoch 65/200\n",
      "23/23 [==============================] - 0s 7ms/step - loss: 0.2589 - accuracy: 0.8261\n",
      "Epoch 66/200\n",
      "23/23 [==============================] - 0s 9ms/step - loss: 0.2604 - accuracy: 0.8261\n",
      "Epoch 67/200\n",
      "23/23 [==============================] - 0s 8ms/step - loss: 0.2414 - accuracy: 0.8261\n",
      "Epoch 68/200\n",
      "23/23 [==============================] - 0s 7ms/step - loss: 0.2522 - accuracy: 0.8261\n",
      "Epoch 69/200\n",
      "23/23 [==============================] - 0s 7ms/step - loss: 0.2454 - accuracy: 0.8261\n",
      "Epoch 70/200\n",
      "23/23 [==============================] - 0s 9ms/step - loss: 0.2400 - accuracy: 0.8261\n",
      "Epoch 71/200\n",
      "23/23 [==============================] - 0s 8ms/step - loss: 0.2363 - accuracy: 0.8261\n",
      "Epoch 72/200\n",
      "23/23 [==============================] - 0s 7ms/step - loss: 0.2330 - accuracy: 0.8261\n",
      "Epoch 73/200\n",
      "23/23 [==============================] - 0s 9ms/step - loss: 0.2384 - accuracy: 0.8261\n",
      "Epoch 74/200\n",
      "23/23 [==============================] - 0s 8ms/step - loss: 0.2365 - accuracy: 0.7826\n",
      "Epoch 75/200\n",
      "23/23 [==============================] - 0s 8ms/step - loss: 0.2521 - accuracy: 0.8261\n",
      "Epoch 76/200\n",
      "23/23 [==============================] - 0s 8ms/step - loss: 0.2330 - accuracy: 0.7826\n",
      "Epoch 77/200\n",
      "23/23 [==============================] - 0s 7ms/step - loss: 0.2480 - accuracy: 0.7391\n",
      "Epoch 78/200\n",
      "23/23 [==============================] - 0s 7ms/step - loss: 0.2288 - accuracy: 0.8261\n",
      "Epoch 79/200\n",
      "23/23 [==============================] - 0s 8ms/step - loss: 0.2250 - accuracy: 0.8261\n",
      "Epoch 80/200\n",
      "23/23 [==============================] - 0s 8ms/step - loss: 0.2211 - accuracy: 0.8261\n",
      "Epoch 81/200\n",
      "23/23 [==============================] - 0s 8ms/step - loss: 0.2216 - accuracy: 0.8261\n",
      "Epoch 82/200\n",
      "23/23 [==============================] - 0s 8ms/step - loss: 0.2396 - accuracy: 0.7826\n",
      "Epoch 83/200\n",
      "23/23 [==============================] - 0s 8ms/step - loss: 0.2316 - accuracy: 0.8261\n",
      "Epoch 84/200\n",
      "23/23 [==============================] - 0s 9ms/step - loss: 0.2256 - accuracy: 0.7826\n",
      "Epoch 85/200\n",
      "23/23 [==============================] - 0s 7ms/step - loss: 0.2145 - accuracy: 0.8261\n",
      "Epoch 86/200\n",
      "23/23 [==============================] - 0s 7ms/step - loss: 0.2217 - accuracy: 0.7826\n",
      "Epoch 87/200\n",
      "23/23 [==============================] - 0s 9ms/step - loss: 0.2154 - accuracy: 0.8261\n",
      "Epoch 88/200\n",
      "23/23 [==============================] - 0s 7ms/step - loss: 0.2192 - accuracy: 0.8696\n",
      "Epoch 89/200\n",
      "23/23 [==============================] - 0s 9ms/step - loss: 0.2270 - accuracy: 0.8261\n",
      "Epoch 90/200\n",
      "23/23 [==============================] - 0s 8ms/step - loss: 0.2200 - accuracy: 0.8261\n",
      "Epoch 91/200\n",
      "23/23 [==============================] - 0s 7ms/step - loss: 0.2208 - accuracy: 0.8696\n",
      "Epoch 92/200\n",
      "23/23 [==============================] - 0s 7ms/step - loss: 0.2255 - accuracy: 0.7826\n",
      "Epoch 93/200\n",
      "23/23 [==============================] - 0s 9ms/step - loss: 0.2250 - accuracy: 0.7826\n",
      "Epoch 94/200\n",
      "23/23 [==============================] - 0s 9ms/step - loss: 0.2170 - accuracy: 0.8261\n",
      "Epoch 95/200\n",
      "23/23 [==============================] - 0s 7ms/step - loss: 0.2146 - accuracy: 0.7826\n",
      "Epoch 96/200\n",
      "23/23 [==============================] - 0s 7ms/step - loss: 0.2213 - accuracy: 0.7826\n",
      "Epoch 97/200\n",
      "23/23 [==============================] - 0s 8ms/step - loss: 0.2210 - accuracy: 0.7826\n",
      "Epoch 98/200\n",
      "23/23 [==============================] - 0s 7ms/step - loss: 0.2153 - accuracy: 0.7826\n",
      "Epoch 99/200\n",
      "23/23 [==============================] - 0s 7ms/step - loss: 0.2123 - accuracy: 0.7826\n",
      "Epoch 100/200\n",
      "23/23 [==============================] - 0s 6ms/step - loss: 0.2186 - accuracy: 0.7826\n",
      "Epoch 101/200\n",
      "23/23 [==============================] - 0s 7ms/step - loss: 0.2205 - accuracy: 0.7826\n",
      "Epoch 102/200\n",
      "23/23 [==============================] - 0s 8ms/step - loss: 0.2099 - accuracy: 0.8261\n",
      "Epoch 103/200\n",
      "23/23 [==============================] - 0s 10ms/step - loss: 0.2166 - accuracy: 0.7826\n",
      "Epoch 104/200\n",
      "23/23 [==============================] - 0s 7ms/step - loss: 0.2148 - accuracy: 0.7826\n",
      "Epoch 105/200\n",
      "23/23 [==============================] - 0s 7ms/step - loss: 0.2134 - accuracy: 0.8261\n",
      "Epoch 106/200\n",
      "23/23 [==============================] - 0s 8ms/step - loss: 0.2075 - accuracy: 0.8261\n",
      "Epoch 107/200\n",
      "23/23 [==============================] - 0s 8ms/step - loss: 0.2095 - accuracy: 0.8261\n",
      "Epoch 108/200\n",
      "23/23 [==============================] - 0s 8ms/step - loss: 0.2285 - accuracy: 0.7391\n",
      "Epoch 109/200\n",
      "23/23 [==============================] - 0s 7ms/step - loss: 0.2200 - accuracy: 0.7391\n",
      "Epoch 110/200\n",
      "23/23 [==============================] - 0s 7ms/step - loss: 0.2075 - accuracy: 0.7826\n",
      "Epoch 111/200\n",
      "23/23 [==============================] - 0s 8ms/step - loss: 0.2150 - accuracy: 0.8261\n",
      "Epoch 112/200\n",
      "23/23 [==============================] - 0s 7ms/step - loss: 0.2163 - accuracy: 0.7391\n",
      "Epoch 113/200\n",
      "23/23 [==============================] - 0s 8ms/step - loss: 0.2099 - accuracy: 0.8261\n",
      "Epoch 114/200\n",
      "23/23 [==============================] - 0s 9ms/step - loss: 0.2090 - accuracy: 0.8261\n",
      "Epoch 115/200\n",
      "23/23 [==============================] - 0s 8ms/step - loss: 0.2150 - accuracy: 0.7826\n",
      "Epoch 116/200\n",
      "23/23 [==============================] - 0s 8ms/step - loss: 0.2073 - accuracy: 0.8261\n",
      "Epoch 117/200\n",
      "23/23 [==============================] - 0s 8ms/step - loss: 0.2114 - accuracy: 0.8261\n",
      "Epoch 118/200\n",
      "23/23 [==============================] - 0s 8ms/step - loss: 0.2100 - accuracy: 0.8696\n",
      "Epoch 119/200\n",
      "23/23 [==============================] - 0s 7ms/step - loss: 0.2091 - accuracy: 0.7391\n",
      "Epoch 120/200\n",
      "23/23 [==============================] - 0s 7ms/step - loss: 0.1983 - accuracy: 0.8261\n",
      "Epoch 121/200\n",
      "23/23 [==============================] - 0s 8ms/step - loss: 0.2091 - accuracy: 0.7391\n",
      "Epoch 122/200\n",
      "23/23 [==============================] - 0s 7ms/step - loss: 0.2079 - accuracy: 0.7826\n",
      "Epoch 123/200\n",
      "23/23 [==============================] - 0s 8ms/step - loss: 0.2154 - accuracy: 0.7826\n",
      "Epoch 124/200\n",
      "23/23 [==============================] - 0s 7ms/step - loss: 0.1979 - accuracy: 0.8261\n",
      "Epoch 125/200\n",
      "23/23 [==============================] - 0s 8ms/step - loss: 0.2129 - accuracy: 0.8261\n",
      "Epoch 126/200\n",
      "23/23 [==============================] - 0s 7ms/step - loss: 0.2057 - accuracy: 0.8696\n",
      "Epoch 127/200\n",
      "23/23 [==============================] - 0s 7ms/step - loss: 0.2070 - accuracy: 0.8261\n",
      "Epoch 128/200\n",
      "23/23 [==============================] - 0s 7ms/step - loss: 0.2078 - accuracy: 0.7826\n",
      "Epoch 129/200\n",
      "23/23 [==============================] - 0s 8ms/step - loss: 0.2094 - accuracy: 0.8696\n",
      "Epoch 130/200\n",
      "23/23 [==============================] - 0s 8ms/step - loss: 0.2096 - accuracy: 0.7391\n",
      "Epoch 131/200\n",
      "23/23 [==============================] - 0s 7ms/step - loss: 0.2090 - accuracy: 0.8261\n",
      "Epoch 132/200\n",
      "23/23 [==============================] - 0s 8ms/step - loss: 0.2127 - accuracy: 0.7391\n",
      "Epoch 133/200\n",
      "23/23 [==============================] - 0s 8ms/step - loss: 0.1988 - accuracy: 0.8261\n",
      "Epoch 134/200\n",
      "23/23 [==============================] - 0s 8ms/step - loss: 0.2028 - accuracy: 0.8261\n",
      "Epoch 135/200\n",
      "23/23 [==============================] - 0s 8ms/step - loss: 0.2028 - accuracy: 0.7391\n",
      "Epoch 136/200\n",
      "23/23 [==============================] - 0s 8ms/step - loss: 0.2003 - accuracy: 0.8261\n",
      "Epoch 137/200\n",
      "23/23 [==============================] - 0s 6ms/step - loss: 0.2093 - accuracy: 0.8261\n",
      "Epoch 138/200\n",
      "23/23 [==============================] - 0s 8ms/step - loss: 0.2032 - accuracy: 0.8261\n",
      "Epoch 139/200\n",
      "23/23 [==============================] - 0s 7ms/step - loss: 0.2109 - accuracy: 0.8261\n",
      "Epoch 140/200\n",
      "23/23 [==============================] - 0s 8ms/step - loss: 0.2113 - accuracy: 0.8261\n",
      "Epoch 141/200\n",
      "23/23 [==============================] - 0s 8ms/step - loss: 0.2022 - accuracy: 0.8261\n",
      "Epoch 142/200\n",
      "23/23 [==============================] - 0s 7ms/step - loss: 0.1973 - accuracy: 0.7391\n",
      "Epoch 143/200\n",
      "23/23 [==============================] - 0s 9ms/step - loss: 0.2005 - accuracy: 0.8261\n",
      "Epoch 144/200\n",
      "23/23 [==============================] - 0s 8ms/step - loss: 0.2006 - accuracy: 0.7826\n",
      "Epoch 145/200\n",
      "23/23 [==============================] - 0s 7ms/step - loss: 0.2056 - accuracy: 0.7391\n",
      "Epoch 146/200\n",
      "23/23 [==============================] - 0s 8ms/step - loss: 0.2090 - accuracy: 0.7826\n",
      "Epoch 147/200\n",
      "23/23 [==============================] - 0s 8ms/step - loss: 0.2020 - accuracy: 0.8696\n",
      "Epoch 148/200\n",
      "23/23 [==============================] - 0s 6ms/step - loss: 0.1959 - accuracy: 0.8696\n",
      "Epoch 149/200\n",
      "23/23 [==============================] - 0s 9ms/step - loss: 0.1950 - accuracy: 0.8261\n",
      "Epoch 150/200\n",
      "23/23 [==============================] - 0s 8ms/step - loss: 0.1964 - accuracy: 0.8261\n",
      "Epoch 151/200\n",
      "23/23 [==============================] - 0s 9ms/step - loss: 0.1962 - accuracy: 0.7826\n",
      "Epoch 152/200\n",
      "23/23 [==============================] - 0s 8ms/step - loss: 0.2129 - accuracy: 0.7826\n",
      "Epoch 153/200\n",
      "23/23 [==============================] - 0s 8ms/step - loss: 0.1957 - accuracy: 0.8696\n",
      "Epoch 154/200\n",
      "23/23 [==============================] - 0s 8ms/step - loss: 0.1977 - accuracy: 0.7826\n",
      "Epoch 155/200\n",
      "23/23 [==============================] - 0s 8ms/step - loss: 0.1974 - accuracy: 0.8261\n",
      "Epoch 156/200\n",
      "23/23 [==============================] - 0s 7ms/step - loss: 0.2069 - accuracy: 0.7826\n",
      "Epoch 157/200\n",
      "23/23 [==============================] - 0s 8ms/step - loss: 0.2036 - accuracy: 0.8261\n",
      "Epoch 158/200\n",
      "23/23 [==============================] - 0s 7ms/step - loss: 0.2020 - accuracy: 0.7826\n",
      "Epoch 159/200\n",
      "23/23 [==============================] - 0s 9ms/step - loss: 0.1966 - accuracy: 0.8696\n",
      "Epoch 160/200\n",
      "23/23 [==============================] - 0s 8ms/step - loss: 0.2005 - accuracy: 0.7826\n",
      "Epoch 161/200\n",
      "23/23 [==============================] - 0s 8ms/step - loss: 0.1994 - accuracy: 0.7391\n",
      "Epoch 162/200\n",
      "23/23 [==============================] - 0s 7ms/step - loss: 0.2068 - accuracy: 0.7826\n",
      "Epoch 163/200\n",
      "23/23 [==============================] - 0s 8ms/step - loss: 0.1981 - accuracy: 0.8261\n",
      "Epoch 164/200\n",
      "23/23 [==============================] - 0s 6ms/step - loss: 0.1969 - accuracy: 0.7826\n",
      "Epoch 165/200\n",
      "23/23 [==============================] - 0s 8ms/step - loss: 0.2077 - accuracy: 0.8261\n",
      "Epoch 166/200\n",
      "23/23 [==============================] - 0s 9ms/step - loss: 0.2052 - accuracy: 0.7826\n",
      "Epoch 167/200\n",
      "23/23 [==============================] - 0s 8ms/step - loss: 0.1988 - accuracy: 0.8696\n",
      "Epoch 168/200\n",
      "23/23 [==============================] - 0s 8ms/step - loss: 0.2020 - accuracy: 0.8261\n",
      "Epoch 169/200\n",
      "23/23 [==============================] - 0s 8ms/step - loss: 0.1944 - accuracy: 0.8261\n",
      "Epoch 170/200\n",
      "23/23 [==============================] - 0s 7ms/step - loss: 0.1953 - accuracy: 0.8261\n",
      "Epoch 171/200\n",
      "23/23 [==============================] - 0s 7ms/step - loss: 0.1971 - accuracy: 0.8261\n",
      "Epoch 172/200\n",
      "23/23 [==============================] - 0s 7ms/step - loss: 0.2005 - accuracy: 0.8696\n",
      "Epoch 173/200\n",
      "23/23 [==============================] - 0s 8ms/step - loss: 0.2013 - accuracy: 0.7826\n",
      "Epoch 174/200\n",
      "23/23 [==============================] - 0s 8ms/step - loss: 0.1979 - accuracy: 0.7391\n",
      "Epoch 175/200\n",
      "23/23 [==============================] - 0s 7ms/step - loss: 0.2037 - accuracy: 0.8696\n",
      "Epoch 176/200\n",
      "23/23 [==============================] - 0s 9ms/step - loss: 0.2024 - accuracy: 0.8261\n",
      "Epoch 177/200\n",
      "23/23 [==============================] - 0s 8ms/step - loss: 0.1916 - accuracy: 0.7826\n",
      "Epoch 178/200\n",
      "23/23 [==============================] - 0s 8ms/step - loss: 0.2020 - accuracy: 0.7826\n",
      "Epoch 179/200\n",
      "23/23 [==============================] - 0s 9ms/step - loss: 0.1924 - accuracy: 0.8261\n",
      "Epoch 180/200\n",
      "23/23 [==============================] - 0s 6ms/step - loss: 0.2028 - accuracy: 0.7826\n",
      "Epoch 181/200\n",
      "23/23 [==============================] - 0s 8ms/step - loss: 0.1946 - accuracy: 0.8696\n",
      "Epoch 182/200\n",
      "23/23 [==============================] - 0s 8ms/step - loss: 0.1939 - accuracy: 0.8261\n",
      "Epoch 183/200\n",
      "23/23 [==============================] - 0s 8ms/step - loss: 0.2062 - accuracy: 0.7391\n",
      "Epoch 184/200\n",
      "23/23 [==============================] - 0s 9ms/step - loss: 0.2096 - accuracy: 0.7826\n",
      "Epoch 185/200\n",
      "23/23 [==============================] - 0s 9ms/step - loss: 0.2037 - accuracy: 0.7826\n",
      "Epoch 186/200\n",
      "23/23 [==============================] - 0s 9ms/step - loss: 0.2045 - accuracy: 0.8696\n",
      "Epoch 187/200\n",
      "23/23 [==============================] - 0s 8ms/step - loss: 0.1997 - accuracy: 0.8261\n",
      "Epoch 188/200\n",
      "23/23 [==============================] - 0s 8ms/step - loss: 0.2045 - accuracy: 0.7391\n",
      "Epoch 189/200\n",
      "23/23 [==============================] - 0s 9ms/step - loss: 0.1983 - accuracy: 0.7826\n",
      "Epoch 190/200\n",
      "23/23 [==============================] - 0s 9ms/step - loss: 0.2035 - accuracy: 0.8261\n",
      "Epoch 191/200\n",
      "23/23 [==============================] - 0s 9ms/step - loss: 0.2028 - accuracy: 0.8696\n",
      "Epoch 192/200\n",
      "23/23 [==============================] - 0s 8ms/step - loss: 0.1944 - accuracy: 0.8696\n",
      "Epoch 193/200\n",
      "23/23 [==============================] - 0s 7ms/step - loss: 0.1938 - accuracy: 0.7826\n",
      "Epoch 194/200\n",
      "23/23 [==============================] - 0s 9ms/step - loss: 0.1959 - accuracy: 0.8261\n",
      "Epoch 195/200\n",
      "23/23 [==============================] - 0s 9ms/step - loss: 0.1966 - accuracy: 0.8261\n",
      "Epoch 196/200\n",
      "23/23 [==============================] - 0s 6ms/step - loss: 0.2010 - accuracy: 0.7391\n",
      "Epoch 197/200\n",
      "23/23 [==============================] - 0s 9ms/step - loss: 0.1999 - accuracy: 0.8261\n",
      "Epoch 198/200\n",
      "23/23 [==============================] - 0s 8ms/step - loss: 0.2057 - accuracy: 0.7826\n",
      "Epoch 199/200\n",
      "23/23 [==============================] - 0s 8ms/step - loss: 0.2008 - accuracy: 0.8261\n",
      "Epoch 200/200\n",
      "23/23 [==============================] - 0s 8ms/step - loss: 0.1987 - accuracy: 0.7826\n"
     ]
    },
    {
     "data": {
      "text/plain": [
       "<keras.src.callbacks.History at 0x1c26eebea90>"
      ]
     },
     "execution_count": 22,
     "metadata": {},
     "output_type": "execute_result"
    }
   ],
   "source": [
    "model.fit(X, y, epochs=200, batch_size=1)"
   ]
  },
  {
   "cell_type": "markdown",
   "metadata": {},
   "source": [
    "#### Prediction on new data"
   ]
  },
  {
   "cell_type": "code",
   "execution_count": 24,
   "metadata": {},
   "outputs": [],
   "source": [
    "def predict_next_word(model, tokenizer, text, max_sequence_len):\n",
    "    token_list = tokenizer.texts_to_sequences([text])[0]\n",
    "    token_list = pad_sequences([token_list],maxlen = max_sequence_len - 1 ,padding='pre')\n",
    "    predicted = model.predict(token_list , verbose=0)\n",
    "    predicted_word_index = np.argmax(predicted)\n",
    "    output_word = \"\"\n",
    "    for word, index in tokenizer.word_index.items():\n",
    "        if index == predicted_word_index:\n",
    "            output_word = word\n",
    "            break\n",
    "    return output_word                                  "
   ]
  },
  {
   "cell_type": "code",
   "execution_count": 35,
   "metadata": {},
   "outputs": [
    {
     "name": "stdout",
     "output_type": "stream",
     "text": [
      "Next Word: to\n"
     ]
    }
   ],
   "source": [
    "new = \"nice\"\n",
    "\n",
    "next_word = predict_next_word(model, tokenizer, new, max_sequence_len)\n",
    "print(f\"Next Word: {next_word}\")"
   ]
  },
  {
   "cell_type": "code",
   "execution_count": null,
   "metadata": {},
   "outputs": [],
   "source": []
  },
  {
   "cell_type": "code",
   "execution_count": null,
   "metadata": {},
   "outputs": [],
   "source": []
  },
  {
   "cell_type": "code",
   "execution_count": null,
   "metadata": {},
   "outputs": [],
   "source": []
  },
  {
   "cell_type": "code",
   "execution_count": null,
   "metadata": {},
   "outputs": [],
   "source": []
  },
  {
   "cell_type": "code",
   "execution_count": null,
   "metadata": {},
   "outputs": [],
   "source": []
  }
 ],
 "metadata": {
  "kernelspec": {
   "display_name": "Python 3 (ipykernel)",
   "language": "python",
   "name": "python3"
  },
  "language_info": {
   "codemirror_mode": {
    "name": "ipython",
    "version": 3
   },
   "file_extension": ".py",
   "mimetype": "text/x-python",
   "name": "python",
   "nbconvert_exporter": "python",
   "pygments_lexer": "ipython3",
   "version": "3.11.9"
  }
 },
 "nbformat": 4,
 "nbformat_minor": 2
}
