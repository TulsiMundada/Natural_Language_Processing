{
 "cells": [
  {
   "cell_type": "code",
   "execution_count": 48,
   "metadata": {},
   "outputs": [],
   "source": [
    "#pip install nltk spacy textblob "
   ]
  },
  {
   "cell_type": "code",
   "execution_count": 49,
   "metadata": {},
   "outputs": [],
   "source": [
    "import nltk"
   ]
  },
  {
   "cell_type": "code",
   "execution_count": 50,
   "metadata": {},
   "outputs": [],
   "source": [
    "#nltk.download('punkt') #tokenization \n",
    "#nltk.download('stopwords') #stopwards removals\n",
    "#nltk.download('averaged_percenptron_tagger')#POS tagging \n",
    "#nltk.download('wordnet')#wordnet database and lemmatization\n",
    "#nltk.download('omw-1.4')  #stemming\n",
    "#nltk.download('indian') #Indian language POS tagging\n",
    "#nltk.download('maxent_ne_chunker')"
   ]
  },
  {
   "cell_type": "code",
   "execution_count": 51,
   "metadata": {},
   "outputs": [],
   "source": []
  },
  {
   "cell_type": "code",
   "execution_count": 52,
   "metadata": {},
   "outputs": [],
   "source": [
    "sent = 'They told that their ages are 25 27 and 31 respectively'\n",
    "# Find average of ages mentioned in the above sentence."
   ]
  },
  {
   "cell_type": "code",
   "execution_count": 53,
   "metadata": {},
   "outputs": [
    {
     "data": {
      "text/plain": [
       "['They',\n",
       " 'told',\n",
       " 'that',\n",
       " 'their',\n",
       " 'ages',\n",
       " 'are',\n",
       " '25',\n",
       " '27',\n",
       " 'and',\n",
       " '31',\n",
       " 'respectively']"
      ]
     },
     "execution_count": 53,
     "metadata": {},
     "output_type": "execute_result"
    }
   ],
   "source": [
    "lst = sent.split(sep=\" \")\n",
    "lst"
   ]
  },
  {
   "cell_type": "code",
   "execution_count": 54,
   "metadata": {},
   "outputs": [
    {
     "name": "stdout",
     "output_type": "stream",
     "text": [
      "25\n",
      "27\n",
      "31\n"
     ]
    }
   ],
   "source": [
    "import numpy as np\n",
    "for  i in lst:\n",
    "    if i.isnumeric():\n",
    "        print(i)"
   ]
  },
  {
   "cell_type": "code",
   "execution_count": 55,
   "metadata": {},
   "outputs": [],
   "source": [
    "ages= []\n",
    "for word in sent.split():\n",
    "    if word.isdigit():\n",
    "        ages.append(int(word))"
   ]
  },
  {
   "cell_type": "code",
   "execution_count": 56,
   "metadata": {},
   "outputs": [
    {
     "data": {
      "text/plain": [
       "27.666666666666668"
      ]
     },
     "execution_count": 56,
     "metadata": {},
     "output_type": "execute_result"
    }
   ],
   "source": [
    "sum(ages)/len(ages)"
   ]
  },
  {
   "cell_type": "code",
   "execution_count": 57,
   "metadata": {},
   "outputs": [
    {
     "data": {
      "text/plain": [
       "27.666666666666668"
      ]
     },
     "execution_count": 57,
     "metadata": {},
     "output_type": "execute_result"
    }
   ],
   "source": [
    "ages = [int(word) for word in sent.split() if word.isdigit()]\n",
    "np.mean(ages)\n",
    "#sum(ages) / len(ages)\n"
   ]
  },
  {
   "cell_type": "code",
   "execution_count": 58,
   "metadata": {},
   "outputs": [
    {
     "data": {
      "text/plain": [
       "27.666666666666668"
      ]
     },
     "execution_count": 58,
     "metadata": {},
     "output_type": "execute_result"
    }
   ],
   "source": [
    "np.mean([int(word) for word in sent.split() if word.isnumeric()])"
   ]
  },
  {
   "cell_type": "markdown",
   "metadata": {},
   "source": [
    "### Tokenization"
   ]
  },
  {
   "cell_type": "code",
   "execution_count": 59,
   "metadata": {},
   "outputs": [],
   "source": [
    "sent =\"Hello friends! How are you? Welcome to Python Programming.\""
   ]
  },
  {
   "cell_type": "code",
   "execution_count": 60,
   "metadata": {},
   "outputs": [],
   "source": [
    "#import the functions\n",
    "from nltk.tokenize import sent_tokenize\n",
    "from nltk.tokenize import word_tokenize"
   ]
  },
  {
   "cell_type": "code",
   "execution_count": 61,
   "metadata": {},
   "outputs": [
    {
     "data": {
      "text/plain": [
       "['Hello friends!', 'How are you?', 'Welcome to Python Programming.']"
      ]
     },
     "execution_count": 61,
     "metadata": {},
     "output_type": "execute_result"
    }
   ],
   "source": [
    "# segmentation \n",
    "sent_tokenize(sent)"
   ]
  },
  {
   "cell_type": "code",
   "execution_count": 62,
   "metadata": {},
   "outputs": [
    {
     "data": {
      "text/plain": [
       "['Hello',\n",
       " 'friends',\n",
       " '!',\n",
       " 'How',\n",
       " 'are',\n",
       " 'you',\n",
       " '?',\n",
       " 'Welcome',\n",
       " 'to',\n",
       " 'Python',\n",
       " 'Programming',\n",
       " '.']"
      ]
     },
     "execution_count": 62,
     "metadata": {},
     "output_type": "execute_result"
    }
   ],
   "source": [
    "word_tokenize(sent) # segmentation "
   ]
  },
  {
   "cell_type": "code",
   "execution_count": 63,
   "metadata": {},
   "outputs": [
    {
     "data": {
      "text/plain": [
       "list"
      ]
     },
     "execution_count": 63,
     "metadata": {},
     "output_type": "execute_result"
    }
   ],
   "source": [
    "type(word_tokenize(sent))"
   ]
  },
  {
   "cell_type": "code",
   "execution_count": 64,
   "metadata": {},
   "outputs": [
    {
     "data": {
      "text/plain": [
       "0.25"
      ]
     },
     "execution_count": 64,
     "metadata": {},
     "output_type": "execute_result"
    }
   ],
   "source": [
    "#percentage of punctuation symbols wrt to words\n",
    "\n",
    "lst=word_tokenize(sent)\n",
    "punct_count =len([word for word in lst if not word.isalnum()])\n",
    "punct_count/len(lst)"
   ]
  },
  {
   "cell_type": "code",
   "execution_count": 65,
   "metadata": {},
   "outputs": [
    {
     "data": {
      "text/plain": [
       "35"
      ]
     },
     "execution_count": 65,
     "metadata": {},
     "output_type": "execute_result"
    }
   ],
   "source": [
    "ord('#')"
   ]
  },
  {
   "cell_type": "code",
   "execution_count": 66,
   "metadata": {},
   "outputs": [
    {
     "data": {
      "text/plain": [
       "50"
      ]
     },
     "execution_count": 66,
     "metadata": {},
     "output_type": "execute_result"
    }
   ],
   "source": [
    "import sys\n",
    "sys.getsizeof('=')"
   ]
  },
  {
   "cell_type": "code",
   "execution_count": 67,
   "metadata": {},
   "outputs": [
    {
     "data": {
      "text/plain": [
       "62"
      ]
     },
     "execution_count": 67,
     "metadata": {},
     "output_type": "execute_result"
    }
   ],
   "source": [
    "char ='tulsi Mundada'\n",
    "sys.getsizeof(char)"
   ]
  },
  {
   "cell_type": "code",
   "execution_count": 68,
   "metadata": {},
   "outputs": [
    {
     "data": {
      "text/plain": [
       "('T', 'U', 'L', 'S', 'I')"
      ]
     },
     "execution_count": 68,
     "metadata": {},
     "output_type": "execute_result"
    }
   ],
   "source": [
    "chr(84),chr(85),chr(76),chr(83),chr(73)"
   ]
  },
  {
   "cell_type": "code",
   "execution_count": 69,
   "metadata": {},
   "outputs": [
    {
     "data": {
      "text/plain": [
       "('M', 'A', 'N', 'A', 'S')"
      ]
     },
     "execution_count": 69,
     "metadata": {},
     "output_type": "execute_result"
    }
   ],
   "source": [
    "chr(77),chr(65),chr(78),chr(65),chr(83)"
   ]
  },
  {
   "cell_type": "code",
   "execution_count": 70,
   "metadata": {},
   "outputs": [
    {
     "data": {
      "text/plain": [
       "('D', 'I', 'V', 'Y', 'A', 'N', 'I')"
      ]
     },
     "execution_count": 70,
     "metadata": {},
     "output_type": "execute_result"
    }
   ],
   "source": [
    "chr(68),chr(73),chr(86),chr(89),chr(65),chr(78),chr(73)"
   ]
  },
  {
   "cell_type": "code",
   "execution_count": 71,
   "metadata": {},
   "outputs": [
    {
     "data": {
      "text/plain": [
       "'तुलसी'"
      ]
     },
     "execution_count": 71,
     "metadata": {},
     "output_type": "execute_result"
    }
   ],
   "source": [
    "char='\\u0924\\u0941\\u0932\\u0938\\u0940'\n",
    "char\n"
   ]
  },
  {
   "cell_type": "code",
   "execution_count": 72,
   "metadata": {},
   "outputs": [
    {
     "data": {
      "text/plain": [
       "'मानस'"
      ]
     },
     "execution_count": 72,
     "metadata": {},
     "output_type": "execute_result"
    }
   ],
   "source": [
    "char='\\u092E\\u093E\\u0928\\u0938'\n",
    "char"
   ]
  },
  {
   "cell_type": "code",
   "execution_count": 73,
   "metadata": {},
   "outputs": [
    {
     "data": {
      "text/plain": [
       "'दिया'"
      ]
     },
     "execution_count": 73,
     "metadata": {},
     "output_type": "execute_result"
    }
   ],
   "source": [
    "char='\\u0926\\u093F\\u092F\\u093E'\n",
    "char"
   ]
  },
  {
   "cell_type": "code",
   "execution_count": 74,
   "metadata": {},
   "outputs": [
    {
     "data": {
      "text/plain": [
       "['दिव्यानि',\n",
       " 'संतोषवार',\n",
       " 'मानस',\n",
       " 'अग्रवाल',\n",
       " 'तुलसी',\n",
       " 'मूंदड़ा',\n",
       " 'संस्कार',\n",
       " 'अग्रवाल']"
      ]
     },
     "execution_count": 74,
     "metadata": {},
     "output_type": "execute_result"
    }
   ],
   "source": [
    "name =\"दिव्यानि संतोषवार मानस अग्रवाल तुलसी मूंदड़ा संस्कार अग्रवाल\"\n",
    "name.split()"
   ]
  },
  {
   "cell_type": "code",
   "execution_count": 75,
   "metadata": {},
   "outputs": [
    {
     "data": {
      "text/plain": [
       "True"
      ]
     },
     "execution_count": 75,
     "metadata": {},
     "output_type": "execute_result"
    }
   ],
   "source": [
    "name.startswith('द')"
   ]
  },
  {
   "cell_type": "code",
   "execution_count": 76,
   "metadata": {},
   "outputs": [
    {
     "data": {
      "text/plain": [
       "'दिव्यानी संतोषवार मानस अग्रवाल तुलसी मूंदड़ा संस्कार अग्रवाल'"
      ]
     },
     "execution_count": 76,
     "metadata": {},
     "output_type": "execute_result"
    }
   ],
   "source": [
    "name.replace('दिव्यानि ','दिव्यानी ')"
   ]
  },
  {
   "cell_type": "code",
   "execution_count": 77,
   "metadata": {},
   "outputs": [
    {
     "data": {
      "text/plain": [
       "59"
      ]
     },
     "execution_count": 77,
     "metadata": {},
     "output_type": "execute_result"
    }
   ],
   "source": [
    "len(name)"
   ]
  },
  {
   "cell_type": "code",
   "execution_count": 78,
   "metadata": {},
   "outputs": [
    {
     "name": "stdout",
     "output_type": "stream",
     "text": [
      "अग्रवाल\n",
      "अग्रवाल\n"
     ]
    }
   ],
   "source": [
    "name =['दिव्यानि','संतोषवार','मानस','अग्रवाल','तुलसी','मूंदड़ा','संस्कार','अग्रवाल']\n",
    "for name in name:\n",
    "    if name.startswith('अ'):\n",
    "        print(name)"
   ]
  },
  {
   "cell_type": "code",
   "execution_count": 79,
   "metadata": {},
   "outputs": [],
   "source": [
    "text =\"राजगढ़ एक पहाड़ी किला है जो भारत के महाराष्ट्र राज्य के पुणे जिले में स्थित है। इसे मुरुमदेव के नाम से भी जाना जाता है। यह किला लगभग 26 वर्षों तक छत्रपती शिवाजी महाराज के शासन में मराठा साम्राज्य की राजधानी थी। बाद में राजधानी को रायगढ़ Archived 2020-09-20 at the वेबैक मशीन किले में स्थानांतरित कर दिया गया था। तोरण नामक एक निकटवर्ती किले से खोजे गए खजाने का इस्तेमाल इस किले को बनाने और मजबूत करने के लिए किया गया था।\""
   ]
  },
  {
   "cell_type": "code",
   "execution_count": 80,
   "metadata": {},
   "outputs": [
    {
     "data": {
      "text/plain": [
       "'राजगढ़ एक पहाड़ी किला है जो भारत के महाराष्ट्र राज्य के पुणे जिले में स्थित है। इसे मुरुमदेव के नाम से भी जाना जाता है। यह किला लगभग 26 वर्षों तक छत्रपती शिवाजी महाराज के शासन में मराठा साम्राज्य की राजधानी थी। बाद में राजधानी को रायगढ़ Archived 2020-09-20 at the वेबैक मशीन किले में स्थानांतरित कर दिया गया था। तोरण नामक एक निकटवर्ती किले से खोजे गए खजाने का इस्तेमाल इस किले को बनाने और मजबूत करने के लिए किया गया था।'"
      ]
     },
     "execution_count": 80,
     "metadata": {},
     "output_type": "execute_result"
    }
   ],
   "source": [
    "text"
   ]
  },
  {
   "cell_type": "code",
   "execution_count": 81,
   "metadata": {},
   "outputs": [
    {
     "data": {
      "text/plain": [
       "['राजगढ़',\n",
       " 'एक',\n",
       " 'पहाड़ी',\n",
       " 'किला',\n",
       " 'है',\n",
       " 'जो',\n",
       " 'भारत',\n",
       " 'के',\n",
       " 'महाराष्ट्र',\n",
       " 'राज्य',\n",
       " 'के',\n",
       " 'पुणे',\n",
       " 'जिले',\n",
       " 'में',\n",
       " 'स्थित',\n",
       " 'है।',\n",
       " 'इसे',\n",
       " 'मुरुमदेव',\n",
       " 'के',\n",
       " 'नाम',\n",
       " 'से',\n",
       " 'भी',\n",
       " 'जाना',\n",
       " 'जाता',\n",
       " 'है।',\n",
       " 'यह',\n",
       " 'किला',\n",
       " 'लगभग',\n",
       " '26',\n",
       " 'वर्षों',\n",
       " 'तक',\n",
       " 'छत्रपती',\n",
       " 'शिवाजी',\n",
       " 'महाराज',\n",
       " 'के',\n",
       " 'शासन',\n",
       " 'में',\n",
       " 'मराठा',\n",
       " 'साम्राज्य',\n",
       " 'की',\n",
       " 'राजधानी',\n",
       " 'थी।',\n",
       " 'बाद',\n",
       " 'में',\n",
       " 'राजधानी',\n",
       " 'को',\n",
       " 'रायगढ़',\n",
       " 'Archived',\n",
       " '2020-09-20',\n",
       " 'at',\n",
       " 'the',\n",
       " 'वेबैक',\n",
       " 'मशीन',\n",
       " 'किले',\n",
       " 'में',\n",
       " 'स्थानांतरित',\n",
       " 'कर',\n",
       " 'दिया',\n",
       " 'गया',\n",
       " 'था।',\n",
       " 'तोरण',\n",
       " 'नामक',\n",
       " 'एक',\n",
       " 'निकटवर्ती',\n",
       " 'किले',\n",
       " 'से',\n",
       " 'खोजे',\n",
       " 'गए',\n",
       " 'खजाने',\n",
       " 'का',\n",
       " 'इस्तेमाल',\n",
       " 'इस',\n",
       " 'किले',\n",
       " 'को',\n",
       " 'बनाने',\n",
       " 'और',\n",
       " 'मजबूत',\n",
       " 'करने',\n",
       " 'के',\n",
       " 'लिए',\n",
       " 'किया',\n",
       " 'गया',\n",
       " 'था।']"
      ]
     },
     "execution_count": 81,
     "metadata": {},
     "output_type": "execute_result"
    }
   ],
   "source": [
    "word_tokenize(text)"
   ]
  },
  {
   "cell_type": "code",
   "execution_count": 82,
   "metadata": {},
   "outputs": [
    {
     "data": {
      "text/plain": [
       "['राजगढ़ एक पहाड़ी किला है जो भारत के महाराष्ट्र राज्य के पुणे जिले में स्थित है। इसे मुरुमदेव के नाम से भी जाना जाता है। यह किला लगभग 26 वर्षों तक छत्रपती शिवाजी महाराज के शासन में मराठा साम्राज्य की राजधानी थी। बाद में राजधानी को रायगढ़ Archived 2020-09-20 at the वेबैक मशीन किले में स्थानांतरित कर दिया गया था। तोरण नामक एक निकटवर्ती किले से खोजे गए खजाने का इस्तेमाल इस किले को बनाने और मजबूत करने के लिए किया गया था।']"
      ]
     },
     "execution_count": 82,
     "metadata": {},
     "output_type": "execute_result"
    }
   ],
   "source": [
    "sent_tokenize(text)"
   ]
  },
  {
   "cell_type": "markdown",
   "metadata": {},
   "source": [
    "##### Space Tokenizer\n"
   ]
  },
  {
   "cell_type": "code",
   "execution_count": 83,
   "metadata": {},
   "outputs": [
    {
     "data": {
      "text/plain": [
       "'Hello friends!😂\\t How 🫲are you ?❤️\\nWelcome to the world☠️ of python Programming💻.\\n'"
      ]
     },
     "execution_count": 83,
     "metadata": {},
     "output_type": "execute_result"
    }
   ],
   "source": [
    "file = open(r\"C:\\Users\\dai\\Desktop\\NLP\\mydata.txt\" , encoding=\"UTF-8\")\n",
    "#print(file.read())\n",
    "data=file.read()\n",
    "data"
   ]
  },
  {
   "cell_type": "code",
   "execution_count": 84,
   "metadata": {},
   "outputs": [
    {
     "data": {
      "text/plain": [
       "['Hello',\n",
       " 'friends!😂\\t',\n",
       " 'How',\n",
       " '🫲are',\n",
       " 'you',\n",
       " '?❤️\\nWelcome',\n",
       " 'to',\n",
       " 'the',\n",
       " 'world☠️',\n",
       " 'of',\n",
       " 'python',\n",
       " 'Programming💻.\\n']"
      ]
     },
     "execution_count": 84,
     "metadata": {},
     "output_type": "execute_result"
    }
   ],
   "source": [
    "#import the class\n",
    "from nltk.tokenize import SpaceTokenizer\n",
    "\n",
    "#create the obj\n",
    "tk = SpaceTokenizer()\n",
    "\n",
    "#tokenize the dtaa\n",
    "tk.tokenize(data)"
   ]
  },
  {
   "cell_type": "code",
   "execution_count": 85,
   "metadata": {},
   "outputs": [
    {
     "data": {
      "text/plain": [
       "'Hello friends!😂\\t How 🫲are you ?❤️\\nWelcome to the world☠️ of python Programming💻.\\n'"
      ]
     },
     "execution_count": 85,
     "metadata": {},
     "output_type": "execute_result"
    }
   ],
   "source": [
    "#### Tab Tokenizer\n",
    "\n",
    "file = open(r\"C:\\Users\\dai\\Desktop\\NLP\\mydata.txt\", encoding=\"UTF-8\")\n",
    "data=file.read()\n",
    "data"
   ]
  },
  {
   "cell_type": "code",
   "execution_count": 86,
   "metadata": {},
   "outputs": [
    {
     "data": {
      "text/plain": [
       "['Hello friends!😂',\n",
       " ' How 🫲are you ?❤️\\nWelcome to the world☠️ of python Programming💻.\\n']"
      ]
     },
     "execution_count": 86,
     "metadata": {},
     "output_type": "execute_result"
    }
   ],
   "source": [
    "#import the class\n",
    "from nltk.tokenize import TabTokenizer\n",
    "\n",
    "#create the obj\n",
    "tk = TabTokenizer()\n",
    "\n",
    "#tokenize the dtaa\n",
    "tk.tokenize(data)"
   ]
  },
  {
   "cell_type": "code",
   "execution_count": 87,
   "metadata": {},
   "outputs": [
    {
     "data": {
      "text/plain": [
       "['Hello',\n",
       " 'friends!😂',\n",
       " 'How',\n",
       " '🫲are',\n",
       " 'you',\n",
       " '?❤️',\n",
       " 'Welcome',\n",
       " 'to',\n",
       " 'the',\n",
       " 'world☠️',\n",
       " 'of',\n",
       " 'python',\n",
       " 'Programming💻.']"
      ]
     },
     "execution_count": 87,
     "metadata": {},
     "output_type": "execute_result"
    }
   ],
   "source": [
    "#import the class\n",
    "from nltk.tokenize import LineTokenizer,WhitespaceTokenizer\n",
    "\n",
    "\n",
    "\n",
    "#create the obj\n",
    "tk = WhitespaceTokenizer()\n",
    "\n",
    "#tokenize the dtaa\n",
    "tk.tokenize(data)"
   ]
  },
  {
   "cell_type": "markdown",
   "metadata": {},
   "source": [
    "### MWe tokenizer"
   ]
  },
  {
   "cell_type": "code",
   "execution_count": 94,
   "metadata": {},
   "outputs": [],
   "source": [
    "sent1 =\"the van rossel python creator☠️ , visiting pune this week. 😈the development community is very eager to meet van rossel😶‍🌫️\""
   ]
  },
  {
   "cell_type": "code",
   "execution_count": 95,
   "metadata": {},
   "outputs": [
    {
     "name": "stdout",
     "output_type": "stream",
     "text": [
      "the van rossel python creator☠️ , visiting pune this week. 😈the development community is very eager to meet van rossel😶‍🌫️\n"
     ]
    }
   ],
   "source": [
    "print(sent1)"
   ]
  },
  {
   "cell_type": "code",
   "execution_count": 96,
   "metadata": {},
   "outputs": [
    {
     "data": {
      "text/plain": [
       "['the',\n",
       " 'van',\n",
       " 'rossel',\n",
       " 'python',\n",
       " 'creator☠️',\n",
       " ',',\n",
       " 'visiting',\n",
       " 'pune',\n",
       " 'this',\n",
       " 'week',\n",
       " '.',\n",
       " '😈the',\n",
       " 'development',\n",
       " 'community',\n",
       " 'is',\n",
       " 'very',\n",
       " 'eager',\n",
       " 'to',\n",
       " 'meet',\n",
       " 'van',\n",
       " 'rossel😶\\u200d🌫️']"
      ]
     },
     "execution_count": 96,
     "metadata": {},
     "output_type": "execute_result"
    }
   ],
   "source": [
    "word_tokenize(sent1)"
   ]
  },
  {
   "cell_type": "code",
   "execution_count": 97,
   "metadata": {},
   "outputs": [
    {
     "data": {
      "text/plain": [
       "['the',\n",
       " 'van_rossel',\n",
       " 'python',\n",
       " 'creator☠️',\n",
       " ',',\n",
       " 'visiting',\n",
       " 'pune',\n",
       " 'this',\n",
       " 'week',\n",
       " '.',\n",
       " '😈the',\n",
       " 'development',\n",
       " 'community',\n",
       " 'is',\n",
       " 'very',\n",
       " 'eager',\n",
       " 'to',\n",
       " 'meet',\n",
       " 'van',\n",
       " 'rossel😶\\u200d🌫️']"
      ]
     },
     "execution_count": 97,
     "metadata": {},
     "output_type": "execute_result"
    }
   ],
   "source": [
    "#import the class\n",
    "from nltk.tokenize import MWETokenizer\n",
    "\n",
    "#create the obj\n",
    "tk = MWETokenizer()\n",
    "\n",
    "#tokenize the dtaa\n",
    "tk.add_mwe((\"van\",\"rossel\"))\n",
    "tk.tokenize(word_tokenize(sent1))"
   ]
  },
  {
   "cell_type": "code",
   "execution_count": 98,
   "metadata": {},
   "outputs": [
    {
     "data": {
      "text/plain": [
       "['Hello',\n",
       " 'friends',\n",
       " ':)',\n",
       " '!',\n",
       " 'How',\n",
       " 'are',\n",
       " 'you',\n",
       " '?',\n",
       " 'Welcome',\n",
       " 'to',\n",
       " 'the',\n",
       " 'world',\n",
       " 'of',\n",
       " 'pythhon',\n",
       " 'Programming',\n",
       " ':D']"
      ]
     },
     "execution_count": 98,
     "metadata": {},
     "output_type": "execute_result"
    }
   ],
   "source": [
    "sent1='Hello friends :) ! How are you ? Welcome to the world of pythhon Programming :D'\n",
    "\n",
    "#import the class\n",
    "from nltk.tokenize import TweetTokenizer\n",
    "\n",
    "#create the obj\n",
    "tk = TweetTokenizer()\n",
    "\n",
    "#tokenize the dtaa\n",
    "tk.tokenize(sent1)"
   ]
  },
  {
   "cell_type": "code",
   "execution_count": 99,
   "metadata": {},
   "outputs": [
    {
     "data": {
      "text/plain": [
       "['Hello',\n",
       " 'friends',\n",
       " '!',\n",
       " '😂',\n",
       " 'How',\n",
       " '🫲',\n",
       " 'are',\n",
       " 'you',\n",
       " '?',\n",
       " '❤',\n",
       " '️',\n",
       " 'Welcome',\n",
       " 'to',\n",
       " 'the',\n",
       " 'world',\n",
       " '☠',\n",
       " '️',\n",
       " 'of',\n",
       " 'python',\n",
       " 'Programming',\n",
       " '💻',\n",
       " '.']"
      ]
     },
     "execution_count": 99,
     "metadata": {},
     "output_type": "execute_result"
    }
   ],
   "source": [
    "tk.tokenize(data)"
   ]
  },
  {
   "cell_type": "markdown",
   "metadata": {},
   "source": [
    "### Custom Tokenizer"
   ]
  },
  {
   "cell_type": "code",
   "execution_count": 104,
   "metadata": {},
   "outputs": [
    {
     "name": "stdout",
     "output_type": "stream",
     "text": [
      "Tokens :\n",
      "This\n",
      "is\n",
      "some\n",
      "text\n",
      "with\n",
      "punctuation\n",
      ">\n",
      "Let's\n",
      "tokenize\n",
      "it\n",
      "Is\n",
      "it\n",
      "ok\n",
      "\n"
     ]
    }
   ],
   "source": [
    "import re \n",
    "\n",
    "def custom_tokenizer(text):\n",
    "    return re.split(r\"[.,;?!\\s]+\",text)\n",
    "\n",
    "text = \"This is some text with punctuation > Let's tokenize it. Is it ok ? \"\n",
    "\n",
    "tokens = custom_tokenizer(text)\n",
    "\n",
    "print(\"Tokens :\")\n",
    "\n",
    "for token in tokens:\n",
    "    print(token)"
   ]
  },
  {
   "cell_type": "markdown",
   "metadata": {},
   "source": [
    "# https://mitu.co.in/dataset\n",
    "# Download : student3.tsv"
   ]
  },
  {
   "cell_type": "code",
   "execution_count": 142,
   "metadata": {},
   "outputs": [],
   "source": [
    "f= open(r'C:\\Users\\dai\\Desktop\\NLP\\student3.tsv')\n",
    "data = f.read()"
   ]
  },
  {
   "cell_type": "code",
   "execution_count": 143,
   "metadata": {},
   "outputs": [
    {
     "data": {
      "text/plain": [
       "'roll\\tname\\tclass\\tmarks\\tage\\n1\\tanil\\tTE\\t56.77\\t22\\n2\\tamit\\tTE\\t59.77\\t21\\n3\\taniket\\tBE\\t76.88\\t19\\n4\\tajinkya\\tTE\\t69.66\\t20\\n5\\tasha\\tTE\\t63.28\\t20\\n6\\tayesha\\tBE\\t49.55\\t20\\n7\\tamar\\tBE\\t65.34\\t19\\n8\\tamita\\tBE\\t68.33\\t23\\n9\\tamol\\tTE\\t56.75\\t20\\n10\\tanmol\\tBE\\t78.66\\t21\\n'"
      ]
     },
     "execution_count": 143,
     "metadata": {},
     "output_type": "execute_result"
    }
   ],
   "source": [
    "data"
   ]
  },
  {
   "cell_type": "code",
   "execution_count": 144,
   "metadata": {},
   "outputs": [
    {
     "name": "stdout",
     "output_type": "stream",
     "text": [
      "roll\tname\tclass\tmarks\tage\n",
      "1\tanil\tTE\t56.77\t22\n",
      "2\tamit\tTE\t59.77\t21\n",
      "3\taniket\tBE\t76.88\t19\n",
      "4\tajinkya\tTE\t69.66\t20\n",
      "5\tasha\tTE\t63.28\t20\n",
      "6\tayesha\tBE\t49.55\t20\n",
      "7\tamar\tBE\t65.34\t19\n",
      "8\tamita\tBE\t68.33\t23\n",
      "9\tamol\tTE\t56.75\t20\n",
      "10\tanmol\tBE\t78.66\t21\n",
      "\n"
     ]
    }
   ],
   "source": [
    "print(data)"
   ]
  },
  {
   "cell_type": "code",
   "execution_count": 145,
   "metadata": {},
   "outputs": [
    {
     "name": "stdout",
     "output_type": "stream",
     "text": [
      "['1\\tanil\\tTE\\t56.77\\t22', '2\\tamit\\tTE\\t59.77\\t21', '3\\taniket\\tBE\\t76.88\\t19', '4\\tajinkya\\tTE\\t69.66\\t20', '5\\tasha\\tTE\\t63.28\\t20', '6\\tayesha\\tBE\\t49.55\\t20', '7\\tamar\\tBE\\t65.34\\t19', '8\\tamita\\tBE\\t68.33\\t23', '9\\tamol\\tTE\\t56.75\\t20', '10\\tanmol\\tBE\\t78.66\\t21', '']\n"
     ]
    },
    {
     "data": {
      "text/plain": [
       "[['1', 'anil', 'TE', '56.77', '22'],\n",
       " ['2', 'amit', 'TE', '59.77', '21'],\n",
       " ['3', 'aniket', 'BE', '76.88', '19'],\n",
       " ['4', 'ajinkya', 'TE', '69.66', '20'],\n",
       " ['5', 'asha', 'TE', '63.28', '20'],\n",
       " ['6', 'ayesha', 'BE', '49.55', '20'],\n",
       " ['7', 'amar', 'BE', '65.34', '19'],\n",
       " ['8', 'amita', 'BE', '68.33', '23'],\n",
       " ['9', 'amol', 'TE', '56.75', '20'],\n",
       " ['10', 'anmol', 'BE', '78.66', '21'],\n",
       " ['']]"
      ]
     },
     "execution_count": 145,
     "metadata": {},
     "output_type": "execute_result"
    }
   ],
   "source": [
    "x=data.split(\"\\n\")\n",
    "print(x)\n",
    "lst=[]\n",
    "for i in x.split(\"\\t\"):\n",
    "    if i.isdigit():\n",
    "        lst.append(int(i))\n",
    "    lst.append(sub)\n",
    "lst"
   ]
  },
  {
   "cell_type": "code",
   "execution_count": 151,
   "metadata": {},
   "outputs": [
    {
     "data": {
      "text/plain": [
       "[['roll', 'name', 'class', 'marks', 'age'],\n",
       " [1, 'anil', 'TE', 56.77, 22],\n",
       " [2, 'amit', 'TE', 59.77, 21],\n",
       " [3, 'aniket', 'BE', 76.88, 19],\n",
       " [4, 'ajinkya', 'TE', 69.66, 20],\n",
       " [5, 'asha', 'TE', 63.28, 20],\n",
       " [6, 'ayesha', 'BE', 49.55, 20],\n",
       " [7, 'amar', 'BE', 65.34, 19],\n",
       " [8, 'amita', 'BE', 68.33, 23],\n",
       " [9, 'amol', 'TE', 56.75, 20],\n",
       " [10, 'anmol', 'BE', 78.66, 21],\n",
       " ['']]"
      ]
     },
     "execution_count": 151,
     "metadata": {},
     "output_type": "execute_result"
    }
   ],
   "source": [
    "newdata =[]\n",
    "for x in data.split(\"\\n\"):\n",
    "    inner_list = []\n",
    "    for y in x.split('\\t'):\n",
    "        if y.isdigit():\n",
    "            inner_list.append(int(y))\n",
    "        elif y.find('.') > 0:\n",
    "            inner_list.append(float(y))\n",
    "        else:\n",
    "            inner_list.append(y)\n",
    "    newdata.append(inner_list)\n",
    "newdata\n",
    "        "
   ]
  },
  {
   "cell_type": "code",
   "execution_count": null,
   "metadata": {},
   "outputs": [],
   "source": []
  }
 ],
 "metadata": {
  "kernelspec": {
   "display_name": "Python 3 (ipykernel)",
   "language": "python",
   "name": "python3"
  },
  "language_info": {
   "codemirror_mode": {
    "name": "ipython",
    "version": 3
   },
   "file_extension": ".py",
   "mimetype": "text/x-python",
   "name": "python",
   "nbconvert_exporter": "python",
   "pygments_lexer": "ipython3",
   "version": "3.11.7"
  }
 },
 "nbformat": 4,
 "nbformat_minor": 2
}
