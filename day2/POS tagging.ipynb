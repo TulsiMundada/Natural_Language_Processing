{
 "cells": [
  {
   "cell_type": "code",
   "execution_count": 2,
   "metadata": {},
   "outputs": [],
   "source": [
    "import nltk\n",
    "from nltk import pos_tag\n",
    "from nltk.tokenize import word_tokenize"
   ]
  },
  {
   "cell_type": "code",
   "execution_count": 5,
   "metadata": {},
   "outputs": [],
   "source": [
    "text =\"Venus is the second planet from the Sun. It is a terrestrial planet and is the closest in mass and size to its orbital neighbour Earth. Venus is notable for having the densest atmosphere of the terrestrial planets, composed mostly of carbon dioxide with a thick, global sulfuric acid cloud cover. At the surface it has a mean temperature of 737 K (464 °C; 867 °F) and a pressure of 92 times that of Earth's at sea level. These extreme conditions compress carbon dioxide into a supercritical state close to Venus's surface.\""
   ]
  },
  {
   "cell_type": "code",
   "execution_count": 6,
   "metadata": {},
   "outputs": [
    {
     "data": {
      "text/plain": [
       "\"Venus is the second planet from the Sun. It is a terrestrial planet and is the closest in mass and size to its orbital neighbour Earth. Venus is notable for having the densest atmosphere of the terrestrial planets, composed mostly of carbon dioxide with a thick, global sulfuric acid cloud cover. At the surface it has a mean temperature of 737 K (464 °C; 867 °F) and a pressure of 92 times that of Earth's at sea level. These extreme conditions compress carbon dioxide into a supercritical state close to Venus's surface.\""
      ]
     },
     "execution_count": 6,
     "metadata": {},
     "output_type": "execute_result"
    }
   ],
   "source": [
    "text"
   ]
  },
  {
   "cell_type": "code",
   "execution_count": 7,
   "metadata": {},
   "outputs": [
    {
     "data": {
      "text/plain": [
       "[('Venus', 'NNP'),\n",
       " ('is', 'VBZ'),\n",
       " ('the', 'DT'),\n",
       " ('second', 'JJ'),\n",
       " ('planet', 'NN'),\n",
       " ('from', 'IN'),\n",
       " ('the', 'DT'),\n",
       " ('Sun', 'NNP'),\n",
       " ('.', '.'),\n",
       " ('It', 'PRP'),\n",
       " ('is', 'VBZ'),\n",
       " ('a', 'DT'),\n",
       " ('terrestrial', 'JJ'),\n",
       " ('planet', 'NN'),\n",
       " ('and', 'CC'),\n",
       " ('is', 'VBZ'),\n",
       " ('the', 'DT'),\n",
       " ('closest', 'JJS'),\n",
       " ('in', 'IN'),\n",
       " ('mass', 'NN'),\n",
       " ('and', 'CC'),\n",
       " ('size', 'NN'),\n",
       " ('to', 'TO'),\n",
       " ('its', 'PRP$'),\n",
       " ('orbital', 'JJ'),\n",
       " ('neighbour', 'JJ'),\n",
       " ('Earth', 'NN'),\n",
       " ('.', '.'),\n",
       " ('Venus', 'NNP'),\n",
       " ('is', 'VBZ'),\n",
       " ('notable', 'JJ'),\n",
       " ('for', 'IN'),\n",
       " ('having', 'VBG'),\n",
       " ('the', 'DT'),\n",
       " ('densest', 'JJS'),\n",
       " ('atmosphere', 'NN'),\n",
       " ('of', 'IN'),\n",
       " ('the', 'DT'),\n",
       " ('terrestrial', 'JJ'),\n",
       " ('planets', 'NNS'),\n",
       " (',', ','),\n",
       " ('composed', 'VBD'),\n",
       " ('mostly', 'RB'),\n",
       " ('of', 'IN'),\n",
       " ('carbon', 'NN'),\n",
       " ('dioxide', 'NN'),\n",
       " ('with', 'IN'),\n",
       " ('a', 'DT'),\n",
       " ('thick', 'NN'),\n",
       " (',', ','),\n",
       " ('global', 'JJ'),\n",
       " ('sulfuric', 'JJ'),\n",
       " ('acid', 'NN'),\n",
       " ('cloud', 'NN'),\n",
       " ('cover', 'NN'),\n",
       " ('.', '.'),\n",
       " ('At', 'IN'),\n",
       " ('the', 'DT'),\n",
       " ('surface', 'NN'),\n",
       " ('it', 'PRP'),\n",
       " ('has', 'VBZ'),\n",
       " ('a', 'DT'),\n",
       " ('mean', 'JJ'),\n",
       " ('temperature', 'NN'),\n",
       " ('of', 'IN'),\n",
       " ('737', 'CD'),\n",
       " ('K', 'NNP'),\n",
       " ('(', '('),\n",
       " ('464', 'CD'),\n",
       " ('°C', 'NN'),\n",
       " (';', ':'),\n",
       " ('867', 'CD'),\n",
       " ('°F', 'NN'),\n",
       " (')', ')'),\n",
       " ('and', 'CC'),\n",
       " ('a', 'DT'),\n",
       " ('pressure', 'NN'),\n",
       " ('of', 'IN'),\n",
       " ('92', 'CD'),\n",
       " ('times', 'NNS'),\n",
       " ('that', 'IN'),\n",
       " ('of', 'IN'),\n",
       " ('Earth', 'NNP'),\n",
       " (\"'s\", 'POS'),\n",
       " ('at', 'IN'),\n",
       " ('sea', 'NN'),\n",
       " ('level', 'NN'),\n",
       " ('.', '.'),\n",
       " ('These', 'DT'),\n",
       " ('extreme', 'JJ'),\n",
       " ('conditions', 'NNS'),\n",
       " ('compress', 'VBP'),\n",
       " ('carbon', 'NN'),\n",
       " ('dioxide', 'NN'),\n",
       " ('into', 'IN'),\n",
       " ('a', 'DT'),\n",
       " ('supercritical', 'JJ'),\n",
       " ('state', 'NN'),\n",
       " ('close', 'NN'),\n",
       " ('to', 'TO'),\n",
       " ('Venus', 'NNP'),\n",
       " (\"'s\", 'POS'),\n",
       " ('surface', 'NN'),\n",
       " ('.', '.')]"
      ]
     },
     "execution_count": 7,
     "metadata": {},
     "output_type": "execute_result"
    }
   ],
   "source": [
    "tags = pos_tag(word_tokenize(text))\n",
    "tags"
   ]
  },
  {
   "cell_type": "code",
   "execution_count": 21,
   "metadata": {},
   "outputs": [
    {
     "data": {
      "text/plain": [
       "['Venus',\n",
       " 'planet',\n",
       " 'Sun',\n",
       " 'planet',\n",
       " 'mass',\n",
       " 'size',\n",
       " 'Earth',\n",
       " 'Venus',\n",
       " 'atmosphere',\n",
       " 'planets',\n",
       " 'carbon',\n",
       " 'dioxide',\n",
       " 'thick',\n",
       " 'acid',\n",
       " 'cloud',\n",
       " 'cover',\n",
       " 'surface',\n",
       " 'temperature',\n",
       " 'K',\n",
       " '°C',\n",
       " '°F',\n",
       " 'pressure',\n",
       " 'times',\n",
       " 'Earth',\n",
       " 'sea',\n",
       " 'level',\n",
       " 'conditions',\n",
       " 'carbon',\n",
       " 'dioxide',\n",
       " 'state',\n",
       " 'close',\n",
       " 'Venus',\n",
       " 'surface']"
      ]
     },
     "execution_count": 21,
     "metadata": {},
     "output_type": "execute_result"
    }
   ],
   "source": [
    "# extract all the nouns from text and store list \"nouns\"\n",
    "nouns = [n[0] for n in tags if n[1].startswith('N')]\n",
    "nouns"
   ]
  },
  {
   "cell_type": "code",
   "execution_count": 36,
   "metadata": {},
   "outputs": [
    {
     "data": {
      "text/plain": [
       "[['second', 'planet'],\n",
       " ['terrestrial', 'planet'],\n",
       " ['neighbour', 'Earth'],\n",
       " ['densest', 'atmosphere'],\n",
       " ['terrestrial', 'planets'],\n",
       " ['sulfuric', 'acid'],\n",
       " ['mean', 'temperature'],\n",
       " ['extreme', 'conditions'],\n",
       " ['supercritical', 'state']]"
      ]
     },
     "execution_count": 36,
     "metadata": {},
     "output_type": "execute_result"
    }
   ],
   "source": [
    "#adjective and noun pair\n",
    "pairs =[]\n",
    "for count in range(len(tags)):\n",
    "    if tags[count][1].startswith('J') and tags[count+1][1].startswith('NN'):\n",
    "        pairs.append([tags[count][0] , tags[count+1][0]])\n",
    "pairs"
   ]
  },
  {
   "cell_type": "code",
   "execution_count": null,
   "metadata": {},
   "outputs": [],
   "source": []
  }
 ],
 "metadata": {
  "kernelspec": {
   "display_name": "Python 3 (ipykernel)",
   "language": "python",
   "name": "python3"
  }
 },
 "nbformat": 4,
 "nbformat_minor": 2
}
