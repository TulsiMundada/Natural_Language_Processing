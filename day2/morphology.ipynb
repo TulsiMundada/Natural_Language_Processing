{
  "nbformat": 4,
  "nbformat_minor": 0,
  "metadata": {
    "colab": {
      "provenance": []
    },
    "kernelspec": {
      "name": "python3",
      "display_name": "Python 3"
    },
    "language_info": {
      "name": "python"
    }
  },
  "cells": [
    {
      "cell_type": "code",
      "execution_count": 13,
      "metadata": {
        "colab": {
          "base_uri": "https://localhost:8080/"
        },
        "id": "71U3m2wDjXlB",
        "outputId": "0b456bf3-c40e-4c12-ddbb-7df387278f3d"
      },
      "outputs": [
        {
          "output_type": "stream",
          "name": "stdout",
          "text": [
            "Collecting polyglot\n",
            "  Downloading polyglot-16.7.4.tar.gz (126 kB)\n",
            "\u001b[2K     \u001b[90m━━━━━━━━━━━━━━━━━━━━━━━━━━━━━━━━━━━━━━━━\u001b[0m \u001b[32m126.3/126.3 kB\u001b[0m \u001b[31m1.4 MB/s\u001b[0m eta \u001b[36m0:00:00\u001b[0m\n",
            "\u001b[?25h  Preparing metadata (setup.py) ... \u001b[?25l\u001b[?25hdone\n",
            "Requirement already satisfied: pyICU in /usr/local/lib/python3.10/dist-packages (2.13.1)\n",
            "Requirement already satisfied: morfessor in /usr/local/lib/python3.10/dist-packages (2.0.6)\n",
            "Requirement already satisfied: pycld2 in /usr/local/lib/python3.10/dist-packages (0.41)\n",
            "Building wheels for collected packages: polyglot\n",
            "  Building wheel for polyglot (setup.py) ... \u001b[?25l\u001b[?25hdone\n",
            "  Created wheel for polyglot: filename=polyglot-16.7.4-py2.py3-none-any.whl size=52561 sha256=7c393f11a96b681bd5b82337177e04c15f14a262b39fca7931fedd4a9561745b\n",
            "  Stored in directory: /root/.cache/pip/wheels/aa/92/4a/b172589446ba537db3bdb9a1f2204f27fe71217981c14ac368\n",
            "Successfully built polyglot\n",
            "Installing collected packages: polyglot\n",
            "Successfully installed polyglot-16.7.4\n"
          ]
        }
      ],
      "source": [
        "!pip install polyglot pyICU morfessor pycld2 -U"
      ]
    },
    {
      "cell_type": "code",
      "source": [
        "%%bash\n",
        "polyglot download morph2.en morph2.mr"
      ],
      "metadata": {
        "colab": {
          "base_uri": "https://localhost:8080/"
        },
        "id": "ODcWMeZcj-iK",
        "outputId": "721288d8-fc87-4724-97de-60adfe28f15d"
      },
      "execution_count": 14,
      "outputs": [
        {
          "output_type": "stream",
          "name": "stdout",
          "text": [
            "[polyglot_data] Downloading package morph2.en to\n",
            "[polyglot_data]     /root/polyglot_data...\n",
            "[polyglot_data] Downloading package morph2.mr to\n",
            "[polyglot_data]     /root/polyglot_data...\n"
          ]
        }
      ]
    },
    {
      "cell_type": "code",
      "source": [
        "from polyglot.downloader import downloader\n",
        "print(downloader.supported_languages_table(\"morph2\"))"
      ],
      "metadata": {
        "colab": {
          "base_uri": "https://localhost:8080/"
        },
        "id": "Hr1BCUc1kV6i",
        "outputId": "e06b8cc7-b907-4c7b-fc8b-e5e53e89860f"
      },
      "execution_count": 15,
      "outputs": [
        {
          "output_type": "stream",
          "name": "stdout",
          "text": [
            "  1. Kapampangan                2. Italian                    3. Upper Sorbian            \n",
            "  4. Sakha                      5. Hindi                      6. French                   \n",
            "  7. Spanish; Castilian         8. Vietnamese                 9. Arabic                   \n",
            " 10. Macedonian                11. Pashto, Pushto            12. Bosnian-Croatian-Serbian \n",
            " 13. Egyptian Arabic           14. Norwegian Nynorsk         15. Sundanese                \n",
            " 16. Sicilian                  17. Azerbaijani               18. Bulgarian                \n",
            " 19. Yoruba                    20. Tajik                     21. Georgian                 \n",
            " 22. Tatar                     23. Galician                  24. Malagasy                 \n",
            " 25. Uighur, Uyghur            26. Amharic                   27. Venetian                 \n",
            " 28. Yiddish                   29. Norwegian                 30. Alemannic                \n",
            " 31. Estonian                  32. West Flemish              33. Divehi; Dhivehi; Mald... \n",
            " 34. Japanese                  35. Ilokano                   36. Haitian; Haitian Creole  \n",
            " 37. Belarusian                38. Greek, Modern             39. Ossetian, Ossetic        \n",
            " 40. Welsh                     41. Malayalam                 42. Albanian                 \n",
            " 43. Marathi (Marāṭhī)         44. Armenian                  45. Slovene                  \n",
            " 46. Korean                    47. Breton                    48. Irish                    \n",
            " 49. Luxembourgish, Letzeb...  50. Bengali                   51. Serbian                  \n",
            " 52. Fiji Hindi                53. Javanese                  54. Finnish                  \n",
            " 55. Gan Chinese               56. Kirghiz, Kyrgyz           57. Catalan; Valencian       \n",
            " 58. Quechua                   59. Croatian                  60. Dutch                    \n",
            " 61. Swedish                   62. Ido                       63. Tagalog                  \n",
            " 64. Sanskrit (Saṁskṛta)       65. Piedmontese language      66. Asturian                 \n",
            " 67. Danish                    68. Cebuano                   69. Western Frisian          \n",
            " 70. Kannada                   71. Scots                     72. Maltese                  \n",
            " 73. Swahili                   74. Limburgish, Limburgan...  75. Waray-Waray              \n",
            " 76. Lombard language          77. Uzbek                     78. Kurdish                  \n",
            " 79. Latvian                   80. Burmese                   81. Aragonese                \n",
            " 82. Volapük                   83. Northern Sami             84. Faroese                  \n",
            " 85. Kazakh                    86. Telugu                    87. Ukrainian                \n",
            " 88. Assamese                  89. Chuvash                   90. Silesian                 \n",
            " 91. Turkmen                   92. Romanian, Moldavian, ...  93. Persian                  \n",
            " 94. Tibetan Standard, Tib...  95. Latin                     96. Slovak                   \n",
            " 97. Sinhala, Sinhalese        98. Bavarian                  99. Icelandic                \n",
            "100. Mongolian                101. Walloon                  102. Portuguese               \n",
            "103. Urdu                     104. Gujarati                 105. Manx                     \n",
            "106. Tamil                    107. Khmer                    108. English                  \n",
            "109. Malay                    110. Chechen                  111. Bishnupriya Manipuri     \n",
            "112. Afrikaans                113. Basque                   114. Polish                   \n",
            "115. German                   116. Esperanto                117. Indonesian               \n",
            "118. Occitan                  119. Chinese                  120. Czech                    \n",
            "121. Hebrew (modern)          122. Romansh                  123. Lithuanian               \n",
            "124. Turkish                  125. Nepali                   126. Bosnian                  \n",
            "127. Interlingua              128. Zazaki                   129. Oriya                    \n",
            "130. Hungarian                131. Scottish Gaelic; Gaelic  132. Bashkir                  \n",
            "133. Thai                     134. Panjabi, Punjabi         135. Russian                  \n",
            "\n"
          ]
        }
      ]
    },
    {
      "cell_type": "code",
      "source": [
        "from polyglot.text import Text , Word"
      ],
      "metadata": {
        "id": "6UlV4uKlmIZA"
      },
      "execution_count": 17,
      "outputs": []
    },
    {
      "cell_type": "code",
      "source": [
        "words =['cats','computing','association','programming',\n",
        "        'leadership','miscommunication','identifiable','psychologically',\n",
        "        'engineering','tabular','realistic','colorfulness','meaningful','travelling']"
      ],
      "metadata": {
        "id": "uiWHdjwamPpy"
      },
      "execution_count": 20,
      "outputs": []
    },
    {
      "cell_type": "code",
      "source": [
        "for w in words:\n",
        "  w = Word(w, language='en')\n",
        "  print(w , '\\t\\t' , w.morphemes)"
      ],
      "metadata": {
        "colab": {
          "base_uri": "https://localhost:8080/"
        },
        "id": "gblF7TNvmpLi",
        "outputId": "a7a2ca6b-f298-4ed6-e8ed-e6bab7fdc7e7"
      },
      "execution_count": 21,
      "outputs": [
        {
          "output_type": "stream",
          "name": "stdout",
          "text": [
            "cats \t\t ['cat', 's']\n",
            "computing \t\t ['com', 'put', 'ing']\n",
            "association \t\t ['associ', 'ation']\n",
            "programming \t\t ['program', 'ming']\n",
            "leadership \t\t ['leader', 'ship']\n",
            "miscommunication \t\t ['mis', 'communication']\n",
            "identifiable \t\t ['identif', 'i', 'able']\n",
            "psychologically \t\t ['psycho', 'logical', 'ly']\n",
            "engineering \t\t ['engine', 'er', 'ing']\n",
            "tabular \t\t ['tab', 'ular']\n",
            "realistic \t\t ['real', 'istic']\n",
            "colorfulness \t\t ['color', 'ful', 'ness']\n",
            "meaningful \t\t ['mean', 'ing', 'ful']\n",
            "travelling \t\t ['travel', 'ling']\n"
          ]
        }
      ]
    },
    {
      "cell_type": "code",
      "source": [
        "words =['प्रमाणीकरण' , 'जलविधातु' , 'राज्यशास्त्र' , \"जलप्रधिकरण\" ,\"मानसशास्त्रिय\", \"रविवार\", \"महाद्वीप\" , \"तुलसी\"]\n",
        "for w in words:\n",
        "  w = Word(w, language='mr')\n",
        "  print(w , '\\t\\t' , w.morphemes)"
      ],
      "metadata": {
        "colab": {
          "base_uri": "https://localhost:8080/"
        },
        "id": "0-DmoDcDnG-y",
        "outputId": "66698969-2b03-4def-d5b1-687cba193803"
      },
      "execution_count": 26,
      "outputs": [
        {
          "output_type": "stream",
          "name": "stdout",
          "text": [
            "प्रमाणीकरण \t\t ['प्रमाण', 'ीकरण']\n",
            "जलविधातु \t\t ['जल', 'वि', 'धातु']\n",
            "राज्यशास्त्र \t\t ['राज्य', 'शास्त्र']\n",
            "जलप्रधिकरण \t\t ['जल', 'प्र', 'धिक', 'रण']\n",
            "मानसशास्त्रिय \t\t ['मानस', 'शास्त्र', 'िय']\n",
            "रविवार \t\t ['रवि', 'वार']\n",
            "महाद्वीप \t\t ['महा', 'द्वीप']\n",
            "तुलसी \t\t ['तुल', 'सी']\n"
          ]
        }
      ]
    },
    {
      "cell_type": "code",
      "source": [
        "blob = 'Wewillmeettodaytomorrowyesterday'\n",
        "text = Text(blob)\n",
        "text.language='en'"
      ],
      "metadata": {
        "id": "T5gEvu1-oVMS"
      },
      "execution_count": 32,
      "outputs": []
    },
    {
      "cell_type": "code",
      "source": [
        "text.morphemes"
      ],
      "metadata": {
        "colab": {
          "base_uri": "https://localhost:8080/"
        },
        "id": "4MmQtFKDpaxE",
        "outputId": "e9e17a11-a978-468b-e2a9-41d96123a23d"
      },
      "execution_count": 33,
      "outputs": [
        {
          "output_type": "execute_result",
          "data": {
            "text/plain": [
              "WordList(['We', 'will', 'meet', 'to', 'day', 'tom', 'or', 'row', 'y', 'e', 'ster', 'day'])"
            ]
          },
          "metadata": {},
          "execution_count": 33
        }
      ]
    },
    {
      "cell_type": "code",
      "source": [],
      "metadata": {
        "id": "Qe3U1xAHprsx"
      },
      "execution_count": 31,
      "outputs": []
    },
    {
      "cell_type": "code",
      "source": [],
      "metadata": {
        "id": "c1escH0sp4tR"
      },
      "execution_count": null,
      "outputs": []
    }
  ]
}