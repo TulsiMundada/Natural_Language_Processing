{
 "cells": [
  {
   "cell_type": "code",
   "execution_count": 1,
   "metadata": {},
   "outputs": [],
   "source": [
    "from nltk.corpus import wordnet\n"
   ]
  },
  {
   "cell_type": "code",
   "execution_count": 2,
   "metadata": {},
   "outputs": [
    {
     "data": {
      "text/plain": [
       "<WordNetCorpusReader in 'C:\\\\Users\\\\dai\\\\AppData\\\\Roaming\\\\nltk_data\\\\corpora\\\\wordnet.zip/wordnet/'>"
      ]
     },
     "execution_count": 2,
     "metadata": {},
     "output_type": "execute_result"
    }
   ],
   "source": [
    "wordnet"
   ]
  },
  {
   "cell_type": "code",
   "execution_count": 3,
   "metadata": {},
   "outputs": [],
   "source": [
    "x = wordnet.synsets('create')"
   ]
  },
  {
   "cell_type": "code",
   "execution_count": 4,
   "metadata": {},
   "outputs": [
    {
     "data": {
      "text/plain": [
       "[Synset('make.v.03'),\n",
       " Synset('create.v.02'),\n",
       " Synset('create.v.03'),\n",
       " Synset('create.v.04'),\n",
       " Synset('create.v.05'),\n",
       " Synset('produce.v.02')]"
      ]
     },
     "execution_count": 4,
     "metadata": {},
     "output_type": "execute_result"
    }
   ],
   "source": [
    "x"
   ]
  },
  {
   "cell_type": "code",
   "execution_count": 8,
   "metadata": {},
   "outputs": [],
   "source": [
    "synonyms = set()\n",
    "\n",
    "for word in wordnet.synsets('create'):\n",
    "    synonyms.add(word.lemmas()[0].name())"
   ]
  },
  {
   "cell_type": "code",
   "execution_count": null,
   "metadata": {},
   "outputs": [],
   "source": [
    "word\n",
    "word.lemmas()"
   ]
  },
  {
   "cell_type": "code",
   "execution_count": null,
   "metadata": {},
   "outputs": [],
   "source": [
    "synonyms"
   ]
  },
  {
   "cell_type": "code",
   "execution_count": null,
   "metadata": {},
   "outputs": [],
   "source": [
    "synset = wordnet.synsets(\"post\")\n",
    "print(\"Word and Type : \" + synset[0].name())\n",
    "print(\"Synonym : \" + synset[0].lemmas()[0].name())\n",
    "print(\"The meaning of word : \" + synset[0].definition())\n",
    "print(\"Example : \" + str(synset[0].examples()))"
   ]
  },
  {
   "cell_type": "code",
   "execution_count": null,
   "metadata": {},
   "outputs": [],
   "source": [
    "synset = wordnet.synsets(\"post\")\n",
    "print(\"Word and Type : \" + synset[8].name())\n",
    "print(\"Synonym : \" + synset[8].lemmas()[0].name())\n",
    "print(\"The meaning of word : \" + synset[8].definition())\n",
    "print(\"Example : \" + str(synset[8].examples()))"
   ]
  },
  {
   "cell_type": "code",
   "execution_count": null,
   "metadata": {},
   "outputs": [],
   "source": [
    "synset = wordnet.synsets(\"idiot\")\n",
    "print(\"Word and Type : \" + synset[0].name())\n",
    "print(\"Synonym : \" + synset[0].lemmas()[0].name())\n",
    "print(\"The meaning of word : \" + synset[0].definition())\n",
    "print(\"Example : \" + str(synset[0].examples()))"
   ]
  },
  {
   "cell_type": "code",
   "execution_count": null,
   "metadata": {},
   "outputs": [],
   "source": [
    "for word in wordnet.synsets('sound'):\n",
    "    print(word.name())"
   ]
  },
  {
   "cell_type": "code",
   "execution_count": null,
   "metadata": {},
   "outputs": [],
   "source": [
    "for word in wordnet.synsets('sound' , pos='v'):\n",
    "    print(word.name())"
   ]
  },
  {
   "cell_type": "code",
   "execution_count": null,
   "metadata": {},
   "outputs": [],
   "source": [
    "# Read a word from user and print all meanings of it\n",
    "word = input(\"Enter a word:\")\n",
    "\n",
    "for word in wordnet.synsets(word):\n",
    "    print(word.name() , \"--->\" , word.definition())"
   ]
  },
  {
   "cell_type": "code",
   "execution_count": 21,
   "metadata": {},
   "outputs": [],
   "source": [
    "word = input(\"Enter a word:\")\n",
    "print(\"meaning of \" , word , \"are : \")\n",
    "\n",
    "for word in wordnet.synsets(word , pos='n'):\n",
    "    print(word.name() , \"--->\" , word.definition())"
   ]
  },
  {
   "cell_type": "code",
   "execution_count": null,
   "metadata": {},
   "outputs": [],
   "source": [
    "## Extract Specific pos from word\n",
    "\n",
    "verbs = set()\n",
    "nouns = set()\n",
    "adj = set()\n",
    "for word in wordnet.synsets('sound' , pos='n'):\n",
    "    nouns.add(word.lemmas()[0].name())\n",
    "for word in wordnet.synsets('sound' , pos='v'):\n",
    "    verbs.add(word.lemmas()[0].name())\n",
    "for word in wordnet.synsets('sound' , pos='a'):\n",
    "    adj.add(word.lemmas()[0].name())\n"
   ]
  },
  {
   "cell_type": "code",
   "execution_count": null,
   "metadata": {},
   "outputs": [],
   "source": [
    "verbs"
   ]
  },
  {
   "cell_type": "code",
   "execution_count": null,
   "metadata": {},
   "outputs": [],
   "source": [
    "nouns"
   ]
  },
  {
   "cell_type": "code",
   "execution_count": null,
   "metadata": {},
   "outputs": [],
   "source": [
    "adj"
   ]
  },
  {
   "cell_type": "code",
   "execution_count": null,
   "metadata": {},
   "outputs": [],
   "source": [
    "ant = set()\n",
    "for synset in wordnet.synsets(\"possible\"):\n",
    "    for lemma in synset.lemmas():\n",
    "        if lemma.antonyms(): # when antonyms are available add them into the list\n",
    "            ant.add(lemma.antonyms()[0].name())\n",
    "print(\"Antonyms : \" , ant)            "
   ]
  },
  {
   "cell_type": "code",
   "execution_count": null,
   "metadata": {},
   "outputs": [],
   "source": [
    "ant = set()\n",
    "for synset in wordnet.synsets(\"Intellectual\"):\n",
    "    for lemma in synset.lemmas():\n",
    "        if lemma.antonyms(): # when antonyms are available add them into the list\n",
    "            ant.add(lemma.antonyms()[0].name())\n",
    "print(\"Antonyms : \" , ant)      "
   ]
  },
  {
   "cell_type": "code",
   "execution_count": null,
   "metadata": {},
   "outputs": [],
   "source": [
    "#### Extract the Hypernyms\n",
    "\n",
    "word = 'car'\n",
    "synsets = wordnet.synsets(word)"
   ]
  },
  {
   "cell_type": "code",
   "execution_count": null,
   "metadata": {},
   "outputs": [],
   "source": [
    "for synset in synsets:\n",
    "    hypernyms = synset.hypernyms()  # get hypernyms (parent concepts)\n",
    "\n",
    "    if hypernyms:  #check if there are any hypernyms\n",
    "        for hypernym in hypernyms:   # print hypernyms {can accesss name property for text}\n",
    "            print(f\"{word} is a hyponym of {hypernym.name()}\")"
   ]
  },
  {
   "cell_type": "code",
   "execution_count": null,
   "metadata": {},
   "outputs": [],
   "source": [
    "word = 'spice'\n",
    "synsets = wordnet.synsets(word)\n",
    "\n",
    "for synset in synsets:\n",
    "    hypernyms = synset.hypernyms()\n",
    "\n",
    "    if hypernyms:\n",
    "        for hypernym in hypernyms:\n",
    "            print(f\"{word} is a hyponym of {hypernym.name()}\")"
   ]
  },
  {
   "cell_type": "code",
   "execution_count": null,
   "metadata": {},
   "outputs": [],
   "source": [
    "word = 'bird'\n",
    "synsets = wordnet.synsets(word)\n",
    "\n",
    "for synset in synsets:\n",
    "    hypernyms = synset.hypernyms()\n",
    "\n",
    "    if hypernyms:\n",
    "        for hypernym in hypernyms:\n",
    "            print(f\"{word} is a hyponym of {hypernym.name()}\")"
   ]
  },
  {
   "cell_type": "code",
   "execution_count": null,
   "metadata": {},
   "outputs": [],
   "source": [
    "#### Extract Meronyms\n",
    "word = 'car'\n",
    "synsets = wordnet.synsets(word)\n",
    "\n",
    "for synset in synsets:\n",
    "    meronyms = synset.part_meronyms()\n",
    "\n",
    "    if meronyms:\n",
    "        for meronym in meronyms:\n",
    "            print(f\"{word} has a meronym of {meronym.name()}\")"
   ]
  },
  {
   "cell_type": "code",
   "execution_count": null,
   "metadata": {},
   "outputs": [],
   "source": [
    "word = 'sun'\n",
    "synsets = wordnet.synsets(word)\n",
    "\n",
    "for synset in synsets:\n",
    "    meronyms = synset.part_meronyms()\n",
    "\n",
    "    if meronyms:\n",
    "        for meronym in meronyms:\n",
    "            print(f\"{word} has a meronym of {meronym.name()}\")"
   ]
  },
  {
   "cell_type": "code",
   "execution_count": null,
   "metadata": {},
   "outputs": [],
   "source": []
  }
 ],
 "metadata": {
  "kernelspec": {
   "display_name": "Python 3",
   "language": "python",
   "name": "python3"
  },
  "language_info": {
   "codemirror_mode": {
    "name": "ipython",
    "version": 3
   },
   "file_extension": ".py",
   "mimetype": "text/x-python",
   "name": "python",
   "nbconvert_exporter": "python",
   "pygments_lexer": "ipython3",
   "version": "3.11.9"
  }
 },
 "nbformat": 4,
 "nbformat_minor": 2
}
