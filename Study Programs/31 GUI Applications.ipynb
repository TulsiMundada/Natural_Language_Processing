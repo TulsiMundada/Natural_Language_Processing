{
 "cells": [
  {
   "cell_type": "code",
   "execution_count": 2,
   "id": "d04112dd-6539-4355-90ee-017fdd0bb7d7",
   "metadata": {},
   "outputs": [],
   "source": [
    "from tkinter import *"
   ]
  },
  {
   "cell_type": "markdown",
   "id": "09bbebc3-83a9-47a7-ac7b-b9859c837218",
   "metadata": {},
   "source": [
    "##### Basic Application"
   ]
  },
  {
   "cell_type": "code",
   "execution_count": 4,
   "id": "71555904-85bf-485b-944a-6ace46316694",
   "metadata": {},
   "outputs": [],
   "source": [
    "top = Tk()\n",
    "\n",
    "\n",
    "top.mainloop()"
   ]
  },
  {
   "cell_type": "markdown",
   "id": "3ca2804e-c4e5-4313-bc3b-a343e83445b6",
   "metadata": {},
   "source": [
    "##### Customization"
   ]
  },
  {
   "cell_type": "code",
   "execution_count": 6,
   "id": "89138bca-b2e6-4466-83b2-8af39e804586",
   "metadata": {},
   "outputs": [],
   "source": [
    "top = Tk()\n",
    "top.title('My first application')\n",
    "top.geometry('500x300')\n",
    "\n",
    "\n",
    "top.mainloop()"
   ]
  },
  {
   "cell_type": "markdown",
   "id": "f661b3c4-9208-485b-be96-6881004f04d3",
   "metadata": {},
   "source": [
    "##### Add widgets"
   ]
  },
  {
   "cell_type": "code",
   "execution_count": 10,
   "id": "97fdc1f9-34df-4e6f-9e8a-7f1b160d4294",
   "metadata": {},
   "outputs": [],
   "source": [
    "top = Tk()\n",
    "top.title('My first application')\n",
    "top.geometry('500x300')\n",
    "\n",
    "l = Label(top, text='Hello World')\n",
    "l.pack()\n",
    "\n",
    "top.mainloop()"
   ]
  },
  {
   "cell_type": "code",
   "execution_count": 13,
   "id": "d3ba2093-50a3-421d-9f67-c50224db8b5c",
   "metadata": {},
   "outputs": [],
   "source": [
    "top = Tk()\n",
    "top.title('My first application')\n",
    "top.geometry('500x300')\n",
    "\n",
    "Label(top, text='Hello World').pack()\n",
    "Entry(top).pack()\n",
    "Button(top, text=\"Submit\").pack()\n",
    "\n",
    "top.mainloop()"
   ]
  },
  {
   "cell_type": "markdown",
   "id": "46dc27db-9a94-45fb-aa1a-aafec9d0b1e9",
   "metadata": {},
   "source": [
    "##### Event Handling"
   ]
  },
  {
   "cell_type": "code",
   "execution_count": 15,
   "id": "2bcd3c28-e1bf-4a05-8de0-a88c632be461",
   "metadata": {},
   "outputs": [
    {
     "name": "stdout",
     "output_type": "stream",
     "text": [
      "Your name is: TUSHAR\n",
      "Your name is: PUNE\n",
      "Your name is: PUNE\n",
      "Your name is: PUNE\n",
      "Your name is: PUNE\n",
      "Your name is: PUNE\n"
     ]
    }
   ],
   "source": [
    "top = Tk()\n",
    "top.title('My first application')\n",
    "top.geometry('500x300')\n",
    "\n",
    "def show():\n",
    "    name = str(e.get())\n",
    "    print('Your name is:', name.upper())\n",
    "\n",
    "Label(top, text='Enter your name:').pack()\n",
    "e = Entry(top)\n",
    "e.pack()\n",
    "Button(top, text=\"Submit\", command = show).pack()\n",
    "\n",
    "top.mainloop()"
   ]
  },
  {
   "cell_type": "code",
   "execution_count": 20,
   "id": "78f8c2a8-740a-4070-a3df-50a385f7abc0",
   "metadata": {},
   "outputs": [],
   "source": [
    "top = Tk()\n",
    "top.title('My first application')\n",
    "top.geometry('500x300')\n",
    "\n",
    "def show():\n",
    "    name = str(e.get())\n",
    "    Label(top, text='Your name:'+str(e.get().upper())).pack()\n",
    "\n",
    "Label(top, text='Enter your name:').pack()\n",
    "e = Entry(top)\n",
    "e.pack()\n",
    "Button(top, text=\"Submit\", command = show).pack()\n",
    "\n",
    "top.mainloop()"
   ]
  },
  {
   "cell_type": "markdown",
   "id": "30ccc949-c6c7-4693-ad83-826186d4f0f2",
   "metadata": {},
   "source": [
    "##### Interactive Application"
   ]
  },
  {
   "cell_type": "code",
   "execution_count": 30,
   "id": "1dfb8c58-c317-463b-b3e5-f158e85bc2d0",
   "metadata": {},
   "outputs": [],
   "source": [
    "top = Tk()\n",
    "top.title('My first application')\n",
    "top.geometry('500x300')\n",
    "\n",
    "def show():\n",
    "    num = int(e.get())\n",
    "    Label(top, text='Square is :' + str(num ** 2)).place(x=50, y=150)\n",
    "\n",
    "Label(top, text='Enter your number:').place(x=50, y=30)\n",
    "e = Entry(top)\n",
    "e.place(x=50, y=70)\n",
    "Button(top, text=\"Submit\", command = show).place(x=50,y=110)\n",
    "\n",
    "top.mainloop()"
   ]
  },
  {
   "cell_type": "code",
   "execution_count": 33,
   "id": "e533715d-b8eb-48ef-aae1-c76b69cb437f",
   "metadata": {},
   "outputs": [],
   "source": [
    "top = Tk()\n",
    "top.title('My first application')\n",
    "top.geometry('500x300')\n",
    "\n",
    "def show():\n",
    "    num = int(e.get())\n",
    "    l.config(text='Square is :' + str(num ** 2))\n",
    "    l.place(x=50, y=150)\n",
    "\n",
    "Label(top, text='Enter your number:').place(x=50, y=30)\n",
    "e = Entry(top)\n",
    "e.place(x=50, y=70)\n",
    "Button(top, text=\"Submit\", command = show).place(x=50,y=110)\n",
    "l = Label(top, text='Square is :')\n",
    "\n",
    "top.mainloop()"
   ]
  },
  {
   "cell_type": "markdown",
   "id": "7014a451-b0fa-49fa-9cf4-030b11caab4c",
   "metadata": {},
   "source": [
    "##### Simple Calculator"
   ]
  },
  {
   "cell_type": "code",
   "execution_count": 48,
   "id": "d31239c9-bc22-4501-918e-cbac927046df",
   "metadata": {},
   "outputs": [],
   "source": [
    "top = Tk()\n",
    "top.title('Simple Calculator')\n",
    "top.geometry('500x300')\n",
    "\n",
    "def add():\n",
    "    num1, num2 = float(e1.get()), float(e2.get())\n",
    "    l.config(text='Addition: ' + str(num1+num2))\n",
    "    l.place(x=50, y=180)\n",
    "\n",
    "def sub():\n",
    "    num1, num2 = float(e1.get()), float(e2.get())\n",
    "    l.config(text='Subtraction: ' + str(num1-num2))\n",
    "    l.place(x=50, y=180)\n",
    "\n",
    "def mul():\n",
    "    num1, num2 = float(e1.get()), float(e2.get())\n",
    "    l.config(text='Multiplication: ' + str(num1*num2))\n",
    "    l.place(x=50, y=180)\n",
    "\n",
    "def div():\n",
    "    num1, num2 = float(e1.get()), float(e2.get())\n",
    "    l.config(text='Division: ' + str(num1/num2))\n",
    "    l.place(x=50, y=180)\n",
    "\n",
    "Label(top, text='Number-1:').place(x=50, y=30)\n",
    "Label(top, text='Number-2:').place(x=250, y=30)\n",
    "e1 = Entry(top)\n",
    "e1.place(x=50, y=70)\n",
    "e2 = Entry(top)\n",
    "e2.place(x=250, y=70)\n",
    "Button(top, text=\"Add\", command = add).place(x=50,y=120)\n",
    "Button(top, text=\"Sub\", command = sub).place(x=150,y=120)\n",
    "Button(top, text=\"Mul\", command = mul).place(x=250,y=120)\n",
    "Button(top, text=\"Div\", command = div).place(x=350,y=120)\n",
    "l = Label(top)\n",
    "\n",
    "top.mainloop()"
   ]
  },
  {
   "cell_type": "markdown",
   "id": "2c6b0e49-ed2b-40a6-a29a-f7edd3c8587e",
   "metadata": {},
   "source": [
    "##### GUI for Spam Classifier"
   ]
  },
  {
   "cell_type": "code",
   "execution_count": 75,
   "id": "b9b653c0-f8ee-433e-bd28-54be2441346d",
   "metadata": {},
   "outputs": [],
   "source": [
    "import joblib\n",
    "from nltk.tokenize import word_tokenize\n",
    "from nltk.corpus import stopwords\n",
    "from nltk.stem import PorterStemmer\n",
    "\n",
    "swords = stopwords.words('english')\n",
    "ps = PorterStemmer()\n",
    "\n",
    "# define analyzer function\n",
    "def clean_text(sent):\n",
    "    tokens1 = word_tokenize(sent)\n",
    "    tokens2 = [token for token in tokens1 if token.isalnum()]\n",
    "    tokens3 = [token for token in tokens2 if token.lower() not in swords]\n",
    "    tokens4 = [ps.stem(token) for token in tokens3]\n",
    "    return tokens4\n",
    "\n",
    "top = Tk()\n",
    "top.title('My first application')\n",
    "top.geometry('800x600')\n",
    "\n",
    "def check():\n",
    "    classifier = joblib.load('classifier.model')\n",
    "    tfidf = joblib.load('preprocessor.model')\n",
    "    message = str(t.get(\"1.0\", END))\n",
    "    result = classifier.predict(tfidf.transform([message]))\n",
    "    \n",
    "    l.config(text='Message is :' + str(result[0]))\n",
    "    l.place(x=350, y=550)\n",
    "\n",
    "Label(top, text='Enter your message here:').place(x=50, y=30)\n",
    "t = Text(top)\n",
    "t.place(x=50, y=70)\n",
    "Button(top, text=\"Check\", command = check).place(x=350,y=500)\n",
    "l = Label(top, text='Message is :')\n",
    "\n",
    "top.mainloop()"
   ]
  },
  {
   "cell_type": "code",
   "execution_count": null,
   "id": "bf6b1558-73c6-47e8-9873-171ada1572fb",
   "metadata": {},
   "outputs": [],
   "source": []
  }
 ],
 "metadata": {
  "kernelspec": {
   "display_name": "Python 3 (ipykernel)",
   "language": "python",
   "name": "python3"
  },
  "language_info": {
   "codemirror_mode": {
    "name": "ipython",
    "version": 3
   },
   "file_extension": ".py",
   "mimetype": "text/x-python",
   "name": "python",
   "nbconvert_exporter": "python",
   "pygments_lexer": "ipython3",
   "version": "3.10.12"
  }
 },
 "nbformat": 4,
 "nbformat_minor": 5
}
