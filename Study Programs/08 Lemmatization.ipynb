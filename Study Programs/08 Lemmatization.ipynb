{
 "cells": [
  {
   "cell_type": "markdown",
   "id": "32f58395-e5bb-44cd-a043-7e7319d8566b",
   "metadata": {},
   "source": [
    "##### Declare the words"
   ]
  },
  {
   "cell_type": "code",
   "execution_count": 3,
   "id": "a38a3c2a-39f7-4030-94b7-7b1a8e1d2185",
   "metadata": {},
   "outputs": [],
   "source": [
    "words1 = 'managing','manage','management','managerial','managed'\n",
    "words2 = 'worked','workable','working','worked'\n",
    "words3 = 'big','biggest','bigger'\n",
    "words4 = 'go','gone','went','going'\n",
    "words5 = 'child','children'\n",
    "words6 = 'plays','playing','played','players'"
   ]
  },
  {
   "cell_type": "code",
   "execution_count": 4,
   "id": "ace08407-73e5-445f-afe0-c20a8f566a41",
   "metadata": {},
   "outputs": [],
   "source": [
    "from nltk.stem import WordNetLemmatizer"
   ]
  },
  {
   "cell_type": "code",
   "execution_count": 5,
   "id": "742d59a7-ec1d-4b00-a643-867908d6868a",
   "metadata": {},
   "outputs": [],
   "source": [
    "wnl = WordNetLemmatizer()"
   ]
  },
  {
   "cell_type": "code",
   "execution_count": 6,
   "id": "afd6b84c-4bca-45f9-8729-63793d001e41",
   "metadata": {},
   "outputs": [
    {
     "data": {
      "text/plain": [
       "'manage'"
      ]
     },
     "execution_count": 6,
     "metadata": {},
     "output_type": "execute_result"
    }
   ],
   "source": [
    "wnl.lemmatize(words1[0], pos = 'v')"
   ]
  },
  {
   "cell_type": "code",
   "execution_count": 9,
   "id": "5040fb23-aff2-4f24-8b73-409be289cc83",
   "metadata": {},
   "outputs": [
    {
     "name": "stdout",
     "output_type": "stream",
     "text": [
      "went --> go\n"
     ]
    }
   ],
   "source": [
    "print(words4[2], '-->', wnl.lemmatize(words4[2], pos = 'v'))"
   ]
  },
  {
   "cell_type": "code",
   "execution_count": 11,
   "id": "0015ca1b-07b6-42c8-9e79-1dae2e90864b",
   "metadata": {},
   "outputs": [
    {
     "name": "stdout",
     "output_type": "stream",
     "text": [
      "biggest --> big\n"
     ]
    }
   ],
   "source": [
    "print(words3[1], '-->', wnl.lemmatize(words3[1], pos = 'a'))"
   ]
  },
  {
   "cell_type": "code",
   "execution_count": 13,
   "id": "6ba8811e-ea8b-4b8d-99ae-7a816ac489c6",
   "metadata": {},
   "outputs": [
    {
     "name": "stdout",
     "output_type": "stream",
     "text": [
      "players --> player\n"
     ]
    }
   ],
   "source": [
    "print(words6[3], '-->', wnl.lemmatize(words6[3], pos = 'n'))"
   ]
  },
  {
   "cell_type": "code",
   "execution_count": null,
   "id": "75bb822a-ed73-4dbc-8db0-a48817a89230",
   "metadata": {},
   "outputs": [],
   "source": []
  }
 ],
 "metadata": {
  "kernelspec": {
   "display_name": "Python 3 (ipykernel)",
   "language": "python",
   "name": "python3"
  },
  "language_info": {
   "codemirror_mode": {
    "name": "ipython",
    "version": 3
   },
   "file_extension": ".py",
   "mimetype": "text/x-python",
   "name": "python",
   "nbconvert_exporter": "python",
   "pygments_lexer": "ipython3",
   "version": "3.10.12"
  }
 },
 "nbformat": 4,
 "nbformat_minor": 5
}
